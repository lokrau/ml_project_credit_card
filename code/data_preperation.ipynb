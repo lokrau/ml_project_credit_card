{
 "cells": [
  {
   "cell_type": "markdown",
   "metadata": {},
   "source": [
    "# Vorbereitung der Daten"
   ]
  },
  {
   "cell_type": "markdown",
   "metadata": {},
   "source": [
    "Dieses Notebook dient dazu die Daten so vorzuverarbeiten, dass sie für das Training der Modelle genutzt werden können."
   ]
  },
  {
   "cell_type": "markdown",
   "metadata": {},
   "source": [
    "Zunächst werden hierzu alle nötigen Imports getätigt."
   ]
  },
  {
   "cell_type": "code",
   "execution_count": 37,
   "metadata": {},
   "outputs": [],
   "source": [
    "import pandas as pd\n",
    "import os\n",
    "from imblearn.over_sampling import SMOTE\n",
    "from sklearn.model_selection import train_test_split"
   ]
  },
  {
   "cell_type": "markdown",
   "metadata": {},
   "source": [
    "## Kombienieren der Trainings- und Testdaten"
   ]
  },
  {
   "cell_type": "markdown",
   "metadata": {},
   "source": [
    "Dieser Schritt wurde getätigt, um die Daten im Anschluss in Trainings-, Test- und Validierungsdaten unterteilen zu können."
   ]
  },
  {
   "cell_type": "markdown",
   "metadata": {},
   "source": [
    "Zunächst werden hier die Trainings- und Testdaten eingelesen"
   ]
  },
  {
   "cell_type": "code",
   "execution_count": 38,
   "metadata": {},
   "outputs": [
    {
     "data": {
      "text/html": [
       "<div>\n",
       "<style scoped>\n",
       "    .dataframe tbody tr th:only-of-type {\n",
       "        vertical-align: middle;\n",
       "    }\n",
       "\n",
       "    .dataframe tbody tr th {\n",
       "        vertical-align: top;\n",
       "    }\n",
       "\n",
       "    .dataframe thead th {\n",
       "        text-align: right;\n",
       "    }\n",
       "</style>\n",
       "<table border=\"1\" class=\"dataframe\">\n",
       "  <thead>\n",
       "    <tr style=\"text-align: right;\">\n",
       "      <th></th>\n",
       "      <th>ID</th>\n",
       "      <th>Gender</th>\n",
       "      <th>Has a car</th>\n",
       "      <th>Has a property</th>\n",
       "      <th>Children count</th>\n",
       "      <th>Income</th>\n",
       "      <th>Employment status</th>\n",
       "      <th>Education level</th>\n",
       "      <th>Marital status</th>\n",
       "      <th>Dwelling</th>\n",
       "      <th>Age</th>\n",
       "      <th>Employment length</th>\n",
       "      <th>Has a mobile phone</th>\n",
       "      <th>Has a work phone</th>\n",
       "      <th>Has a phone</th>\n",
       "      <th>Has an email</th>\n",
       "      <th>Job title</th>\n",
       "      <th>Family member count</th>\n",
       "      <th>Account age</th>\n",
       "      <th>Is high risk</th>\n",
       "    </tr>\n",
       "  </thead>\n",
       "  <tbody>\n",
       "    <tr>\n",
       "      <th>0</th>\n",
       "      <td>5037048</td>\n",
       "      <td>M</td>\n",
       "      <td>Y</td>\n",
       "      <td>Y</td>\n",
       "      <td>0</td>\n",
       "      <td>135000.0</td>\n",
       "      <td>Working</td>\n",
       "      <td>Secondary / secondary special</td>\n",
       "      <td>Married</td>\n",
       "      <td>With parents</td>\n",
       "      <td>-16271</td>\n",
       "      <td>-3111</td>\n",
       "      <td>1</td>\n",
       "      <td>0</td>\n",
       "      <td>0</td>\n",
       "      <td>0</td>\n",
       "      <td>Core staff</td>\n",
       "      <td>2.0</td>\n",
       "      <td>-17.0</td>\n",
       "      <td>0</td>\n",
       "    </tr>\n",
       "    <tr>\n",
       "      <th>1</th>\n",
       "      <td>5044630</td>\n",
       "      <td>F</td>\n",
       "      <td>Y</td>\n",
       "      <td>N</td>\n",
       "      <td>1</td>\n",
       "      <td>135000.0</td>\n",
       "      <td>Commercial associate</td>\n",
       "      <td>Higher education</td>\n",
       "      <td>Single / not married</td>\n",
       "      <td>House / apartment</td>\n",
       "      <td>-10130</td>\n",
       "      <td>-1651</td>\n",
       "      <td>1</td>\n",
       "      <td>0</td>\n",
       "      <td>0</td>\n",
       "      <td>0</td>\n",
       "      <td>Accountants</td>\n",
       "      <td>2.0</td>\n",
       "      <td>-1.0</td>\n",
       "      <td>0</td>\n",
       "    </tr>\n",
       "    <tr>\n",
       "      <th>2</th>\n",
       "      <td>5079079</td>\n",
       "      <td>F</td>\n",
       "      <td>N</td>\n",
       "      <td>Y</td>\n",
       "      <td>2</td>\n",
       "      <td>180000.0</td>\n",
       "      <td>Commercial associate</td>\n",
       "      <td>Secondary / secondary special</td>\n",
       "      <td>Married</td>\n",
       "      <td>House / apartment</td>\n",
       "      <td>-12821</td>\n",
       "      <td>-5657</td>\n",
       "      <td>1</td>\n",
       "      <td>0</td>\n",
       "      <td>0</td>\n",
       "      <td>0</td>\n",
       "      <td>Laborers</td>\n",
       "      <td>4.0</td>\n",
       "      <td>-38.0</td>\n",
       "      <td>0</td>\n",
       "    </tr>\n",
       "    <tr>\n",
       "      <th>3</th>\n",
       "      <td>5112872</td>\n",
       "      <td>F</td>\n",
       "      <td>Y</td>\n",
       "      <td>Y</td>\n",
       "      <td>0</td>\n",
       "      <td>360000.0</td>\n",
       "      <td>Commercial associate</td>\n",
       "      <td>Higher education</td>\n",
       "      <td>Single / not married</td>\n",
       "      <td>House / apartment</td>\n",
       "      <td>-20929</td>\n",
       "      <td>-2046</td>\n",
       "      <td>1</td>\n",
       "      <td>0</td>\n",
       "      <td>0</td>\n",
       "      <td>1</td>\n",
       "      <td>Managers</td>\n",
       "      <td>1.0</td>\n",
       "      <td>-11.0</td>\n",
       "      <td>0</td>\n",
       "    </tr>\n",
       "    <tr>\n",
       "      <th>4</th>\n",
       "      <td>5105858</td>\n",
       "      <td>F</td>\n",
       "      <td>N</td>\n",
       "      <td>N</td>\n",
       "      <td>0</td>\n",
       "      <td>270000.0</td>\n",
       "      <td>Working</td>\n",
       "      <td>Secondary / secondary special</td>\n",
       "      <td>Separated</td>\n",
       "      <td>House / apartment</td>\n",
       "      <td>-16207</td>\n",
       "      <td>-515</td>\n",
       "      <td>1</td>\n",
       "      <td>0</td>\n",
       "      <td>1</td>\n",
       "      <td>0</td>\n",
       "      <td>NaN</td>\n",
       "      <td>1.0</td>\n",
       "      <td>-41.0</td>\n",
       "      <td>0</td>\n",
       "    </tr>\n",
       "  </tbody>\n",
       "</table>\n",
       "</div>"
      ],
      "text/plain": [
       "        ID Gender Has a car Has a property  Children count    Income  \\\n",
       "0  5037048      M         Y              Y               0  135000.0   \n",
       "1  5044630      F         Y              N               1  135000.0   \n",
       "2  5079079      F         N              Y               2  180000.0   \n",
       "3  5112872      F         Y              Y               0  360000.0   \n",
       "4  5105858      F         N              N               0  270000.0   \n",
       "\n",
       "      Employment status                Education level        Marital status  \\\n",
       "0               Working  Secondary / secondary special               Married   \n",
       "1  Commercial associate               Higher education  Single / not married   \n",
       "2  Commercial associate  Secondary / secondary special               Married   \n",
       "3  Commercial associate               Higher education  Single / not married   \n",
       "4               Working  Secondary / secondary special             Separated   \n",
       "\n",
       "            Dwelling    Age  Employment length  Has a mobile phone  \\\n",
       "0       With parents -16271              -3111                   1   \n",
       "1  House / apartment -10130              -1651                   1   \n",
       "2  House / apartment -12821              -5657                   1   \n",
       "3  House / apartment -20929              -2046                   1   \n",
       "4  House / apartment -16207               -515                   1   \n",
       "\n",
       "   Has a work phone  Has a phone  Has an email    Job title  \\\n",
       "0                 0            0             0   Core staff   \n",
       "1                 0            0             0  Accountants   \n",
       "2                 0            0             0     Laborers   \n",
       "3                 0            0             1     Managers   \n",
       "4                 0            1             0          NaN   \n",
       "\n",
       "   Family member count  Account age  Is high risk  \n",
       "0                  2.0        -17.0             0  \n",
       "1                  2.0         -1.0             0  \n",
       "2                  4.0        -38.0             0  \n",
       "3                  1.0        -11.0             0  \n",
       "4                  1.0        -41.0             0  "
      ]
     },
     "execution_count": 38,
     "metadata": {},
     "output_type": "execute_result"
    }
   ],
   "source": [
    "train_data = pd.read_csv('../data/train_data.csv')\n",
    "test_data = pd.read_csv('../data/test_data.csv')"
   ]
  },
  {
   "cell_type": "markdown",
   "metadata": {},
   "source": [
    "Nun können diese beiden Dataframes in einen kombiniert werden."
   ]
  },
  {
   "cell_type": "code",
   "execution_count": 39,
   "metadata": {},
   "outputs": [
    {
     "data": {
      "text/html": [
       "<div>\n",
       "<style scoped>\n",
       "    .dataframe tbody tr th:only-of-type {\n",
       "        vertical-align: middle;\n",
       "    }\n",
       "\n",
       "    .dataframe tbody tr th {\n",
       "        vertical-align: top;\n",
       "    }\n",
       "\n",
       "    .dataframe thead th {\n",
       "        text-align: right;\n",
       "    }\n",
       "</style>\n",
       "<table border=\"1\" class=\"dataframe\">\n",
       "  <thead>\n",
       "    <tr style=\"text-align: right;\">\n",
       "      <th></th>\n",
       "      <th>ID</th>\n",
       "      <th>Gender</th>\n",
       "      <th>Has a car</th>\n",
       "      <th>Has a property</th>\n",
       "      <th>Children count</th>\n",
       "      <th>Income</th>\n",
       "      <th>Employment status</th>\n",
       "      <th>Education level</th>\n",
       "      <th>Marital status</th>\n",
       "      <th>Dwelling</th>\n",
       "      <th>Age</th>\n",
       "      <th>Employment length</th>\n",
       "      <th>Has a mobile phone</th>\n",
       "      <th>Has a work phone</th>\n",
       "      <th>Has a phone</th>\n",
       "      <th>Has an email</th>\n",
       "      <th>Job title</th>\n",
       "      <th>Family member count</th>\n",
       "      <th>Account age</th>\n",
       "      <th>Is high risk</th>\n",
       "    </tr>\n",
       "  </thead>\n",
       "  <tbody>\n",
       "    <tr>\n",
       "      <th>0</th>\n",
       "      <td>5037048</td>\n",
       "      <td>M</td>\n",
       "      <td>Y</td>\n",
       "      <td>Y</td>\n",
       "      <td>0</td>\n",
       "      <td>135000.0</td>\n",
       "      <td>Working</td>\n",
       "      <td>Secondary / secondary special</td>\n",
       "      <td>Married</td>\n",
       "      <td>With parents</td>\n",
       "      <td>-16271</td>\n",
       "      <td>-3111</td>\n",
       "      <td>1</td>\n",
       "      <td>0</td>\n",
       "      <td>0</td>\n",
       "      <td>0</td>\n",
       "      <td>Core staff</td>\n",
       "      <td>2.0</td>\n",
       "      <td>-17.0</td>\n",
       "      <td>0</td>\n",
       "    </tr>\n",
       "    <tr>\n",
       "      <th>1</th>\n",
       "      <td>5044630</td>\n",
       "      <td>F</td>\n",
       "      <td>Y</td>\n",
       "      <td>N</td>\n",
       "      <td>1</td>\n",
       "      <td>135000.0</td>\n",
       "      <td>Commercial associate</td>\n",
       "      <td>Higher education</td>\n",
       "      <td>Single / not married</td>\n",
       "      <td>House / apartment</td>\n",
       "      <td>-10130</td>\n",
       "      <td>-1651</td>\n",
       "      <td>1</td>\n",
       "      <td>0</td>\n",
       "      <td>0</td>\n",
       "      <td>0</td>\n",
       "      <td>Accountants</td>\n",
       "      <td>2.0</td>\n",
       "      <td>-1.0</td>\n",
       "      <td>0</td>\n",
       "    </tr>\n",
       "    <tr>\n",
       "      <th>2</th>\n",
       "      <td>5079079</td>\n",
       "      <td>F</td>\n",
       "      <td>N</td>\n",
       "      <td>Y</td>\n",
       "      <td>2</td>\n",
       "      <td>180000.0</td>\n",
       "      <td>Commercial associate</td>\n",
       "      <td>Secondary / secondary special</td>\n",
       "      <td>Married</td>\n",
       "      <td>House / apartment</td>\n",
       "      <td>-12821</td>\n",
       "      <td>-5657</td>\n",
       "      <td>1</td>\n",
       "      <td>0</td>\n",
       "      <td>0</td>\n",
       "      <td>0</td>\n",
       "      <td>Laborers</td>\n",
       "      <td>4.0</td>\n",
       "      <td>-38.0</td>\n",
       "      <td>0</td>\n",
       "    </tr>\n",
       "    <tr>\n",
       "      <th>3</th>\n",
       "      <td>5112872</td>\n",
       "      <td>F</td>\n",
       "      <td>Y</td>\n",
       "      <td>Y</td>\n",
       "      <td>0</td>\n",
       "      <td>360000.0</td>\n",
       "      <td>Commercial associate</td>\n",
       "      <td>Higher education</td>\n",
       "      <td>Single / not married</td>\n",
       "      <td>House / apartment</td>\n",
       "      <td>-20929</td>\n",
       "      <td>-2046</td>\n",
       "      <td>1</td>\n",
       "      <td>0</td>\n",
       "      <td>0</td>\n",
       "      <td>1</td>\n",
       "      <td>Managers</td>\n",
       "      <td>1.0</td>\n",
       "      <td>-11.0</td>\n",
       "      <td>0</td>\n",
       "    </tr>\n",
       "    <tr>\n",
       "      <th>4</th>\n",
       "      <td>5105858</td>\n",
       "      <td>F</td>\n",
       "      <td>N</td>\n",
       "      <td>N</td>\n",
       "      <td>0</td>\n",
       "      <td>270000.0</td>\n",
       "      <td>Working</td>\n",
       "      <td>Secondary / secondary special</td>\n",
       "      <td>Separated</td>\n",
       "      <td>House / apartment</td>\n",
       "      <td>-16207</td>\n",
       "      <td>-515</td>\n",
       "      <td>1</td>\n",
       "      <td>0</td>\n",
       "      <td>1</td>\n",
       "      <td>0</td>\n",
       "      <td>NaN</td>\n",
       "      <td>1.0</td>\n",
       "      <td>-41.0</td>\n",
       "      <td>0</td>\n",
       "    </tr>\n",
       "  </tbody>\n",
       "</table>\n",
       "</div>"
      ],
      "text/plain": [
       "        ID Gender Has a car Has a property  Children count    Income  \\\n",
       "0  5037048      M         Y              Y               0  135000.0   \n",
       "1  5044630      F         Y              N               1  135000.0   \n",
       "2  5079079      F         N              Y               2  180000.0   \n",
       "3  5112872      F         Y              Y               0  360000.0   \n",
       "4  5105858      F         N              N               0  270000.0   \n",
       "\n",
       "      Employment status                Education level        Marital status  \\\n",
       "0               Working  Secondary / secondary special               Married   \n",
       "1  Commercial associate               Higher education  Single / not married   \n",
       "2  Commercial associate  Secondary / secondary special               Married   \n",
       "3  Commercial associate               Higher education  Single / not married   \n",
       "4               Working  Secondary / secondary special             Separated   \n",
       "\n",
       "            Dwelling    Age  Employment length  Has a mobile phone  \\\n",
       "0       With parents -16271              -3111                   1   \n",
       "1  House / apartment -10130              -1651                   1   \n",
       "2  House / apartment -12821              -5657                   1   \n",
       "3  House / apartment -20929              -2046                   1   \n",
       "4  House / apartment -16207               -515                   1   \n",
       "\n",
       "   Has a work phone  Has a phone  Has an email    Job title  \\\n",
       "0                 0            0             0   Core staff   \n",
       "1                 0            0             0  Accountants   \n",
       "2                 0            0             0     Laborers   \n",
       "3                 0            0             1     Managers   \n",
       "4                 0            1             0          NaN   \n",
       "\n",
       "   Family member count  Account age  Is high risk  \n",
       "0                  2.0        -17.0             0  \n",
       "1                  2.0         -1.0             0  \n",
       "2                  4.0        -38.0             0  \n",
       "3                  1.0        -11.0             0  \n",
       "4                  1.0        -41.0             0  "
      ]
     },
     "execution_count": 39,
     "metadata": {},
     "output_type": "execute_result"
    }
   ],
   "source": [
    "combined_data = pd.concat([train_data, test_data], axis=0)\n",
    "combined_data = combined_data.reset_index(drop=True)\n",
    "combined_data.head()"
   ]
  },
  {
   "cell_type": "markdown",
   "metadata": {},
   "source": [
    "Nun kann verifiziert werden, dass die Daten korrekt kombiniert wurden und noch alle Daten enthalten sind."
   ]
  },
  {
   "cell_type": "code",
   "execution_count": 40,
   "metadata": {},
   "outputs": [
    {
     "data": {
      "text/plain": [
       "((29165, 20), (7292, 20), (36457, 20))"
      ]
     },
     "execution_count": 40,
     "metadata": {},
     "output_type": "execute_result"
    }
   ],
   "source": [
    "train_data.shape, test_data.shape, combined_data.shape"
   ]
  },
  {
   "cell_type": "markdown",
   "metadata": {},
   "source": [
    "## Untersuchung des kombinierten Dataframes"
   ]
  },
  {
   "cell_type": "markdown",
   "metadata": {},
   "source": [
    "Ausgabe einer Liste mit allen Spaltennamen."
   ]
  },
  {
   "cell_type": "code",
   "execution_count": 41,
   "metadata": {},
   "outputs": [
    {
     "data": {
      "text/plain": [
       "Index(['ID', 'Gender', 'Has a car', 'Has a property', 'Children count',\n",
       "       'Income', 'Employment status', 'Education level', 'Marital status',\n",
       "       'Dwelling', 'Age', 'Employment length', 'Has a mobile phone',\n",
       "       'Has a work phone', 'Has a phone', 'Has an email', 'Job title',\n",
       "       'Family member count', 'Account age', 'Is high risk'],\n",
       "      dtype='object')"
      ]
     },
     "execution_count": 41,
     "metadata": {},
     "output_type": "execute_result"
    }
   ],
   "source": [
    "combined_data.columns"
   ]
  },
  {
   "cell_type": "markdown",
   "metadata": {},
   "source": [
    "Überprüfung auf fehlende Werte. Dabei fällt auf, dass die Spalte `Job title` fehlende Werte enthält."
   ]
  },
  {
   "cell_type": "code",
   "execution_count": 42,
   "metadata": {},
   "outputs": [
    {
     "data": {
      "text/plain": [
       "ID                         0\n",
       "Gender                     0\n",
       "Has a car                  0\n",
       "Has a property             0\n",
       "Children count             0\n",
       "Income                     0\n",
       "Employment status          0\n",
       "Education level            0\n",
       "Marital status             0\n",
       "Dwelling                   0\n",
       "Age                        0\n",
       "Employment length          0\n",
       "Has a mobile phone         0\n",
       "Has a work phone           0\n",
       "Has a phone                0\n",
       "Has an email               0\n",
       "Job title              11323\n",
       "Family member count        0\n",
       "Account age                0\n",
       "Is high risk               0\n",
       "dtype: int64"
      ]
     },
     "execution_count": 42,
     "metadata": {},
     "output_type": "execute_result"
    }
   ],
   "source": [
    "combined_data.isnull().sum()"
   ]
  },
  {
   "cell_type": "markdown",
   "metadata": {},
   "source": [
    "Die entscheidung fiel darauf diese Werte durch den Wert \"Unknown\" zu ersetzen."
   ]
  },
  {
   "cell_type": "code",
   "execution_count": 43,
   "metadata": {},
   "outputs": [
    {
     "name": "stderr",
     "output_type": "stream",
     "text": [
      "/var/folders/yw/h7pq8m2916x9_nlnpf_t3_jw0000gn/T/ipykernel_14656/2787563492.py:2: FutureWarning: A value is trying to be set on a copy of a DataFrame or Series through chained assignment using an inplace method.\n",
      "The behavior will change in pandas 3.0. This inplace method will never work because the intermediate object on which we are setting values always behaves as a copy.\n",
      "\n",
      "For example, when doing 'df[col].method(value, inplace=True)', try using 'df.method({col: value}, inplace=True)' or df[col] = df[col].method(value) instead, to perform the operation inplace on the original object.\n",
      "\n",
      "\n",
      "  combined_data['Job title'].fillna('Unknown', inplace=True)\n"
     ]
    },
    {
     "data": {
      "text/plain": [
       "ID                     0\n",
       "Gender                 0\n",
       "Has a car              0\n",
       "Has a property         0\n",
       "Children count         0\n",
       "Income                 0\n",
       "Employment status      0\n",
       "Education level        0\n",
       "Marital status         0\n",
       "Dwelling               0\n",
       "Age                    0\n",
       "Employment length      0\n",
       "Has a mobile phone     0\n",
       "Has a work phone       0\n",
       "Has a phone            0\n",
       "Has an email           0\n",
       "Job title              0\n",
       "Family member count    0\n",
       "Account age            0\n",
       "Is high risk           0\n",
       "dtype: int64"
      ]
     },
     "execution_count": 43,
     "metadata": {},
     "output_type": "execute_result"
    }
   ],
   "source": [
    "combined_data['Job title'].fillna('Unknown', inplace=True)\n",
    "combined_data.isnull().sum()"
   ]
  },
  {
   "cell_type": "code",
   "execution_count": 44,
   "metadata": {},
   "outputs": [
    {
     "data": {
      "text/plain": [
       "Job title\n",
       "Unknown                  11323\n",
       "Laborers                  6211\n",
       "Core staff                3591\n",
       "Sales staff               3485\n",
       "Managers                  3012\n",
       "Drivers                   2138\n",
       "High skill tech staff     1383\n",
       "Accountants               1241\n",
       "Medicine staff            1207\n",
       "Cooking staff              655\n",
       "Security staff             592\n",
       "Cleaning staff             551\n",
       "Private service staff      344\n",
       "Low-skill Laborers         175\n",
       "Waiters/barmen staff       174\n",
       "Secretaries                151\n",
       "HR staff                    85\n",
       "Realty agents               79\n",
       "IT staff                    60\n",
       "Name: count, dtype: int64"
      ]
     },
     "execution_count": 44,
     "metadata": {},
     "output_type": "execute_result"
    }
   ],
   "source": [
    "combined_data['Job title'].value_counts()"
   ]
  },
  {
   "cell_type": "markdown",
   "metadata": {},
   "source": [
    "Nun wird für jede Spalte einzeln überprüft was für Werte in dieser Spalte vorkommen."
   ]
  },
  {
   "cell_type": "code",
   "execution_count": 45,
   "metadata": {},
   "outputs": [
    {
     "name": "stdout",
     "output_type": "stream",
     "text": [
      "Gender\n",
      "F    24430\n",
      "M    12027\n",
      "Name: count, dtype: int64 \n",
      "\n",
      "Has a car\n",
      "N    22614\n",
      "Y    13843\n",
      "Name: count, dtype: int64 \n",
      "\n",
      "Has a property\n",
      "Y    24506\n",
      "N    11951\n",
      "Name: count, dtype: int64 \n",
      "\n",
      "Children count\n",
      "0     25201\n",
      "1      7492\n",
      "2      3256\n",
      "3       419\n",
      "4        63\n",
      "5        20\n",
      "14        3\n",
      "7         2\n",
      "19        1\n",
      "Name: count, dtype: int64 \n",
      "\n",
      "Income\n",
      "135000.0    4309\n",
      "180000.0    3097\n",
      "157500.0    3089\n",
      "112500.0    2956\n",
      "225000.0    2926\n",
      "            ... \n",
      "164250.0       1\n",
      "432000.0       1\n",
      "177750.0       1\n",
      "531000.0       1\n",
      "62100.0        1\n",
      "Name: count, Length: 265, dtype: int64 \n",
      "\n",
      "Employment status\n",
      "Working                 18819\n",
      "Commercial associate     8490\n",
      "Pensioner                6152\n",
      "State servant            2985\n",
      "Student                    11\n",
      "Name: count, dtype: int64 \n",
      "\n",
      "Education level\n",
      "Secondary / secondary special    24777\n",
      "Higher education                  9864\n",
      "Incomplete higher                 1410\n",
      "Lower secondary                    374\n",
      "Academic degree                     32\n",
      "Name: count, dtype: int64 \n",
      "\n",
      "Marital status\n",
      "Married                 25048\n",
      "Single / not married     4829\n",
      "Civil marriage           2945\n",
      "Separated                2103\n",
      "Widow                    1532\n",
      "Name: count, dtype: int64 \n",
      "\n",
      "Dwelling\n",
      "House / apartment      32548\n",
      "With parents            1776\n",
      "Municipal apartment     1128\n",
      "Rented apartment         575\n",
      "Office apartment         262\n",
      "Co-op apartment          168\n",
      "Name: count, dtype: int64 \n",
      "\n",
      "Age\n",
      "-12676    54\n",
      "-15519    54\n",
      "-16896    38\n",
      "-14667    37\n",
      "-15675    32\n",
      "          ..\n",
      "-12366     1\n",
      "-20028     1\n",
      "-10471     1\n",
      "-14320     1\n",
      "-9115      1\n",
      "Name: count, Length: 7183, dtype: int64 \n",
      "\n",
      "Employment length\n",
      " 365243    6135\n",
      "-401         78\n",
      "-1539        64\n",
      "-200         63\n",
      "-2087        61\n",
      "           ... \n",
      "-9527         1\n",
      "-106          1\n",
      "-989          1\n",
      "-4091         1\n",
      "-2834         1\n",
      "Name: count, Length: 3640, dtype: int64 \n",
      "\n",
      "Has a mobile phone\n",
      "1    36457\n",
      "Name: count, dtype: int64 \n",
      "\n",
      "Has a work phone\n",
      "0    28235\n",
      "1     8222\n",
      "Name: count, dtype: int64 \n",
      "\n",
      "Has a phone\n",
      "0    25709\n",
      "1    10748\n",
      "Name: count, dtype: int64 \n",
      "\n",
      "Has an email\n",
      "0    33186\n",
      "1     3271\n",
      "Name: count, dtype: int64 \n",
      "\n",
      "Job title\n",
      "Unknown                  11323\n",
      "Laborers                  6211\n",
      "Core staff                3591\n",
      "Sales staff               3485\n",
      "Managers                  3012\n",
      "Drivers                   2138\n",
      "High skill tech staff     1383\n",
      "Accountants               1241\n",
      "Medicine staff            1207\n",
      "Cooking staff              655\n",
      "Security staff             592\n",
      "Cleaning staff             551\n",
      "Private service staff      344\n",
      "Low-skill Laborers         175\n",
      "Waiters/barmen staff       174\n",
      "Secretaries                151\n",
      "HR staff                    85\n",
      "Realty agents               79\n",
      "IT staff                    60\n",
      "Name: count, dtype: int64 \n",
      "\n",
      "Family member count\n",
      "2.0     19463\n",
      "1.0      6987\n",
      "3.0      6421\n",
      "4.0      3106\n",
      "5.0       397\n",
      "6.0        58\n",
      "7.0        19\n",
      "15.0        3\n",
      "9.0         2\n",
      "20.0        1\n",
      "Name: count, dtype: int64 \n",
      "\n",
      "Account age\n",
      "-7.0     889\n",
      "-11.0    828\n",
      "-6.0     824\n",
      "-8.0     820\n",
      "-5.0     816\n",
      "        ... \n",
      "-58.0    333\n",
      "-60.0    321\n",
      " 0.0     315\n",
      "-59.0    307\n",
      "-57.0    304\n",
      "Name: count, Length: 61, dtype: int64 \n",
      "\n",
      "Is high risk\n",
      "0    35841\n",
      "1      616\n",
      "Name: count, dtype: int64 \n",
      "\n"
     ]
    }
   ],
   "source": [
    "print(combined_data[\"Gender\"].value_counts(), \"\\n\")\n",
    "print(combined_data[\"Has a car\"].value_counts(), \"\\n\")\n",
    "print(combined_data[\"Has a property\"].value_counts(), \"\\n\")\n",
    "print(combined_data[\"Children count\"].value_counts(), \"\\n\")\n",
    "print(combined_data[\"Income\"].value_counts(), \"\\n\")\n",
    "print(combined_data[\"Employment status\"].value_counts(), \"\\n\")\n",
    "print(combined_data[\"Education level\"].value_counts(), \"\\n\")\n",
    "print(combined_data[\"Marital status\"].value_counts(), \"\\n\")\n",
    "print(combined_data[\"Dwelling\"].value_counts(), \"\\n\")\n",
    "print(combined_data[\"Age\"].value_counts(), \"\\n\")\n",
    "print(combined_data[\"Employment length\"].value_counts(), \"\\n\")\n",
    "print(combined_data[\"Has a mobile phone\"].value_counts(), \"\\n\")\n",
    "print(combined_data[\"Has a work phone\"].value_counts(), \"\\n\")\n",
    "print(combined_data[\"Has a phone\"].value_counts(), \"\\n\")\n",
    "print(combined_data[\"Has an email\"].value_counts(), \"\\n\")\n",
    "print(combined_data[\"Job title\"].value_counts(), \"\\n\")\n",
    "print(combined_data[\"Family member count\"].value_counts(), \"\\n\")\n",
    "print(combined_data[\"Account age\"].value_counts(), \"\\n\")\n",
    "print(combined_data[\"Is high risk\"].value_counts(), \"\\n\")"
   ]
  },
  {
   "cell_type": "markdown",
   "metadata": {},
   "source": [
    "Basierend auf diesen Erkenntnissen können wir nun entscheiden, wie wir die verschiedenen Spalten im Datensatz behandeln. Ich habe mich entschieden, für die kategorischen Spalten (```Job title```, ```Employment status```, ```Education level```, ```Marital status``` und ```Dwelling```) ein One-Hot-Encoding zu verwenden und die binären Spalten einfach auf numerische Werte abzubilden (```Gender```, ```Has a car``` und ```Has a property```). Diese Umwandlugen werden in der `data_preprocessing` Funktion abgebildet."
   ]
  },
  {
   "cell_type": "code",
   "execution_count": 46,
   "metadata": {},
   "outputs": [],
   "source": [
    "def data_preprocessing(data):\n",
    "    data = data.drop(columns=[\"ID\", \"Has a mobile phone\"])\n",
    "    data = data.dropna()\n",
    "    data = data.reset_index(drop=True)\n",
    "    data = pd.get_dummies(data, columns=[\"Job title\", \"Employment status\", \"Education level\", \"Marital status\", \"Dwelling\"], drop_first=True)\n",
    "    data[\"Gender\"] = data[\"Gender\"].map({\"M\": 0, \"F\": 1})\n",
    "    data[\"Has a car\"] = data[\"Has a car\"].map({\"N\": 0, \"Y\": 1})\n",
    "    data[\"Has a property\"] = data[\"Has a property\"].map({\"N\": 0, \"Y\": 1})\n",
    "    bool_columns = data.select_dtypes(include='bool').columns\n",
    "    data[bool_columns] = data[bool_columns].astype(int)\n",
    "    return data"
   ]
  },
  {
   "cell_type": "markdown",
   "metadata": {},
   "source": [
    "Diese `data_preprocessing` Funktion wird nun auf den kombinierten Dataframe angewendet."
   ]
  },
  {
   "cell_type": "code",
   "execution_count": 47,
   "metadata": {},
   "outputs": [
    {
     "data": {
      "text/plain": [
       "(36457, 48)"
      ]
     },
     "execution_count": 47,
     "metadata": {},
     "output_type": "execute_result"
    }
   ],
   "source": [
    "data = data_preprocessing(combined_data)\n",
    "data.shape"
   ]
  },
  {
   "cell_type": "markdown",
   "metadata": {},
   "source": [
    "## Ausbalancierung der Daten"
   ]
  },
  {
   "cell_type": "markdown",
   "metadata": {},
   "source": [
    "Dieser Abschnitt dient dazu, dass die Daten für das Training des Modells ausbalanciert sind, um biases zu vermeiden."
   ]
  },
  {
   "cell_type": "markdown",
   "metadata": {},
   "source": [
    "Dazu wird zunächst überprüft, ob die Zielwerte gleichmäßig verteilt sind. Dabei fällt auf, dass es wesentlich weniger Kunden gibt die als \"high risk\" eingestuft werden."
   ]
  },
  {
   "cell_type": "code",
   "execution_count": 48,
   "metadata": {},
   "outputs": [
    {
     "data": {
      "text/plain": [
       "Is high risk\n",
       "0    35841\n",
       "1      616\n",
       "Name: count, dtype: int64"
      ]
     },
     "execution_count": 48,
     "metadata": {},
     "output_type": "execute_result"
    }
   ],
   "source": [
    "data[\"Is high risk\"].value_counts()"
   ]
  },
  {
   "cell_type": "markdown",
   "metadata": {},
   "source": [
    "Aus diesem Grund fiel die Entscheidung darauf die sogenannte Synthetic Minority Oversampling Technique (SMOTE) zu verwenden, um die Daten auszubalancieren. Dabei wird zunächst der Datensatz in Trainings-, Test- und Validierungsdaten unterteilt. Dies wird getan, um sicherzustellen, dass keine Daten aus den Test- und Validierungsdaten in die Trainingsdaten gelangen. Somit kann sichergestellt werden, dass die Testdaten nur zuvor ungesehene Daten enthalten."
   ]
  },
  {
   "cell_type": "code",
   "execution_count": 49,
   "metadata": {},
   "outputs": [],
   "source": [
    "train, test_rf = train_test_split(data, test_size=0.3, stratify=data[\"Is high risk\"], random_state=42)\n",
    "test, val = train_test_split(test_rf, test_size=0.5, stratify=test_rf[\"Is high risk\"], random_state=42)"
   ]
  },
  {
   "cell_type": "code",
   "execution_count": 50,
   "metadata": {},
   "outputs": [
    {
     "data": {
      "text/plain": [
       "(Is high risk\n",
       " 0    25088\n",
       " 1      431\n",
       " Name: count, dtype: int64,\n",
       " Is high risk\n",
       " 0    5377\n",
       " 1      92\n",
       " Name: count, dtype: int64,\n",
       " Is high risk\n",
       " 0    5376\n",
       " 1      93\n",
       " Name: count, dtype: int64)"
      ]
     },
     "execution_count": 50,
     "metadata": {},
     "output_type": "execute_result"
    }
   ],
   "source": [
    "train[\"Is high risk\"].value_counts(), test[\"Is high risk\"].value_counts(), val[\"Is high risk\"].value_counts()"
   ]
  },
  {
   "cell_type": "markdown",
   "metadata": {},
   "source": [
    "Wir verwenden SMOTE nur für den Trainings- und den Validierungsdatensatz. Wir tun dies, weil wir so das Modell auf einem ausbalancierten Datensatz trainieren können und testen können, ob das Modell in der Lage ist, auf ungesehene Daten zu generalisieren, die die Verteilung des ursprünglichen Datensatzes enthalten, also die natürliche Verteilung der Daten."
   ]
  },
  {
   "cell_type": "code",
   "execution_count": 51,
   "metadata": {},
   "outputs": [],
   "source": [
    "X_train = train.drop(\"Is high risk\", axis=1)\n",
    "Y_train = train[\"Is high risk\"]\n",
    "\n",
    "X_val = val.drop(\"Is high risk\", axis=1)\n",
    "Y_val = val[\"Is high risk\"]"
   ]
  },
  {
   "cell_type": "code",
   "execution_count": 52,
   "metadata": {},
   "outputs": [],
   "source": [
    "smote = SMOTE(random_state=42)\n",
    "X_train, Y_train = smote.fit_resample(X_train, Y_train)\n",
    "X_val, Y_val = smote.fit_resample(X_val, Y_val)"
   ]
  },
  {
   "cell_type": "markdown",
   "metadata": {},
   "source": [
    "Anschließend werden die Datensätze wieder mit ihren Zielwerten zusammengeführt."
   ]
  },
  {
   "cell_type": "code",
   "execution_count": 53,
   "metadata": {},
   "outputs": [
    {
     "data": {
      "text/plain": [
       "(Is high risk\n",
       " 0    25088\n",
       " 1    25088\n",
       " Name: count, dtype: int64,\n",
       " Is high risk\n",
       " 0    5376\n",
       " 1    5376\n",
       " Name: count, dtype: int64)"
      ]
     },
     "execution_count": 53,
     "metadata": {},
     "output_type": "execute_result"
    }
   ],
   "source": [
    "train = pd.concat([X_train, Y_train], axis=1)\n",
    "val = pd.concat([X_val, Y_val], axis=1)\n",
    "\n",
    "train[\"Is high risk\"].value_counts(), val[\"Is high risk\"].value_counts()"
   ]
  },
  {
   "cell_type": "markdown",
   "metadata": {},
   "source": [
    "Abschließend werden die hierbei entstandenen Datensätze abgespeichert um sie im Training nutzen zu können."
   ]
  },
  {
   "cell_type": "code",
   "execution_count": 54,
   "metadata": {},
   "outputs": [],
   "source": [
    "if not os.path.exists('../data/preprocessed'):\n",
    "    os.makedirs('../data/preprocessed')\n",
    "\n",
    "if os.path.exists('../data/preprocessed/all_data.csv'):\n",
    "    os.remove('../data/preprocessed/all_data.csv')\n",
    "if os.path.exists('../data/preprocessed/test_data.csv'):\n",
    "    os.remove('../data/preprocessed/test_data.csv')\n",
    "if os.path.exists('../data/preprocessed/val_data.csv'):\n",
    "    os.remove('../data/preprocessed/val_data.csv')\n",
    "if os.path.exists('../data/preprocessed/train_data.csv'):\n",
    "    os.remove('../data/preprocessed/train_data.csv')\n",
    "if os.path.exists('../data/preprocessed/test_data_rf.csv'):\n",
    "    os.remove('../data/preprocessed/test_data_rf.csv')\n",
    "\n",
    "\n",
    "data.to_csv('../data/preprocessed/all_data.csv', index=False)\n",
    "test.to_csv('../data/preprocessed/test_data.csv', index=False)\n",
    "val.to_csv('../data/preprocessed/val_data.csv', index=False)\n",
    "train.to_csv('../data/preprocessed/train_data.csv', index=False)\n",
    "test_rf.to_csv('../data/preprocessed/test_data_rf.csv', index=False)"
   ]
  }
 ],
 "metadata": {
  "kernelspec": {
   "display_name": "Python 3",
   "language": "python",
   "name": "python3"
  },
  "language_info": {
   "codemirror_mode": {
    "name": "ipython",
    "version": 3
   },
   "file_extension": ".py",
   "mimetype": "text/x-python",
   "name": "python",
   "nbconvert_exporter": "python",
   "pygments_lexer": "ipython3",
   "version": "3.11.9"
  }
 },
 "nbformat": 4,
 "nbformat_minor": 2
}
