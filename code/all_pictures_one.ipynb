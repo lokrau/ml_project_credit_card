{
 "cells": [
  {
   "cell_type": "markdown",
   "metadata": {},
   "source": [
    "# Make all necessary imports"
   ]
  },
  {
   "cell_type": "code",
   "execution_count": 103,
   "metadata": {},
   "outputs": [],
   "source": [
    "import pandas as pd\n",
    "import os\n",
    "from imblearn.over_sampling import SMOTE\n",
    "from sklearn.model_selection import train_test_split"
   ]
  },
  {
   "cell_type": "markdown",
   "metadata": {},
   "source": [
    "# Join the train and test dataset in to one dataset"
   ]
  },
  {
   "cell_type": "markdown",
   "metadata": {},
   "source": [
    "The goal here is to make it possible to split the Dataset into train, test and validation sets later on."
   ]
  },
  {
   "cell_type": "code",
   "execution_count": 104,
   "metadata": {},
   "outputs": [
    {
     "data": {
      "text/html": [
       "<div>\n",
       "<style scoped>\n",
       "    .dataframe tbody tr th:only-of-type {\n",
       "        vertical-align: middle;\n",
       "    }\n",
       "\n",
       "    .dataframe tbody tr th {\n",
       "        vertical-align: top;\n",
       "    }\n",
       "\n",
       "    .dataframe thead th {\n",
       "        text-align: right;\n",
       "    }\n",
       "</style>\n",
       "<table border=\"1\" class=\"dataframe\">\n",
       "  <thead>\n",
       "    <tr style=\"text-align: right;\">\n",
       "      <th></th>\n",
       "      <th>ID</th>\n",
       "      <th>Gender</th>\n",
       "      <th>Has a car</th>\n",
       "      <th>Has a property</th>\n",
       "      <th>Children count</th>\n",
       "      <th>Income</th>\n",
       "      <th>Employment status</th>\n",
       "      <th>Education level</th>\n",
       "      <th>Marital status</th>\n",
       "      <th>Dwelling</th>\n",
       "      <th>Age</th>\n",
       "      <th>Employment length</th>\n",
       "      <th>Has a mobile phone</th>\n",
       "      <th>Has a work phone</th>\n",
       "      <th>Has a phone</th>\n",
       "      <th>Has an email</th>\n",
       "      <th>Job title</th>\n",
       "      <th>Family member count</th>\n",
       "      <th>Account age</th>\n",
       "      <th>Is high risk</th>\n",
       "    </tr>\n",
       "  </thead>\n",
       "  <tbody>\n",
       "    <tr>\n",
       "      <th>0</th>\n",
       "      <td>5037048</td>\n",
       "      <td>M</td>\n",
       "      <td>Y</td>\n",
       "      <td>Y</td>\n",
       "      <td>0</td>\n",
       "      <td>135000.0</td>\n",
       "      <td>Working</td>\n",
       "      <td>Secondary / secondary special</td>\n",
       "      <td>Married</td>\n",
       "      <td>With parents</td>\n",
       "      <td>-16271</td>\n",
       "      <td>-3111</td>\n",
       "      <td>1</td>\n",
       "      <td>0</td>\n",
       "      <td>0</td>\n",
       "      <td>0</td>\n",
       "      <td>Core staff</td>\n",
       "      <td>2.0</td>\n",
       "      <td>-17.0</td>\n",
       "      <td>0</td>\n",
       "    </tr>\n",
       "    <tr>\n",
       "      <th>1</th>\n",
       "      <td>5044630</td>\n",
       "      <td>F</td>\n",
       "      <td>Y</td>\n",
       "      <td>N</td>\n",
       "      <td>1</td>\n",
       "      <td>135000.0</td>\n",
       "      <td>Commercial associate</td>\n",
       "      <td>Higher education</td>\n",
       "      <td>Single / not married</td>\n",
       "      <td>House / apartment</td>\n",
       "      <td>-10130</td>\n",
       "      <td>-1651</td>\n",
       "      <td>1</td>\n",
       "      <td>0</td>\n",
       "      <td>0</td>\n",
       "      <td>0</td>\n",
       "      <td>Accountants</td>\n",
       "      <td>2.0</td>\n",
       "      <td>-1.0</td>\n",
       "      <td>0</td>\n",
       "    </tr>\n",
       "    <tr>\n",
       "      <th>2</th>\n",
       "      <td>5079079</td>\n",
       "      <td>F</td>\n",
       "      <td>N</td>\n",
       "      <td>Y</td>\n",
       "      <td>2</td>\n",
       "      <td>180000.0</td>\n",
       "      <td>Commercial associate</td>\n",
       "      <td>Secondary / secondary special</td>\n",
       "      <td>Married</td>\n",
       "      <td>House / apartment</td>\n",
       "      <td>-12821</td>\n",
       "      <td>-5657</td>\n",
       "      <td>1</td>\n",
       "      <td>0</td>\n",
       "      <td>0</td>\n",
       "      <td>0</td>\n",
       "      <td>Laborers</td>\n",
       "      <td>4.0</td>\n",
       "      <td>-38.0</td>\n",
       "      <td>0</td>\n",
       "    </tr>\n",
       "    <tr>\n",
       "      <th>3</th>\n",
       "      <td>5112872</td>\n",
       "      <td>F</td>\n",
       "      <td>Y</td>\n",
       "      <td>Y</td>\n",
       "      <td>0</td>\n",
       "      <td>360000.0</td>\n",
       "      <td>Commercial associate</td>\n",
       "      <td>Higher education</td>\n",
       "      <td>Single / not married</td>\n",
       "      <td>House / apartment</td>\n",
       "      <td>-20929</td>\n",
       "      <td>-2046</td>\n",
       "      <td>1</td>\n",
       "      <td>0</td>\n",
       "      <td>0</td>\n",
       "      <td>1</td>\n",
       "      <td>Managers</td>\n",
       "      <td>1.0</td>\n",
       "      <td>-11.0</td>\n",
       "      <td>0</td>\n",
       "    </tr>\n",
       "    <tr>\n",
       "      <th>4</th>\n",
       "      <td>5105858</td>\n",
       "      <td>F</td>\n",
       "      <td>N</td>\n",
       "      <td>N</td>\n",
       "      <td>0</td>\n",
       "      <td>270000.0</td>\n",
       "      <td>Working</td>\n",
       "      <td>Secondary / secondary special</td>\n",
       "      <td>Separated</td>\n",
       "      <td>House / apartment</td>\n",
       "      <td>-16207</td>\n",
       "      <td>-515</td>\n",
       "      <td>1</td>\n",
       "      <td>0</td>\n",
       "      <td>1</td>\n",
       "      <td>0</td>\n",
       "      <td>NaN</td>\n",
       "      <td>1.0</td>\n",
       "      <td>-41.0</td>\n",
       "      <td>0</td>\n",
       "    </tr>\n",
       "  </tbody>\n",
       "</table>\n",
       "</div>"
      ],
      "text/plain": [
       "        ID Gender Has a car Has a property  Children count    Income  \\\n",
       "0  5037048      M         Y              Y               0  135000.0   \n",
       "1  5044630      F         Y              N               1  135000.0   \n",
       "2  5079079      F         N              Y               2  180000.0   \n",
       "3  5112872      F         Y              Y               0  360000.0   \n",
       "4  5105858      F         N              N               0  270000.0   \n",
       "\n",
       "      Employment status                Education level        Marital status  \\\n",
       "0               Working  Secondary / secondary special               Married   \n",
       "1  Commercial associate               Higher education  Single / not married   \n",
       "2  Commercial associate  Secondary / secondary special               Married   \n",
       "3  Commercial associate               Higher education  Single / not married   \n",
       "4               Working  Secondary / secondary special             Separated   \n",
       "\n",
       "            Dwelling    Age  Employment length  Has a mobile phone  \\\n",
       "0       With parents -16271              -3111                   1   \n",
       "1  House / apartment -10130              -1651                   1   \n",
       "2  House / apartment -12821              -5657                   1   \n",
       "3  House / apartment -20929              -2046                   1   \n",
       "4  House / apartment -16207               -515                   1   \n",
       "\n",
       "   Has a work phone  Has a phone  Has an email    Job title  \\\n",
       "0                 0            0             0   Core staff   \n",
       "1                 0            0             0  Accountants   \n",
       "2                 0            0             0     Laborers   \n",
       "3                 0            0             1     Managers   \n",
       "4                 0            1             0          NaN   \n",
       "\n",
       "   Family member count  Account age  Is high risk  \n",
       "0                  2.0        -17.0             0  \n",
       "1                  2.0         -1.0             0  \n",
       "2                  4.0        -38.0             0  \n",
       "3                  1.0        -11.0             0  \n",
       "4                  1.0        -41.0             0  "
      ]
     },
     "execution_count": 104,
     "metadata": {},
     "output_type": "execute_result"
    }
   ],
   "source": [
    "train_data = pd.read_csv('../data/train_data.csv')\n",
    "test_data = pd.read_csv('../data/test_data.csv')\n",
    "\n",
    "train_data.head()"
   ]
  },
  {
   "cell_type": "code",
   "execution_count": 105,
   "metadata": {},
   "outputs": [
    {
     "data": {
      "text/html": [
       "<div>\n",
       "<style scoped>\n",
       "    .dataframe tbody tr th:only-of-type {\n",
       "        vertical-align: middle;\n",
       "    }\n",
       "\n",
       "    .dataframe tbody tr th {\n",
       "        vertical-align: top;\n",
       "    }\n",
       "\n",
       "    .dataframe thead th {\n",
       "        text-align: right;\n",
       "    }\n",
       "</style>\n",
       "<table border=\"1\" class=\"dataframe\">\n",
       "  <thead>\n",
       "    <tr style=\"text-align: right;\">\n",
       "      <th></th>\n",
       "      <th>ID</th>\n",
       "      <th>Gender</th>\n",
       "      <th>Has a car</th>\n",
       "      <th>Has a property</th>\n",
       "      <th>Children count</th>\n",
       "      <th>Income</th>\n",
       "      <th>Employment status</th>\n",
       "      <th>Education level</th>\n",
       "      <th>Marital status</th>\n",
       "      <th>Dwelling</th>\n",
       "      <th>Age</th>\n",
       "      <th>Employment length</th>\n",
       "      <th>Has a mobile phone</th>\n",
       "      <th>Has a work phone</th>\n",
       "      <th>Has a phone</th>\n",
       "      <th>Has an email</th>\n",
       "      <th>Job title</th>\n",
       "      <th>Family member count</th>\n",
       "      <th>Account age</th>\n",
       "      <th>Is high risk</th>\n",
       "    </tr>\n",
       "  </thead>\n",
       "  <tbody>\n",
       "    <tr>\n",
       "      <th>0</th>\n",
       "      <td>5037048</td>\n",
       "      <td>M</td>\n",
       "      <td>Y</td>\n",
       "      <td>Y</td>\n",
       "      <td>0</td>\n",
       "      <td>135000.0</td>\n",
       "      <td>Working</td>\n",
       "      <td>Secondary / secondary special</td>\n",
       "      <td>Married</td>\n",
       "      <td>With parents</td>\n",
       "      <td>-16271</td>\n",
       "      <td>-3111</td>\n",
       "      <td>1</td>\n",
       "      <td>0</td>\n",
       "      <td>0</td>\n",
       "      <td>0</td>\n",
       "      <td>Core staff</td>\n",
       "      <td>2.0</td>\n",
       "      <td>-17.0</td>\n",
       "      <td>0</td>\n",
       "    </tr>\n",
       "    <tr>\n",
       "      <th>1</th>\n",
       "      <td>5044630</td>\n",
       "      <td>F</td>\n",
       "      <td>Y</td>\n",
       "      <td>N</td>\n",
       "      <td>1</td>\n",
       "      <td>135000.0</td>\n",
       "      <td>Commercial associate</td>\n",
       "      <td>Higher education</td>\n",
       "      <td>Single / not married</td>\n",
       "      <td>House / apartment</td>\n",
       "      <td>-10130</td>\n",
       "      <td>-1651</td>\n",
       "      <td>1</td>\n",
       "      <td>0</td>\n",
       "      <td>0</td>\n",
       "      <td>0</td>\n",
       "      <td>Accountants</td>\n",
       "      <td>2.0</td>\n",
       "      <td>-1.0</td>\n",
       "      <td>0</td>\n",
       "    </tr>\n",
       "    <tr>\n",
       "      <th>2</th>\n",
       "      <td>5079079</td>\n",
       "      <td>F</td>\n",
       "      <td>N</td>\n",
       "      <td>Y</td>\n",
       "      <td>2</td>\n",
       "      <td>180000.0</td>\n",
       "      <td>Commercial associate</td>\n",
       "      <td>Secondary / secondary special</td>\n",
       "      <td>Married</td>\n",
       "      <td>House / apartment</td>\n",
       "      <td>-12821</td>\n",
       "      <td>-5657</td>\n",
       "      <td>1</td>\n",
       "      <td>0</td>\n",
       "      <td>0</td>\n",
       "      <td>0</td>\n",
       "      <td>Laborers</td>\n",
       "      <td>4.0</td>\n",
       "      <td>-38.0</td>\n",
       "      <td>0</td>\n",
       "    </tr>\n",
       "    <tr>\n",
       "      <th>3</th>\n",
       "      <td>5112872</td>\n",
       "      <td>F</td>\n",
       "      <td>Y</td>\n",
       "      <td>Y</td>\n",
       "      <td>0</td>\n",
       "      <td>360000.0</td>\n",
       "      <td>Commercial associate</td>\n",
       "      <td>Higher education</td>\n",
       "      <td>Single / not married</td>\n",
       "      <td>House / apartment</td>\n",
       "      <td>-20929</td>\n",
       "      <td>-2046</td>\n",
       "      <td>1</td>\n",
       "      <td>0</td>\n",
       "      <td>0</td>\n",
       "      <td>1</td>\n",
       "      <td>Managers</td>\n",
       "      <td>1.0</td>\n",
       "      <td>-11.0</td>\n",
       "      <td>0</td>\n",
       "    </tr>\n",
       "    <tr>\n",
       "      <th>4</th>\n",
       "      <td>5105858</td>\n",
       "      <td>F</td>\n",
       "      <td>N</td>\n",
       "      <td>N</td>\n",
       "      <td>0</td>\n",
       "      <td>270000.0</td>\n",
       "      <td>Working</td>\n",
       "      <td>Secondary / secondary special</td>\n",
       "      <td>Separated</td>\n",
       "      <td>House / apartment</td>\n",
       "      <td>-16207</td>\n",
       "      <td>-515</td>\n",
       "      <td>1</td>\n",
       "      <td>0</td>\n",
       "      <td>1</td>\n",
       "      <td>0</td>\n",
       "      <td>NaN</td>\n",
       "      <td>1.0</td>\n",
       "      <td>-41.0</td>\n",
       "      <td>0</td>\n",
       "    </tr>\n",
       "  </tbody>\n",
       "</table>\n",
       "</div>"
      ],
      "text/plain": [
       "        ID Gender Has a car Has a property  Children count    Income  \\\n",
       "0  5037048      M         Y              Y               0  135000.0   \n",
       "1  5044630      F         Y              N               1  135000.0   \n",
       "2  5079079      F         N              Y               2  180000.0   \n",
       "3  5112872      F         Y              Y               0  360000.0   \n",
       "4  5105858      F         N              N               0  270000.0   \n",
       "\n",
       "      Employment status                Education level        Marital status  \\\n",
       "0               Working  Secondary / secondary special               Married   \n",
       "1  Commercial associate               Higher education  Single / not married   \n",
       "2  Commercial associate  Secondary / secondary special               Married   \n",
       "3  Commercial associate               Higher education  Single / not married   \n",
       "4               Working  Secondary / secondary special             Separated   \n",
       "\n",
       "            Dwelling    Age  Employment length  Has a mobile phone  \\\n",
       "0       With parents -16271              -3111                   1   \n",
       "1  House / apartment -10130              -1651                   1   \n",
       "2  House / apartment -12821              -5657                   1   \n",
       "3  House / apartment -20929              -2046                   1   \n",
       "4  House / apartment -16207               -515                   1   \n",
       "\n",
       "   Has a work phone  Has a phone  Has an email    Job title  \\\n",
       "0                 0            0             0   Core staff   \n",
       "1                 0            0             0  Accountants   \n",
       "2                 0            0             0     Laborers   \n",
       "3                 0            0             1     Managers   \n",
       "4                 0            1             0          NaN   \n",
       "\n",
       "   Family member count  Account age  Is high risk  \n",
       "0                  2.0        -17.0             0  \n",
       "1                  2.0         -1.0             0  \n",
       "2                  4.0        -38.0             0  \n",
       "3                  1.0        -11.0             0  \n",
       "4                  1.0        -41.0             0  "
      ]
     },
     "execution_count": 105,
     "metadata": {},
     "output_type": "execute_result"
    }
   ],
   "source": [
    "combined_data = pd.concat([train_data, test_data], axis=0)\n",
    "combined_data = combined_data.reset_index(drop=True)\n",
    "combined_data.head()"
   ]
  },
  {
   "cell_type": "code",
   "execution_count": 106,
   "metadata": {},
   "outputs": [
    {
     "data": {
      "text/plain": [
       "((29165, 20), (7292, 20), (36457, 20))"
      ]
     },
     "execution_count": 106,
     "metadata": {},
     "output_type": "execute_result"
    }
   ],
   "source": [
    "train_data.shape, test_data.shape, combined_data.shape"
   ]
  },
  {
   "cell_type": "markdown",
   "metadata": {},
   "source": [
    "# Look through the joined dataset to find missing values and other outliers"
   ]
  },
  {
   "cell_type": "code",
   "execution_count": 107,
   "metadata": {},
   "outputs": [
    {
     "data": {
      "text/plain": [
       "Index(['ID', 'Gender', 'Has a car', 'Has a property', 'Children count',\n",
       "       'Income', 'Employment status', 'Education level', 'Marital status',\n",
       "       'Dwelling', 'Age', 'Employment length', 'Has a mobile phone',\n",
       "       'Has a work phone', 'Has a phone', 'Has an email', 'Job title',\n",
       "       'Family member count', 'Account age', 'Is high risk'],\n",
       "      dtype='object')"
      ]
     },
     "execution_count": 107,
     "metadata": {},
     "output_type": "execute_result"
    }
   ],
   "source": [
    "combined_data.columns"
   ]
  },
  {
   "cell_type": "code",
   "execution_count": 108,
   "metadata": {},
   "outputs": [
    {
     "data": {
      "text/plain": [
       "ID                         0\n",
       "Gender                     0\n",
       "Has a car                  0\n",
       "Has a property             0\n",
       "Children count             0\n",
       "Income                     0\n",
       "Employment status          0\n",
       "Education level            0\n",
       "Marital status             0\n",
       "Dwelling                   0\n",
       "Age                        0\n",
       "Employment length          0\n",
       "Has a mobile phone         0\n",
       "Has a work phone           0\n",
       "Has a phone                0\n",
       "Has an email               0\n",
       "Job title              11323\n",
       "Family member count        0\n",
       "Account age                0\n",
       "Is high risk               0\n",
       "dtype: int64"
      ]
     },
     "execution_count": 108,
     "metadata": {},
     "output_type": "execute_result"
    }
   ],
   "source": [
    "combined_data.isnull().sum()"
   ]
  },
  {
   "cell_type": "markdown",
   "metadata": {},
   "source": [
    "We can see that there are missing values in the ```Job title``` column. I decided to fill this missing values with Unknown."
   ]
  },
  {
   "cell_type": "code",
   "execution_count": 109,
   "metadata": {},
   "outputs": [
    {
     "name": "stderr",
     "output_type": "stream",
     "text": [
      "/var/folders/yw/h7pq8m2916x9_nlnpf_t3_jw0000gn/T/ipykernel_62288/2787563492.py:2: FutureWarning: A value is trying to be set on a copy of a DataFrame or Series through chained assignment using an inplace method.\n",
      "The behavior will change in pandas 3.0. This inplace method will never work because the intermediate object on which we are setting values always behaves as a copy.\n",
      "\n",
      "For example, when doing 'df[col].method(value, inplace=True)', try using 'df.method({col: value}, inplace=True)' or df[col] = df[col].method(value) instead, to perform the operation inplace on the original object.\n",
      "\n",
      "\n",
      "  combined_data['Job title'].fillna('Unknown', inplace=True)\n"
     ]
    },
    {
     "data": {
      "text/plain": [
       "ID                     0\n",
       "Gender                 0\n",
       "Has a car              0\n",
       "Has a property         0\n",
       "Children count         0\n",
       "Income                 0\n",
       "Employment status      0\n",
       "Education level        0\n",
       "Marital status         0\n",
       "Dwelling               0\n",
       "Age                    0\n",
       "Employment length      0\n",
       "Has a mobile phone     0\n",
       "Has a work phone       0\n",
       "Has a phone            0\n",
       "Has an email           0\n",
       "Job title              0\n",
       "Family member count    0\n",
       "Account age            0\n",
       "Is high risk           0\n",
       "dtype: int64"
      ]
     },
     "execution_count": 109,
     "metadata": {},
     "output_type": "execute_result"
    }
   ],
   "source": [
    "# replace null values with unknown\n",
    "combined_data['Job title'].fillna('Unknown', inplace=True)\n",
    "combined_data.isnull().sum()"
   ]
  },
  {
   "cell_type": "code",
   "execution_count": 110,
   "metadata": {},
   "outputs": [
    {
     "data": {
      "text/plain": [
       "Job title\n",
       "Unknown                  11323\n",
       "Laborers                  6211\n",
       "Core staff                3591\n",
       "Sales staff               3485\n",
       "Managers                  3012\n",
       "Drivers                   2138\n",
       "High skill tech staff     1383\n",
       "Accountants               1241\n",
       "Medicine staff            1207\n",
       "Cooking staff              655\n",
       "Security staff             592\n",
       "Cleaning staff             551\n",
       "Private service staff      344\n",
       "Low-skill Laborers         175\n",
       "Waiters/barmen staff       174\n",
       "Secretaries                151\n",
       "HR staff                    85\n",
       "Realty agents               79\n",
       "IT staff                    60\n",
       "Name: count, dtype: int64"
      ]
     },
     "execution_count": 110,
     "metadata": {},
     "output_type": "execute_result"
    }
   ],
   "source": [
    "combined_data['Job title'].value_counts()"
   ]
  },
  {
   "cell_type": "markdown",
   "metadata": {},
   "source": [
    "## Now we can look through the different columns of the dataset to find the datatypes of the columns"
   ]
  },
  {
   "cell_type": "code",
   "execution_count": 111,
   "metadata": {},
   "outputs": [
    {
     "name": "stdout",
     "output_type": "stream",
     "text": [
      "Gender\n",
      "F    24430\n",
      "M    12027\n",
      "Name: count, dtype: int64 \n",
      "\n",
      "Has a car\n",
      "N    22614\n",
      "Y    13843\n",
      "Name: count, dtype: int64 \n",
      "\n",
      "Has a property\n",
      "Y    24506\n",
      "N    11951\n",
      "Name: count, dtype: int64 \n",
      "\n",
      "Children count\n",
      "0     25201\n",
      "1      7492\n",
      "2      3256\n",
      "3       419\n",
      "4        63\n",
      "5        20\n",
      "14        3\n",
      "7         2\n",
      "19        1\n",
      "Name: count, dtype: int64 \n",
      "\n",
      "Income\n",
      "135000.0    4309\n",
      "180000.0    3097\n",
      "157500.0    3089\n",
      "112500.0    2956\n",
      "225000.0    2926\n",
      "            ... \n",
      "164250.0       1\n",
      "432000.0       1\n",
      "177750.0       1\n",
      "531000.0       1\n",
      "62100.0        1\n",
      "Name: count, Length: 265, dtype: int64 \n",
      "\n",
      "Employment status\n",
      "Working                 18819\n",
      "Commercial associate     8490\n",
      "Pensioner                6152\n",
      "State servant            2985\n",
      "Student                    11\n",
      "Name: count, dtype: int64 \n",
      "\n",
      "Education level\n",
      "Secondary / secondary special    24777\n",
      "Higher education                  9864\n",
      "Incomplete higher                 1410\n",
      "Lower secondary                    374\n",
      "Academic degree                     32\n",
      "Name: count, dtype: int64 \n",
      "\n",
      "Marital status\n",
      "Married                 25048\n",
      "Single / not married     4829\n",
      "Civil marriage           2945\n",
      "Separated                2103\n",
      "Widow                    1532\n",
      "Name: count, dtype: int64 \n",
      "\n",
      "Dwelling\n",
      "House / apartment      32548\n",
      "With parents            1776\n",
      "Municipal apartment     1128\n",
      "Rented apartment         575\n",
      "Office apartment         262\n",
      "Co-op apartment          168\n",
      "Name: count, dtype: int64 \n",
      "\n",
      "Age\n",
      "-12676    54\n",
      "-15519    54\n",
      "-16896    38\n",
      "-14667    37\n",
      "-15675    32\n",
      "          ..\n",
      "-12366     1\n",
      "-20028     1\n",
      "-10471     1\n",
      "-14320     1\n",
      "-9115      1\n",
      "Name: count, Length: 7183, dtype: int64 \n",
      "\n",
      "Employment length\n",
      " 365243    6135\n",
      "-401         78\n",
      "-1539        64\n",
      "-200         63\n",
      "-2087        61\n",
      "           ... \n",
      "-9527         1\n",
      "-106          1\n",
      "-989          1\n",
      "-4091         1\n",
      "-2834         1\n",
      "Name: count, Length: 3640, dtype: int64 \n",
      "\n",
      "Has a mobile phone\n",
      "1    36457\n",
      "Name: count, dtype: int64 \n",
      "\n",
      "Has a work phone\n",
      "0    28235\n",
      "1     8222\n",
      "Name: count, dtype: int64 \n",
      "\n",
      "Has a phone\n",
      "0    25709\n",
      "1    10748\n",
      "Name: count, dtype: int64 \n",
      "\n",
      "Has an email\n",
      "0    33186\n",
      "1     3271\n",
      "Name: count, dtype: int64 \n",
      "\n",
      "Job title\n",
      "Unknown                  11323\n",
      "Laborers                  6211\n",
      "Core staff                3591\n",
      "Sales staff               3485\n",
      "Managers                  3012\n",
      "Drivers                   2138\n",
      "High skill tech staff     1383\n",
      "Accountants               1241\n",
      "Medicine staff            1207\n",
      "Cooking staff              655\n",
      "Security staff             592\n",
      "Cleaning staff             551\n",
      "Private service staff      344\n",
      "Low-skill Laborers         175\n",
      "Waiters/barmen staff       174\n",
      "Secretaries                151\n",
      "HR staff                    85\n",
      "Realty agents               79\n",
      "IT staff                    60\n",
      "Name: count, dtype: int64 \n",
      "\n",
      "Family member count\n",
      "2.0     19463\n",
      "1.0      6987\n",
      "3.0      6421\n",
      "4.0      3106\n",
      "5.0       397\n",
      "6.0        58\n",
      "7.0        19\n",
      "15.0        3\n",
      "9.0         2\n",
      "20.0        1\n",
      "Name: count, dtype: int64 \n",
      "\n",
      "Account age\n",
      "-7.0     889\n",
      "-11.0    828\n",
      "-6.0     824\n",
      "-8.0     820\n",
      "-5.0     816\n",
      "        ... \n",
      "-58.0    333\n",
      "-60.0    321\n",
      " 0.0     315\n",
      "-59.0    307\n",
      "-57.0    304\n",
      "Name: count, Length: 61, dtype: int64 \n",
      "\n",
      "Is high risk\n",
      "0    35841\n",
      "1      616\n",
      "Name: count, dtype: int64 \n",
      "\n"
     ]
    }
   ],
   "source": [
    "print(combined_data[\"Gender\"].value_counts(), \"\\n\")\n",
    "print(combined_data[\"Has a car\"].value_counts(), \"\\n\")\n",
    "print(combined_data[\"Has a property\"].value_counts(), \"\\n\")\n",
    "print(combined_data[\"Children count\"].value_counts(), \"\\n\")\n",
    "print(combined_data[\"Income\"].value_counts(), \"\\n\")\n",
    "print(combined_data[\"Employment status\"].value_counts(), \"\\n\")\n",
    "print(combined_data[\"Education level\"].value_counts(), \"\\n\")\n",
    "print(combined_data[\"Marital status\"].value_counts(), \"\\n\")\n",
    "print(combined_data[\"Dwelling\"].value_counts(), \"\\n\")\n",
    "print(combined_data[\"Age\"].value_counts(), \"\\n\")\n",
    "print(combined_data[\"Employment length\"].value_counts(), \"\\n\")\n",
    "print(combined_data[\"Has a mobile phone\"].value_counts(), \"\\n\")\n",
    "print(combined_data[\"Has a work phone\"].value_counts(), \"\\n\")\n",
    "print(combined_data[\"Has a phone\"].value_counts(), \"\\n\")\n",
    "print(combined_data[\"Has an email\"].value_counts(), \"\\n\")\n",
    "print(combined_data[\"Job title\"].value_counts(), \"\\n\")\n",
    "print(combined_data[\"Family member count\"].value_counts(), \"\\n\")\n",
    "print(combined_data[\"Account age\"].value_counts(), \"\\n\")\n",
    "print(combined_data[\"Is high risk\"].value_counts(), \"\\n\")"
   ]
  },
  {
   "cell_type": "markdown",
   "metadata": {},
   "source": [
    "Based on this findigns we can now decide on how to handle the different columns in the dataset. I decided to use one hot encoding for the categorical columns (```Job title```, ```Employment status```, ```Èducation level```, ```Marital status``` and ```Dwelling```) and to just map the binary columns to numerical values (```Gender```, ```Has a car``` and ```Has a property```)"
   ]
  },
  {
   "cell_type": "code",
   "execution_count": 112,
   "metadata": {},
   "outputs": [],
   "source": [
    "def data_preprocessing(data):\n",
    "    data = data.drop(columns=[\"ID\", \"Has a mobile phone\"])\n",
    "    data = data.dropna()\n",
    "    data = data.reset_index(drop=True)\n",
    "    data = pd.get_dummies(data, columns=[\"Job title\", \"Employment status\", \"Education level\", \"Marital status\", \"Dwelling\"], drop_first=True)\n",
    "    data[\"Gender\"] = data[\"Gender\"].map({\"M\": 0, \"F\": 1})\n",
    "    data[\"Has a car\"] = data[\"Has a car\"].map({\"N\": 0, \"Y\": 1})\n",
    "    data[\"Has a property\"] = data[\"Has a property\"].map({\"N\": 0, \"Y\": 1})\n",
    "    bool_columns = data.select_dtypes(include='bool').columns\n",
    "    data[bool_columns] = data[bool_columns].astype(int)\n",
    "    return data"
   ]
  },
  {
   "cell_type": "markdown",
   "metadata": {},
   "source": [
    "Now we can apply this '''data_preprocessing''' function to the ```combined_data``` to get the final dataset that we will use for the model training."
   ]
  },
  {
   "cell_type": "code",
   "execution_count": 113,
   "metadata": {},
   "outputs": [
    {
     "data": {
      "text/plain": [
       "(36457, 48)"
      ]
     },
     "execution_count": 113,
     "metadata": {},
     "output_type": "execute_result"
    }
   ],
   "source": [
    "data = data_preprocessing(combined_data)\n",
    "data.shape"
   ]
  },
  {
   "cell_type": "markdown",
   "metadata": {},
   "source": [
    "## Balancing the dataset"
   ]
  },
  {
   "cell_type": "markdown",
   "metadata": {},
   "source": [
    "Now we take a look if this dataset is balanced or not. If it is not balanced we can use SMOTE to balance the dataset."
   ]
  },
  {
   "cell_type": "code",
   "execution_count": 114,
   "metadata": {},
   "outputs": [
    {
     "data": {
      "text/plain": [
       "Is high risk\n",
       "0    35841\n",
       "1      616\n",
       "Name: count, dtype: int64"
      ]
     },
     "execution_count": 114,
     "metadata": {},
     "output_type": "execute_result"
    }
   ],
   "source": [
    "data[\"Is high risk\"].value_counts()"
   ]
  },
  {
   "cell_type": "markdown",
   "metadata": {},
   "source": [
    "We can see that the dataset is extremly unbalanced. We can use SMOTE to balance the dataset. Therefore we first have to split the dataset into train, test and validation sets. We do this to ensure the data is not leaked from the test and validation set into the training set. This way we can be sure that the test dataset only contains unseen data."
   ]
  },
  {
   "cell_type": "code",
   "execution_count": 115,
   "metadata": {},
   "outputs": [],
   "source": [
    "train, test = train_test_split(data, test_size=0.3, stratify=data[\"Is high risk\"], random_state=42)\n",
    "test, val = train_test_split(test, test_size=0.5, stratify=test[\"Is high risk\"], random_state=42)"
   ]
  },
  {
   "cell_type": "code",
   "execution_count": 116,
   "metadata": {},
   "outputs": [
    {
     "data": {
      "text/plain": [
       "(Is high risk\n",
       " 0    25088\n",
       " 1      431\n",
       " Name: count, dtype: int64,\n",
       " Is high risk\n",
       " 0    5377\n",
       " 1      92\n",
       " Name: count, dtype: int64,\n",
       " Is high risk\n",
       " 0    5376\n",
       " 1      93\n",
       " Name: count, dtype: int64)"
      ]
     },
     "execution_count": 116,
     "metadata": {},
     "output_type": "execute_result"
    }
   ],
   "source": [
    "train[\"Is high risk\"].value_counts(), test[\"Is high risk\"].value_counts(), val[\"Is high risk\"].value_counts()"
   ]
  },
  {
   "cell_type": "markdown",
   "metadata": {},
   "source": [
    "We only use SMOTE for the training and the validation dataset. We do this because this way we can train the model on a balanced dataset and test if the model is able to generalize to unseen data that contains the distribution of the original dataset."
   ]
  },
  {
   "cell_type": "code",
   "execution_count": 117,
   "metadata": {},
   "outputs": [],
   "source": [
    "X_train = train.drop(\"Is high risk\", axis=1)\n",
    "Y_train = train[\"Is high risk\"]\n",
    "\n",
    "X_val = val.drop(\"Is high risk\", axis=1)\n",
    "Y_val = val[\"Is high risk\"]"
   ]
  },
  {
   "cell_type": "code",
   "execution_count": 118,
   "metadata": {},
   "outputs": [],
   "source": [
    "smote = SMOTE(random_state=42)\n",
    "X_train, Y_train = smote.fit_resample(X_train, Y_train)\n",
    "X_val, Y_val = smote.fit_resample(X_val, Y_val)"
   ]
  },
  {
   "cell_type": "code",
   "execution_count": 119,
   "metadata": {},
   "outputs": [
    {
     "data": {
      "text/plain": [
       "(Is high risk\n",
       " 0    25088\n",
       " 1    25088\n",
       " Name: count, dtype: int64,\n",
       " Is high risk\n",
       " 0    5376\n",
       " 1    5376\n",
       " Name: count, dtype: int64)"
      ]
     },
     "execution_count": 119,
     "metadata": {},
     "output_type": "execute_result"
    }
   ],
   "source": [
    "train = pd.concat([X_train, Y_train], axis=1)\n",
    "val = pd.concat([X_val, Y_val], axis=1)\n",
    "\n",
    "train[\"Is high risk\"].value_counts(), val[\"Is high risk\"].value_counts()"
   ]
  },
  {
   "cell_type": "markdown",
   "metadata": {},
   "source": [
    "Now we can save the different datasets to csv files to use them in the model training."
   ]
  },
  {
   "cell_type": "code",
   "execution_count": 120,
   "metadata": {},
   "outputs": [],
   "source": [
    "if not os.path.exists('../data/preprocessed'):\n",
    "    os.makedirs('../data/preprocessed')\n",
    "\n",
    "if os.path.exists('../data/preprocessed/all_data.csv'):\n",
    "    os.remove('../data/preprocessed/all_data.csv')\n",
    "if os.path.exists('../data/preprocessed/test_data.csv'):\n",
    "    os.remove('../data/preprocessed/test_data.csv')\n",
    "if os.path.exists('../data/preprocessed/val_data.csv'):\n",
    "    os.remove('../data/preprocessed/val_data.csv')\n",
    "if os.path.exists('../data/preprocessed/train_data.csv'):\n",
    "    os.remove('../data/preprocessed/train_data.csv')\n",
    "\n",
    "data.to_csv('../data/preprocessed/all_data.csv', index=False)\n",
    "test.to_csv('../data/preprocessed/test_data.csv', index=False)\n",
    "val.to_csv('../data/preprocessed/val_data.csv', index=False)\n",
    "train.to_csv('../data/preprocessed/train_data.csv', index=False)"
   ]
  }
 ],
 "metadata": {
  "kernelspec": {
   "display_name": "Python 3",
   "language": "python",
   "name": "python3"
  },
  "language_info": {
   "codemirror_mode": {
    "name": "ipython",
    "version": 3
   },
   "file_extension": ".py",
   "mimetype": "text/x-python",
   "name": "python",
   "nbconvert_exporter": "python",
   "pygments_lexer": "ipython3",
   "version": "3.11.9"
  }
 },
 "nbformat": 4,
 "nbformat_minor": 2
}
