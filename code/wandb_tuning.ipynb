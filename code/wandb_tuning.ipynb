{
 "cells": [
  {
   "cell_type": "markdown",
   "metadata": {},
   "source": [
    "# Tuning: Neuronales Netzwerk mit dem Tuner von Weights & Biases"
   ]
  },
  {
   "cell_type": "markdown",
   "metadata": {},
   "source": [
    "In diesem Notebook wird ein neuronales Netzwerk mit dem [Tuner von Weights & Biases](https://colab.research.google.com/github/wandb/examples/blob/master/colabs/tensorflow/Hyperparameter_Optimization_in_TensorFlow_using_W%26B_Sweeps.ipynb#scrollTo=crY5iadfKp_b) optimiert. Der Tuner von Weights & Biases ist ein Tool, das automatisiert die Hyperparameter eines Modells optimiert. In diesem Fall wird der Tuner verwendet, um die Batch Size als Hyperparameter zu optimieren. Dabei ist das Ziel den Validierungsfehler zu minimieren. Dieses Notebook dient als Grundlage für das Notebook `train_wandb_tuned.ipynb`."
   ]
  },
  {
   "cell_type": "markdown",
   "metadata": {},
   "source": [
    "Zunächst werden alle nötigen Bibliotheken importiert."
   ]
  },
  {
   "cell_type": "code",
   "execution_count": 1,
   "metadata": {},
   "outputs": [],
   "source": [
    "import pandas as pd\n",
    "import numpy as np\n",
    "import ast\n",
    "import matplotlib.pyplot as plt\n",
    "import os\n",
    "import wandb\n",
    "import tqdm\n",
    "import tensorflow as tf\n",
    "import keras\n",
    "import seaborn as sns\n",
    "\n",
    "from tensorflow.keras import layers, Model, optimizers, losses, callbacks\n",
    "from tensorflow import GradientTape\n",
    "from keras.optimizers import Adam\n",
    "from sklearn.model_selection import train_test_split, GridSearchCV\n",
    "from keras.callbacks import EarlyStopping\n",
    "from scikeras.wrappers import KerasClassifier\n",
    "from wandb.integration.keras import WandbMetricsLogger\n",
    "from sklearn.metrics import confusion_matrix"
   ]
  },
  {
   "cell_type": "markdown",
   "metadata": {},
   "source": [
    "Anschließend können die verwendeten Datensätze geladen werden."
   ]
  },
  {
   "cell_type": "code",
   "execution_count": 2,
   "metadata": {},
   "outputs": [],
   "source": [
    "train = pd.read_csv('../data/preprocessed/train_data.csv')\n",
    "test = pd.read_csv('../data/preprocessed/test_data.csv')\n",
    "val = pd.read_csv('../data/preprocessed/val_data.csv')"
   ]
  },
  {
   "cell_type": "code",
   "execution_count": 3,
   "metadata": {},
   "outputs": [
    {
     "data": {
      "text/plain": [
       "((50176, 48), (5469, 48), (10752, 48))"
      ]
     },
     "execution_count": 3,
     "metadata": {},
     "output_type": "execute_result"
    }
   ],
   "source": [
    "train.shape, test.shape, val.shape"
   ]
  },
  {
   "cell_type": "code",
   "execution_count": 4,
   "metadata": {},
   "outputs": [],
   "source": [
    "X_train = train.drop(\"Is high risk\", axis=1)\n",
    "Y_train = train[\"Is high risk\"]\n",
    "\n",
    "X_test = test.drop(\"Is high risk\", axis=1)\n",
    "Y_test = test[\"Is high risk\"]\n",
    "\n",
    "X_val = val.drop(\"Is high risk\", axis=1)\n",
    "Y_val = val[\"Is high risk\"]"
   ]
  },
  {
   "cell_type": "code",
   "execution_count": 5,
   "metadata": {},
   "outputs": [],
   "source": [
    "# wandb.login()"
   ]
  },
  {
   "cell_type": "markdown",
   "metadata": {},
   "source": [
    "Nun werden die Funktionen für das neuronale Netzwerk definiert. Dabei wird ein einfaches Netzwerk mit vier versteckten Schichten mit jeweils 64 Neuronen und der ReLU-Aktivierungsfunktion verwendet. Weiterhin wird die Funktion für die Trainingsschritte und die Testschritte definiert."
   ]
  },
  {
   "cell_type": "code",
   "execution_count": 6,
   "metadata": {},
   "outputs": [],
   "source": [
    "def Model():\n",
    "    x = layers.Input(shape=(X_train.shape[1],))\n",
    "\n",
    "    h = layers.Dense(64, activation='relu')(x)\n",
    "    h = layers.Dense(64, activation='relu')(h)\n",
    "    h = layers.Dense(64, activation='relu')(h)\n",
    "    h = layers.Dense(64, activation='relu')(h)\n",
    "\n",
    "    y = layers.Dense(1, activation='sigmoid')(h)\n",
    "\n",
    "    model = keras.Model(inputs=x, outputs=y)\n",
    "\n",
    "    return model\n",
    "\n",
    "def train_step(x, y, model, optimizer, loss_fn, train_acc_metric):\n",
    "    with GradientTape() as tape:\n",
    "        logits = model(x, training=True)\n",
    "        loss_value = loss_fn(y, logits)\n",
    "\n",
    "    grads = tape.gradient(loss_value, model.trainable_weights)\n",
    "    optimizer.apply_gradients(zip(grads, model.trainable_weights))\n",
    "\n",
    "    train_acc_metric.update_state(y, logits)\n",
    "\n",
    "    return loss_value\n",
    "\n",
    "def test_step(x, y, model, loss_fn, val_acc_metric):\n",
    "    val_logits = model(x, training=False)\n",
    "    loss_value = loss_fn(y, val_logits)\n",
    "    val_acc_metric.update_state(y, val_logits)\n",
    "\n",
    "    return loss_value"
   ]
  },
  {
   "cell_type": "markdown",
   "metadata": {},
   "source": [
    "Basierend auf den zuvor erstellten Funktionen wird nun die Trainingsfunktion erstellt. Dabei wird Weight & Biases verwendet, um den Trainingsprozess zu tracken."
   ]
  },
  {
   "cell_type": "code",
   "execution_count": 7,
   "metadata": {},
   "outputs": [],
   "source": [
    "def train(train_dataset,\n",
    "          val_dataset, \n",
    "          model,\n",
    "          optimizer,\n",
    "          loss_fn,\n",
    "          train_acc_metric,\n",
    "          val_acc_metric,\n",
    "          epochs=1000, \n",
    "          log_step=200, \n",
    "          val_log_step=50):\n",
    "    for epoch in range(epochs):\n",
    "        print(\"\\nStart of epoch %d\" % (epoch,))\n",
    "\n",
    "        train_loss = []   \n",
    "        val_loss = []\n",
    "\n",
    "        # Iterate over the batches of the dataset\n",
    "        for step, (x_batch_train, y_batch_train) in tqdm.tqdm(enumerate(train_dataset), total=len(train_dataset)):\n",
    "            loss_value = train_step(x_batch_train, y_batch_train, \n",
    "                                    model, optimizer, \n",
    "                                    loss_fn, train_acc_metric)\n",
    "            train_loss.append(float(loss_value))\n",
    "\n",
    "        # Run a validation loop at the end of each epoch\n",
    "        for step, (x_batch_val, y_batch_val) in enumerate(val_dataset):\n",
    "            val_loss_value = test_step(x_batch_val, y_batch_val, \n",
    "                                       model, loss_fn, \n",
    "                                       val_acc_metric)\n",
    "            val_loss.append(float(val_loss_value))\n",
    "            \n",
    "        # Display metrics at the end of each epoch\n",
    "        train_acc = train_acc_metric.result()\n",
    "        print(\"Training acc over epoch: %.4f\" % (float(train_acc),))\n",
    "\n",
    "        val_acc = val_acc_metric.result()\n",
    "        print(\"Validation acc: %.4f\" % (float(val_acc),))\n",
    "\n",
    "        # Reset metrics at the end of each epoch\n",
    "        train_acc_metric.reset_state()\n",
    "        val_acc_metric.reset_state()\n",
    "\n",
    "        # log metrics using wandb.log\n",
    "        wandb.log({'epochs': epoch,\n",
    "                   'loss': np.mean(train_loss),\n",
    "                   'acc': float(train_acc), \n",
    "                   'val_loss': np.mean(val_loss),\n",
    "                   'val_acc':float(val_acc)})"
   ]
  },
  {
   "cell_type": "markdown",
   "metadata": {},
   "source": [
    "Nun werden die Parameter für die optimierung in der `sweep_config` definiert."
   ]
  },
  {
   "cell_type": "code",
   "execution_count": 8,
   "metadata": {},
   "outputs": [],
   "source": [
    "sweep_config = {\n",
    "  'method': 'grid', \n",
    "  'metric': {\n",
    "      'name': 'val_loss',\n",
    "      'goal': 'minimize'\n",
    "  },\n",
    "  'early_terminate':{\n",
    "      'type': 'hyperband',\n",
    "      'min_iter': 5\n",
    "  },\n",
    "  'parameters': {\n",
    "      'batch_size': {\n",
    "          'values': [32, 64, 128, 256, 512]\n",
    "      }\n",
    "  }\n",
    "}"
   ]
  },
  {
   "cell_type": "markdown",
   "metadata": {},
   "source": [
    "Anschließend wird die `sweep_train`-Funktion erstellt. Diese nutzt die zuvor definierte Trainingsfunktion und führt sie mit der `swep_config` zusammen, um den Optimierungsprozess in sogenannten Sweeps durchzuführen und auf Weight & Biases zu tracken."
   ]
  },
  {
   "cell_type": "code",
   "execution_count": 9,
   "metadata": {},
   "outputs": [],
   "source": [
    "def sweep_train(config_defaults=None):\n",
    "    # Set default values\n",
    "    config_defaults = {\n",
    "        \"batch_size\": 32,\n",
    "        \"learning_rate\": 0.001\n",
    "    }\n",
    "    # Initialize wandb with a sample project name\n",
    "    wandb.init(reinit = True, config=config_defaults)  # this gets over-written in the Sweep\n",
    "\n",
    "    # Specify the other hyperparameters to the configuration, if any\n",
    "    wandb.config.epochs = 10\n",
    "    wandb.config.log_step = 20\n",
    "    wandb.config.val_log_step = 50\n",
    "    wandb.config.architecture_name = \"test\"\n",
    "    wandb.config.dataset_name = \"Credit Card\"\n",
    "\n",
    "    # build input pipeline using tf.data\n",
    "    train_dataset = tf.data.Dataset.from_tensor_slices((X_train, Y_train))\n",
    "    train_dataset = (train_dataset.batch(wandb.config.batch_size)\n",
    "                                  .prefetch(buffer_size=tf.data.AUTOTUNE)\n",
    "                                  .shuffle(buffer_size=50176)\n",
    "                                  )\n",
    "\n",
    "    val_dataset = tf.data.Dataset.from_tensor_slices((X_val, Y_val))\n",
    "    val_dataset = (val_dataset.batch(wandb.config.batch_size)\n",
    "                              .prefetch(buffer_size=tf.data.AUTOTUNE)\n",
    "                              .shuffle(buffer_size=10752)\n",
    "                              )\n",
    "\n",
    "    # initialize model\n",
    "    model = Model()\n",
    "\n",
    "    # Instantiate an optimizer to train the model.\n",
    "    # optimizer = keras.optimizers.SGD(learning_rate=wandb.config.learning_rate)\n",
    "    optimizer = optimizers.Adam(learning_rate=wandb.config.learning_rate, \n",
    "                            beta_1=0.9, \n",
    "                            beta_2=0.999, \n",
    "                            amsgrad=True)\n",
    "    # Instantiate a loss function.\n",
    "    loss_fn = keras.losses.BinaryCrossentropy(from_logits=False)\n",
    "\n",
    "    # Prepare the metrics.\n",
    "    train_acc_metric = keras.metrics.BinaryAccuracy()\n",
    "    val_acc_metric = keras.metrics.BinaryAccuracy()\n",
    "\n",
    "    train(train_dataset,\n",
    "          val_dataset, \n",
    "          model,\n",
    "          optimizer,\n",
    "          loss_fn,\n",
    "          train_acc_metric,\n",
    "          val_acc_metric,\n",
    "          epochs=wandb.config.epochs, \n",
    "          log_step=wandb.config.log_step, \n",
    "          val_log_step=wandb.config.val_log_step)"
   ]
  },
  {
   "cell_type": "markdown",
   "metadata": {},
   "source": [
    "Nun wird ein neuer Sweep erstellt und die `sweep_train`-Funktion aufgerufen, um den Optimierungsprozess zu starten."
   ]
  },
  {
   "cell_type": "code",
   "execution_count": 10,
   "metadata": {},
   "outputs": [
    {
     "name": "stderr",
     "output_type": "stream",
     "text": [
      "Failed to detect the name of this notebook, you can set it manually with the WANDB_NOTEBOOK_NAME environment variable to enable code saving.\n"
     ]
    },
    {
     "name": "stdout",
     "output_type": "stream",
     "text": [
      "Create sweep with ID: lj0f8np5\n",
      "Sweep URL: https://wandb.ai/lokrau/Credit_Card/sweeps/lj0f8np5\n"
     ]
    }
   ],
   "source": [
    "sweep_id = wandb.sweep(sweep_config, project=\"credit_card\")"
   ]
  },
  {
   "cell_type": "code",
   "execution_count": 11,
   "metadata": {},
   "outputs": [
    {
     "name": "stderr",
     "output_type": "stream",
     "text": [
      "\u001b[34m\u001b[1mwandb\u001b[0m: Agent Starting Run: lwt2l64y with config:\n",
      "\u001b[34m\u001b[1mwandb\u001b[0m: \tbatch_size: 32\n",
      "Failed to detect the name of this notebook, you can set it manually with the WANDB_NOTEBOOK_NAME environment variable to enable code saving.\n",
      "\u001b[34m\u001b[1mwandb\u001b[0m: Currently logged in as: \u001b[33mlokrau2002\u001b[0m (\u001b[33mlokrau\u001b[0m). Use \u001b[1m`wandb login --relogin`\u001b[0m to force relogin\n"
     ]
    },
    {
     "data": {
      "text/html": [
       "Tracking run with wandb version 0.17.1"
      ],
      "text/plain": [
       "<IPython.core.display.HTML object>"
      ]
     },
     "metadata": {},
     "output_type": "display_data"
    },
    {
     "data": {
      "text/html": [
       "Run data is saved locally in <code>/Users/lorenzkrause/Uni/Semester 6/ML_Project_Credot_Card_new/ml_project_credit_card/code/wandb/run-20240609_112037-lwt2l64y</code>"
      ],
      "text/plain": [
       "<IPython.core.display.HTML object>"
      ]
     },
     "metadata": {},
     "output_type": "display_data"
    },
    {
     "data": {
      "text/html": [
       "Syncing run <strong><a href='https://wandb.ai/lokrau/Credit_Card/runs/lwt2l64y' target=\"_blank\">lemon-sweep-1</a></strong> to <a href='https://wandb.ai/lokrau/Credit_Card' target=\"_blank\">Weights & Biases</a> (<a href='https://wandb.me/run' target=\"_blank\">docs</a>)<br/>Sweep page: <a href='https://wandb.ai/lokrau/Credit_Card/sweeps/lj0f8np5' target=\"_blank\">https://wandb.ai/lokrau/Credit_Card/sweeps/lj0f8np5</a>"
      ],
      "text/plain": [
       "<IPython.core.display.HTML object>"
      ]
     },
     "metadata": {},
     "output_type": "display_data"
    },
    {
     "data": {
      "text/html": [
       " View project at <a href='https://wandb.ai/lokrau/Credit_Card' target=\"_blank\">https://wandb.ai/lokrau/Credit_Card</a>"
      ],
      "text/plain": [
       "<IPython.core.display.HTML object>"
      ]
     },
     "metadata": {},
     "output_type": "display_data"
    },
    {
     "data": {
      "text/html": [
       " View sweep at <a href='https://wandb.ai/lokrau/Credit_Card/sweeps/lj0f8np5' target=\"_blank\">https://wandb.ai/lokrau/Credit_Card/sweeps/lj0f8np5</a>"
      ],
      "text/plain": [
       "<IPython.core.display.HTML object>"
      ]
     },
     "metadata": {},
     "output_type": "display_data"
    },
    {
     "data": {
      "text/html": [
       " View run at <a href='https://wandb.ai/lokrau/Credit_Card/runs/lwt2l64y' target=\"_blank\">https://wandb.ai/lokrau/Credit_Card/runs/lwt2l64y</a>"
      ],
      "text/plain": [
       "<IPython.core.display.HTML object>"
      ]
     },
     "metadata": {},
     "output_type": "display_data"
    },
    {
     "name": "stdout",
     "output_type": "stream",
     "text": [
      "\n",
      "Start of epoch 0\n"
     ]
    },
    {
     "name": "stderr",
     "output_type": "stream",
     "text": [
      "100%|█████████▉| 1563/1568 [00:30<00:00, 53.13it/s]2024-06-09 11:21:14.465312: W tensorflow/core/framework/local_rendezvous.cc:404] Local rendezvous is aborting with status: OUT_OF_RANGE: End of sequence\n",
      "100%|██████████| 1568/1568 [00:31<00:00, 50.53it/s]\n",
      "2024-06-09 11:21:15.327617: W tensorflow/core/framework/local_rendezvous.cc:404] Local rendezvous is aborting with status: OUT_OF_RANGE: End of sequence\n"
     ]
    },
    {
     "name": "stdout",
     "output_type": "stream",
     "text": [
      "Training acc over epoch: 0.5228\n",
      "Validation acc: 0.5016\n",
      "\n",
      "Start of epoch 1\n"
     ]
    },
    {
     "name": "stderr",
     "output_type": "stream",
     "text": [
      "100%|██████████| 1568/1568 [00:31<00:00, 50.02it/s]2024-06-09 11:21:47.156033: W tensorflow/core/framework/local_rendezvous.cc:404] Local rendezvous is aborting with status: OUT_OF_RANGE: End of sequence\n",
      "100%|██████████| 1568/1568 [00:31<00:00, 49.27it/s]\n",
      "2024-06-09 11:21:48.160029: W tensorflow/core/framework/local_rendezvous.cc:404] Local rendezvous is aborting with status: OUT_OF_RANGE: End of sequence\n"
     ]
    },
    {
     "name": "stdout",
     "output_type": "stream",
     "text": [
      "Training acc over epoch: 0.5021\n",
      "Validation acc: 0.5277\n",
      "\n",
      "Start of epoch 2\n"
     ]
    },
    {
     "name": "stderr",
     "output_type": "stream",
     "text": [
      "100%|█████████▉| 1567/1568 [00:32<00:00, 49.98it/s]2024-06-09 11:22:20.381234: W tensorflow/core/framework/local_rendezvous.cc:404] Local rendezvous is aborting with status: OUT_OF_RANGE: End of sequence\n",
      "100%|██████████| 1568/1568 [00:32<00:00, 48.67it/s]\n",
      "2024-06-09 11:22:21.337133: W tensorflow/core/framework/local_rendezvous.cc:404] Local rendezvous is aborting with status: OUT_OF_RANGE: End of sequence\n"
     ]
    },
    {
     "name": "stdout",
     "output_type": "stream",
     "text": [
      "Training acc over epoch: 0.5315\n",
      "Validation acc: 0.5205\n",
      "\n",
      "Start of epoch 3\n"
     ]
    },
    {
     "name": "stderr",
     "output_type": "stream",
     "text": [
      "100%|█████████▉| 1563/1568 [00:29<00:00, 51.46it/s]2024-06-09 11:22:51.373028: W tensorflow/core/framework/local_rendezvous.cc:404] Local rendezvous is aborting with status: OUT_OF_RANGE: End of sequence\n",
      "100%|██████████| 1568/1568 [00:30<00:00, 52.21it/s]\n",
      "2024-06-09 11:22:52.373255: W tensorflow/core/framework/local_rendezvous.cc:404] Local rendezvous is aborting with status: OUT_OF_RANGE: End of sequence\n"
     ]
    },
    {
     "name": "stdout",
     "output_type": "stream",
     "text": [
      "Training acc over epoch: 0.5287\n",
      "Validation acc: 0.5174\n",
      "\n",
      "Start of epoch 4\n"
     ]
    },
    {
     "name": "stderr",
     "output_type": "stream",
     "text": [
      "100%|█████████▉| 1563/1568 [00:30<00:00, 52.92it/s]2024-06-09 11:23:22.933451: W tensorflow/core/framework/local_rendezvous.cc:404] Local rendezvous is aborting with status: OUT_OF_RANGE: End of sequence\n",
      "100%|██████████| 1568/1568 [00:30<00:00, 51.31it/s]\n",
      "2024-06-09 11:23:23.799801: W tensorflow/core/framework/local_rendezvous.cc:404] Local rendezvous is aborting with status: OUT_OF_RANGE: End of sequence\n"
     ]
    },
    {
     "name": "stdout",
     "output_type": "stream",
     "text": [
      "Training acc over epoch: 0.5356\n",
      "Validation acc: 0.4893\n",
      "\n",
      "Start of epoch 5\n"
     ]
    },
    {
     "name": "stderr",
     "output_type": "stream",
     "text": [
      "100%|█████████▉| 1565/1568 [00:30<00:00, 50.64it/s]2024-06-09 11:23:54.129471: W tensorflow/core/framework/local_rendezvous.cc:404] Local rendezvous is aborting with status: OUT_OF_RANGE: End of sequence\n",
      "100%|██████████| 1568/1568 [00:30<00:00, 51.70it/s]\n",
      "2024-06-09 11:23:55.046028: W tensorflow/core/framework/local_rendezvous.cc:404] Local rendezvous is aborting with status: OUT_OF_RANGE: End of sequence\n"
     ]
    },
    {
     "name": "stdout",
     "output_type": "stream",
     "text": [
      "Training acc over epoch: 0.5259\n",
      "Validation acc: 0.4949\n",
      "\n",
      "Start of epoch 6\n"
     ]
    },
    {
     "name": "stderr",
     "output_type": "stream",
     "text": [
      "100%|█████████▉| 1567/1568 [00:31<00:00, 53.37it/s]2024-06-09 11:24:26.160277: W tensorflow/core/framework/local_rendezvous.cc:404] Local rendezvous is aborting with status: OUT_OF_RANGE: End of sequence\n",
      "100%|██████████| 1568/1568 [00:31<00:00, 50.40it/s]\n",
      "2024-06-09 11:24:27.054592: W tensorflow/core/framework/local_rendezvous.cc:404] Local rendezvous is aborting with status: OUT_OF_RANGE: End of sequence\n"
     ]
    },
    {
     "name": "stdout",
     "output_type": "stream",
     "text": [
      "Training acc over epoch: 0.5182\n",
      "Validation acc: 0.5012\n",
      "\n",
      "Start of epoch 7\n"
     ]
    },
    {
     "name": "stderr",
     "output_type": "stream",
     "text": [
      "100%|█████████▉| 1567/1568 [00:30<00:00, 52.65it/s]2024-06-09 11:24:57.449993: W tensorflow/core/framework/local_rendezvous.cc:404] Local rendezvous is aborting with status: OUT_OF_RANGE: End of sequence\n",
      "100%|██████████| 1568/1568 [00:30<00:00, 51.59it/s]\n",
      "2024-06-09 11:24:58.308265: W tensorflow/core/framework/local_rendezvous.cc:404] Local rendezvous is aborting with status: OUT_OF_RANGE: End of sequence\n"
     ]
    },
    {
     "name": "stdout",
     "output_type": "stream",
     "text": [
      "Training acc over epoch: 0.5171\n",
      "Validation acc: 0.5033\n",
      "\n",
      "Start of epoch 8\n"
     ]
    },
    {
     "name": "stderr",
     "output_type": "stream",
     "text": [
      "100%|█████████▉| 1565/1568 [00:31<00:00, 51.04it/s]2024-06-09 11:25:29.794743: W tensorflow/core/framework/local_rendezvous.cc:404] Local rendezvous is aborting with status: OUT_OF_RANGE: End of sequence\n",
      "100%|██████████| 1568/1568 [00:31<00:00, 49.80it/s]\n",
      "2024-06-09 11:25:30.732275: W tensorflow/core/framework/local_rendezvous.cc:404] Local rendezvous is aborting with status: OUT_OF_RANGE: End of sequence\n"
     ]
    },
    {
     "name": "stdout",
     "output_type": "stream",
     "text": [
      "Training acc over epoch: 0.5388\n",
      "Validation acc: 0.5147\n",
      "\n",
      "Start of epoch 9\n"
     ]
    },
    {
     "name": "stderr",
     "output_type": "stream",
     "text": [
      "100%|█████████▉| 1564/1568 [00:31<00:00, 44.88it/s]2024-06-09 11:26:02.631552: W tensorflow/core/framework/local_rendezvous.cc:404] Local rendezvous is aborting with status: OUT_OF_RANGE: End of sequence\n",
      "100%|██████████| 1568/1568 [00:31<00:00, 49.16it/s]\n",
      "2024-06-09 11:26:03.582435: W tensorflow/core/framework/local_rendezvous.cc:404] Local rendezvous is aborting with status: OUT_OF_RANGE: End of sequence\n"
     ]
    },
    {
     "name": "stdout",
     "output_type": "stream",
     "text": [
      "Training acc over epoch: 0.5230\n",
      "Validation acc: 0.5053\n"
     ]
    },
    {
     "data": {
      "text/html": [
       "<style>\n",
       "    table.wandb td:nth-child(1) { padding: 0 10px; text-align: left ; width: auto;} td:nth-child(2) {text-align: left ; width: 100%}\n",
       "    .wandb-row { display: flex; flex-direction: row; flex-wrap: wrap; justify-content: flex-start; width: 100% }\n",
       "    .wandb-col { display: flex; flex-direction: column; flex-basis: 100%; flex: 1; padding: 10px; }\n",
       "    </style>\n",
       "<div class=\"wandb-row\"><div class=\"wandb-col\"><h3>Run history:</h3><br/><table class=\"wandb\"><tr><td>acc</td><td>▅▁▇▆▇▆▄▄█▅</td></tr><tr><td>epochs</td><td>▁▂▃▃▄▅▆▆▇█</td></tr><tr><td>loss</td><td>█▁▁▁▁▁▁▁▁▁</td></tr><tr><td>val_acc</td><td>▃█▇▆▁▂▃▄▆▄</td></tr><tr><td>val_loss</td><td>█▁▁▁▁▁▁▁▁▁</td></tr></table><br/></div><div class=\"wandb-col\"><h3>Run summary:</h3><br/><table class=\"wandb\"><tr><td>acc</td><td>0.523</td></tr><tr><td>epochs</td><td>9</td></tr><tr><td>loss</td><td>0.75396</td></tr><tr><td>val_acc</td><td>0.5053</td></tr><tr><td>val_loss</td><td>0.85316</td></tr></table><br/></div></div>"
      ],
      "text/plain": [
       "<IPython.core.display.HTML object>"
      ]
     },
     "metadata": {},
     "output_type": "display_data"
    },
    {
     "data": {
      "text/html": [
       " View run <strong style=\"color:#cdcd00\">lemon-sweep-1</strong> at: <a href='https://wandb.ai/lokrau/Credit_Card/runs/lwt2l64y' target=\"_blank\">https://wandb.ai/lokrau/Credit_Card/runs/lwt2l64y</a><br/> View project at: <a href='https://wandb.ai/lokrau/Credit_Card' target=\"_blank\">https://wandb.ai/lokrau/Credit_Card</a><br/>Synced 6 W&B file(s), 0 media file(s), 0 artifact file(s) and 0 other file(s)"
      ],
      "text/plain": [
       "<IPython.core.display.HTML object>"
      ]
     },
     "metadata": {},
     "output_type": "display_data"
    },
    {
     "data": {
      "text/html": [
       "Find logs at: <code>./wandb/run-20240609_112037-lwt2l64y/logs</code>"
      ],
      "text/plain": [
       "<IPython.core.display.HTML object>"
      ]
     },
     "metadata": {},
     "output_type": "display_data"
    },
    {
     "name": "stderr",
     "output_type": "stream",
     "text": [
      "\u001b[34m\u001b[1mwandb\u001b[0m: Agent Starting Run: t5tzfiwt with config:\n",
      "\u001b[34m\u001b[1mwandb\u001b[0m: \tbatch_size: 64\n",
      "Failed to detect the name of this notebook, you can set it manually with the WANDB_NOTEBOOK_NAME environment variable to enable code saving.\n"
     ]
    },
    {
     "data": {
      "text/html": [
       "Tracking run with wandb version 0.17.1"
      ],
      "text/plain": [
       "<IPython.core.display.HTML object>"
      ]
     },
     "metadata": {},
     "output_type": "display_data"
    },
    {
     "data": {
      "text/html": [
       "Run data is saved locally in <code>/Users/lorenzkrause/Uni/Semester 6/ML_Project_Credot_Card_new/ml_project_credit_card/code/wandb/run-20240609_112613-t5tzfiwt</code>"
      ],
      "text/plain": [
       "<IPython.core.display.HTML object>"
      ]
     },
     "metadata": {},
     "output_type": "display_data"
    },
    {
     "data": {
      "text/html": [
       "Syncing run <strong><a href='https://wandb.ai/lokrau/Credit_Card/runs/t5tzfiwt' target=\"_blank\">stellar-sweep-2</a></strong> to <a href='https://wandb.ai/lokrau/Credit_Card' target=\"_blank\">Weights & Biases</a> (<a href='https://wandb.me/run' target=\"_blank\">docs</a>)<br/>Sweep page: <a href='https://wandb.ai/lokrau/Credit_Card/sweeps/lj0f8np5' target=\"_blank\">https://wandb.ai/lokrau/Credit_Card/sweeps/lj0f8np5</a>"
      ],
      "text/plain": [
       "<IPython.core.display.HTML object>"
      ]
     },
     "metadata": {},
     "output_type": "display_data"
    },
    {
     "data": {
      "text/html": [
       " View project at <a href='https://wandb.ai/lokrau/Credit_Card' target=\"_blank\">https://wandb.ai/lokrau/Credit_Card</a>"
      ],
      "text/plain": [
       "<IPython.core.display.HTML object>"
      ]
     },
     "metadata": {},
     "output_type": "display_data"
    },
    {
     "data": {
      "text/html": [
       " View sweep at <a href='https://wandb.ai/lokrau/Credit_Card/sweeps/lj0f8np5' target=\"_blank\">https://wandb.ai/lokrau/Credit_Card/sweeps/lj0f8np5</a>"
      ],
      "text/plain": [
       "<IPython.core.display.HTML object>"
      ]
     },
     "metadata": {},
     "output_type": "display_data"
    },
    {
     "data": {
      "text/html": [
       " View run at <a href='https://wandb.ai/lokrau/Credit_Card/runs/t5tzfiwt' target=\"_blank\">https://wandb.ai/lokrau/Credit_Card/runs/t5tzfiwt</a>"
      ],
      "text/plain": [
       "<IPython.core.display.HTML object>"
      ]
     },
     "metadata": {},
     "output_type": "display_data"
    },
    {
     "name": "stdout",
     "output_type": "stream",
     "text": [
      "\n",
      "Start of epoch 0\n"
     ]
    },
    {
     "name": "stderr",
     "output_type": "stream",
     "text": [
      "100%|█████████▉| 782/784 [00:15<00:00, 49.78it/s]2024-06-09 11:26:34.722848: W tensorflow/core/framework/local_rendezvous.cc:404] Local rendezvous is aborting with status: OUT_OF_RANGE: End of sequence\n",
      "100%|██████████| 784/784 [00:15<00:00, 49.08it/s]\n",
      "2024-06-09 11:26:35.209081: W tensorflow/core/framework/local_rendezvous.cc:404] Local rendezvous is aborting with status: OUT_OF_RANGE: End of sequence\n"
     ]
    },
    {
     "name": "stdout",
     "output_type": "stream",
     "text": [
      "Training acc over epoch: 0.4978\n",
      "Validation acc: 0.5174\n",
      "\n",
      "Start of epoch 1\n"
     ]
    },
    {
     "name": "stderr",
     "output_type": "stream",
     "text": [
      "100%|██████████| 784/784 [00:16<00:00, 49.06it/s]2024-06-09 11:26:51.244991: W tensorflow/core/framework/local_rendezvous.cc:404] Local rendezvous is aborting with status: OUT_OF_RANGE: End of sequence\n",
      "100%|██████████| 784/784 [00:16<00:00, 48.90it/s]\n",
      "2024-06-09 11:26:51.731182: W tensorflow/core/framework/local_rendezvous.cc:404] Local rendezvous is aborting with status: OUT_OF_RANGE: End of sequence\n"
     ]
    },
    {
     "name": "stdout",
     "output_type": "stream",
     "text": [
      "Training acc over epoch: 0.5335\n",
      "Validation acc: 0.5007\n",
      "\n",
      "Start of epoch 2\n"
     ]
    },
    {
     "name": "stderr",
     "output_type": "stream",
     "text": [
      "100%|█████████▉| 783/784 [00:15<00:00, 51.71it/s]2024-06-09 11:27:07.547023: W tensorflow/core/framework/local_rendezvous.cc:404] Local rendezvous is aborting with status: OUT_OF_RANGE: End of sequence\n",
      "100%|██████████| 784/784 [00:15<00:00, 49.58it/s]\n",
      "2024-06-09 11:27:08.019470: W tensorflow/core/framework/local_rendezvous.cc:404] Local rendezvous is aborting with status: OUT_OF_RANGE: End of sequence\n"
     ]
    },
    {
     "name": "stdout",
     "output_type": "stream",
     "text": [
      "Training acc over epoch: 0.5151\n",
      "Validation acc: 0.4906\n",
      "\n",
      "Start of epoch 3\n"
     ]
    },
    {
     "name": "stderr",
     "output_type": "stream",
     "text": [
      "100%|█████████▉| 783/784 [00:15<00:00, 53.33it/s]2024-06-09 11:27:23.242600: W tensorflow/core/framework/local_rendezvous.cc:404] Local rendezvous is aborting with status: OUT_OF_RANGE: End of sequence\n",
      "100%|██████████| 784/784 [00:15<00:00, 51.51it/s]\n",
      "2024-06-09 11:27:23.700382: W tensorflow/core/framework/local_rendezvous.cc:404] Local rendezvous is aborting with status: OUT_OF_RANGE: End of sequence\n"
     ]
    },
    {
     "name": "stdout",
     "output_type": "stream",
     "text": [
      "Training acc over epoch: 0.5307\n",
      "Validation acc: 0.5580\n",
      "\n",
      "Start of epoch 4\n"
     ]
    },
    {
     "name": "stderr",
     "output_type": "stream",
     "text": [
      "100%|██████████| 784/784 [00:15<00:00, 49.53it/s]2024-06-09 11:27:38.847158: W tensorflow/core/framework/local_rendezvous.cc:404] Local rendezvous is aborting with status: OUT_OF_RANGE: End of sequence\n",
      "100%|██████████| 784/784 [00:15<00:00, 51.77it/s]\n",
      "2024-06-09 11:27:39.337015: W tensorflow/core/framework/local_rendezvous.cc:404] Local rendezvous is aborting with status: OUT_OF_RANGE: End of sequence\n"
     ]
    },
    {
     "name": "stdout",
     "output_type": "stream",
     "text": [
      "Training acc over epoch: 0.5147\n",
      "Validation acc: 0.5018\n",
      "\n",
      "Start of epoch 5\n"
     ]
    },
    {
     "name": "stderr",
     "output_type": "stream",
     "text": [
      " 99%|█████████▉| 780/784 [00:16<00:00, 48.22it/s]2024-06-09 11:27:55.450597: W tensorflow/core/framework/local_rendezvous.cc:404] Local rendezvous is aborting with status: OUT_OF_RANGE: End of sequence\n",
      "100%|██████████| 784/784 [00:16<00:00, 48.66it/s]\n",
      "2024-06-09 11:27:55.948410: W tensorflow/core/framework/local_rendezvous.cc:404] Local rendezvous is aborting with status: OUT_OF_RANGE: End of sequence\n"
     ]
    },
    {
     "name": "stdout",
     "output_type": "stream",
     "text": [
      "Training acc over epoch: 0.5337\n",
      "Validation acc: 0.5512\n",
      "\n",
      "Start of epoch 6\n"
     ]
    },
    {
     "name": "stderr",
     "output_type": "stream",
     "text": [
      " 29%|██▊       | 224/784 [00:04<00:11, 47.70it/s]\n"
     ]
    },
    {
     "data": {
      "text/html": [
       "<style>\n",
       "    table.wandb td:nth-child(1) { padding: 0 10px; text-align: left ; width: auto;} td:nth-child(2) {text-align: left ; width: 100%}\n",
       "    .wandb-row { display: flex; flex-direction: row; flex-wrap: wrap; justify-content: flex-start; width: 100% }\n",
       "    .wandb-col { display: flex; flex-direction: column; flex-basis: 100%; flex: 1; padding: 10px; }\n",
       "    </style>\n",
       "<div class=\"wandb-row\"><div class=\"wandb-col\"><h3>Run history:</h3><br/><table class=\"wandb\"><tr><td>acc</td><td>▁█▄▇▄█</td></tr><tr><td>epochs</td><td>▁▂▄▅▇█</td></tr><tr><td>loss</td><td>█▂▁▁▁▁</td></tr><tr><td>val_acc</td><td>▄▂▁█▂▇</td></tr><tr><td>val_loss</td><td>█▂▂▁▃▁</td></tr></table><br/></div><div class=\"wandb-col\"><h3>Run summary:</h3><br/><table class=\"wandb\"><tr><td>acc</td><td>0.53372</td></tr><tr><td>epochs</td><td>5</td></tr><tr><td>loss</td><td>3.20275</td></tr><tr><td>val_acc</td><td>0.55125</td></tr><tr><td>val_loss</td><td>1.34541</td></tr></table><br/></div></div>"
      ],
      "text/plain": [
       "<IPython.core.display.HTML object>"
      ]
     },
     "metadata": {},
     "output_type": "display_data"
    },
    {
     "data": {
      "text/html": [
       " View run <strong style=\"color:#cdcd00\">stellar-sweep-2</strong> at: <a href='https://wandb.ai/lokrau/Credit_Card/runs/t5tzfiwt' target=\"_blank\">https://wandb.ai/lokrau/Credit_Card/runs/t5tzfiwt</a><br/> View project at: <a href='https://wandb.ai/lokrau/Credit_Card' target=\"_blank\">https://wandb.ai/lokrau/Credit_Card</a><br/>Synced 6 W&B file(s), 0 media file(s), 0 artifact file(s) and 0 other file(s)"
      ],
      "text/plain": [
       "<IPython.core.display.HTML object>"
      ]
     },
     "metadata": {},
     "output_type": "display_data"
    },
    {
     "data": {
      "text/html": [
       "Find logs at: <code>./wandb/run-20240609_112613-t5tzfiwt/logs</code>"
      ],
      "text/plain": [
       "<IPython.core.display.HTML object>"
      ]
     },
     "metadata": {},
     "output_type": "display_data"
    },
    {
     "name": "stderr",
     "output_type": "stream",
     "text": [
      "\u001b[34m\u001b[1mwandb\u001b[0m: Agent Starting Run: 9utv5qvg with config:\n",
      "\u001b[34m\u001b[1mwandb\u001b[0m: \tbatch_size: 128\n",
      "Failed to detect the name of this notebook, you can set it manually with the WANDB_NOTEBOOK_NAME environment variable to enable code saving.\n"
     ]
    },
    {
     "data": {
      "text/html": [
       "Tracking run with wandb version 0.17.1"
      ],
      "text/plain": [
       "<IPython.core.display.HTML object>"
      ]
     },
     "metadata": {},
     "output_type": "display_data"
    },
    {
     "data": {
      "text/html": [
       "Run data is saved locally in <code>/Users/lorenzkrause/Uni/Semester 6/ML_Project_Credot_Card_new/ml_project_credit_card/code/wandb/run-20240609_112808-9utv5qvg</code>"
      ],
      "text/plain": [
       "<IPython.core.display.HTML object>"
      ]
     },
     "metadata": {},
     "output_type": "display_data"
    },
    {
     "data": {
      "text/html": [
       "Syncing run <strong><a href='https://wandb.ai/lokrau/Credit_Card/runs/9utv5qvg' target=\"_blank\">ruby-sweep-3</a></strong> to <a href='https://wandb.ai/lokrau/Credit_Card' target=\"_blank\">Weights & Biases</a> (<a href='https://wandb.me/run' target=\"_blank\">docs</a>)<br/>Sweep page: <a href='https://wandb.ai/lokrau/Credit_Card/sweeps/lj0f8np5' target=\"_blank\">https://wandb.ai/lokrau/Credit_Card/sweeps/lj0f8np5</a>"
      ],
      "text/plain": [
       "<IPython.core.display.HTML object>"
      ]
     },
     "metadata": {},
     "output_type": "display_data"
    },
    {
     "data": {
      "text/html": [
       " View project at <a href='https://wandb.ai/lokrau/Credit_Card' target=\"_blank\">https://wandb.ai/lokrau/Credit_Card</a>"
      ],
      "text/plain": [
       "<IPython.core.display.HTML object>"
      ]
     },
     "metadata": {},
     "output_type": "display_data"
    },
    {
     "data": {
      "text/html": [
       " View sweep at <a href='https://wandb.ai/lokrau/Credit_Card/sweeps/lj0f8np5' target=\"_blank\">https://wandb.ai/lokrau/Credit_Card/sweeps/lj0f8np5</a>"
      ],
      "text/plain": [
       "<IPython.core.display.HTML object>"
      ]
     },
     "metadata": {},
     "output_type": "display_data"
    },
    {
     "data": {
      "text/html": [
       " View run at <a href='https://wandb.ai/lokrau/Credit_Card/runs/9utv5qvg' target=\"_blank\">https://wandb.ai/lokrau/Credit_Card/runs/9utv5qvg</a>"
      ],
      "text/plain": [
       "<IPython.core.display.HTML object>"
      ]
     },
     "metadata": {},
     "output_type": "display_data"
    },
    {
     "name": "stdout",
     "output_type": "stream",
     "text": [
      "\n",
      "Start of epoch 0\n"
     ]
    },
    {
     "name": "stderr",
     "output_type": "stream",
     "text": [
      "100%|█████████▉| 391/392 [00:08<00:00, 47.48it/s]2024-06-09 11:28:22.355212: W tensorflow/core/framework/local_rendezvous.cc:404] Local rendezvous is aborting with status: OUT_OF_RANGE: End of sequence\n",
      "100%|██████████| 392/392 [00:08<00:00, 47.37it/s]\n",
      "2024-06-09 11:28:22.622212: W tensorflow/core/framework/local_rendezvous.cc:404] Local rendezvous is aborting with status: OUT_OF_RANGE: End of sequence\n"
     ]
    },
    {
     "name": "stdout",
     "output_type": "stream",
     "text": [
      "Training acc over epoch: 0.5048\n",
      "Validation acc: 0.5000\n",
      "\n",
      "Start of epoch 1\n"
     ]
    },
    {
     "name": "stderr",
     "output_type": "stream",
     "text": [
      "100%|█████████▉| 391/392 [00:08<00:00, 48.17it/s]2024-06-09 11:28:30.795368: W tensorflow/core/framework/local_rendezvous.cc:404] Local rendezvous is aborting with status: OUT_OF_RANGE: End of sequence\n",
      "100%|██████████| 392/392 [00:08<00:00, 47.98it/s]\n",
      "2024-06-09 11:28:31.061428: W tensorflow/core/framework/local_rendezvous.cc:404] Local rendezvous is aborting with status: OUT_OF_RANGE: End of sequence\n"
     ]
    },
    {
     "name": "stdout",
     "output_type": "stream",
     "text": [
      "Training acc over epoch: 0.5333\n",
      "Validation acc: 0.5190\n",
      "\n",
      "Start of epoch 2\n"
     ]
    },
    {
     "name": "stderr",
     "output_type": "stream",
     "text": [
      "100%|██████████| 392/392 [00:08<00:00, 48.24it/s]2024-06-09 11:28:39.313626: W tensorflow/core/framework/local_rendezvous.cc:404] Local rendezvous is aborting with status: OUT_OF_RANGE: End of sequence\n",
      "100%|██████████| 392/392 [00:08<00:00, 47.52it/s]\n",
      "2024-06-09 11:28:39.574245: W tensorflow/core/framework/local_rendezvous.cc:404] Local rendezvous is aborting with status: OUT_OF_RANGE: End of sequence\n"
     ]
    },
    {
     "name": "stdout",
     "output_type": "stream",
     "text": [
      "Training acc over epoch: 0.4744\n",
      "Validation acc: 0.5074\n",
      "\n",
      "Start of epoch 3\n"
     ]
    },
    {
     "name": "stderr",
     "output_type": "stream",
     "text": [
      "100%|██████████| 392/392 [00:08<00:00, 48.25it/s]2024-06-09 11:28:47.789478: W tensorflow/core/framework/local_rendezvous.cc:404] Local rendezvous is aborting with status: OUT_OF_RANGE: End of sequence\n",
      "100%|██████████| 392/392 [00:08<00:00, 47.73it/s]\n",
      "2024-06-09 11:28:48.049651: W tensorflow/core/framework/local_rendezvous.cc:404] Local rendezvous is aborting with status: OUT_OF_RANGE: End of sequence\n"
     ]
    },
    {
     "name": "stdout",
     "output_type": "stream",
     "text": [
      "Training acc over epoch: 0.5043\n",
      "Validation acc: 0.5029\n",
      "\n",
      "Start of epoch 4\n"
     ]
    },
    {
     "name": "stderr",
     "output_type": "stream",
     "text": [
      "100%|█████████▉| 391/392 [00:08<00:00, 47.86it/s]2024-06-09 11:28:56.356430: W tensorflow/core/framework/local_rendezvous.cc:404] Local rendezvous is aborting with status: OUT_OF_RANGE: End of sequence\n",
      "100%|██████████| 392/392 [00:08<00:00, 47.21it/s]\n",
      "2024-06-09 11:28:56.692247: W tensorflow/core/framework/local_rendezvous.cc:404] Local rendezvous is aborting with status: OUT_OF_RANGE: End of sequence\n"
     ]
    },
    {
     "name": "stdout",
     "output_type": "stream",
     "text": [
      "Training acc over epoch: 0.5112\n",
      "Validation acc: 0.5205\n",
      "\n",
      "Start of epoch 5\n"
     ]
    },
    {
     "name": "stderr",
     "output_type": "stream",
     "text": [
      " 99%|█████████▉| 388/392 [00:08<00:00, 48.57it/s]2024-06-09 11:29:04.869461: W tensorflow/core/framework/local_rendezvous.cc:404] Local rendezvous is aborting with status: OUT_OF_RANGE: End of sequence\n",
      "100%|██████████| 392/392 [00:08<00:00, 47.96it/s]\n",
      "2024-06-09 11:29:05.131795: W tensorflow/core/framework/local_rendezvous.cc:404] Local rendezvous is aborting with status: OUT_OF_RANGE: End of sequence\n"
     ]
    },
    {
     "name": "stdout",
     "output_type": "stream",
     "text": [
      "Training acc over epoch: 0.4830\n",
      "Validation acc: 0.5113\n",
      "\n",
      "Start of epoch 6\n"
     ]
    },
    {
     "name": "stderr",
     "output_type": "stream",
     "text": [
      " 99%|█████████▉| 388/392 [00:08<00:00, 48.19it/s]2024-06-09 11:29:13.407151: W tensorflow/core/framework/local_rendezvous.cc:404] Local rendezvous is aborting with status: OUT_OF_RANGE: End of sequence\n",
      "100%|██████████| 392/392 [00:08<00:00, 47.39it/s]\n",
      "2024-06-09 11:29:13.722228: W tensorflow/core/framework/local_rendezvous.cc:404] Local rendezvous is aborting with status: OUT_OF_RANGE: End of sequence\n"
     ]
    },
    {
     "name": "stdout",
     "output_type": "stream",
     "text": [
      "Training acc over epoch: 0.5269\n",
      "Validation acc: 0.5095\n",
      "\n",
      "Start of epoch 7\n"
     ]
    },
    {
     "name": "stderr",
     "output_type": "stream",
     "text": [
      " 99%|█████████▉| 389/392 [00:08<00:00, 48.67it/s]2024-06-09 11:29:21.824931: W tensorflow/core/framework/local_rendezvous.cc:404] Local rendezvous is aborting with status: OUT_OF_RANGE: End of sequence\n",
      "100%|██████████| 392/392 [00:08<00:00, 48.40it/s]\n",
      "2024-06-09 11:29:22.092846: W tensorflow/core/framework/local_rendezvous.cc:404] Local rendezvous is aborting with status: OUT_OF_RANGE: End of sequence\n"
     ]
    },
    {
     "name": "stdout",
     "output_type": "stream",
     "text": [
      "Training acc over epoch: 0.5204\n",
      "Validation acc: 0.5017\n",
      "\n",
      "Start of epoch 8\n"
     ]
    },
    {
     "name": "stderr",
     "output_type": "stream",
     "text": [
      " 99%|█████████▉| 388/392 [00:08<00:00, 48.52it/s]2024-06-09 11:29:30.371521: W tensorflow/core/framework/local_rendezvous.cc:404] Local rendezvous is aborting with status: OUT_OF_RANGE: End of sequence\n",
      "100%|██████████| 392/392 [00:08<00:00, 47.36it/s]\n",
      "2024-06-09 11:29:30.631960: W tensorflow/core/framework/local_rendezvous.cc:404] Local rendezvous is aborting with status: OUT_OF_RANGE: End of sequence\n"
     ]
    },
    {
     "name": "stdout",
     "output_type": "stream",
     "text": [
      "Training acc over epoch: 0.5072\n",
      "Validation acc: 0.4931\n",
      "\n",
      "Start of epoch 9\n"
     ]
    },
    {
     "name": "stderr",
     "output_type": "stream",
     "text": [
      "100%|██████████| 392/392 [00:08<00:00, 48.81it/s]2024-06-09 11:29:38.796602: W tensorflow/core/framework/local_rendezvous.cc:404] Local rendezvous is aborting with status: OUT_OF_RANGE: End of sequence\n",
      "100%|██████████| 392/392 [00:08<00:00, 48.03it/s]\n",
      "2024-06-09 11:29:39.065778: W tensorflow/core/framework/local_rendezvous.cc:404] Local rendezvous is aborting with status: OUT_OF_RANGE: End of sequence\n"
     ]
    },
    {
     "name": "stdout",
     "output_type": "stream",
     "text": [
      "Training acc over epoch: 0.5326\n",
      "Validation acc: 0.5237\n"
     ]
    },
    {
     "data": {
      "text/html": [
       "<style>\n",
       "    table.wandb td:nth-child(1) { padding: 0 10px; text-align: left ; width: auto;} td:nth-child(2) {text-align: left ; width: 100%}\n",
       "    .wandb-row { display: flex; flex-direction: row; flex-wrap: wrap; justify-content: flex-start; width: 100% }\n",
       "    .wandb-col { display: flex; flex-direction: column; flex-basis: 100%; flex: 1; padding: 10px; }\n",
       "    </style>\n",
       "<div class=\"wandb-row\"><div class=\"wandb-col\"><h3>Run history:</h3><br/><table class=\"wandb\"><tr><td>acc</td><td>▅█▁▅▅▂▇▆▅█</td></tr><tr><td>epochs</td><td>▁▂▃▃▄▅▆▆▇█</td></tr><tr><td>loss</td><td>█▂▁▁▁▁▁▁▁▁</td></tr><tr><td>val_acc</td><td>▃▇▄▃▇▅▅▃▁█</td></tr><tr><td>val_loss</td><td>█▁▁▁▁▁▁▁▁▁</td></tr></table><br/></div><div class=\"wandb-col\"><h3>Run summary:</h3><br/><table class=\"wandb\"><tr><td>acc</td><td>0.53261</td></tr><tr><td>epochs</td><td>9</td></tr><tr><td>loss</td><td>1.17892</td></tr><tr><td>val_acc</td><td>0.52372</td></tr><tr><td>val_loss</td><td>1.65458</td></tr></table><br/></div></div>"
      ],
      "text/plain": [
       "<IPython.core.display.HTML object>"
      ]
     },
     "metadata": {},
     "output_type": "display_data"
    },
    {
     "data": {
      "text/html": [
       " View run <strong style=\"color:#cdcd00\">ruby-sweep-3</strong> at: <a href='https://wandb.ai/lokrau/Credit_Card/runs/9utv5qvg' target=\"_blank\">https://wandb.ai/lokrau/Credit_Card/runs/9utv5qvg</a><br/> View project at: <a href='https://wandb.ai/lokrau/Credit_Card' target=\"_blank\">https://wandb.ai/lokrau/Credit_Card</a><br/>Synced 6 W&B file(s), 0 media file(s), 0 artifact file(s) and 0 other file(s)"
      ],
      "text/plain": [
       "<IPython.core.display.HTML object>"
      ]
     },
     "metadata": {},
     "output_type": "display_data"
    },
    {
     "data": {
      "text/html": [
       "Find logs at: <code>./wandb/run-20240609_112808-9utv5qvg/logs</code>"
      ],
      "text/plain": [
       "<IPython.core.display.HTML object>"
      ]
     },
     "metadata": {},
     "output_type": "display_data"
    },
    {
     "name": "stderr",
     "output_type": "stream",
     "text": [
      "\u001b[34m\u001b[1mwandb\u001b[0m: Agent Starting Run: w2qi7fgz with config:\n",
      "\u001b[34m\u001b[1mwandb\u001b[0m: \tbatch_size: 256\n",
      "Failed to detect the name of this notebook, you can set it manually with the WANDB_NOTEBOOK_NAME environment variable to enable code saving.\n"
     ]
    },
    {
     "data": {
      "text/html": [
       "Tracking run with wandb version 0.17.1"
      ],
      "text/plain": [
       "<IPython.core.display.HTML object>"
      ]
     },
     "metadata": {},
     "output_type": "display_data"
    },
    {
     "data": {
      "text/html": [
       "Run data is saved locally in <code>/Users/lorenzkrause/Uni/Semester 6/ML_Project_Credot_Card_new/ml_project_credit_card/code/wandb/run-20240609_112946-w2qi7fgz</code>"
      ],
      "text/plain": [
       "<IPython.core.display.HTML object>"
      ]
     },
     "metadata": {},
     "output_type": "display_data"
    },
    {
     "data": {
      "text/html": [
       "Syncing run <strong><a href='https://wandb.ai/lokrau/Credit_Card/runs/w2qi7fgz' target=\"_blank\">bumbling-sweep-4</a></strong> to <a href='https://wandb.ai/lokrau/Credit_Card' target=\"_blank\">Weights & Biases</a> (<a href='https://wandb.me/run' target=\"_blank\">docs</a>)<br/>Sweep page: <a href='https://wandb.ai/lokrau/Credit_Card/sweeps/lj0f8np5' target=\"_blank\">https://wandb.ai/lokrau/Credit_Card/sweeps/lj0f8np5</a>"
      ],
      "text/plain": [
       "<IPython.core.display.HTML object>"
      ]
     },
     "metadata": {},
     "output_type": "display_data"
    },
    {
     "data": {
      "text/html": [
       " View project at <a href='https://wandb.ai/lokrau/Credit_Card' target=\"_blank\">https://wandb.ai/lokrau/Credit_Card</a>"
      ],
      "text/plain": [
       "<IPython.core.display.HTML object>"
      ]
     },
     "metadata": {},
     "output_type": "display_data"
    },
    {
     "data": {
      "text/html": [
       " View sweep at <a href='https://wandb.ai/lokrau/Credit_Card/sweeps/lj0f8np5' target=\"_blank\">https://wandb.ai/lokrau/Credit_Card/sweeps/lj0f8np5</a>"
      ],
      "text/plain": [
       "<IPython.core.display.HTML object>"
      ]
     },
     "metadata": {},
     "output_type": "display_data"
    },
    {
     "data": {
      "text/html": [
       " View run at <a href='https://wandb.ai/lokrau/Credit_Card/runs/w2qi7fgz' target=\"_blank\">https://wandb.ai/lokrau/Credit_Card/runs/w2qi7fgz</a>"
      ],
      "text/plain": [
       "<IPython.core.display.HTML object>"
      ]
     },
     "metadata": {},
     "output_type": "display_data"
    },
    {
     "name": "stdout",
     "output_type": "stream",
     "text": [
      "\n",
      "Start of epoch 0\n"
     ]
    },
    {
     "name": "stderr",
     "output_type": "stream",
     "text": [
      " 99%|█████████▉| 195/196 [00:04<00:00, 44.23it/s]2024-06-09 11:29:56.183803: W tensorflow/core/framework/local_rendezvous.cc:404] Local rendezvous is aborting with status: OUT_OF_RANGE: End of sequence\n",
      "100%|██████████| 196/196 [00:04<00:00, 44.05it/s]\n",
      "2024-06-09 11:29:56.340755: W tensorflow/core/framework/local_rendezvous.cc:404] Local rendezvous is aborting with status: OUT_OF_RANGE: End of sequence\n"
     ]
    },
    {
     "name": "stdout",
     "output_type": "stream",
     "text": [
      "Training acc over epoch: 0.4824\n",
      "Validation acc: 0.5063\n",
      "\n",
      "Start of epoch 1\n"
     ]
    },
    {
     "name": "stderr",
     "output_type": "stream",
     "text": [
      " 98%|█████████▊| 192/196 [00:04<00:00, 42.23it/s]2024-06-09 11:30:00.717659: W tensorflow/core/framework/local_rendezvous.cc:404] Local rendezvous is aborting with status: OUT_OF_RANGE: End of sequence\n",
      "100%|██████████| 196/196 [00:04<00:00, 44.81it/s]\n",
      "2024-06-09 11:30:00.879209: W tensorflow/core/framework/local_rendezvous.cc:404] Local rendezvous is aborting with status: OUT_OF_RANGE: End of sequence\n"
     ]
    },
    {
     "name": "stdout",
     "output_type": "stream",
     "text": [
      "Training acc over epoch: 0.4973\n",
      "Validation acc: 0.5000\n",
      "\n",
      "Start of epoch 2\n"
     ]
    },
    {
     "name": "stderr",
     "output_type": "stream",
     "text": [
      " 98%|█████████▊| 192/196 [00:04<00:00, 45.95it/s]2024-06-09 11:30:05.275036: W tensorflow/core/framework/local_rendezvous.cc:404] Local rendezvous is aborting with status: OUT_OF_RANGE: End of sequence\n",
      "100%|██████████| 196/196 [00:04<00:00, 44.62it/s]\n",
      "2024-06-09 11:30:05.429839: W tensorflow/core/framework/local_rendezvous.cc:404] Local rendezvous is aborting with status: OUT_OF_RANGE: End of sequence\n"
     ]
    },
    {
     "name": "stdout",
     "output_type": "stream",
     "text": [
      "Training acc over epoch: 0.5231\n",
      "Validation acc: 0.5112\n",
      "\n",
      "Start of epoch 3\n"
     ]
    },
    {
     "name": "stderr",
     "output_type": "stream",
     "text": [
      " 98%|█████████▊| 192/196 [00:04<00:00, 46.88it/s]2024-06-09 11:30:09.780869: W tensorflow/core/framework/local_rendezvous.cc:404] Local rendezvous is aborting with status: OUT_OF_RANGE: End of sequence\n",
      "100%|██████████| 196/196 [00:04<00:00, 45.08it/s]\n",
      "2024-06-09 11:30:09.934966: W tensorflow/core/framework/local_rendezvous.cc:404] Local rendezvous is aborting with status: OUT_OF_RANGE: End of sequence\n"
     ]
    },
    {
     "name": "stdout",
     "output_type": "stream",
     "text": [
      "Training acc over epoch: 0.4793\n",
      "Validation acc: 0.5000\n",
      "\n",
      "Start of epoch 4\n"
     ]
    },
    {
     "name": "stderr",
     "output_type": "stream",
     "text": [
      " 98%|█████████▊| 192/196 [00:04<00:00, 46.64it/s]2024-06-09 11:30:14.340162: W tensorflow/core/framework/local_rendezvous.cc:404] Local rendezvous is aborting with status: OUT_OF_RANGE: End of sequence\n",
      "100%|██████████| 196/196 [00:04<00:00, 44.52it/s]\n",
      "2024-06-09 11:30:14.491643: W tensorflow/core/framework/local_rendezvous.cc:404] Local rendezvous is aborting with status: OUT_OF_RANGE: End of sequence\n"
     ]
    },
    {
     "name": "stdout",
     "output_type": "stream",
     "text": [
      "Training acc over epoch: 0.4057\n",
      "Validation acc: 0.5085\n",
      "\n",
      "Start of epoch 5\n"
     ]
    },
    {
     "name": "stderr",
     "output_type": "stream",
     "text": [
      " 98%|█████████▊| 192/196 [00:04<00:00, 46.66it/s]2024-06-09 11:30:18.771840: W tensorflow/core/framework/local_rendezvous.cc:404] Local rendezvous is aborting with status: OUT_OF_RANGE: End of sequence\n",
      "100%|██████████| 196/196 [00:04<00:00, 45.82it/s]\n",
      "2024-06-09 11:30:18.924740: W tensorflow/core/framework/local_rendezvous.cc:404] Local rendezvous is aborting with status: OUT_OF_RANGE: End of sequence\n"
     ]
    },
    {
     "name": "stdout",
     "output_type": "stream",
     "text": [
      "Training acc over epoch: 0.4972\n",
      "Validation acc: 0.4886\n",
      "\n",
      "Start of epoch 6\n"
     ]
    },
    {
     "name": "stderr",
     "output_type": "stream",
     "text": [
      " 98%|█████████▊| 192/196 [00:04<00:00, 46.29it/s]2024-06-09 11:30:23.314828: W tensorflow/core/framework/local_rendezvous.cc:404] Local rendezvous is aborting with status: OUT_OF_RANGE: End of sequence\n",
      "100%|██████████| 196/196 [00:04<00:00, 44.67it/s]\n",
      "2024-06-09 11:30:23.465248: W tensorflow/core/framework/local_rendezvous.cc:404] Local rendezvous is aborting with status: OUT_OF_RANGE: End of sequence\n"
     ]
    },
    {
     "name": "stdout",
     "output_type": "stream",
     "text": [
      "Training acc over epoch: 0.4874\n",
      "Validation acc: 0.5125\n",
      "\n",
      "Start of epoch 7\n"
     ]
    },
    {
     "name": "stderr",
     "output_type": "stream",
     "text": [
      " 98%|█████████▊| 192/196 [00:04<00:00, 39.70it/s]2024-06-09 11:30:27.930860: W tensorflow/core/framework/local_rendezvous.cc:404] Local rendezvous is aborting with status: OUT_OF_RANGE: End of sequence\n",
      "100%|██████████| 196/196 [00:04<00:00, 43.91it/s]\n",
      "2024-06-09 11:30:28.084288: W tensorflow/core/framework/local_rendezvous.cc:404] Local rendezvous is aborting with status: OUT_OF_RANGE: End of sequence\n"
     ]
    },
    {
     "name": "stdout",
     "output_type": "stream",
     "text": [
      "Training acc over epoch: 0.4716\n",
      "Validation acc: 0.5166\n",
      "\n",
      "Start of epoch 8\n"
     ]
    },
    {
     "name": "stderr",
     "output_type": "stream",
     "text": [
      "100%|██████████| 196/196 [00:04<00:00, 44.21it/s]2024-06-09 11:30:32.475153: W tensorflow/core/framework/local_rendezvous.cc:404] Local rendezvous is aborting with status: OUT_OF_RANGE: End of sequence\n",
      "100%|██████████| 196/196 [00:04<00:00, 44.66it/s]\n",
      "2024-06-09 11:30:32.644788: W tensorflow/core/framework/local_rendezvous.cc:404] Local rendezvous is aborting with status: OUT_OF_RANGE: End of sequence\n"
     ]
    },
    {
     "name": "stdout",
     "output_type": "stream",
     "text": [
      "Training acc over epoch: 0.5039\n",
      "Validation acc: 0.5106\n",
      "\n",
      "Start of epoch 9\n"
     ]
    },
    {
     "name": "stderr",
     "output_type": "stream",
     "text": [
      " 98%|█████████▊| 192/196 [00:04<00:00, 46.60it/s]2024-06-09 11:30:36.956549: W tensorflow/core/framework/local_rendezvous.cc:404] Local rendezvous is aborting with status: OUT_OF_RANGE: End of sequence\n",
      "100%|██████████| 196/196 [00:04<00:00, 45.48it/s]\n",
      "2024-06-09 11:30:37.113616: W tensorflow/core/framework/local_rendezvous.cc:404] Local rendezvous is aborting with status: OUT_OF_RANGE: End of sequence\n"
     ]
    },
    {
     "name": "stdout",
     "output_type": "stream",
     "text": [
      "Training acc over epoch: 0.4615\n",
      "Validation acc: 0.5105\n"
     ]
    },
    {
     "data": {
      "text/html": [
       "<style>\n",
       "    table.wandb td:nth-child(1) { padding: 0 10px; text-align: left ; width: auto;} td:nth-child(2) {text-align: left ; width: 100%}\n",
       "    .wandb-row { display: flex; flex-direction: row; flex-wrap: wrap; justify-content: flex-start; width: 100% }\n",
       "    .wandb-col { display: flex; flex-direction: column; flex-basis: 100%; flex: 1; padding: 10px; }\n",
       "    </style>\n",
       "<div class=\"wandb-row\"><div class=\"wandb-col\"><h3>Run history:</h3><br/><table class=\"wandb\"><tr><td>acc</td><td>▆▆█▅▁▆▆▅▇▄</td></tr><tr><td>epochs</td><td>▁▂▃▃▄▅▆▆▇█</td></tr><tr><td>loss</td><td>█▄▂▂▁▁▁▁▁▁</td></tr><tr><td>val_acc</td><td>▅▄▇▄▆▁▇█▆▆</td></tr><tr><td>val_loss</td><td>▅█▂▄▁▂▁▁▁▁</td></tr></table><br/></div><div class=\"wandb-col\"><h3>Run summary:</h3><br/><table class=\"wandb\"><tr><td>acc</td><td>0.46154</td></tr><tr><td>epochs</td><td>9</td></tr><tr><td>loss</td><td>13.94468</td></tr><tr><td>val_acc</td><td>0.51051</td></tr><tr><td>val_loss</td><td>3.60085</td></tr></table><br/></div></div>"
      ],
      "text/plain": [
       "<IPython.core.display.HTML object>"
      ]
     },
     "metadata": {},
     "output_type": "display_data"
    },
    {
     "data": {
      "text/html": [
       " View run <strong style=\"color:#cdcd00\">bumbling-sweep-4</strong> at: <a href='https://wandb.ai/lokrau/Credit_Card/runs/w2qi7fgz' target=\"_blank\">https://wandb.ai/lokrau/Credit_Card/runs/w2qi7fgz</a><br/> View project at: <a href='https://wandb.ai/lokrau/Credit_Card' target=\"_blank\">https://wandb.ai/lokrau/Credit_Card</a><br/>Synced 6 W&B file(s), 0 media file(s), 0 artifact file(s) and 0 other file(s)"
      ],
      "text/plain": [
       "<IPython.core.display.HTML object>"
      ]
     },
     "metadata": {},
     "output_type": "display_data"
    },
    {
     "data": {
      "text/html": [
       "Find logs at: <code>./wandb/run-20240609_112946-w2qi7fgz/logs</code>"
      ],
      "text/plain": [
       "<IPython.core.display.HTML object>"
      ]
     },
     "metadata": {},
     "output_type": "display_data"
    },
    {
     "name": "stderr",
     "output_type": "stream",
     "text": [
      "\u001b[34m\u001b[1mwandb\u001b[0m: Sweep Agent: Waiting for job.\n",
      "\u001b[34m\u001b[1mwandb\u001b[0m: Job received.\n",
      "\u001b[34m\u001b[1mwandb\u001b[0m: Agent Starting Run: q11obdu3 with config:\n",
      "\u001b[34m\u001b[1mwandb\u001b[0m: \tbatch_size: 512\n",
      "Failed to detect the name of this notebook, you can set it manually with the WANDB_NOTEBOOK_NAME environment variable to enable code saving.\n"
     ]
    },
    {
     "data": {
      "text/html": [
       "Tracking run with wandb version 0.17.1"
      ],
      "text/plain": [
       "<IPython.core.display.HTML object>"
      ]
     },
     "metadata": {},
     "output_type": "display_data"
    },
    {
     "data": {
      "text/html": [
       "Run data is saved locally in <code>/Users/lorenzkrause/Uni/Semester 6/ML_Project_Credot_Card_new/ml_project_credit_card/code/wandb/run-20240609_113052-q11obdu3</code>"
      ],
      "text/plain": [
       "<IPython.core.display.HTML object>"
      ]
     },
     "metadata": {},
     "output_type": "display_data"
    },
    {
     "data": {
      "text/html": [
       "Syncing run <strong><a href='https://wandb.ai/lokrau/Credit_Card/runs/q11obdu3' target=\"_blank\">expert-sweep-5</a></strong> to <a href='https://wandb.ai/lokrau/Credit_Card' target=\"_blank\">Weights & Biases</a> (<a href='https://wandb.me/run' target=\"_blank\">docs</a>)<br/>Sweep page: <a href='https://wandb.ai/lokrau/Credit_Card/sweeps/lj0f8np5' target=\"_blank\">https://wandb.ai/lokrau/Credit_Card/sweeps/lj0f8np5</a>"
      ],
      "text/plain": [
       "<IPython.core.display.HTML object>"
      ]
     },
     "metadata": {},
     "output_type": "display_data"
    },
    {
     "data": {
      "text/html": [
       " View project at <a href='https://wandb.ai/lokrau/Credit_Card' target=\"_blank\">https://wandb.ai/lokrau/Credit_Card</a>"
      ],
      "text/plain": [
       "<IPython.core.display.HTML object>"
      ]
     },
     "metadata": {},
     "output_type": "display_data"
    },
    {
     "data": {
      "text/html": [
       " View sweep at <a href='https://wandb.ai/lokrau/Credit_Card/sweeps/lj0f8np5' target=\"_blank\">https://wandb.ai/lokrau/Credit_Card/sweeps/lj0f8np5</a>"
      ],
      "text/plain": [
       "<IPython.core.display.HTML object>"
      ]
     },
     "metadata": {},
     "output_type": "display_data"
    },
    {
     "data": {
      "text/html": [
       " View run at <a href='https://wandb.ai/lokrau/Credit_Card/runs/q11obdu3' target=\"_blank\">https://wandb.ai/lokrau/Credit_Card/runs/q11obdu3</a>"
      ],
      "text/plain": [
       "<IPython.core.display.HTML object>"
      ]
     },
     "metadata": {},
     "output_type": "display_data"
    },
    {
     "name": "stdout",
     "output_type": "stream",
     "text": [
      "\n",
      "Start of epoch 0\n"
     ]
    },
    {
     "name": "stderr",
     "output_type": "stream",
     "text": [
      " 98%|█████████▊| 96/98 [00:02<00:00, 43.97it/s]2024-06-09 11:30:59.512167: W tensorflow/core/framework/local_rendezvous.cc:404] Local rendezvous is aborting with status: OUT_OF_RANGE: End of sequence\n",
      "100%|██████████| 98/98 [00:02<00:00, 42.86it/s]\n",
      "2024-06-09 11:30:59.616524: W tensorflow/core/framework/local_rendezvous.cc:404] Local rendezvous is aborting with status: OUT_OF_RANGE: End of sequence\n"
     ]
    },
    {
     "name": "stdout",
     "output_type": "stream",
     "text": [
      "Training acc over epoch: 0.5118\n",
      "Validation acc: 0.5073\n",
      "\n",
      "Start of epoch 1\n"
     ]
    },
    {
     "name": "stderr",
     "output_type": "stream",
     "text": [
      " 99%|█████████▉| 97/98 [00:02<00:00, 43.26it/s]2024-06-09 11:31:01.974305: W tensorflow/core/framework/local_rendezvous.cc:404] Local rendezvous is aborting with status: OUT_OF_RANGE: End of sequence\n",
      "100%|██████████| 98/98 [00:02<00:00, 41.61it/s]\n",
      "2024-06-09 11:31:02.068016: W tensorflow/core/framework/local_rendezvous.cc:404] Local rendezvous is aborting with status: OUT_OF_RANGE: End of sequence\n"
     ]
    },
    {
     "name": "stdout",
     "output_type": "stream",
     "text": [
      "Training acc over epoch: 0.4737\n",
      "Validation acc: 0.5000\n",
      "\n",
      "Start of epoch 2\n"
     ]
    },
    {
     "name": "stderr",
     "output_type": "stream",
     "text": [
      " 99%|█████████▉| 97/98 [00:02<00:00, 44.25it/s]2024-06-09 11:31:04.364208: W tensorflow/core/framework/local_rendezvous.cc:404] Local rendezvous is aborting with status: OUT_OF_RANGE: End of sequence\n",
      "100%|██████████| 98/98 [00:02<00:00, 42.73it/s]\n",
      "2024-06-09 11:31:04.460534: W tensorflow/core/framework/local_rendezvous.cc:404] Local rendezvous is aborting with status: OUT_OF_RANGE: End of sequence\n"
     ]
    },
    {
     "name": "stdout",
     "output_type": "stream",
     "text": [
      "Training acc over epoch: 0.5039\n",
      "Validation acc: 0.4940\n",
      "\n",
      "Start of epoch 3\n"
     ]
    },
    {
     "name": "stderr",
     "output_type": "stream",
     "text": [
      " 98%|█████████▊| 96/98 [00:02<00:00, 44.76it/s]2024-06-09 11:31:06.817004: W tensorflow/core/framework/local_rendezvous.cc:404] Local rendezvous is aborting with status: OUT_OF_RANGE: End of sequence\n",
      "100%|██████████| 98/98 [00:02<00:00, 41.64it/s]\n",
      "2024-06-09 11:31:06.914904: W tensorflow/core/framework/local_rendezvous.cc:404] Local rendezvous is aborting with status: OUT_OF_RANGE: End of sequence\n"
     ]
    },
    {
     "name": "stdout",
     "output_type": "stream",
     "text": [
      "Training acc over epoch: 0.5117\n",
      "Validation acc: 0.5019\n",
      "\n",
      "Start of epoch 4\n"
     ]
    },
    {
     "name": "stderr",
     "output_type": "stream",
     "text": [
      " 99%|█████████▉| 97/98 [00:02<00:00, 41.91it/s]2024-06-09 11:31:09.269911: W tensorflow/core/framework/local_rendezvous.cc:404] Local rendezvous is aborting with status: OUT_OF_RANGE: End of sequence\n",
      "100%|██████████| 98/98 [00:02<00:00, 41.65it/s]\n",
      "2024-06-09 11:31:09.364265: W tensorflow/core/framework/local_rendezvous.cc:404] Local rendezvous is aborting with status: OUT_OF_RANGE: End of sequence\n"
     ]
    },
    {
     "name": "stdout",
     "output_type": "stream",
     "text": [
      "Training acc over epoch: 0.4909\n",
      "Validation acc: 0.5156\n",
      "\n",
      "Start of epoch 5\n"
     ]
    },
    {
     "name": "stderr",
     "output_type": "stream",
     "text": [
      " 99%|█████████▉| 97/98 [00:02<00:00, 44.83it/s]2024-06-09 11:31:11.657580: W tensorflow/core/framework/local_rendezvous.cc:404] Local rendezvous is aborting with status: OUT_OF_RANGE: End of sequence\n",
      "100%|██████████| 98/98 [00:02<00:00, 42.78it/s]\n",
      "2024-06-09 11:31:11.753679: W tensorflow/core/framework/local_rendezvous.cc:404] Local rendezvous is aborting with status: OUT_OF_RANGE: End of sequence\n"
     ]
    },
    {
     "name": "stdout",
     "output_type": "stream",
     "text": [
      "Training acc over epoch: 0.5015\n",
      "Validation acc: 0.5080\n",
      "\n",
      "Start of epoch 6\n"
     ]
    },
    {
     "name": "stderr",
     "output_type": "stream",
     "text": [
      " 96%|█████████▌| 94/98 [00:02<00:00, 40.91it/s]2024-06-09 11:31:14.221351: W tensorflow/core/framework/local_rendezvous.cc:404] Local rendezvous is aborting with status: OUT_OF_RANGE: End of sequence\n",
      "100%|██████████| 98/98 [00:02<00:00, 39.75it/s]\n",
      "2024-06-09 11:31:14.315025: W tensorflow/core/framework/local_rendezvous.cc:404] Local rendezvous is aborting with status: OUT_OF_RANGE: End of sequence\n"
     ]
    },
    {
     "name": "stdout",
     "output_type": "stream",
     "text": [
      "Training acc over epoch: 0.5811\n",
      "Validation acc: 0.5047\n",
      "\n",
      "Start of epoch 7\n"
     ]
    },
    {
     "name": "stderr",
     "output_type": "stream",
     "text": [
      " 99%|█████████▉| 97/98 [00:02<00:00, 43.53it/s]2024-06-09 11:31:16.621385: W tensorflow/core/framework/local_rendezvous.cc:404] Local rendezvous is aborting with status: OUT_OF_RANGE: End of sequence\n",
      "100%|██████████| 98/98 [00:02<00:00, 42.54it/s]\n",
      "2024-06-09 11:31:16.725214: W tensorflow/core/framework/local_rendezvous.cc:404] Local rendezvous is aborting with status: OUT_OF_RANGE: End of sequence\n"
     ]
    },
    {
     "name": "stdout",
     "output_type": "stream",
     "text": [
      "Training acc over epoch: 0.5028\n",
      "Validation acc: 0.5352\n",
      "\n",
      "Start of epoch 8\n"
     ]
    },
    {
     "name": "stderr",
     "output_type": "stream",
     "text": [
      " 99%|█████████▉| 97/98 [00:02<00:00, 42.38it/s]2024-06-09 11:31:19.064988: W tensorflow/core/framework/local_rendezvous.cc:404] Local rendezvous is aborting with status: OUT_OF_RANGE: End of sequence\n",
      "100%|██████████| 98/98 [00:02<00:00, 41.94it/s]\n",
      "2024-06-09 11:31:19.164641: W tensorflow/core/framework/local_rendezvous.cc:404] Local rendezvous is aborting with status: OUT_OF_RANGE: End of sequence\n"
     ]
    },
    {
     "name": "stdout",
     "output_type": "stream",
     "text": [
      "Training acc over epoch: 0.4574\n",
      "Validation acc: 0.5172\n",
      "\n",
      "Start of epoch 9\n"
     ]
    },
    {
     "name": "stderr",
     "output_type": "stream",
     "text": [
      " 99%|█████████▉| 97/98 [00:02<00:00, 45.04it/s]2024-06-09 11:31:21.419782: W tensorflow/core/framework/local_rendezvous.cc:404] Local rendezvous is aborting with status: OUT_OF_RANGE: End of sequence\n",
      "100%|██████████| 98/98 [00:02<00:00, 43.51it/s]\n",
      "2024-06-09 11:31:21.516175: W tensorflow/core/framework/local_rendezvous.cc:404] Local rendezvous is aborting with status: OUT_OF_RANGE: End of sequence\n"
     ]
    },
    {
     "name": "stdout",
     "output_type": "stream",
     "text": [
      "Training acc over epoch: 0.4472\n",
      "Validation acc: 0.4974\n"
     ]
    },
    {
     "data": {
      "text/html": [
       "<style>\n",
       "    table.wandb td:nth-child(1) { padding: 0 10px; text-align: left ; width: auto;} td:nth-child(2) {text-align: left ; width: 100%}\n",
       "    .wandb-row { display: flex; flex-direction: row; flex-wrap: wrap; justify-content: flex-start; width: 100% }\n",
       "    .wandb-col { display: flex; flex-direction: column; flex-basis: 100%; flex: 1; padding: 10px; }\n",
       "    </style>\n",
       "<div class=\"wandb-row\"><div class=\"wandb-col\"><h3>Run history:</h3><br/><table class=\"wandb\"><tr><td>acc</td><td>▄▂▄▄▃▄█▄▂▁</td></tr><tr><td>epochs</td><td>▁▂▃▃▄▅▆▆▇█</td></tr><tr><td>loss</td><td>█▄▅▆▂▂▂▁▁▁</td></tr><tr><td>val_acc</td><td>▃▂▁▂▅▃▃█▅▂</td></tr><tr><td>val_loss</td><td>▃█▃▆▂▃▂▁▁▂</td></tr></table><br/></div><div class=\"wandb-col\"><h3>Run summary:</h3><br/><table class=\"wandb\"><tr><td>acc</td><td>0.44721</td></tr><tr><td>epochs</td><td>9</td></tr><tr><td>loss</td><td>33.58844</td></tr><tr><td>val_acc</td><td>0.4974</td></tr><tr><td>val_loss</td><td>52.84996</td></tr></table><br/></div></div>"
      ],
      "text/plain": [
       "<IPython.core.display.HTML object>"
      ]
     },
     "metadata": {},
     "output_type": "display_data"
    },
    {
     "data": {
      "text/html": [
       " View run <strong style=\"color:#cdcd00\">expert-sweep-5</strong> at: <a href='https://wandb.ai/lokrau/Credit_Card/runs/q11obdu3' target=\"_blank\">https://wandb.ai/lokrau/Credit_Card/runs/q11obdu3</a><br/> View project at: <a href='https://wandb.ai/lokrau/Credit_Card' target=\"_blank\">https://wandb.ai/lokrau/Credit_Card</a><br/>Synced 6 W&B file(s), 0 media file(s), 0 artifact file(s) and 0 other file(s)"
      ],
      "text/plain": [
       "<IPython.core.display.HTML object>"
      ]
     },
     "metadata": {},
     "output_type": "display_data"
    },
    {
     "data": {
      "text/html": [
       "Find logs at: <code>./wandb/run-20240609_113052-q11obdu3/logs</code>"
      ],
      "text/plain": [
       "<IPython.core.display.HTML object>"
      ]
     },
     "metadata": {},
     "output_type": "display_data"
    }
   ],
   "source": [
    "wandb.agent(sweep_id, function=sweep_train, count=5)"
   ]
  },
  {
   "cell_type": "markdown",
   "metadata": {},
   "source": [
    "Nun werden die Ergebnisse dieses Sweeps geladen."
   ]
  },
  {
   "cell_type": "code",
   "execution_count": 12,
   "metadata": {},
   "outputs": [],
   "source": [
    "api = wandb.Api()\n",
    "sweep_id = 'lokrau/credit_card/sweeps/' + sweep_id\n",
    "\n",
    "sweep = api.sweep(sweep_id)\n",
    "runs = sweep.runs"
   ]
  },
  {
   "cell_type": "code",
   "execution_count": 13,
   "metadata": {},
   "outputs": [],
   "source": [
    "wandb.finish()"
   ]
  },
  {
   "cell_type": "markdown",
   "metadata": {},
   "source": [
    "Diese ergebnisse werden in einer Liste gespeichert."
   ]
  },
  {
   "cell_type": "code",
   "execution_count": 14,
   "metadata": {},
   "outputs": [],
   "source": [
    "results = []\n",
    "for run in runs:\n",
    "    run_data = {\n",
    "        'batch_size': run.config.get('batch_size'),\n",
    "        'val_accuracy': run.summary.get('val_acc'),\n",
    "        'val_loss': run.summary.get('val_loss'),\n",
    "        'accuracy': run.summary.get('acc'),\n",
    "        'loss': run.summary.get('loss'),\n",
    "    }\n",
    "    results.append(run_data)"
   ]
  },
  {
   "cell_type": "code",
   "execution_count": 15,
   "metadata": {},
   "outputs": [
    {
     "data": {
      "text/html": [
       "<div>\n",
       "<style scoped>\n",
       "    .dataframe tbody tr th:only-of-type {\n",
       "        vertical-align: middle;\n",
       "    }\n",
       "\n",
       "    .dataframe tbody tr th {\n",
       "        vertical-align: top;\n",
       "    }\n",
       "\n",
       "    .dataframe thead th {\n",
       "        text-align: right;\n",
       "    }\n",
       "</style>\n",
       "<table border=\"1\" class=\"dataframe\">\n",
       "  <thead>\n",
       "    <tr style=\"text-align: right;\">\n",
       "      <th></th>\n",
       "      <th>batch_size</th>\n",
       "      <th>val_accuracy</th>\n",
       "      <th>val_loss</th>\n",
       "      <th>accuracy</th>\n",
       "      <th>loss</th>\n",
       "    </tr>\n",
       "  </thead>\n",
       "  <tbody>\n",
       "    <tr>\n",
       "      <th>0</th>\n",
       "      <td>512</td>\n",
       "      <td>0.497396</td>\n",
       "      <td>52.849962</td>\n",
       "      <td>0.447206</td>\n",
       "      <td>33.588444</td>\n",
       "    </tr>\n",
       "    <tr>\n",
       "      <th>1</th>\n",
       "      <td>256</td>\n",
       "      <td>0.510510</td>\n",
       "      <td>3.600855</td>\n",
       "      <td>0.461535</td>\n",
       "      <td>13.944678</td>\n",
       "    </tr>\n",
       "    <tr>\n",
       "      <th>2</th>\n",
       "      <td>128</td>\n",
       "      <td>0.523717</td>\n",
       "      <td>1.654581</td>\n",
       "      <td>0.532605</td>\n",
       "      <td>1.178922</td>\n",
       "    </tr>\n",
       "    <tr>\n",
       "      <th>3</th>\n",
       "      <td>64</td>\n",
       "      <td>0.551246</td>\n",
       "      <td>1.345409</td>\n",
       "      <td>0.533721</td>\n",
       "      <td>3.202749</td>\n",
       "    </tr>\n",
       "    <tr>\n",
       "      <th>4</th>\n",
       "      <td>32</td>\n",
       "      <td>0.505301</td>\n",
       "      <td>0.853156</td>\n",
       "      <td>0.522999</td>\n",
       "      <td>0.753955</td>\n",
       "    </tr>\n",
       "  </tbody>\n",
       "</table>\n",
       "</div>"
      ],
      "text/plain": [
       "   batch_size  val_accuracy   val_loss  accuracy       loss\n",
       "0         512      0.497396  52.849962  0.447206  33.588444\n",
       "1         256      0.510510   3.600855  0.461535  13.944678\n",
       "2         128      0.523717   1.654581  0.532605   1.178922\n",
       "3          64      0.551246   1.345409  0.533721   3.202749\n",
       "4          32      0.505301   0.853156  0.522999   0.753955"
      ]
     },
     "execution_count": 15,
     "metadata": {},
     "output_type": "execute_result"
    }
   ],
   "source": [
    "results_df = pd.DataFrame(results)\n",
    "results_df"
   ]
  },
  {
   "cell_type": "markdown",
   "metadata": {},
   "source": [
    "Nun kann daraus der beste Run und damit die beste Batch Size ermittelt werden."
   ]
  },
  {
   "cell_type": "code",
   "execution_count": 16,
   "metadata": {},
   "outputs": [],
   "source": [
    "best_run = results_df.loc[results_df['val_loss'].idxmin()]\n",
    "best_batch_size = best_run['batch_size']\n",
    "best_val_loss = best_run['val_loss']"
   ]
  },
  {
   "cell_type": "code",
   "execution_count": 17,
   "metadata": {},
   "outputs": [
    {
     "name": "stdout",
     "output_type": "stream",
     "text": [
      "Best batch size: 32.0 with validation loss: 0.8531560952819529\n"
     ]
    }
   ],
   "source": [
    "print(f'Best batch size: {best_batch_size} with validation loss: {best_val_loss}')"
   ]
  }
 ],
 "metadata": {
  "kernelspec": {
   "display_name": "Python 3",
   "language": "python",
   "name": "python3"
  },
  "language_info": {
   "codemirror_mode": {
    "name": "ipython",
    "version": 3
   },
   "file_extension": ".py",
   "mimetype": "text/x-python",
   "name": "python",
   "nbconvert_exporter": "python",
   "pygments_lexer": "ipython3",
   "version": "3.11.9"
  }
 },
 "nbformat": 4,
 "nbformat_minor": 2
}
