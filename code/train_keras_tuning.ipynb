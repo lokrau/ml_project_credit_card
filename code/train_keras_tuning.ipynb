{
 "cells": [
  {
   "cell_type": "markdown",
   "metadata": {},
   "source": [
    "# Training: Neuronales Netzwerk mit dem Tuner von Keras"
   ]
  },
  {
   "cell_type": "markdown",
   "metadata": {},
   "source": [
    "In diesem Notebook wird ein neuronales Netzwerk mit dem [Tuner von Keras](https://keras.io/keras_tuner/) trainiert. Der Tuner von Keras ist ein Tool, das automatisiert die Hyperparameter eines Modells optimiert. In diesem Fall wird der Tuner verwendet, um die Batch Size als Hyperparameter zu optimieren. Dabei ist das Ziel den Validierungsfehler zu minimieren."
   ]
  },
  {
   "cell_type": "markdown",
   "metadata": {},
   "source": [
    "Zunächst werden die notwendigen Bibliotheken importiert."
   ]
  },
  {
   "cell_type": "code",
   "execution_count": 1,
   "metadata": {},
   "outputs": [],
   "source": [
    "import pandas as pd\n",
    "import numpy as np\n",
    "import ast\n",
    "import matplotlib.pyplot as plt\n",
    "import os\n",
    "import keras_tuner as kt\n",
    "import wandb\n",
    "import seaborn as sns\n",
    "\n",
    "from tensorflow.keras import layers, Model, optimizers, losses, callbacks\n",
    "from keras.optimizers import Adam\n",
    "from sklearn.model_selection import train_test_split, GridSearchCV\n",
    "from keras.callbacks import EarlyStopping\n",
    "from scikeras.wrappers import KerasClassifier\n",
    "from wandb.integration.keras import WandbMetricsLogger\n",
    "from sklearn.metrics import confusion_matrix"
   ]
  },
  {
   "cell_type": "markdown",
   "metadata": {},
   "source": [
    "Anschließend werden die Daten eingelesen und nutzbar gemacht."
   ]
  },
  {
   "cell_type": "code",
   "execution_count": 2,
   "metadata": {},
   "outputs": [],
   "source": [
    "train = pd.read_csv('../data/preprocessed/train_data.csv')\n",
    "test = pd.read_csv('../data/preprocessed/test_data.csv')\n",
    "val = pd.read_csv('../data/preprocessed/val_data.csv')"
   ]
  },
  {
   "cell_type": "code",
   "execution_count": 3,
   "metadata": {},
   "outputs": [],
   "source": [
    "X_train = train.drop(\"Is high risk\", axis=1)\n",
    "Y_train = train[\"Is high risk\"]\n",
    "\n",
    "X_test = test.drop(\"Is high risk\", axis=1)\n",
    "Y_test = test[\"Is high risk\"]\n",
    "\n",
    "X_val = val.drop(\"Is high risk\", axis=1)\n",
    "Y_val = val[\"Is high risk\"]"
   ]
  },
  {
   "cell_type": "markdown",
   "metadata": {},
   "source": [
    "Nun wird der `model_builder`definiert. Dieser wird vom Tuner verwendet, um das Modell zu erstellen. In diesem Fall wird ein einfaches neuronales Netzwerk mit vier hidden Layern und einer Output Layer erstellt. Die hidden Layer haben jeweils 64 Neuronen und die ReLU Aktivierungsfunktion. Die Output Layer hat ein Neuron und die Sigmoid Aktivierungsfunktion."
   ]
  },
  {
   "cell_type": "code",
   "execution_count": 4,
   "metadata": {},
   "outputs": [],
   "source": [
    "def model_builder(hp):\n",
    "  x = layers.Input(shape=(X_train.shape[1],))\n",
    "  h = layers.Dense(64, activation='relu')(x)\n",
    "  h = layers.Dense(64, activation='relu')(h)\n",
    "  h = layers.Dense(64, activation='relu')(h)\n",
    "  h = layers.Dense(64, activation='relu')(h)\n",
    "\n",
    "  y = layers.Dense(1, activation='sigmoid')(h)\n",
    "\n",
    "  model = Model(inputs=x, outputs=y)\n",
    "\n",
    "  # Tune the learning rate for the optimizer\n",
    "  # Choose an optimal value \n",
    "  # hp_learning_rate = hp.Choice('learning_rate', values=[0.01, 0.001, 0.0001, 0.00001, 0.000001, 0.0000001, 0.00000001])\n",
    "\n",
    "  hp_batch_size = hp.Choice('batch_size', values=[32, 64, 128, 256, 512])\n",
    "  \n",
    "  optimizer = optimizers.Adam(learning_rate=0.001, \n",
    "                            beta_1=0.9, \n",
    "                            beta_2=0.999, \n",
    "                            amsgrad=True)\n",
    "\n",
    "  model.compile(optimizer=optimizer,\n",
    "                loss=losses.BinaryCrossentropy(from_logits=False),\n",
    "                metrics=['accuracy'])\n",
    "\n",
    "  return model"
   ]
  },
  {
   "cell_type": "code",
   "execution_count": 5,
   "metadata": {},
   "outputs": [],
   "source": [
    "# Delete Folder optimization if it exists\n",
    "if os.path.exists('optimization'):\n",
    "    os.system('rm -rf optimization')"
   ]
  },
  {
   "cell_type": "markdown",
   "metadata": {},
   "source": [
    "Nun wird der Tuner erstellt."
   ]
  },
  {
   "cell_type": "code",
   "execution_count": 6,
   "metadata": {},
   "outputs": [],
   "source": [
    "tuner = kt.RandomSearch(model_builder,\n",
    "                     objective='val_accuracy',\n",
    "                     max_trials=20,\n",
    "                     executions_per_trial=1,\n",
    "                     directory='optimization',\n",
    "                     project_name='ml',\n",
    "                     overwrite=True)"
   ]
  },
  {
   "cell_type": "markdown",
   "metadata": {},
   "source": [
    "Nun wird die Funktion `run_tuning` definiert, welche den zuvor definierten Tuner nutzt, um die Batch Size zu optimieren."
   ]
  },
  {
   "cell_type": "code",
   "execution_count": 7,
   "metadata": {},
   "outputs": [],
   "source": [
    "def run_tuning(tuner, X_train, Y_train, X_val, Y_val):\n",
    "    tuner.search(X_train, Y_train, \n",
    "                 epochs=10, \n",
    "                 validation_data=(X_val, Y_val),\n",
    "                 )\n",
    "\n",
    "    # Get the optimal hyperparameters\n",
    "    best_hps = tuner.get_best_hyperparameters(num_trials=1)[0]\n",
    "    optimal_batch_size = best_hps.get('batch_size')\n",
    "\n",
    "    print(f\"\"\"\n",
    "    The hyperparameter search is complete. The optimal batch size is {optimal_batch_size}.\n",
    "    \"\"\")\n",
    "\n",
    "    return best_hps"
   ]
  },
  {
   "cell_type": "markdown",
   "metadata": {},
   "source": [
    "Nun wird ein Tuning gestartet und die Ergebnisse werden in `best_hps` gespeichert."
   ]
  },
  {
   "cell_type": "code",
   "execution_count": 8,
   "metadata": {},
   "outputs": [
    {
     "name": "stdout",
     "output_type": "stream",
     "text": [
      "Trial 5 Complete [00h 00m 10s]\n",
      "val_accuracy: 0.6044456958770752\n",
      "\n",
      "Best val_accuracy So Far: 0.6044456958770752\n",
      "Total elapsed time: 00h 00m 55s\n",
      "\n",
      "    The hyperparameter search is complete. The optimal batch size is 128.\n",
      "    \n"
     ]
    }
   ],
   "source": [
    "best_hps = run_tuning(tuner, X_train, Y_train, X_val, Y_val)"
   ]
  },
  {
   "cell_type": "markdown",
   "metadata": {},
   "source": [
    "Nun wird basierend auf den Ergebnissen ein neues Modell erstellt."
   ]
  },
  {
   "cell_type": "code",
   "execution_count": 9,
   "metadata": {},
   "outputs": [
    {
     "data": {
      "text/html": [
       "<pre style=\"white-space:pre;overflow-x:auto;line-height:normal;font-family:Menlo,'DejaVu Sans Mono',consolas,'Courier New',monospace\"><span style=\"font-weight: bold\">Model: \"functional_3\"</span>\n",
       "</pre>\n"
      ],
      "text/plain": [
       "\u001b[1mModel: \"functional_3\"\u001b[0m\n"
      ]
     },
     "metadata": {},
     "output_type": "display_data"
    },
    {
     "data": {
      "text/html": [
       "<pre style=\"white-space:pre;overflow-x:auto;line-height:normal;font-family:Menlo,'DejaVu Sans Mono',consolas,'Courier New',monospace\">┏━━━━━━━━━━━━━━━━━━━━━━━━━━━━━━━━━┳━━━━━━━━━━━━━━━━━━━━━━━━┳━━━━━━━━━━━━━━━┓\n",
       "┃<span style=\"font-weight: bold\"> Layer (type)                    </span>┃<span style=\"font-weight: bold\"> Output Shape           </span>┃<span style=\"font-weight: bold\">       Param # </span>┃\n",
       "┡━━━━━━━━━━━━━━━━━━━━━━━━━━━━━━━━━╇━━━━━━━━━━━━━━━━━━━━━━━━╇━━━━━━━━━━━━━━━┩\n",
       "│ input_layer_1 (<span style=\"color: #0087ff; text-decoration-color: #0087ff\">InputLayer</span>)      │ (<span style=\"color: #00d7ff; text-decoration-color: #00d7ff\">None</span>, <span style=\"color: #00af00; text-decoration-color: #00af00\">47</span>)             │             <span style=\"color: #00af00; text-decoration-color: #00af00\">0</span> │\n",
       "├─────────────────────────────────┼────────────────────────┼───────────────┤\n",
       "│ dense_5 (<span style=\"color: #0087ff; text-decoration-color: #0087ff\">Dense</span>)                 │ (<span style=\"color: #00d7ff; text-decoration-color: #00d7ff\">None</span>, <span style=\"color: #00af00; text-decoration-color: #00af00\">64</span>)             │         <span style=\"color: #00af00; text-decoration-color: #00af00\">3,072</span> │\n",
       "├─────────────────────────────────┼────────────────────────┼───────────────┤\n",
       "│ dense_6 (<span style=\"color: #0087ff; text-decoration-color: #0087ff\">Dense</span>)                 │ (<span style=\"color: #00d7ff; text-decoration-color: #00d7ff\">None</span>, <span style=\"color: #00af00; text-decoration-color: #00af00\">64</span>)             │         <span style=\"color: #00af00; text-decoration-color: #00af00\">4,160</span> │\n",
       "├─────────────────────────────────┼────────────────────────┼───────────────┤\n",
       "│ dense_7 (<span style=\"color: #0087ff; text-decoration-color: #0087ff\">Dense</span>)                 │ (<span style=\"color: #00d7ff; text-decoration-color: #00d7ff\">None</span>, <span style=\"color: #00af00; text-decoration-color: #00af00\">64</span>)             │         <span style=\"color: #00af00; text-decoration-color: #00af00\">4,160</span> │\n",
       "├─────────────────────────────────┼────────────────────────┼───────────────┤\n",
       "│ dense_8 (<span style=\"color: #0087ff; text-decoration-color: #0087ff\">Dense</span>)                 │ (<span style=\"color: #00d7ff; text-decoration-color: #00d7ff\">None</span>, <span style=\"color: #00af00; text-decoration-color: #00af00\">64</span>)             │         <span style=\"color: #00af00; text-decoration-color: #00af00\">4,160</span> │\n",
       "├─────────────────────────────────┼────────────────────────┼───────────────┤\n",
       "│ dense_9 (<span style=\"color: #0087ff; text-decoration-color: #0087ff\">Dense</span>)                 │ (<span style=\"color: #00d7ff; text-decoration-color: #00d7ff\">None</span>, <span style=\"color: #00af00; text-decoration-color: #00af00\">1</span>)              │            <span style=\"color: #00af00; text-decoration-color: #00af00\">65</span> │\n",
       "└─────────────────────────────────┴────────────────────────┴───────────────┘\n",
       "</pre>\n"
      ],
      "text/plain": [
       "┏━━━━━━━━━━━━━━━━━━━━━━━━━━━━━━━━━┳━━━━━━━━━━━━━━━━━━━━━━━━┳━━━━━━━━━━━━━━━┓\n",
       "┃\u001b[1m \u001b[0m\u001b[1mLayer (type)                   \u001b[0m\u001b[1m \u001b[0m┃\u001b[1m \u001b[0m\u001b[1mOutput Shape          \u001b[0m\u001b[1m \u001b[0m┃\u001b[1m \u001b[0m\u001b[1m      Param #\u001b[0m\u001b[1m \u001b[0m┃\n",
       "┡━━━━━━━━━━━━━━━━━━━━━━━━━━━━━━━━━╇━━━━━━━━━━━━━━━━━━━━━━━━╇━━━━━━━━━━━━━━━┩\n",
       "│ input_layer_1 (\u001b[38;5;33mInputLayer\u001b[0m)      │ (\u001b[38;5;45mNone\u001b[0m, \u001b[38;5;34m47\u001b[0m)             │             \u001b[38;5;34m0\u001b[0m │\n",
       "├─────────────────────────────────┼────────────────────────┼───────────────┤\n",
       "│ dense_5 (\u001b[38;5;33mDense\u001b[0m)                 │ (\u001b[38;5;45mNone\u001b[0m, \u001b[38;5;34m64\u001b[0m)             │         \u001b[38;5;34m3,072\u001b[0m │\n",
       "├─────────────────────────────────┼────────────────────────┼───────────────┤\n",
       "│ dense_6 (\u001b[38;5;33mDense\u001b[0m)                 │ (\u001b[38;5;45mNone\u001b[0m, \u001b[38;5;34m64\u001b[0m)             │         \u001b[38;5;34m4,160\u001b[0m │\n",
       "├─────────────────────────────────┼────────────────────────┼───────────────┤\n",
       "│ dense_7 (\u001b[38;5;33mDense\u001b[0m)                 │ (\u001b[38;5;45mNone\u001b[0m, \u001b[38;5;34m64\u001b[0m)             │         \u001b[38;5;34m4,160\u001b[0m │\n",
       "├─────────────────────────────────┼────────────────────────┼───────────────┤\n",
       "│ dense_8 (\u001b[38;5;33mDense\u001b[0m)                 │ (\u001b[38;5;45mNone\u001b[0m, \u001b[38;5;34m64\u001b[0m)             │         \u001b[38;5;34m4,160\u001b[0m │\n",
       "├─────────────────────────────────┼────────────────────────┼───────────────┤\n",
       "│ dense_9 (\u001b[38;5;33mDense\u001b[0m)                 │ (\u001b[38;5;45mNone\u001b[0m, \u001b[38;5;34m1\u001b[0m)              │            \u001b[38;5;34m65\u001b[0m │\n",
       "└─────────────────────────────────┴────────────────────────┴───────────────┘\n"
      ]
     },
     "metadata": {},
     "output_type": "display_data"
    },
    {
     "data": {
      "text/html": [
       "<pre style=\"white-space:pre;overflow-x:auto;line-height:normal;font-family:Menlo,'DejaVu Sans Mono',consolas,'Courier New',monospace\"><span style=\"font-weight: bold\"> Total params: </span><span style=\"color: #00af00; text-decoration-color: #00af00\">15,617</span> (61.00 KB)\n",
       "</pre>\n"
      ],
      "text/plain": [
       "\u001b[1m Total params: \u001b[0m\u001b[38;5;34m15,617\u001b[0m (61.00 KB)\n"
      ]
     },
     "metadata": {},
     "output_type": "display_data"
    },
    {
     "data": {
      "text/html": [
       "<pre style=\"white-space:pre;overflow-x:auto;line-height:normal;font-family:Menlo,'DejaVu Sans Mono',consolas,'Courier New',monospace\"><span style=\"font-weight: bold\"> Trainable params: </span><span style=\"color: #00af00; text-decoration-color: #00af00\">15,617</span> (61.00 KB)\n",
       "</pre>\n"
      ],
      "text/plain": [
       "\u001b[1m Trainable params: \u001b[0m\u001b[38;5;34m15,617\u001b[0m (61.00 KB)\n"
      ]
     },
     "metadata": {},
     "output_type": "display_data"
    },
    {
     "data": {
      "text/html": [
       "<pre style=\"white-space:pre;overflow-x:auto;line-height:normal;font-family:Menlo,'DejaVu Sans Mono',consolas,'Courier New',monospace\"><span style=\"font-weight: bold\"> Non-trainable params: </span><span style=\"color: #00af00; text-decoration-color: #00af00\">0</span> (0.00 B)\n",
       "</pre>\n"
      ],
      "text/plain": [
       "\u001b[1m Non-trainable params: \u001b[0m\u001b[38;5;34m0\u001b[0m (0.00 B)\n"
      ]
     },
     "metadata": {},
     "output_type": "display_data"
    }
   ],
   "source": [
    "model = tuner.hypermodel.build(best_hps)\n",
    "model.summary()"
   ]
  },
  {
   "cell_type": "markdown",
   "metadata": {},
   "source": [
    "Es wird Early Stopping verwendet, um das Training zu stoppen, wenn der Validierungsfehler nicht mehr sinkt."
   ]
  },
  {
   "cell_type": "code",
   "execution_count": 10,
   "metadata": {},
   "outputs": [],
   "source": [
    "early_stopping = EarlyStopping(\n",
    "    monitor='val_loss',  # Monitor validation loss\n",
    "    min_delta=0.001,     # Minimum change to qualify as an improvement\n",
    "    patience=100,         # How many epochs to wait after last time val loss improved\n",
    "    verbose=1,\n",
    "    mode='min',          # The training will stop when the quantity monitored has stopped decreasing\n",
    "    restore_best_weights=True  # Restores model weights from the epoch with the best value of the monitored quantity.\n",
    ")"
   ]
  },
  {
   "cell_type": "markdown",
   "metadata": {},
   "source": [
    "Weights and Biases wird verwendet, um das Training zu überwachen."
   ]
  },
  {
   "cell_type": "code",
   "execution_count": 11,
   "metadata": {},
   "outputs": [],
   "source": [
    "# wandb.login()"
   ]
  },
  {
   "cell_type": "markdown",
   "metadata": {},
   "source": [
    "Die Batch Size wird auf den besten Wert gesetzt."
   ]
  },
  {
   "cell_type": "code",
   "execution_count": 12,
   "metadata": {},
   "outputs": [],
   "source": [
    "batch_size = best_hps.get('batch_size')\n",
    "epochs = 1000"
   ]
  },
  {
   "cell_type": "markdown",
   "metadata": {},
   "source": [
    "Es wird ein neuer run in Weights and Biases um das Training zu überwachen."
   ]
  },
  {
   "cell_type": "code",
   "execution_count": 13,
   "metadata": {},
   "outputs": [
    {
     "name": "stderr",
     "output_type": "stream",
     "text": [
      "Failed to detect the name of this notebook, you can set it manually with the WANDB_NOTEBOOK_NAME environment variable to enable code saving.\n",
      "\u001b[34m\u001b[1mwandb\u001b[0m: Currently logged in as: \u001b[33mlokrau2002\u001b[0m (\u001b[33mlokrau\u001b[0m). Use \u001b[1m`wandb login --relogin`\u001b[0m to force relogin\n"
     ]
    },
    {
     "data": {
      "text/html": [
       "Tracking run with wandb version 0.17.1"
      ],
      "text/plain": [
       "<IPython.core.display.HTML object>"
      ]
     },
     "metadata": {},
     "output_type": "display_data"
    },
    {
     "data": {
      "text/html": [
       "Run data is saved locally in <code>/Users/lorenzkrause/Uni/Semester 6/ML_Project_Credot_Card_new/ml_project_credit_card/code/wandb/run-20240608_235826-jjvixqw1</code>"
      ],
      "text/plain": [
       "<IPython.core.display.HTML object>"
      ]
     },
     "metadata": {},
     "output_type": "display_data"
    },
    {
     "data": {
      "text/html": [
       "Syncing run <strong><a href='https://wandb.ai/lokrau/ml_assignment_keras/runs/jjvixqw1' target=\"_blank\">effortless-sun-9</a></strong> to <a href='https://wandb.ai/lokrau/ml_assignment_keras' target=\"_blank\">Weights & Biases</a> (<a href='https://wandb.me/run' target=\"_blank\">docs</a>)<br/>"
      ],
      "text/plain": [
       "<IPython.core.display.HTML object>"
      ]
     },
     "metadata": {},
     "output_type": "display_data"
    },
    {
     "data": {
      "text/html": [
       " View project at <a href='https://wandb.ai/lokrau/ml_assignment_keras' target=\"_blank\">https://wandb.ai/lokrau/ml_assignment_keras</a>"
      ],
      "text/plain": [
       "<IPython.core.display.HTML object>"
      ]
     },
     "metadata": {},
     "output_type": "display_data"
    },
    {
     "data": {
      "text/html": [
       " View run at <a href='https://wandb.ai/lokrau/ml_assignment_keras/runs/jjvixqw1' target=\"_blank\">https://wandb.ai/lokrau/ml_assignment_keras/runs/jjvixqw1</a>"
      ],
      "text/plain": [
       "<IPython.core.display.HTML object>"
      ]
     },
     "metadata": {},
     "output_type": "display_data"
    }
   ],
   "source": [
    "run = wandb.init(project='ml_assignment_keras', \n",
    "                 config={\n",
    "                     \"learning_rate\": 0.001, \n",
    "                     \"epochs\": epochs,\n",
    "                     \"batch_size\": batch_size,\n",
    "                     \"loss_function\": \"BinaryCrossentropy\",\n",
    "                     \"architecture\": \"Dense(64, relu) -> Dense(64, relu) -> Dense(64, relu) -> Dense(64, relu) -> Dense(1, sigmoid)\",\n",
    "                     \"dataset\": \"Credit Card\",\n",
    "                     \"optimizer\": \"Adam\"})"
   ]
  },
  {
   "cell_type": "markdown",
   "metadata": {},
   "source": [
    "Das Modell wird trainiert und abgespeichert und das Training wird in Weights and Biases überwacht."
   ]
  },
  {
   "cell_type": "code",
   "execution_count": 14,
   "metadata": {},
   "outputs": [
    {
     "name": "stdout",
     "output_type": "stream",
     "text": [
      "Epoch 1/1000\n",
      "\u001b[1m364/392\u001b[0m \u001b[32m━━━━━━━━━━━━━━━━━━\u001b[0m\u001b[37m━━\u001b[0m \u001b[1m0s\u001b[0m 694us/step - accuracy: 0.5094 - loss: 314.1646"
     ]
    },
    {
     "name": "stderr",
     "output_type": "stream",
     "text": [
      "\u001b[34m\u001b[1mwandb\u001b[0m: \u001b[32m\u001b[41mERROR\u001b[0m Unable to log learning rate.\n"
     ]
    },
    {
     "name": "stdout",
     "output_type": "stream",
     "text": [
      "\u001b[1m392/392\u001b[0m \u001b[32m━━━━━━━━━━━━━━━━━━━━\u001b[0m\u001b[37m\u001b[0m \u001b[1m1s\u001b[0m 975us/step - accuracy: 0.5097 - loss: 302.4255 - val_accuracy: 0.5086 - val_loss: 91.9879\n",
      "Epoch 2/1000\n",
      "\u001b[1m392/392\u001b[0m \u001b[32m━━━━━━━━━━━━━━━━━━━━\u001b[0m\u001b[37m\u001b[0m \u001b[1m0s\u001b[0m 795us/step - accuracy: 0.5119 - loss: 96.5165 - val_accuracy: 0.5098 - val_loss: 67.9767\n",
      "Epoch 3/1000\n",
      "\u001b[1m392/392\u001b[0m \u001b[32m━━━━━━━━━━━━━━━━━━━━\u001b[0m\u001b[37m\u001b[0m \u001b[1m0s\u001b[0m 736us/step - accuracy: 0.5108 - loss: 55.0284 - val_accuracy: 0.5130 - val_loss: 41.3349\n",
      "Epoch 4/1000\n",
      "\u001b[1m392/392\u001b[0m \u001b[32m━━━━━━━━━━━━━━━━━━━━\u001b[0m\u001b[37m\u001b[0m \u001b[1m0s\u001b[0m 746us/step - accuracy: 0.5149 - loss: 42.5890 - val_accuracy: 0.4957 - val_loss: 56.4348\n",
      "Epoch 5/1000\n",
      "\u001b[1m392/392\u001b[0m \u001b[32m━━━━━━━━━━━━━━━━━━━━\u001b[0m\u001b[37m\u001b[0m \u001b[1m0s\u001b[0m 747us/step - accuracy: 0.5156 - loss: 33.4554 - val_accuracy: 0.5149 - val_loss: 34.5935\n",
      "Epoch 6/1000\n",
      "\u001b[1m392/392\u001b[0m \u001b[32m━━━━━━━━━━━━━━━━━━━━\u001b[0m\u001b[37m\u001b[0m \u001b[1m0s\u001b[0m 770us/step - accuracy: 0.5233 - loss: 20.7792 - val_accuracy: 0.5010 - val_loss: 10.3697\n",
      "Epoch 7/1000\n",
      "\u001b[1m392/392\u001b[0m \u001b[32m━━━━━━━━━━━━━━━━━━━━\u001b[0m\u001b[37m\u001b[0m \u001b[1m0s\u001b[0m 749us/step - accuracy: 0.5172 - loss: 12.5782 - val_accuracy: 0.5073 - val_loss: 11.1119\n",
      "Epoch 8/1000\n",
      "\u001b[1m392/392\u001b[0m \u001b[32m━━━━━━━━━━━━━━━━━━━━\u001b[0m\u001b[37m\u001b[0m \u001b[1m0s\u001b[0m 749us/step - accuracy: 0.5264 - loss: 11.1988 - val_accuracy: 0.5077 - val_loss: 9.8698\n",
      "Epoch 9/1000\n",
      "\u001b[1m392/392\u001b[0m \u001b[32m━━━━━━━━━━━━━━━━━━━━\u001b[0m\u001b[37m\u001b[0m \u001b[1m0s\u001b[0m 735us/step - accuracy: 0.5263 - loss: 9.8750 - val_accuracy: 0.4965 - val_loss: 7.7010\n",
      "Epoch 10/1000\n",
      "\u001b[1m392/392\u001b[0m \u001b[32m━━━━━━━━━━━━━━━━━━━━\u001b[0m\u001b[37m\u001b[0m \u001b[1m0s\u001b[0m 775us/step - accuracy: 0.5276 - loss: 6.7322 - val_accuracy: 0.5215 - val_loss: 3.5804\n",
      "Epoch 11/1000\n",
      "\u001b[1m392/392\u001b[0m \u001b[32m━━━━━━━━━━━━━━━━━━━━\u001b[0m\u001b[37m\u001b[0m \u001b[1m0s\u001b[0m 766us/step - accuracy: 0.5282 - loss: 5.9581 - val_accuracy: 0.5065 - val_loss: 11.7540\n",
      "Epoch 12/1000\n",
      "\u001b[1m392/392\u001b[0m \u001b[32m━━━━━━━━━━━━━━━━━━━━\u001b[0m\u001b[37m\u001b[0m \u001b[1m0s\u001b[0m 732us/step - accuracy: 0.5305 - loss: 4.7544 - val_accuracy: 0.5050 - val_loss: 4.9840\n",
      "Epoch 13/1000\n",
      "\u001b[1m392/392\u001b[0m \u001b[32m━━━━━━━━━━━━━━━━━━━━\u001b[0m\u001b[37m\u001b[0m \u001b[1m0s\u001b[0m 749us/step - accuracy: 0.5232 - loss: 5.7700 - val_accuracy: 0.5430 - val_loss: 1.8376\n",
      "Epoch 14/1000\n",
      "\u001b[1m392/392\u001b[0m \u001b[32m━━━━━━━━━━━━━━━━━━━━\u001b[0m\u001b[37m\u001b[0m \u001b[1m0s\u001b[0m 760us/step - accuracy: 0.5338 - loss: 3.3545 - val_accuracy: 0.4967 - val_loss: 4.6708\n",
      "Epoch 15/1000\n",
      "\u001b[1m392/392\u001b[0m \u001b[32m━━━━━━━━━━━━━━━━━━━━\u001b[0m\u001b[37m\u001b[0m \u001b[1m0s\u001b[0m 730us/step - accuracy: 0.5312 - loss: 3.7343 - val_accuracy: 0.5406 - val_loss: 3.1747\n",
      "Epoch 16/1000\n",
      "\u001b[1m392/392\u001b[0m \u001b[32m━━━━━━━━━━━━━━━━━━━━\u001b[0m\u001b[37m\u001b[0m \u001b[1m0s\u001b[0m 730us/step - accuracy: 0.5390 - loss: 3.0720 - val_accuracy: 0.5205 - val_loss: 2.0305\n",
      "Epoch 17/1000\n",
      "\u001b[1m392/392\u001b[0m \u001b[32m━━━━━━━━━━━━━━━━━━━━\u001b[0m\u001b[37m\u001b[0m \u001b[1m0s\u001b[0m 782us/step - accuracy: 0.5334 - loss: 3.1918 - val_accuracy: 0.5711 - val_loss: 3.0810\n",
      "Epoch 18/1000\n",
      "\u001b[1m392/392\u001b[0m \u001b[32m━━━━━━━━━━━━━━━━━━━━\u001b[0m\u001b[37m\u001b[0m \u001b[1m0s\u001b[0m 729us/step - accuracy: 0.5578 - loss: 1.9275 - val_accuracy: 0.5682 - val_loss: 2.1982\n",
      "Epoch 19/1000\n",
      "\u001b[1m392/392\u001b[0m \u001b[32m━━━━━━━━━━━━━━━━━━━━\u001b[0m\u001b[37m\u001b[0m \u001b[1m0s\u001b[0m 734us/step - accuracy: 0.5476 - loss: 2.1819 - val_accuracy: 0.5238 - val_loss: 1.8582\n",
      "Epoch 20/1000\n",
      "\u001b[1m392/392\u001b[0m \u001b[32m━━━━━━━━━━━━━━━━━━━━\u001b[0m\u001b[37m\u001b[0m \u001b[1m0s\u001b[0m 735us/step - accuracy: 0.5556 - loss: 1.7490 - val_accuracy: 0.5168 - val_loss: 2.7911\n",
      "Epoch 21/1000\n",
      "\u001b[1m392/392\u001b[0m \u001b[32m━━━━━━━━━━━━━━━━━━━━\u001b[0m\u001b[37m\u001b[0m \u001b[1m0s\u001b[0m 775us/step - accuracy: 0.5501 - loss: 2.3609 - val_accuracy: 0.5637 - val_loss: 1.4075\n",
      "Epoch 22/1000\n",
      "\u001b[1m392/392\u001b[0m \u001b[32m━━━━━━━━━━━━━━━━━━━━\u001b[0m\u001b[37m\u001b[0m \u001b[1m0s\u001b[0m 746us/step - accuracy: 0.5750 - loss: 1.4686 - val_accuracy: 0.5020 - val_loss: 5.8915\n",
      "Epoch 23/1000\n",
      "\u001b[1m392/392\u001b[0m \u001b[32m━━━━━━━━━━━━━━━━━━━━\u001b[0m\u001b[37m\u001b[0m \u001b[1m0s\u001b[0m 791us/step - accuracy: 0.5548 - loss: 1.8092 - val_accuracy: 0.5179 - val_loss: 4.0901\n",
      "Epoch 24/1000\n",
      "\u001b[1m392/392\u001b[0m \u001b[32m━━━━━━━━━━━━━━━━━━━━\u001b[0m\u001b[37m\u001b[0m \u001b[1m0s\u001b[0m 752us/step - accuracy: 0.5674 - loss: 1.7532 - val_accuracy: 0.5028 - val_loss: 2.4322\n",
      "Epoch 25/1000\n",
      "\u001b[1m392/392\u001b[0m \u001b[32m━━━━━━━━━━━━━━━━━━━━\u001b[0m\u001b[37m\u001b[0m \u001b[1m0s\u001b[0m 892us/step - accuracy: 0.5750 - loss: 1.4160 - val_accuracy: 0.5292 - val_loss: 1.4176\n",
      "Epoch 26/1000\n",
      "\u001b[1m392/392\u001b[0m \u001b[32m━━━━━━━━━━━━━━━━━━━━\u001b[0m\u001b[37m\u001b[0m \u001b[1m0s\u001b[0m 743us/step - accuracy: 0.5851 - loss: 1.1644 - val_accuracy: 0.5173 - val_loss: 1.9957\n",
      "Epoch 27/1000\n",
      "\u001b[1m392/392\u001b[0m \u001b[32m━━━━━━━━━━━━━━━━━━━━\u001b[0m\u001b[37m\u001b[0m \u001b[1m0s\u001b[0m 747us/step - accuracy: 0.5751 - loss: 1.4269 - val_accuracy: 0.5138 - val_loss: 1.7107\n",
      "Epoch 28/1000\n",
      "\u001b[1m392/392\u001b[0m \u001b[32m━━━━━━━━━━━━━━━━━━━━\u001b[0m\u001b[37m\u001b[0m \u001b[1m0s\u001b[0m 759us/step - accuracy: 0.5810 - loss: 1.3881 - val_accuracy: 0.5747 - val_loss: 1.9941\n",
      "Epoch 29/1000\n",
      "\u001b[1m392/392\u001b[0m \u001b[32m━━━━━━━━━━━━━━━━━━━━\u001b[0m\u001b[37m\u001b[0m \u001b[1m0s\u001b[0m 797us/step - accuracy: 0.5959 - loss: 1.2387 - val_accuracy: 0.5185 - val_loss: 1.6865\n",
      "Epoch 30/1000\n",
      "\u001b[1m392/392\u001b[0m \u001b[32m━━━━━━━━━━━━━━━━━━━━\u001b[0m\u001b[37m\u001b[0m \u001b[1m0s\u001b[0m 728us/step - accuracy: 0.5959 - loss: 1.2007 - val_accuracy: 0.5877 - val_loss: 1.0636\n",
      "Epoch 31/1000\n",
      "\u001b[1m392/392\u001b[0m \u001b[32m━━━━━━━━━━━━━━━━━━━━\u001b[0m\u001b[37m\u001b[0m \u001b[1m0s\u001b[0m 733us/step - accuracy: 0.6124 - loss: 1.3535 - val_accuracy: 0.5620 - val_loss: 1.0640\n",
      "Epoch 32/1000\n",
      "\u001b[1m392/392\u001b[0m \u001b[32m━━━━━━━━━━━━━━━━━━━━\u001b[0m\u001b[37m\u001b[0m \u001b[1m0s\u001b[0m 733us/step - accuracy: 0.6008 - loss: 1.0355 - val_accuracy: 0.5466 - val_loss: 1.2494\n",
      "Epoch 33/1000\n",
      "\u001b[1m392/392\u001b[0m \u001b[32m━━━━━━━━━━━━━━━━━━━━\u001b[0m\u001b[37m\u001b[0m \u001b[1m0s\u001b[0m 735us/step - accuracy: 0.5976 - loss: 1.0283 - val_accuracy: 0.5908 - val_loss: 1.0977\n",
      "Epoch 34/1000\n",
      "\u001b[1m392/392\u001b[0m \u001b[32m━━━━━━━━━━━━━━━━━━━━\u001b[0m\u001b[37m\u001b[0m \u001b[1m0s\u001b[0m 733us/step - accuracy: 0.6159 - loss: 0.9968 - val_accuracy: 0.5392 - val_loss: 1.4328\n",
      "Epoch 35/1000\n",
      "\u001b[1m392/392\u001b[0m \u001b[32m━━━━━━━━━━━━━━━━━━━━\u001b[0m\u001b[37m\u001b[0m \u001b[1m0s\u001b[0m 785us/step - accuracy: 0.6348 - loss: 1.0048 - val_accuracy: 0.5592 - val_loss: 1.2404\n",
      "Epoch 36/1000\n",
      "\u001b[1m392/392\u001b[0m \u001b[32m━━━━━━━━━━━━━━━━━━━━\u001b[0m\u001b[37m\u001b[0m \u001b[1m0s\u001b[0m 744us/step - accuracy: 0.6272 - loss: 0.8867 - val_accuracy: 0.5944 - val_loss: 1.2073\n",
      "Epoch 37/1000\n",
      "\u001b[1m392/392\u001b[0m \u001b[32m━━━━━━━━━━━━━━━━━━━━\u001b[0m\u001b[37m\u001b[0m \u001b[1m0s\u001b[0m 745us/step - accuracy: 0.6060 - loss: 1.1040 - val_accuracy: 0.5776 - val_loss: 1.8307\n",
      "Epoch 38/1000\n",
      "\u001b[1m392/392\u001b[0m \u001b[32m━━━━━━━━━━━━━━━━━━━━\u001b[0m\u001b[37m\u001b[0m \u001b[1m0s\u001b[0m 730us/step - accuracy: 0.6161 - loss: 0.9412 - val_accuracy: 0.5519 - val_loss: 1.2770\n",
      "Epoch 39/1000\n",
      "\u001b[1m392/392\u001b[0m \u001b[32m━━━━━━━━━━━━━━━━━━━━\u001b[0m\u001b[37m\u001b[0m \u001b[1m0s\u001b[0m 764us/step - accuracy: 0.6385 - loss: 0.8782 - val_accuracy: 0.5947 - val_loss: 1.0300\n",
      "Epoch 40/1000\n",
      "\u001b[1m392/392\u001b[0m \u001b[32m━━━━━━━━━━━━━━━━━━━━\u001b[0m\u001b[37m\u001b[0m \u001b[1m0s\u001b[0m 731us/step - accuracy: 0.6264 - loss: 0.8822 - val_accuracy: 0.6180 - val_loss: 1.0778\n",
      "Epoch 41/1000\n",
      "\u001b[1m392/392\u001b[0m \u001b[32m━━━━━━━━━━━━━━━━━━━━\u001b[0m\u001b[37m\u001b[0m \u001b[1m0s\u001b[0m 779us/step - accuracy: 0.6301 - loss: 0.8158 - val_accuracy: 0.6155 - val_loss: 1.2720\n",
      "Epoch 42/1000\n",
      "\u001b[1m392/392\u001b[0m \u001b[32m━━━━━━━━━━━━━━━━━━━━\u001b[0m\u001b[37m\u001b[0m \u001b[1m0s\u001b[0m 737us/step - accuracy: 0.6300 - loss: 0.9707 - val_accuracy: 0.6144 - val_loss: 1.2513\n",
      "Epoch 43/1000\n",
      "\u001b[1m392/392\u001b[0m \u001b[32m━━━━━━━━━━━━━━━━━━━━\u001b[0m\u001b[37m\u001b[0m \u001b[1m0s\u001b[0m 728us/step - accuracy: 0.6416 - loss: 0.9943 - val_accuracy: 0.6367 - val_loss: 1.1022\n",
      "Epoch 44/1000\n",
      "\u001b[1m392/392\u001b[0m \u001b[32m━━━━━━━━━━━━━━━━━━━━\u001b[0m\u001b[37m\u001b[0m \u001b[1m0s\u001b[0m 765us/step - accuracy: 0.6332 - loss: 0.8128 - val_accuracy: 0.6254 - val_loss: 1.1804\n",
      "Epoch 45/1000\n",
      "\u001b[1m392/392\u001b[0m \u001b[32m━━━━━━━━━━━━━━━━━━━━\u001b[0m\u001b[37m\u001b[0m \u001b[1m0s\u001b[0m 730us/step - accuracy: 0.6472 - loss: 0.8065 - val_accuracy: 0.5613 - val_loss: 1.5168\n",
      "Epoch 46/1000\n",
      "\u001b[1m392/392\u001b[0m \u001b[32m━━━━━━━━━━━━━━━━━━━━\u001b[0m\u001b[37m\u001b[0m \u001b[1m0s\u001b[0m 791us/step - accuracy: 0.6275 - loss: 0.8928 - val_accuracy: 0.5711 - val_loss: 1.5276\n",
      "Epoch 47/1000\n",
      "\u001b[1m392/392\u001b[0m \u001b[32m━━━━━━━━━━━━━━━━━━━━\u001b[0m\u001b[37m\u001b[0m \u001b[1m0s\u001b[0m 751us/step - accuracy: 0.6390 - loss: 0.8382 - val_accuracy: 0.5823 - val_loss: 1.1860\n",
      "Epoch 48/1000\n",
      "\u001b[1m392/392\u001b[0m \u001b[32m━━━━━━━━━━━━━━━━━━━━\u001b[0m\u001b[37m\u001b[0m \u001b[1m0s\u001b[0m 915us/step - accuracy: 0.6630 - loss: 0.8402 - val_accuracy: 0.5618 - val_loss: 1.0459\n",
      "Epoch 49/1000\n",
      "\u001b[1m392/392\u001b[0m \u001b[32m━━━━━━━━━━━━━━━━━━━━\u001b[0m\u001b[37m\u001b[0m \u001b[1m0s\u001b[0m 717us/step - accuracy: 0.6609 - loss: 0.7896 - val_accuracy: 0.5937 - val_loss: 1.0678\n",
      "Epoch 50/1000\n",
      "\u001b[1m392/392\u001b[0m \u001b[32m━━━━━━━━━━━━━━━━━━━━\u001b[0m\u001b[37m\u001b[0m \u001b[1m0s\u001b[0m 749us/step - accuracy: 0.6490 - loss: 0.8201 - val_accuracy: 0.5565 - val_loss: 1.2996\n",
      "Epoch 51/1000\n",
      "\u001b[1m392/392\u001b[0m \u001b[32m━━━━━━━━━━━━━━━━━━━━\u001b[0m\u001b[37m\u001b[0m \u001b[1m0s\u001b[0m 769us/step - accuracy: 0.6698 - loss: 0.7532 - val_accuracy: 0.5881 - val_loss: 1.0989\n",
      "Epoch 52/1000\n",
      "\u001b[1m392/392\u001b[0m \u001b[32m━━━━━━━━━━━━━━━━━━━━\u001b[0m\u001b[37m\u001b[0m \u001b[1m0s\u001b[0m 845us/step - accuracy: 0.6625 - loss: 0.7559 - val_accuracy: 0.6225 - val_loss: 0.9227\n",
      "Epoch 53/1000\n",
      "\u001b[1m392/392\u001b[0m \u001b[32m━━━━━━━━━━━━━━━━━━━━\u001b[0m\u001b[37m\u001b[0m \u001b[1m0s\u001b[0m 791us/step - accuracy: 0.6469 - loss: 0.8046 - val_accuracy: 0.5625 - val_loss: 1.0703\n",
      "Epoch 54/1000\n",
      "\u001b[1m392/392\u001b[0m \u001b[32m━━━━━━━━━━━━━━━━━━━━\u001b[0m\u001b[37m\u001b[0m \u001b[1m0s\u001b[0m 740us/step - accuracy: 0.6507 - loss: 0.7946 - val_accuracy: 0.5702 - val_loss: 1.1568\n",
      "Epoch 55/1000\n",
      "\u001b[1m392/392\u001b[0m \u001b[32m━━━━━━━━━━━━━━━━━━━━\u001b[0m\u001b[37m\u001b[0m \u001b[1m0s\u001b[0m 742us/step - accuracy: 0.6641 - loss: 0.7689 - val_accuracy: 0.6416 - val_loss: 0.9007\n",
      "Epoch 56/1000\n",
      "\u001b[1m392/392\u001b[0m \u001b[32m━━━━━━━━━━━━━━━━━━━━\u001b[0m\u001b[37m\u001b[0m \u001b[1m0s\u001b[0m 728us/step - accuracy: 0.6839 - loss: 0.7151 - val_accuracy: 0.6231 - val_loss: 0.8994\n",
      "Epoch 57/1000\n",
      "\u001b[1m392/392\u001b[0m \u001b[32m━━━━━━━━━━━━━━━━━━━━\u001b[0m\u001b[37m\u001b[0m \u001b[1m0s\u001b[0m 783us/step - accuracy: 0.6426 - loss: 0.8939 - val_accuracy: 0.5938 - val_loss: 0.9773\n",
      "Epoch 58/1000\n",
      "\u001b[1m392/392\u001b[0m \u001b[32m━━━━━━━━━━━━━━━━━━━━\u001b[0m\u001b[37m\u001b[0m \u001b[1m0s\u001b[0m 743us/step - accuracy: 0.6606 - loss: 0.7593 - val_accuracy: 0.5601 - val_loss: 1.1584\n",
      "Epoch 59/1000\n",
      "\u001b[1m392/392\u001b[0m \u001b[32m━━━━━━━━━━━━━━━━━━━━\u001b[0m\u001b[37m\u001b[0m \u001b[1m0s\u001b[0m 755us/step - accuracy: 0.6717 - loss: 0.7251 - val_accuracy: 0.6530 - val_loss: 0.9390\n",
      "Epoch 60/1000\n",
      "\u001b[1m392/392\u001b[0m \u001b[32m━━━━━━━━━━━━━━━━━━━━\u001b[0m\u001b[37m\u001b[0m \u001b[1m0s\u001b[0m 760us/step - accuracy: 0.6802 - loss: 0.7557 - val_accuracy: 0.5809 - val_loss: 1.0273\n",
      "Epoch 61/1000\n",
      "\u001b[1m392/392\u001b[0m \u001b[32m━━━━━━━━━━━━━━━━━━━━\u001b[0m\u001b[37m\u001b[0m \u001b[1m0s\u001b[0m 730us/step - accuracy: 0.6778 - loss: 0.7461 - val_accuracy: 0.6536 - val_loss: 1.0845\n",
      "Epoch 62/1000\n",
      "\u001b[1m392/392\u001b[0m \u001b[32m━━━━━━━━━━━━━━━━━━━━\u001b[0m\u001b[37m\u001b[0m \u001b[1m0s\u001b[0m 716us/step - accuracy: 0.6747 - loss: 0.7032 - val_accuracy: 0.5711 - val_loss: 1.0507\n",
      "Epoch 63/1000\n",
      "\u001b[1m392/392\u001b[0m \u001b[32m━━━━━━━━━━━━━━━━━━━━\u001b[0m\u001b[37m\u001b[0m \u001b[1m0s\u001b[0m 818us/step - accuracy: 0.6874 - loss: 0.6743 - val_accuracy: 0.6271 - val_loss: 1.1410\n",
      "Epoch 64/1000\n",
      "\u001b[1m392/392\u001b[0m \u001b[32m━━━━━━━━━━━━━━━━━━━━\u001b[0m\u001b[37m\u001b[0m \u001b[1m0s\u001b[0m 766us/step - accuracy: 0.6925 - loss: 0.6943 - val_accuracy: 0.6574 - val_loss: 0.9055\n",
      "Epoch 65/1000\n",
      "\u001b[1m392/392\u001b[0m \u001b[32m━━━━━━━━━━━━━━━━━━━━\u001b[0m\u001b[37m\u001b[0m \u001b[1m0s\u001b[0m 734us/step - accuracy: 0.6824 - loss: 0.7027 - val_accuracy: 0.5287 - val_loss: 1.0848\n",
      "Epoch 66/1000\n",
      "\u001b[1m392/392\u001b[0m \u001b[32m━━━━━━━━━━━━━━━━━━━━\u001b[0m\u001b[37m\u001b[0m \u001b[1m0s\u001b[0m 900us/step - accuracy: 0.6586 - loss: 0.8174 - val_accuracy: 0.6272 - val_loss: 1.2112\n",
      "Epoch 67/1000\n",
      "\u001b[1m392/392\u001b[0m \u001b[32m━━━━━━━━━━━━━━━━━━━━\u001b[0m\u001b[37m\u001b[0m \u001b[1m0s\u001b[0m 745us/step - accuracy: 0.6912 - loss: 0.7578 - val_accuracy: 0.6259 - val_loss: 1.0074\n",
      "Epoch 68/1000\n",
      "\u001b[1m392/392\u001b[0m \u001b[32m━━━━━━━━━━━━━━━━━━━━\u001b[0m\u001b[37m\u001b[0m \u001b[1m0s\u001b[0m 750us/step - accuracy: 0.6731 - loss: 0.7513 - val_accuracy: 0.6571 - val_loss: 0.8427\n",
      "Epoch 69/1000\n",
      "\u001b[1m392/392\u001b[0m \u001b[32m━━━━━━━━━━━━━━━━━━━━\u001b[0m\u001b[37m\u001b[0m \u001b[1m0s\u001b[0m 791us/step - accuracy: 0.6935 - loss: 0.6634 - val_accuracy: 0.6006 - val_loss: 0.9706\n",
      "Epoch 70/1000\n",
      "\u001b[1m392/392\u001b[0m \u001b[32m━━━━━━━━━━━━━━━━━━━━\u001b[0m\u001b[37m\u001b[0m \u001b[1m0s\u001b[0m 722us/step - accuracy: 0.6611 - loss: 0.7844 - val_accuracy: 0.5588 - val_loss: 1.1988\n",
      "Epoch 71/1000\n",
      "\u001b[1m392/392\u001b[0m \u001b[32m━━━━━━━━━━━━━━━━━━━━\u001b[0m\u001b[37m\u001b[0m \u001b[1m0s\u001b[0m 743us/step - accuracy: 0.6835 - loss: 0.7403 - val_accuracy: 0.5741 - val_loss: 1.0038\n",
      "Epoch 72/1000\n",
      "\u001b[1m392/392\u001b[0m \u001b[32m━━━━━━━━━━━━━━━━━━━━\u001b[0m\u001b[37m\u001b[0m \u001b[1m0s\u001b[0m 745us/step - accuracy: 0.6919 - loss: 0.6739 - val_accuracy: 0.6530 - val_loss: 0.8050\n",
      "Epoch 73/1000\n",
      "\u001b[1m392/392\u001b[0m \u001b[32m━━━━━━━━━━━━━━━━━━━━\u001b[0m\u001b[37m\u001b[0m \u001b[1m0s\u001b[0m 728us/step - accuracy: 0.6852 - loss: 0.7149 - val_accuracy: 0.6191 - val_loss: 0.8882\n",
      "Epoch 74/1000\n",
      "\u001b[1m392/392\u001b[0m \u001b[32m━━━━━━━━━━━━━━━━━━━━\u001b[0m\u001b[37m\u001b[0m \u001b[1m0s\u001b[0m 768us/step - accuracy: 0.6884 - loss: 0.7128 - val_accuracy: 0.5839 - val_loss: 1.1400\n",
      "Epoch 75/1000\n",
      "\u001b[1m392/392\u001b[0m \u001b[32m━━━━━━━━━━━━━━━━━━━━\u001b[0m\u001b[37m\u001b[0m \u001b[1m0s\u001b[0m 768us/step - accuracy: 0.6947 - loss: 0.6957 - val_accuracy: 0.6055 - val_loss: 0.9458\n",
      "Epoch 76/1000\n",
      "\u001b[1m392/392\u001b[0m \u001b[32m━━━━━━━━━━━━━━━━━━━━\u001b[0m\u001b[37m\u001b[0m \u001b[1m0s\u001b[0m 729us/step - accuracy: 0.6659 - loss: 0.8011 - val_accuracy: 0.6555 - val_loss: 0.8552\n",
      "Epoch 77/1000\n",
      "\u001b[1m392/392\u001b[0m \u001b[32m━━━━━━━━━━━━━━━━━━━━\u001b[0m\u001b[37m\u001b[0m \u001b[1m0s\u001b[0m 723us/step - accuracy: 0.6886 - loss: 0.6700 - val_accuracy: 0.6591 - val_loss: 0.8139\n",
      "Epoch 78/1000\n",
      "\u001b[1m392/392\u001b[0m \u001b[32m━━━━━━━━━━━━━━━━━━━━\u001b[0m\u001b[37m\u001b[0m \u001b[1m0s\u001b[0m 711us/step - accuracy: 0.7080 - loss: 0.6157 - val_accuracy: 0.5891 - val_loss: 1.1093\n",
      "Epoch 79/1000\n",
      "\u001b[1m392/392\u001b[0m \u001b[32m━━━━━━━━━━━━━━━━━━━━\u001b[0m\u001b[37m\u001b[0m \u001b[1m0s\u001b[0m 731us/step - accuracy: 0.6977 - loss: 0.7151 - val_accuracy: 0.6623 - val_loss: 0.7986\n",
      "Epoch 80/1000\n",
      "\u001b[1m392/392\u001b[0m \u001b[32m━━━━━━━━━━━━━━━━━━━━\u001b[0m\u001b[37m\u001b[0m \u001b[1m0s\u001b[0m 726us/step - accuracy: 0.7052 - loss: 0.6591 - val_accuracy: 0.6264 - val_loss: 0.8503\n",
      "Epoch 81/1000\n",
      "\u001b[1m392/392\u001b[0m \u001b[32m━━━━━━━━━━━━━━━━━━━━\u001b[0m\u001b[37m\u001b[0m \u001b[1m0s\u001b[0m 781us/step - accuracy: 0.7138 - loss: 0.6190 - val_accuracy: 0.6326 - val_loss: 0.8509\n",
      "Epoch 82/1000\n",
      "\u001b[1m392/392\u001b[0m \u001b[32m━━━━━━━━━━━━━━━━━━━━\u001b[0m\u001b[37m\u001b[0m \u001b[1m0s\u001b[0m 766us/step - accuracy: 0.7191 - loss: 0.5876 - val_accuracy: 0.6222 - val_loss: 0.9162\n",
      "Epoch 83/1000\n",
      "\u001b[1m392/392\u001b[0m \u001b[32m━━━━━━━━━━━━━━━━━━━━\u001b[0m\u001b[37m\u001b[0m \u001b[1m0s\u001b[0m 897us/step - accuracy: 0.7175 - loss: 0.6042 - val_accuracy: 0.6792 - val_loss: 0.7650\n",
      "Epoch 84/1000\n",
      "\u001b[1m392/392\u001b[0m \u001b[32m━━━━━━━━━━━━━━━━━━━━\u001b[0m\u001b[37m\u001b[0m \u001b[1m0s\u001b[0m 730us/step - accuracy: 0.7078 - loss: 0.6465 - val_accuracy: 0.6622 - val_loss: 1.0248\n",
      "Epoch 85/1000\n",
      "\u001b[1m392/392\u001b[0m \u001b[32m━━━━━━━━━━━━━━━━━━━━\u001b[0m\u001b[37m\u001b[0m \u001b[1m0s\u001b[0m 712us/step - accuracy: 0.6956 - loss: 0.6953 - val_accuracy: 0.6786 - val_loss: 0.8395\n",
      "Epoch 86/1000\n",
      "\u001b[1m392/392\u001b[0m \u001b[32m━━━━━━━━━━━━━━━━━━━━\u001b[0m\u001b[37m\u001b[0m \u001b[1m0s\u001b[0m 732us/step - accuracy: 0.6956 - loss: 0.6710 - val_accuracy: 0.6411 - val_loss: 0.8523\n",
      "Epoch 87/1000\n",
      "\u001b[1m392/392\u001b[0m \u001b[32m━━━━━━━━━━━━━━━━━━━━\u001b[0m\u001b[37m\u001b[0m \u001b[1m0s\u001b[0m 725us/step - accuracy: 0.7264 - loss: 0.5963 - val_accuracy: 0.6753 - val_loss: 0.8389\n",
      "Epoch 88/1000\n",
      "\u001b[1m392/392\u001b[0m \u001b[32m━━━━━━━━━━━━━━━━━━━━\u001b[0m\u001b[37m\u001b[0m \u001b[1m0s\u001b[0m 786us/step - accuracy: 0.7247 - loss: 0.5877 - val_accuracy: 0.6828 - val_loss: 0.8047\n",
      "Epoch 89/1000\n",
      "\u001b[1m392/392\u001b[0m \u001b[32m━━━━━━━━━━━━━━━━━━━━\u001b[0m\u001b[37m\u001b[0m \u001b[1m0s\u001b[0m 765us/step - accuracy: 0.6986 - loss: 0.6728 - val_accuracy: 0.6920 - val_loss: 0.7665\n",
      "Epoch 90/1000\n",
      "\u001b[1m392/392\u001b[0m \u001b[32m━━━━━━━━━━━━━━━━━━━━\u001b[0m\u001b[37m\u001b[0m \u001b[1m0s\u001b[0m 741us/step - accuracy: 0.7154 - loss: 0.6205 - val_accuracy: 0.6443 - val_loss: 0.7743\n",
      "Epoch 91/1000\n",
      "\u001b[1m392/392\u001b[0m \u001b[32m━━━━━━━━━━━━━━━━━━━━\u001b[0m\u001b[37m\u001b[0m \u001b[1m0s\u001b[0m 730us/step - accuracy: 0.7196 - loss: 0.6021 - val_accuracy: 0.6478 - val_loss: 0.9022\n",
      "Epoch 92/1000\n",
      "\u001b[1m392/392\u001b[0m \u001b[32m━━━━━━━━━━━━━━━━━━━━\u001b[0m\u001b[37m\u001b[0m \u001b[1m0s\u001b[0m 715us/step - accuracy: 0.7172 - loss: 0.6326 - val_accuracy: 0.6792 - val_loss: 0.7501\n",
      "Epoch 93/1000\n",
      "\u001b[1m392/392\u001b[0m \u001b[32m━━━━━━━━━━━━━━━━━━━━\u001b[0m\u001b[37m\u001b[0m \u001b[1m0s\u001b[0m 730us/step - accuracy: 0.7298 - loss: 0.5922 - val_accuracy: 0.7111 - val_loss: 0.7691\n",
      "Epoch 94/1000\n",
      "\u001b[1m392/392\u001b[0m \u001b[32m━━━━━━━━━━━━━━━━━━━━\u001b[0m\u001b[37m\u001b[0m \u001b[1m0s\u001b[0m 777us/step - accuracy: 0.7131 - loss: 0.6016 - val_accuracy: 0.5627 - val_loss: 1.0862\n",
      "Epoch 95/1000\n",
      "\u001b[1m392/392\u001b[0m \u001b[32m━━━━━━━━━━━━━━━━━━━━\u001b[0m\u001b[37m\u001b[0m \u001b[1m0s\u001b[0m 724us/step - accuracy: 0.7119 - loss: 0.6330 - val_accuracy: 0.6712 - val_loss: 0.9148\n",
      "Epoch 96/1000\n",
      "\u001b[1m392/392\u001b[0m \u001b[32m━━━━━━━━━━━━━━━━━━━━\u001b[0m\u001b[37m\u001b[0m \u001b[1m0s\u001b[0m 758us/step - accuracy: 0.7121 - loss: 0.6820 - val_accuracy: 0.6859 - val_loss: 0.8962\n",
      "Epoch 97/1000\n",
      "\u001b[1m392/392\u001b[0m \u001b[32m━━━━━━━━━━━━━━━━━━━━\u001b[0m\u001b[37m\u001b[0m \u001b[1m0s\u001b[0m 771us/step - accuracy: 0.7359 - loss: 0.5684 - val_accuracy: 0.6279 - val_loss: 0.9282\n",
      "Epoch 98/1000\n",
      "\u001b[1m392/392\u001b[0m \u001b[32m━━━━━━━━━━━━━━━━━━━━\u001b[0m\u001b[37m\u001b[0m \u001b[1m0s\u001b[0m 881us/step - accuracy: 0.7312 - loss: 0.5774 - val_accuracy: 0.6916 - val_loss: 0.7614\n",
      "Epoch 99/1000\n",
      "\u001b[1m392/392\u001b[0m \u001b[32m━━━━━━━━━━━━━━━━━━━━\u001b[0m\u001b[37m\u001b[0m \u001b[1m0s\u001b[0m 779us/step - accuracy: 0.7208 - loss: 0.6134 - val_accuracy: 0.7012 - val_loss: 0.8192\n",
      "Epoch 100/1000\n",
      "\u001b[1m392/392\u001b[0m \u001b[32m━━━━━━━━━━━━━━━━━━━━\u001b[0m\u001b[37m\u001b[0m \u001b[1m0s\u001b[0m 733us/step - accuracy: 0.7269 - loss: 0.6241 - val_accuracy: 0.5873 - val_loss: 0.8850\n",
      "Epoch 101/1000\n",
      "\u001b[1m392/392\u001b[0m \u001b[32m━━━━━━━━━━━━━━━━━━━━\u001b[0m\u001b[37m\u001b[0m \u001b[1m0s\u001b[0m 732us/step - accuracy: 0.7223 - loss: 0.5950 - val_accuracy: 0.7012 - val_loss: 0.8437\n",
      "Epoch 102/1000\n",
      "\u001b[1m392/392\u001b[0m \u001b[32m━━━━━━━━━━━━━━━━━━━━\u001b[0m\u001b[37m\u001b[0m \u001b[1m0s\u001b[0m 724us/step - accuracy: 0.7255 - loss: 0.5805 - val_accuracy: 0.6238 - val_loss: 0.9559\n",
      "Epoch 103/1000\n",
      "\u001b[1m392/392\u001b[0m \u001b[32m━━━━━━━━━━━━━━━━━━━━\u001b[0m\u001b[37m\u001b[0m \u001b[1m0s\u001b[0m 756us/step - accuracy: 0.7296 - loss: 0.5677 - val_accuracy: 0.6718 - val_loss: 0.7654\n",
      "Epoch 104/1000\n",
      "\u001b[1m392/392\u001b[0m \u001b[32m━━━━━━━━━━━━━━━━━━━━\u001b[0m\u001b[37m\u001b[0m \u001b[1m0s\u001b[0m 816us/step - accuracy: 0.7243 - loss: 0.6436 - val_accuracy: 0.6570 - val_loss: 0.9534\n",
      "Epoch 105/1000\n",
      "\u001b[1m392/392\u001b[0m \u001b[32m━━━━━━━━━━━━━━━━━━━━\u001b[0m\u001b[37m\u001b[0m \u001b[1m0s\u001b[0m 871us/step - accuracy: 0.7365 - loss: 0.5905 - val_accuracy: 0.6950 - val_loss: 0.7904\n",
      "Epoch 106/1000\n",
      "\u001b[1m392/392\u001b[0m \u001b[32m━━━━━━━━━━━━━━━━━━━━\u001b[0m\u001b[37m\u001b[0m \u001b[1m0s\u001b[0m 908us/step - accuracy: 0.7145 - loss: 0.6320 - val_accuracy: 0.6860 - val_loss: 0.8041\n",
      "Epoch 107/1000\n",
      "\u001b[1m392/392\u001b[0m \u001b[32m━━━━━━━━━━━━━━━━━━━━\u001b[0m\u001b[37m\u001b[0m \u001b[1m0s\u001b[0m 797us/step - accuracy: 0.7343 - loss: 0.5634 - val_accuracy: 0.6988 - val_loss: 0.7740\n",
      "Epoch 108/1000\n",
      "\u001b[1m392/392\u001b[0m \u001b[32m━━━━━━━━━━━━━━━━━━━━\u001b[0m\u001b[37m\u001b[0m \u001b[1m0s\u001b[0m 807us/step - accuracy: 0.7450 - loss: 0.5435 - val_accuracy: 0.6355 - val_loss: 0.8993\n",
      "Epoch 109/1000\n",
      "\u001b[1m392/392\u001b[0m \u001b[32m━━━━━━━━━━━━━━━━━━━━\u001b[0m\u001b[37m\u001b[0m \u001b[1m0s\u001b[0m 777us/step - accuracy: 0.7243 - loss: 0.6003 - val_accuracy: 0.7181 - val_loss: 0.6972\n",
      "Epoch 110/1000\n",
      "\u001b[1m392/392\u001b[0m \u001b[32m━━━━━━━━━━━━━━━━━━━━\u001b[0m\u001b[37m\u001b[0m \u001b[1m0s\u001b[0m 851us/step - accuracy: 0.7470 - loss: 0.5485 - val_accuracy: 0.6839 - val_loss: 0.7718\n",
      "Epoch 111/1000\n",
      "\u001b[1m392/392\u001b[0m \u001b[32m━━━━━━━━━━━━━━━━━━━━\u001b[0m\u001b[37m\u001b[0m \u001b[1m0s\u001b[0m 1ms/step - accuracy: 0.7503 - loss: 0.6120 - val_accuracy: 0.7276 - val_loss: 0.7387\n",
      "Epoch 112/1000\n",
      "\u001b[1m392/392\u001b[0m \u001b[32m━━━━━━━━━━━━━━━━━━━━\u001b[0m\u001b[37m\u001b[0m \u001b[1m0s\u001b[0m 839us/step - accuracy: 0.7457 - loss: 0.5528 - val_accuracy: 0.7221 - val_loss: 0.7145\n",
      "Epoch 113/1000\n",
      "\u001b[1m392/392\u001b[0m \u001b[32m━━━━━━━━━━━━━━━━━━━━\u001b[0m\u001b[37m\u001b[0m \u001b[1m0s\u001b[0m 805us/step - accuracy: 0.7364 - loss: 0.5659 - val_accuracy: 0.6982 - val_loss: 0.8019\n",
      "Epoch 114/1000\n",
      "\u001b[1m392/392\u001b[0m \u001b[32m━━━━━━━━━━━━━━━━━━━━\u001b[0m\u001b[37m\u001b[0m \u001b[1m0s\u001b[0m 780us/step - accuracy: 0.7560 - loss: 0.5212 - val_accuracy: 0.7201 - val_loss: 0.7581\n",
      "Epoch 115/1000\n",
      "\u001b[1m392/392\u001b[0m \u001b[32m━━━━━━━━━━━━━━━━━━━━\u001b[0m\u001b[37m\u001b[0m \u001b[1m0s\u001b[0m 792us/step - accuracy: 0.7262 - loss: 0.5928 - val_accuracy: 0.6396 - val_loss: 0.8572\n",
      "Epoch 116/1000\n",
      "\u001b[1m392/392\u001b[0m \u001b[32m━━━━━━━━━━━━━━━━━━━━\u001b[0m\u001b[37m\u001b[0m \u001b[1m0s\u001b[0m 839us/step - accuracy: 0.7405 - loss: 0.5623 - val_accuracy: 0.7214 - val_loss: 0.7188\n",
      "Epoch 117/1000\n",
      "\u001b[1m392/392\u001b[0m \u001b[32m━━━━━━━━━━━━━━━━━━━━\u001b[0m\u001b[37m\u001b[0m \u001b[1m0s\u001b[0m 780us/step - accuracy: 0.7552 - loss: 0.5463 - val_accuracy: 0.7191 - val_loss: 0.7853\n",
      "Epoch 118/1000\n",
      "\u001b[1m392/392\u001b[0m \u001b[32m━━━━━━━━━━━━━━━━━━━━\u001b[0m\u001b[37m\u001b[0m \u001b[1m0s\u001b[0m 819us/step - accuracy: 0.7590 - loss: 0.5281 - val_accuracy: 0.7291 - val_loss: 0.6988\n",
      "Epoch 119/1000\n",
      "\u001b[1m392/392\u001b[0m \u001b[32m━━━━━━━━━━━━━━━━━━━━\u001b[0m\u001b[37m\u001b[0m \u001b[1m0s\u001b[0m 735us/step - accuracy: 0.7659 - loss: 0.5165 - val_accuracy: 0.6736 - val_loss: 0.7731\n",
      "Epoch 120/1000\n",
      "\u001b[1m392/392\u001b[0m \u001b[32m━━━━━━━━━━━━━━━━━━━━\u001b[0m\u001b[37m\u001b[0m \u001b[1m0s\u001b[0m 729us/step - accuracy: 0.7356 - loss: 0.5710 - val_accuracy: 0.7387 - val_loss: 0.6734\n",
      "Epoch 121/1000\n",
      "\u001b[1m392/392\u001b[0m \u001b[32m━━━━━━━━━━━━━━━━━━━━\u001b[0m\u001b[37m\u001b[0m \u001b[1m0s\u001b[0m 718us/step - accuracy: 0.7360 - loss: 0.5680 - val_accuracy: 0.6433 - val_loss: 0.8767\n",
      "Epoch 122/1000\n",
      "\u001b[1m392/392\u001b[0m \u001b[32m━━━━━━━━━━━━━━━━━━━━\u001b[0m\u001b[37m\u001b[0m \u001b[1m0s\u001b[0m 779us/step - accuracy: 0.7536 - loss: 0.5636 - val_accuracy: 0.5925 - val_loss: 0.9100\n",
      "Epoch 123/1000\n",
      "\u001b[1m392/392\u001b[0m \u001b[32m━━━━━━━━━━━━━━━━━━━━\u001b[0m\u001b[37m\u001b[0m \u001b[1m0s\u001b[0m 733us/step - accuracy: 0.7632 - loss: 0.5395 - val_accuracy: 0.7347 - val_loss: 0.7233\n",
      "Epoch 124/1000\n",
      "\u001b[1m392/392\u001b[0m \u001b[32m━━━━━━━━━━━━━━━━━━━━\u001b[0m\u001b[37m\u001b[0m \u001b[1m0s\u001b[0m 733us/step - accuracy: 0.7448 - loss: 0.5528 - val_accuracy: 0.7342 - val_loss: 0.6565\n",
      "Epoch 125/1000\n",
      "\u001b[1m392/392\u001b[0m \u001b[32m━━━━━━━━━━━━━━━━━━━━\u001b[0m\u001b[37m\u001b[0m \u001b[1m0s\u001b[0m 945us/step - accuracy: 0.7528 - loss: 0.5367 - val_accuracy: 0.7475 - val_loss: 0.8571\n",
      "Epoch 126/1000\n",
      "\u001b[1m392/392\u001b[0m \u001b[32m━━━━━━━━━━━━━━━━━━━━\u001b[0m\u001b[37m\u001b[0m \u001b[1m0s\u001b[0m 746us/step - accuracy: 0.7653 - loss: 0.5412 - val_accuracy: 0.7254 - val_loss: 0.7037\n",
      "Epoch 127/1000\n",
      "\u001b[1m392/392\u001b[0m \u001b[32m━━━━━━━━━━━━━━━━━━━━\u001b[0m\u001b[37m\u001b[0m \u001b[1m0s\u001b[0m 723us/step - accuracy: 0.7372 - loss: 0.5742 - val_accuracy: 0.7426 - val_loss: 0.6953\n",
      "Epoch 128/1000\n",
      "\u001b[1m392/392\u001b[0m \u001b[32m━━━━━━━━━━━━━━━━━━━━\u001b[0m\u001b[37m\u001b[0m \u001b[1m0s\u001b[0m 780us/step - accuracy: 0.7483 - loss: 0.5525 - val_accuracy: 0.6476 - val_loss: 0.8841\n",
      "Epoch 129/1000\n",
      "\u001b[1m392/392\u001b[0m \u001b[32m━━━━━━━━━━━━━━━━━━━━\u001b[0m\u001b[37m\u001b[0m \u001b[1m0s\u001b[0m 731us/step - accuracy: 0.7516 - loss: 0.5562 - val_accuracy: 0.7390 - val_loss: 0.6589\n",
      "Epoch 130/1000\n",
      "\u001b[1m392/392\u001b[0m \u001b[32m━━━━━━━━━━━━━━━━━━━━\u001b[0m\u001b[37m\u001b[0m \u001b[1m0s\u001b[0m 715us/step - accuracy: 0.7540 - loss: 0.5417 - val_accuracy: 0.6628 - val_loss: 0.7993\n",
      "Epoch 131/1000\n",
      "\u001b[1m392/392\u001b[0m \u001b[32m━━━━━━━━━━━━━━━━━━━━\u001b[0m\u001b[37m\u001b[0m \u001b[1m0s\u001b[0m 727us/step - accuracy: 0.7522 - loss: 0.5383 - val_accuracy: 0.7305 - val_loss: 0.7186\n",
      "Epoch 132/1000\n",
      "\u001b[1m392/392\u001b[0m \u001b[32m━━━━━━━━━━━━━━━━━━━━\u001b[0m\u001b[37m\u001b[0m \u001b[1m0s\u001b[0m 725us/step - accuracy: 0.7633 - loss: 0.5396 - val_accuracy: 0.7391 - val_loss: 0.7733\n",
      "Epoch 133/1000\n",
      "\u001b[1m392/392\u001b[0m \u001b[32m━━━━━━━━━━━━━━━━━━━━\u001b[0m\u001b[37m\u001b[0m \u001b[1m0s\u001b[0m 771us/step - accuracy: 0.7522 - loss: 0.5577 - val_accuracy: 0.7041 - val_loss: 0.8489\n",
      "Epoch 134/1000\n",
      "\u001b[1m392/392\u001b[0m \u001b[32m━━━━━━━━━━━━━━━━━━━━\u001b[0m\u001b[37m\u001b[0m \u001b[1m0s\u001b[0m 785us/step - accuracy: 0.7503 - loss: 0.5582 - val_accuracy: 0.7447 - val_loss: 0.6812\n",
      "Epoch 135/1000\n",
      "\u001b[1m392/392\u001b[0m \u001b[32m━━━━━━━━━━━━━━━━━━━━\u001b[0m\u001b[37m\u001b[0m \u001b[1m0s\u001b[0m 723us/step - accuracy: 0.7682 - loss: 0.5046 - val_accuracy: 0.7425 - val_loss: 0.7343\n",
      "Epoch 136/1000\n",
      "\u001b[1m392/392\u001b[0m \u001b[32m━━━━━━━━━━━━━━━━━━━━\u001b[0m\u001b[37m\u001b[0m \u001b[1m0s\u001b[0m 731us/step - accuracy: 0.7687 - loss: 0.5240 - val_accuracy: 0.7221 - val_loss: 0.7064\n",
      "Epoch 137/1000\n",
      "\u001b[1m392/392\u001b[0m \u001b[32m━━━━━━━━━━━━━━━━━━━━\u001b[0m\u001b[37m\u001b[0m \u001b[1m0s\u001b[0m 717us/step - accuracy: 0.7609 - loss: 0.5320 - val_accuracy: 0.7084 - val_loss: 0.8574\n",
      "Epoch 138/1000\n",
      "\u001b[1m392/392\u001b[0m \u001b[32m━━━━━━━━━━━━━━━━━━━━\u001b[0m\u001b[37m\u001b[0m \u001b[1m0s\u001b[0m 891us/step - accuracy: 0.7641 - loss: 0.5131 - val_accuracy: 0.7574 - val_loss: 0.6642\n",
      "Epoch 139/1000\n",
      "\u001b[1m392/392\u001b[0m \u001b[32m━━━━━━━━━━━━━━━━━━━━\u001b[0m\u001b[37m\u001b[0m \u001b[1m0s\u001b[0m 739us/step - accuracy: 0.7648 - loss: 0.5247 - val_accuracy: 0.7469 - val_loss: 0.6527\n",
      "Epoch 140/1000\n",
      "\u001b[1m392/392\u001b[0m \u001b[32m━━━━━━━━━━━━━━━━━━━━\u001b[0m\u001b[37m\u001b[0m \u001b[1m0s\u001b[0m 795us/step - accuracy: 0.7751 - loss: 0.4913 - val_accuracy: 0.7458 - val_loss: 0.7102\n",
      "Epoch 141/1000\n",
      "\u001b[1m392/392\u001b[0m \u001b[32m━━━━━━━━━━━━━━━━━━━━\u001b[0m\u001b[37m\u001b[0m \u001b[1m0s\u001b[0m 758us/step - accuracy: 0.7463 - loss: 0.5595 - val_accuracy: 0.6762 - val_loss: 0.9506\n",
      "Epoch 142/1000\n",
      "\u001b[1m392/392\u001b[0m \u001b[32m━━━━━━━━━━━━━━━━━━━━\u001b[0m\u001b[37m\u001b[0m \u001b[1m0s\u001b[0m 737us/step - accuracy: 0.7711 - loss: 0.5103 - val_accuracy: 0.7264 - val_loss: 0.8704\n",
      "Epoch 143/1000\n",
      "\u001b[1m392/392\u001b[0m \u001b[32m━━━━━━━━━━━━━━━━━━━━\u001b[0m\u001b[37m\u001b[0m \u001b[1m0s\u001b[0m 733us/step - accuracy: 0.7716 - loss: 0.5128 - val_accuracy: 0.7530 - val_loss: 0.7261\n",
      "Epoch 144/1000\n",
      "\u001b[1m392/392\u001b[0m \u001b[32m━━━━━━━━━━━━━━━━━━━━\u001b[0m\u001b[37m\u001b[0m \u001b[1m0s\u001b[0m 730us/step - accuracy: 0.7689 - loss: 0.5035 - val_accuracy: 0.7506 - val_loss: 0.7338\n",
      "Epoch 145/1000\n",
      "\u001b[1m392/392\u001b[0m \u001b[32m━━━━━━━━━━━━━━━━━━━━\u001b[0m\u001b[37m\u001b[0m \u001b[1m0s\u001b[0m 719us/step - accuracy: 0.7746 - loss: 0.5022 - val_accuracy: 0.6819 - val_loss: 0.8644\n",
      "Epoch 146/1000\n",
      "\u001b[1m392/392\u001b[0m \u001b[32m━━━━━━━━━━━━━━━━━━━━\u001b[0m\u001b[37m\u001b[0m \u001b[1m0s\u001b[0m 720us/step - accuracy: 0.7761 - loss: 0.5074 - val_accuracy: 0.7640 - val_loss: 0.6588\n",
      "Epoch 147/1000\n",
      "\u001b[1m392/392\u001b[0m \u001b[32m━━━━━━━━━━━━━━━━━━━━\u001b[0m\u001b[37m\u001b[0m \u001b[1m0s\u001b[0m 774us/step - accuracy: 0.7782 - loss: 0.4913 - val_accuracy: 0.7426 - val_loss: 0.6800\n",
      "Epoch 148/1000\n",
      "\u001b[1m392/392\u001b[0m \u001b[32m━━━━━━━━━━━━━━━━━━━━\u001b[0m\u001b[37m\u001b[0m \u001b[1m0s\u001b[0m 786us/step - accuracy: 0.7796 - loss: 0.4914 - val_accuracy: 0.7294 - val_loss: 0.8094\n",
      "Epoch 149/1000\n",
      "\u001b[1m392/392\u001b[0m \u001b[32m━━━━━━━━━━━━━━━━━━━━\u001b[0m\u001b[37m\u001b[0m \u001b[1m0s\u001b[0m 950us/step - accuracy: 0.7660 - loss: 0.5226 - val_accuracy: 0.7560 - val_loss: 0.6920\n",
      "Epoch 150/1000\n",
      "\u001b[1m392/392\u001b[0m \u001b[32m━━━━━━━━━━━━━━━━━━━━\u001b[0m\u001b[37m\u001b[0m \u001b[1m0s\u001b[0m 769us/step - accuracy: 0.7763 - loss: 0.4892 - val_accuracy: 0.7320 - val_loss: 0.6614\n",
      "Epoch 151/1000\n",
      "\u001b[1m392/392\u001b[0m \u001b[32m━━━━━━━━━━━━━━━━━━━━\u001b[0m\u001b[37m\u001b[0m \u001b[1m0s\u001b[0m 751us/step - accuracy: 0.7863 - loss: 0.4645 - val_accuracy: 0.7614 - val_loss: 0.5996\n",
      "Epoch 152/1000\n",
      "\u001b[1m392/392\u001b[0m \u001b[32m━━━━━━━━━━━━━━━━━━━━\u001b[0m\u001b[37m\u001b[0m \u001b[1m0s\u001b[0m 831us/step - accuracy: 0.7714 - loss: 0.4918 - val_accuracy: 0.7480 - val_loss: 0.6545\n",
      "Epoch 153/1000\n",
      "\u001b[1m392/392\u001b[0m \u001b[32m━━━━━━━━━━━━━━━━━━━━\u001b[0m\u001b[37m\u001b[0m \u001b[1m0s\u001b[0m 734us/step - accuracy: 0.7577 - loss: 0.5222 - val_accuracy: 0.7773 - val_loss: 0.6338\n",
      "Epoch 154/1000\n",
      "\u001b[1m392/392\u001b[0m \u001b[32m━━━━━━━━━━━━━━━━━━━━\u001b[0m\u001b[37m\u001b[0m \u001b[1m0s\u001b[0m 789us/step - accuracy: 0.7866 - loss: 0.4736 - val_accuracy: 0.7423 - val_loss: 0.6753\n",
      "Epoch 155/1000\n",
      "\u001b[1m392/392\u001b[0m \u001b[32m━━━━━━━━━━━━━━━━━━━━\u001b[0m\u001b[37m\u001b[0m \u001b[1m0s\u001b[0m 811us/step - accuracy: 0.7775 - loss: 0.5029 - val_accuracy: 0.7600 - val_loss: 0.6306\n",
      "Epoch 156/1000\n",
      "\u001b[1m392/392\u001b[0m \u001b[32m━━━━━━━━━━━━━━━━━━━━\u001b[0m\u001b[37m\u001b[0m \u001b[1m0s\u001b[0m 803us/step - accuracy: 0.7640 - loss: 0.5091 - val_accuracy: 0.7414 - val_loss: 0.8124\n",
      "Epoch 157/1000\n",
      "\u001b[1m392/392\u001b[0m \u001b[32m━━━━━━━━━━━━━━━━━━━━\u001b[0m\u001b[37m\u001b[0m \u001b[1m0s\u001b[0m 749us/step - accuracy: 0.7865 - loss: 0.4830 - val_accuracy: 0.7718 - val_loss: 0.6780\n",
      "Epoch 158/1000\n",
      "\u001b[1m392/392\u001b[0m \u001b[32m━━━━━━━━━━━━━━━━━━━━\u001b[0m\u001b[37m\u001b[0m \u001b[1m0s\u001b[0m 779us/step - accuracy: 0.7775 - loss: 0.4815 - val_accuracy: 0.7032 - val_loss: 0.6681\n",
      "Epoch 159/1000\n",
      "\u001b[1m392/392\u001b[0m \u001b[32m━━━━━━━━━━━━━━━━━━━━\u001b[0m\u001b[37m\u001b[0m \u001b[1m0s\u001b[0m 722us/step - accuracy: 0.7540 - loss: 0.5415 - val_accuracy: 0.7585 - val_loss: 0.6818\n",
      "Epoch 160/1000\n",
      "\u001b[1m392/392\u001b[0m \u001b[32m━━━━━━━━━━━━━━━━━━━━\u001b[0m\u001b[37m\u001b[0m \u001b[1m0s\u001b[0m 894us/step - accuracy: 0.7770 - loss: 0.4874 - val_accuracy: 0.6938 - val_loss: 0.8032\n",
      "Epoch 161/1000\n",
      "\u001b[1m392/392\u001b[0m \u001b[32m━━━━━━━━━━━━━━━━━━━━\u001b[0m\u001b[37m\u001b[0m \u001b[1m0s\u001b[0m 728us/step - accuracy: 0.7717 - loss: 0.5042 - val_accuracy: 0.7778 - val_loss: 0.6360\n",
      "Epoch 162/1000\n",
      "\u001b[1m392/392\u001b[0m \u001b[32m━━━━━━━━━━━━━━━━━━━━\u001b[0m\u001b[37m\u001b[0m \u001b[1m0s\u001b[0m 723us/step - accuracy: 0.7866 - loss: 0.4633 - val_accuracy: 0.7703 - val_loss: 0.6560\n",
      "Epoch 163/1000\n",
      "\u001b[1m392/392\u001b[0m \u001b[32m━━━━━━━━━━━━━━━━━━━━\u001b[0m\u001b[37m\u001b[0m \u001b[1m0s\u001b[0m 768us/step - accuracy: 0.7907 - loss: 0.4699 - val_accuracy: 0.7809 - val_loss: 0.6706\n",
      "Epoch 164/1000\n",
      "\u001b[1m392/392\u001b[0m \u001b[32m━━━━━━━━━━━━━━━━━━━━\u001b[0m\u001b[37m\u001b[0m \u001b[1m0s\u001b[0m 734us/step - accuracy: 0.7676 - loss: 0.5183 - val_accuracy: 0.7187 - val_loss: 0.6982\n",
      "Epoch 165/1000\n",
      "\u001b[1m392/392\u001b[0m \u001b[32m━━━━━━━━━━━━━━━━━━━━\u001b[0m\u001b[37m\u001b[0m \u001b[1m0s\u001b[0m 775us/step - accuracy: 0.7705 - loss: 0.5050 - val_accuracy: 0.7662 - val_loss: 0.5891\n",
      "Epoch 166/1000\n",
      "\u001b[1m392/392\u001b[0m \u001b[32m━━━━━━━━━━━━━━━━━━━━\u001b[0m\u001b[37m\u001b[0m \u001b[1m0s\u001b[0m 729us/step - accuracy: 0.7743 - loss: 0.5030 - val_accuracy: 0.7799 - val_loss: 0.5945\n",
      "Epoch 167/1000\n",
      "\u001b[1m392/392\u001b[0m \u001b[32m━━━━━━━━━━━━━━━━━━━━\u001b[0m\u001b[37m\u001b[0m \u001b[1m0s\u001b[0m 732us/step - accuracy: 0.7866 - loss: 0.4742 - val_accuracy: 0.7358 - val_loss: 0.6975\n",
      "Epoch 168/1000\n",
      "\u001b[1m392/392\u001b[0m \u001b[32m━━━━━━━━━━━━━━━━━━━━\u001b[0m\u001b[37m\u001b[0m \u001b[1m0s\u001b[0m 726us/step - accuracy: 0.7993 - loss: 0.4465 - val_accuracy: 0.6678 - val_loss: 0.9043\n",
      "Epoch 169/1000\n",
      "\u001b[1m392/392\u001b[0m \u001b[32m━━━━━━━━━━━━━━━━━━━━\u001b[0m\u001b[37m\u001b[0m \u001b[1m0s\u001b[0m 727us/step - accuracy: 0.7588 - loss: 0.5327 - val_accuracy: 0.7879 - val_loss: 0.6357\n",
      "Epoch 170/1000\n",
      "\u001b[1m392/392\u001b[0m \u001b[32m━━━━━━━━━━━━━━━━━━━━\u001b[0m\u001b[37m\u001b[0m \u001b[1m0s\u001b[0m 719us/step - accuracy: 0.7872 - loss: 0.4704 - val_accuracy: 0.6715 - val_loss: 0.8004\n",
      "Epoch 171/1000\n",
      "\u001b[1m392/392\u001b[0m \u001b[32m━━━━━━━━━━━━━━━━━━━━\u001b[0m\u001b[37m\u001b[0m \u001b[1m0s\u001b[0m 989us/step - accuracy: 0.7721 - loss: 0.4977 - val_accuracy: 0.7900 - val_loss: 0.6074\n",
      "Epoch 172/1000\n",
      "\u001b[1m392/392\u001b[0m \u001b[32m━━━━━━━━━━━━━━━━━━━━\u001b[0m\u001b[37m\u001b[0m \u001b[1m0s\u001b[0m 742us/step - accuracy: 0.7833 - loss: 0.4866 - val_accuracy: 0.7818 - val_loss: 0.6314\n",
      "Epoch 173/1000\n",
      "\u001b[1m392/392\u001b[0m \u001b[32m━━━━━━━━━━━━━━━━━━━━\u001b[0m\u001b[37m\u001b[0m \u001b[1m0s\u001b[0m 747us/step - accuracy: 0.7887 - loss: 0.4763 - val_accuracy: 0.7798 - val_loss: 0.6556\n",
      "Epoch 174/1000\n",
      "\u001b[1m392/392\u001b[0m \u001b[32m━━━━━━━━━━━━━━━━━━━━\u001b[0m\u001b[37m\u001b[0m \u001b[1m0s\u001b[0m 732us/step - accuracy: 0.7692 - loss: 0.5387 - val_accuracy: 0.7231 - val_loss: 0.7290\n",
      "Epoch 175/1000\n",
      "\u001b[1m392/392\u001b[0m \u001b[32m━━━━━━━━━━━━━━━━━━━━\u001b[0m\u001b[37m\u001b[0m \u001b[1m0s\u001b[0m 748us/step - accuracy: 0.7900 - loss: 0.4833 - val_accuracy: 0.7799 - val_loss: 0.6979\n",
      "Epoch 176/1000\n",
      "\u001b[1m392/392\u001b[0m \u001b[32m━━━━━━━━━━━━━━━━━━━━\u001b[0m\u001b[37m\u001b[0m \u001b[1m0s\u001b[0m 729us/step - accuracy: 0.7968 - loss: 0.4518 - val_accuracy: 0.7873 - val_loss: 0.6838\n",
      "Epoch 177/1000\n",
      "\u001b[1m392/392\u001b[0m \u001b[32m━━━━━━━━━━━━━━━━━━━━\u001b[0m\u001b[37m\u001b[0m \u001b[1m0s\u001b[0m 769us/step - accuracy: 0.7741 - loss: 0.5294 - val_accuracy: 0.7726 - val_loss: 0.7150\n",
      "Epoch 178/1000\n",
      "\u001b[1m392/392\u001b[0m \u001b[32m━━━━━━━━━━━━━━━━━━━━\u001b[0m\u001b[37m\u001b[0m \u001b[1m0s\u001b[0m 778us/step - accuracy: 0.7989 - loss: 0.4755 - val_accuracy: 0.7741 - val_loss: 0.6224\n",
      "Epoch 179/1000\n",
      "\u001b[1m392/392\u001b[0m \u001b[32m━━━━━━━━━━━━━━━━━━━━\u001b[0m\u001b[37m\u001b[0m \u001b[1m0s\u001b[0m 771us/step - accuracy: 0.8023 - loss: 0.4455 - val_accuracy: 0.6962 - val_loss: 0.6954\n",
      "Epoch 180/1000\n",
      "\u001b[1m392/392\u001b[0m \u001b[32m━━━━━━━━━━━━━━━━━━━━\u001b[0m\u001b[37m\u001b[0m \u001b[1m0s\u001b[0m 750us/step - accuracy: 0.7941 - loss: 0.4694 - val_accuracy: 0.7653 - val_loss: 0.6487\n",
      "Epoch 181/1000\n",
      "\u001b[1m392/392\u001b[0m \u001b[32m━━━━━━━━━━━━━━━━━━━━\u001b[0m\u001b[37m\u001b[0m \u001b[1m0s\u001b[0m 899us/step - accuracy: 0.7944 - loss: 0.4742 - val_accuracy: 0.7421 - val_loss: 0.7007\n",
      "Epoch 182/1000\n",
      "\u001b[1m392/392\u001b[0m \u001b[32m━━━━━━━━━━━━━━━━━━━━\u001b[0m\u001b[37m\u001b[0m \u001b[1m0s\u001b[0m 751us/step - accuracy: 0.7765 - loss: 0.5170 - val_accuracy: 0.6695 - val_loss: 0.8178\n",
      "Epoch 183/1000\n",
      "\u001b[1m392/392\u001b[0m \u001b[32m━━━━━━━━━━━━━━━━━━━━\u001b[0m\u001b[37m\u001b[0m \u001b[1m0s\u001b[0m 801us/step - accuracy: 0.7905 - loss: 0.4587 - val_accuracy: 0.7637 - val_loss: 0.6404\n",
      "Epoch 184/1000\n",
      "\u001b[1m392/392\u001b[0m \u001b[32m━━━━━━━━━━━━━━━━━━━━\u001b[0m\u001b[37m\u001b[0m \u001b[1m0s\u001b[0m 734us/step - accuracy: 0.7982 - loss: 0.4479 - val_accuracy: 0.7776 - val_loss: 0.6293\n",
      "Epoch 185/1000\n",
      "\u001b[1m392/392\u001b[0m \u001b[32m━━━━━━━━━━━━━━━━━━━━\u001b[0m\u001b[37m\u001b[0m \u001b[1m0s\u001b[0m 757us/step - accuracy: 0.7947 - loss: 0.4547 - val_accuracy: 0.8006 - val_loss: 0.5676\n",
      "Epoch 186/1000\n",
      "\u001b[1m392/392\u001b[0m \u001b[32m━━━━━━━━━━━━━━━━━━━━\u001b[0m\u001b[37m\u001b[0m \u001b[1m0s\u001b[0m 781us/step - accuracy: 0.7976 - loss: 0.4535 - val_accuracy: 0.7706 - val_loss: 0.6367\n",
      "Epoch 187/1000\n",
      "\u001b[1m392/392\u001b[0m \u001b[32m━━━━━━━━━━━━━━━━━━━━\u001b[0m\u001b[37m\u001b[0m \u001b[1m0s\u001b[0m 752us/step - accuracy: 0.7865 - loss: 0.4681 - val_accuracy: 0.7654 - val_loss: 0.6705\n",
      "Epoch 188/1000\n",
      "\u001b[1m392/392\u001b[0m \u001b[32m━━━━━━━━━━━━━━━━━━━━\u001b[0m\u001b[37m\u001b[0m \u001b[1m0s\u001b[0m 749us/step - accuracy: 0.7841 - loss: 0.4726 - val_accuracy: 0.7434 - val_loss: 0.6598\n",
      "Epoch 189/1000\n",
      "\u001b[1m392/392\u001b[0m \u001b[32m━━━━━━━━━━━━━━━━━━━━\u001b[0m\u001b[37m\u001b[0m \u001b[1m0s\u001b[0m 805us/step - accuracy: 0.7897 - loss: 0.4815 - val_accuracy: 0.7642 - val_loss: 0.6077\n",
      "Epoch 190/1000\n",
      "\u001b[1m392/392\u001b[0m \u001b[32m━━━━━━━━━━━━━━━━━━━━\u001b[0m\u001b[37m\u001b[0m \u001b[1m0s\u001b[0m 734us/step - accuracy: 0.7842 - loss: 0.4766 - val_accuracy: 0.7483 - val_loss: 0.6827\n",
      "Epoch 191/1000\n",
      "\u001b[1m392/392\u001b[0m \u001b[32m━━━━━━━━━━━━━━━━━━━━\u001b[0m\u001b[37m\u001b[0m \u001b[1m0s\u001b[0m 906us/step - accuracy: 0.7819 - loss: 0.4790 - val_accuracy: 0.7677 - val_loss: 0.6392\n",
      "Epoch 192/1000\n",
      "\u001b[1m392/392\u001b[0m \u001b[32m━━━━━━━━━━━━━━━━━━━━\u001b[0m\u001b[37m\u001b[0m \u001b[1m0s\u001b[0m 760us/step - accuracy: 0.7680 - loss: 0.5462 - val_accuracy: 0.7170 - val_loss: 0.7601\n",
      "Epoch 193/1000\n",
      "\u001b[1m392/392\u001b[0m \u001b[32m━━━━━━━━━━━━━━━━━━━━\u001b[0m\u001b[37m\u001b[0m \u001b[1m0s\u001b[0m 785us/step - accuracy: 0.8092 - loss: 0.4321 - val_accuracy: 0.7584 - val_loss: 0.7802\n",
      "Epoch 194/1000\n",
      "\u001b[1m392/392\u001b[0m \u001b[32m━━━━━━━━━━━━━━━━━━━━\u001b[0m\u001b[37m\u001b[0m \u001b[1m0s\u001b[0m 800us/step - accuracy: 0.7966 - loss: 0.4543 - val_accuracy: 0.7719 - val_loss: 0.6559\n",
      "Epoch 195/1000\n",
      "\u001b[1m392/392\u001b[0m \u001b[32m━━━━━━━━━━━━━━━━━━━━\u001b[0m\u001b[37m\u001b[0m \u001b[1m0s\u001b[0m 742us/step - accuracy: 0.8037 - loss: 0.4482 - val_accuracy: 0.7141 - val_loss: 0.6710\n",
      "Epoch 196/1000\n",
      "\u001b[1m392/392\u001b[0m \u001b[32m━━━━━━━━━━━━━━━━━━━━\u001b[0m\u001b[37m\u001b[0m \u001b[1m0s\u001b[0m 735us/step - accuracy: 0.7946 - loss: 0.4733 - val_accuracy: 0.6629 - val_loss: 0.8150\n",
      "Epoch 197/1000\n",
      "\u001b[1m392/392\u001b[0m \u001b[32m━━━━━━━━━━━━━━━━━━━━\u001b[0m\u001b[37m\u001b[0m \u001b[1m0s\u001b[0m 749us/step - accuracy: 0.7757 - loss: 0.4980 - val_accuracy: 0.7009 - val_loss: 0.7049\n",
      "Epoch 198/1000\n",
      "\u001b[1m392/392\u001b[0m \u001b[32m━━━━━━━━━━━━━━━━━━━━\u001b[0m\u001b[37m\u001b[0m \u001b[1m0s\u001b[0m 763us/step - accuracy: 0.7762 - loss: 0.4959 - val_accuracy: 0.7251 - val_loss: 0.8392\n",
      "Epoch 199/1000\n",
      "\u001b[1m392/392\u001b[0m \u001b[32m━━━━━━━━━━━━━━━━━━━━\u001b[0m\u001b[37m\u001b[0m \u001b[1m0s\u001b[0m 728us/step - accuracy: 0.7881 - loss: 0.4729 - val_accuracy: 0.7862 - val_loss: 0.6083\n",
      "Epoch 200/1000\n",
      "\u001b[1m392/392\u001b[0m \u001b[32m━━━━━━━━━━━━━━━━━━━━\u001b[0m\u001b[37m\u001b[0m \u001b[1m0s\u001b[0m 941us/step - accuracy: 0.8048 - loss: 0.4397 - val_accuracy: 0.7854 - val_loss: 0.6083\n",
      "Epoch 201/1000\n",
      "\u001b[1m392/392\u001b[0m \u001b[32m━━━━━━━━━━━━━━━━━━━━\u001b[0m\u001b[37m\u001b[0m \u001b[1m0s\u001b[0m 757us/step - accuracy: 0.7941 - loss: 0.4566 - val_accuracy: 0.8075 - val_loss: 0.6451\n",
      "Epoch 202/1000\n",
      "\u001b[1m392/392\u001b[0m \u001b[32m━━━━━━━━━━━━━━━━━━━━\u001b[0m\u001b[37m\u001b[0m \u001b[1m0s\u001b[0m 742us/step - accuracy: 0.7799 - loss: 0.4899 - val_accuracy: 0.7467 - val_loss: 0.7381\n",
      "Epoch 203/1000\n",
      "\u001b[1m392/392\u001b[0m \u001b[32m━━━━━━━━━━━━━━━━━━━━\u001b[0m\u001b[37m\u001b[0m \u001b[1m0s\u001b[0m 728us/step - accuracy: 0.7761 - loss: 0.4978 - val_accuracy: 0.7869 - val_loss: 0.6282\n",
      "Epoch 204/1000\n",
      "\u001b[1m392/392\u001b[0m \u001b[32m━━━━━━━━━━━━━━━━━━━━\u001b[0m\u001b[37m\u001b[0m \u001b[1m0s\u001b[0m 746us/step - accuracy: 0.7916 - loss: 0.4714 - val_accuracy: 0.7573 - val_loss: 0.5671\n",
      "Epoch 205/1000\n",
      "\u001b[1m392/392\u001b[0m \u001b[32m━━━━━━━━━━━━━━━━━━━━\u001b[0m\u001b[37m\u001b[0m \u001b[1m0s\u001b[0m 845us/step - accuracy: 0.7928 - loss: 0.4698 - val_accuracy: 0.7640 - val_loss: 0.6536\n",
      "Epoch 206/1000\n",
      "\u001b[1m392/392\u001b[0m \u001b[32m━━━━━━━━━━━━━━━━━━━━\u001b[0m\u001b[37m\u001b[0m \u001b[1m0s\u001b[0m 777us/step - accuracy: 0.7984 - loss: 0.4495 - val_accuracy: 0.7248 - val_loss: 0.6754\n",
      "Epoch 207/1000\n",
      "\u001b[1m392/392\u001b[0m \u001b[32m━━━━━━━━━━━━━━━━━━━━\u001b[0m\u001b[37m\u001b[0m \u001b[1m0s\u001b[0m 758us/step - accuracy: 0.7934 - loss: 0.4764 - val_accuracy: 0.7469 - val_loss: 0.6540\n",
      "Epoch 208/1000\n",
      "\u001b[1m392/392\u001b[0m \u001b[32m━━━━━━━━━━━━━━━━━━━━\u001b[0m\u001b[37m\u001b[0m \u001b[1m0s\u001b[0m 755us/step - accuracy: 0.7922 - loss: 0.4527 - val_accuracy: 0.7967 - val_loss: 0.6425\n",
      "Epoch 209/1000\n",
      "\u001b[1m392/392\u001b[0m \u001b[32m━━━━━━━━━━━━━━━━━━━━\u001b[0m\u001b[37m\u001b[0m \u001b[1m0s\u001b[0m 927us/step - accuracy: 0.7986 - loss: 0.4478 - val_accuracy: 0.7322 - val_loss: 0.7355\n",
      "Epoch 210/1000\n",
      "\u001b[1m392/392\u001b[0m \u001b[32m━━━━━━━━━━━━━━━━━━━━\u001b[0m\u001b[37m\u001b[0m \u001b[1m0s\u001b[0m 774us/step - accuracy: 0.8032 - loss: 0.4301 - val_accuracy: 0.7998 - val_loss: 0.6086\n",
      "Epoch 211/1000\n",
      "\u001b[1m392/392\u001b[0m \u001b[32m━━━━━━━━━━━━━━━━━━━━\u001b[0m\u001b[37m\u001b[0m \u001b[1m0s\u001b[0m 738us/step - accuracy: 0.8035 - loss: 0.4358 - val_accuracy: 0.8000 - val_loss: 0.6294\n",
      "Epoch 212/1000\n",
      "\u001b[1m392/392\u001b[0m \u001b[32m━━━━━━━━━━━━━━━━━━━━\u001b[0m\u001b[37m\u001b[0m \u001b[1m0s\u001b[0m 745us/step - accuracy: 0.8056 - loss: 0.4410 - val_accuracy: 0.7889 - val_loss: 0.6187\n",
      "Epoch 213/1000\n",
      "\u001b[1m392/392\u001b[0m \u001b[32m━━━━━━━━━━━━━━━━━━━━\u001b[0m\u001b[37m\u001b[0m \u001b[1m0s\u001b[0m 735us/step - accuracy: 0.8061 - loss: 0.4297 - val_accuracy: 0.8048 - val_loss: 0.6484\n",
      "Epoch 214/1000\n",
      "\u001b[1m392/392\u001b[0m \u001b[32m━━━━━━━━━━━━━━━━━━━━\u001b[0m\u001b[37m\u001b[0m \u001b[1m0s\u001b[0m 733us/step - accuracy: 0.8027 - loss: 0.4408 - val_accuracy: 0.7676 - val_loss: 0.6171\n",
      "Epoch 215/1000\n",
      "\u001b[1m392/392\u001b[0m \u001b[32m━━━━━━━━━━━━━━━━━━━━\u001b[0m\u001b[37m\u001b[0m \u001b[1m0s\u001b[0m 736us/step - accuracy: 0.8089 - loss: 0.4278 - val_accuracy: 0.8112 - val_loss: 0.5889\n",
      "Epoch 216/1000\n",
      "\u001b[1m392/392\u001b[0m \u001b[32m━━━━━━━━━━━━━━━━━━━━\u001b[0m\u001b[37m\u001b[0m \u001b[1m0s\u001b[0m 802us/step - accuracy: 0.7931 - loss: 0.4586 - val_accuracy: 0.8068 - val_loss: 0.5571\n",
      "Epoch 217/1000\n",
      "\u001b[1m392/392\u001b[0m \u001b[32m━━━━━━━━━━━━━━━━━━━━\u001b[0m\u001b[37m\u001b[0m \u001b[1m0s\u001b[0m 744us/step - accuracy: 0.8148 - loss: 0.4175 - val_accuracy: 0.7892 - val_loss: 0.6311\n",
      "Epoch 218/1000\n",
      "\u001b[1m392/392\u001b[0m \u001b[32m━━━━━━━━━━━━━━━━━━━━\u001b[0m\u001b[37m\u001b[0m \u001b[1m0s\u001b[0m 902us/step - accuracy: 0.8075 - loss: 0.4404 - val_accuracy: 0.7743 - val_loss: 0.6311\n",
      "Epoch 219/1000\n",
      "\u001b[1m392/392\u001b[0m \u001b[32m━━━━━━━━━━━━━━━━━━━━\u001b[0m\u001b[37m\u001b[0m \u001b[1m0s\u001b[0m 721us/step - accuracy: 0.7803 - loss: 0.4854 - val_accuracy: 0.7719 - val_loss: 0.6779\n",
      "Epoch 220/1000\n",
      "\u001b[1m392/392\u001b[0m \u001b[32m━━━━━━━━━━━━━━━━━━━━\u001b[0m\u001b[37m\u001b[0m \u001b[1m0s\u001b[0m 742us/step - accuracy: 0.8146 - loss: 0.4213 - val_accuracy: 0.8019 - val_loss: 0.5958\n",
      "Epoch 221/1000\n",
      "\u001b[1m392/392\u001b[0m \u001b[32m━━━━━━━━━━━━━━━━━━━━\u001b[0m\u001b[37m\u001b[0m \u001b[1m0s\u001b[0m 769us/step - accuracy: 0.7929 - loss: 0.4810 - val_accuracy: 0.7813 - val_loss: 0.5689\n",
      "Epoch 222/1000\n",
      "\u001b[1m392/392\u001b[0m \u001b[32m━━━━━━━━━━━━━━━━━━━━\u001b[0m\u001b[37m\u001b[0m \u001b[1m0s\u001b[0m 719us/step - accuracy: 0.8049 - loss: 0.4404 - val_accuracy: 0.7890 - val_loss: 0.6481\n",
      "Epoch 223/1000\n",
      "\u001b[1m392/392\u001b[0m \u001b[32m━━━━━━━━━━━━━━━━━━━━\u001b[0m\u001b[37m\u001b[0m \u001b[1m0s\u001b[0m 744us/step - accuracy: 0.8083 - loss: 0.4264 - val_accuracy: 0.7097 - val_loss: 0.7764\n",
      "Epoch 224/1000\n",
      "\u001b[1m392/392\u001b[0m \u001b[32m━━━━━━━━━━━━━━━━━━━━\u001b[0m\u001b[37m\u001b[0m \u001b[1m0s\u001b[0m 743us/step - accuracy: 0.8054 - loss: 0.4232 - val_accuracy: 0.8073 - val_loss: 0.5647\n",
      "Epoch 225/1000\n",
      "\u001b[1m392/392\u001b[0m \u001b[32m━━━━━━━━━━━━━━━━━━━━\u001b[0m\u001b[37m\u001b[0m \u001b[1m0s\u001b[0m 721us/step - accuracy: 0.8131 - loss: 0.4230 - val_accuracy: 0.8061 - val_loss: 0.6177\n",
      "Epoch 226/1000\n",
      "\u001b[1m392/392\u001b[0m \u001b[32m━━━━━━━━━━━━━━━━━━━━\u001b[0m\u001b[37m\u001b[0m \u001b[1m0s\u001b[0m 774us/step - accuracy: 0.8217 - loss: 0.4085 - val_accuracy: 0.8082 - val_loss: 0.5896\n",
      "Epoch 227/1000\n",
      "\u001b[1m392/392\u001b[0m \u001b[32m━━━━━━━━━━━━━━━━━━━━\u001b[0m\u001b[37m\u001b[0m \u001b[1m0s\u001b[0m 894us/step - accuracy: 0.8085 - loss: 0.4221 - val_accuracy: 0.7278 - val_loss: 0.8422\n",
      "Epoch 228/1000\n",
      "\u001b[1m392/392\u001b[0m \u001b[32m━━━━━━━━━━━━━━━━━━━━\u001b[0m\u001b[37m\u001b[0m \u001b[1m0s\u001b[0m 728us/step - accuracy: 0.8029 - loss: 0.4427 - val_accuracy: 0.7802 - val_loss: 0.6277\n",
      "Epoch 229/1000\n",
      "\u001b[1m392/392\u001b[0m \u001b[32m━━━━━━━━━━━━━━━━━━━━\u001b[0m\u001b[37m\u001b[0m \u001b[1m0s\u001b[0m 729us/step - accuracy: 0.8176 - loss: 0.4070 - val_accuracy: 0.7252 - val_loss: 0.7279\n",
      "Epoch 230/1000\n",
      "\u001b[1m392/392\u001b[0m \u001b[32m━━━━━━━━━━━━━━━━━━━━\u001b[0m\u001b[37m\u001b[0m \u001b[1m0s\u001b[0m 724us/step - accuracy: 0.7980 - loss: 0.4573 - val_accuracy: 0.7985 - val_loss: 0.6645\n",
      "Epoch 231/1000\n",
      "\u001b[1m392/392\u001b[0m \u001b[32m━━━━━━━━━━━━━━━━━━━━\u001b[0m\u001b[37m\u001b[0m \u001b[1m0s\u001b[0m 815us/step - accuracy: 0.8158 - loss: 0.4222 - val_accuracy: 0.7876 - val_loss: 0.6262\n",
      "Epoch 232/1000\n",
      "\u001b[1m392/392\u001b[0m \u001b[32m━━━━━━━━━━━━━━━━━━━━\u001b[0m\u001b[37m\u001b[0m \u001b[1m0s\u001b[0m 745us/step - accuracy: 0.8216 - loss: 0.4016 - val_accuracy: 0.7809 - val_loss: 0.6462\n",
      "Epoch 233/1000\n",
      "\u001b[1m392/392\u001b[0m \u001b[32m━━━━━━━━━━━━━━━━━━━━\u001b[0m\u001b[37m\u001b[0m \u001b[1m0s\u001b[0m 743us/step - accuracy: 0.8096 - loss: 0.4256 - val_accuracy: 0.8084 - val_loss: 0.5637\n",
      "Epoch 234/1000\n",
      "\u001b[1m392/392\u001b[0m \u001b[32m━━━━━━━━━━━━━━━━━━━━\u001b[0m\u001b[37m\u001b[0m \u001b[1m0s\u001b[0m 735us/step - accuracy: 0.8196 - loss: 0.4009 - val_accuracy: 0.8025 - val_loss: 0.5548\n",
      "Epoch 235/1000\n",
      "\u001b[1m392/392\u001b[0m \u001b[32m━━━━━━━━━━━━━━━━━━━━\u001b[0m\u001b[37m\u001b[0m \u001b[1m0s\u001b[0m 728us/step - accuracy: 0.8200 - loss: 0.4046 - val_accuracy: 0.8078 - val_loss: 0.5780\n",
      "Epoch 236/1000\n",
      "\u001b[1m392/392\u001b[0m \u001b[32m━━━━━━━━━━━━━━━━━━━━\u001b[0m\u001b[37m\u001b[0m \u001b[1m0s\u001b[0m 919us/step - accuracy: 0.8180 - loss: 0.4047 - val_accuracy: 0.8044 - val_loss: 0.6178\n",
      "Epoch 237/1000\n",
      "\u001b[1m392/392\u001b[0m \u001b[32m━━━━━━━━━━━━━━━━━━━━\u001b[0m\u001b[37m\u001b[0m \u001b[1m0s\u001b[0m 732us/step - accuracy: 0.8145 - loss: 0.4158 - val_accuracy: 0.8101 - val_loss: 0.5854\n",
      "Epoch 238/1000\n",
      "\u001b[1m392/392\u001b[0m \u001b[32m━━━━━━━━━━━━━━━━━━━━\u001b[0m\u001b[37m\u001b[0m \u001b[1m0s\u001b[0m 734us/step - accuracy: 0.8206 - loss: 0.4154 - val_accuracy: 0.7906 - val_loss: 0.6305\n",
      "Epoch 239/1000\n",
      "\u001b[1m392/392\u001b[0m \u001b[32m━━━━━━━━━━━━━━━━━━━━\u001b[0m\u001b[37m\u001b[0m \u001b[1m0s\u001b[0m 756us/step - accuracy: 0.8125 - loss: 0.4228 - val_accuracy: 0.8102 - val_loss: 0.5562\n",
      "Epoch 240/1000\n",
      "\u001b[1m392/392\u001b[0m \u001b[32m━━━━━━━━━━━━━━━━━━━━\u001b[0m\u001b[37m\u001b[0m \u001b[1m0s\u001b[0m 731us/step - accuracy: 0.8194 - loss: 0.4060 - val_accuracy: 0.7748 - val_loss: 0.6133\n",
      "Epoch 241/1000\n",
      "\u001b[1m392/392\u001b[0m \u001b[32m━━━━━━━━━━━━━━━━━━━━\u001b[0m\u001b[37m\u001b[0m \u001b[1m0s\u001b[0m 770us/step - accuracy: 0.8277 - loss: 0.3866 - val_accuracy: 0.8180 - val_loss: 0.5256\n",
      "Epoch 242/1000\n",
      "\u001b[1m392/392\u001b[0m \u001b[32m━━━━━━━━━━━━━━━━━━━━\u001b[0m\u001b[37m\u001b[0m \u001b[1m0s\u001b[0m 732us/step - accuracy: 0.8035 - loss: 0.4425 - val_accuracy: 0.8069 - val_loss: 0.5623\n",
      "Epoch 243/1000\n",
      "\u001b[1m392/392\u001b[0m \u001b[32m━━━━━━━━━━━━━━━━━━━━\u001b[0m\u001b[37m\u001b[0m \u001b[1m0s\u001b[0m 723us/step - accuracy: 0.8113 - loss: 0.4186 - val_accuracy: 0.6929 - val_loss: 0.8028\n",
      "Epoch 244/1000\n",
      "\u001b[1m392/392\u001b[0m \u001b[32m━━━━━━━━━━━━━━━━━━━━\u001b[0m\u001b[37m\u001b[0m \u001b[1m0s\u001b[0m 895us/step - accuracy: 0.7944 - loss: 0.4579 - val_accuracy: 0.8078 - val_loss: 0.5463\n",
      "Epoch 245/1000\n",
      "\u001b[1m392/392\u001b[0m \u001b[32m━━━━━━━━━━━━━━━━━━━━\u001b[0m\u001b[37m\u001b[0m \u001b[1m0s\u001b[0m 732us/step - accuracy: 0.8220 - loss: 0.3944 - val_accuracy: 0.8213 - val_loss: 0.5498\n",
      "Epoch 246/1000\n",
      "\u001b[1m392/392\u001b[0m \u001b[32m━━━━━━━━━━━━━━━━━━━━\u001b[0m\u001b[37m\u001b[0m \u001b[1m0s\u001b[0m 824us/step - accuracy: 0.7950 - loss: 0.4631 - val_accuracy: 0.7932 - val_loss: 0.6146\n",
      "Epoch 247/1000\n",
      "\u001b[1m392/392\u001b[0m \u001b[32m━━━━━━━━━━━━━━━━━━━━\u001b[0m\u001b[37m\u001b[0m \u001b[1m0s\u001b[0m 727us/step - accuracy: 0.8203 - loss: 0.4015 - val_accuracy: 0.8116 - val_loss: 0.5498\n",
      "Epoch 248/1000\n",
      "\u001b[1m392/392\u001b[0m \u001b[32m━━━━━━━━━━━━━━━━━━━━\u001b[0m\u001b[37m\u001b[0m \u001b[1m0s\u001b[0m 741us/step - accuracy: 0.8218 - loss: 0.3978 - val_accuracy: 0.6965 - val_loss: 0.7925\n",
      "Epoch 249/1000\n",
      "\u001b[1m392/392\u001b[0m \u001b[32m━━━━━━━━━━━━━━━━━━━━\u001b[0m\u001b[37m\u001b[0m \u001b[1m0s\u001b[0m 738us/step - accuracy: 0.8137 - loss: 0.4175 - val_accuracy: 0.7453 - val_loss: 0.7131\n",
      "Epoch 250/1000\n",
      "\u001b[1m392/392\u001b[0m \u001b[32m━━━━━━━━━━━━━━━━━━━━\u001b[0m\u001b[37m\u001b[0m \u001b[1m0s\u001b[0m 726us/step - accuracy: 0.7999 - loss: 0.4587 - val_accuracy: 0.8216 - val_loss: 0.5550\n",
      "Epoch 251/1000\n",
      "\u001b[1m392/392\u001b[0m \u001b[32m━━━━━━━━━━━━━━━━━━━━\u001b[0m\u001b[37m\u001b[0m \u001b[1m0s\u001b[0m 769us/step - accuracy: 0.8330 - loss: 0.3765 - val_accuracy: 0.7674 - val_loss: 0.6518\n",
      "Epoch 252/1000\n",
      "\u001b[1m392/392\u001b[0m \u001b[32m━━━━━━━━━━━━━━━━━━━━\u001b[0m\u001b[37m\u001b[0m \u001b[1m0s\u001b[0m 726us/step - accuracy: 0.8206 - loss: 0.4069 - val_accuracy: 0.7770 - val_loss: 0.6200\n",
      "Epoch 253/1000\n",
      "\u001b[1m392/392\u001b[0m \u001b[32m━━━━━━━━━━━━━━━━━━━━\u001b[0m\u001b[37m\u001b[0m \u001b[1m0s\u001b[0m 914us/step - accuracy: 0.8076 - loss: 0.4318 - val_accuracy: 0.8132 - val_loss: 0.5725\n",
      "Epoch 254/1000\n",
      "\u001b[1m392/392\u001b[0m \u001b[32m━━━━━━━━━━━━━━━━━━━━\u001b[0m\u001b[37m\u001b[0m \u001b[1m0s\u001b[0m 759us/step - accuracy: 0.8179 - loss: 0.4031 - val_accuracy: 0.7856 - val_loss: 0.5934\n",
      "Epoch 255/1000\n",
      "\u001b[1m392/392\u001b[0m \u001b[32m━━━━━━━━━━━━━━━━━━━━\u001b[0m\u001b[37m\u001b[0m \u001b[1m0s\u001b[0m 765us/step - accuracy: 0.8095 - loss: 0.4295 - val_accuracy: 0.8012 - val_loss: 0.6601\n",
      "Epoch 256/1000\n",
      "\u001b[1m392/392\u001b[0m \u001b[32m━━━━━━━━━━━━━━━━━━━━\u001b[0m\u001b[37m\u001b[0m \u001b[1m0s\u001b[0m 769us/step - accuracy: 0.8152 - loss: 0.4383 - val_accuracy: 0.7548 - val_loss: 0.7597\n",
      "Epoch 257/1000\n",
      "\u001b[1m392/392\u001b[0m \u001b[32m━━━━━━━━━━━━━━━━━━━━\u001b[0m\u001b[37m\u001b[0m \u001b[1m0s\u001b[0m 771us/step - accuracy: 0.7990 - loss: 0.4620 - val_accuracy: 0.7956 - val_loss: 0.6156\n",
      "Epoch 258/1000\n",
      "\u001b[1m392/392\u001b[0m \u001b[32m━━━━━━━━━━━━━━━━━━━━\u001b[0m\u001b[37m\u001b[0m \u001b[1m0s\u001b[0m 733us/step - accuracy: 0.8217 - loss: 0.4112 - val_accuracy: 0.7230 - val_loss: 0.6841\n",
      "Epoch 259/1000\n",
      "\u001b[1m392/392\u001b[0m \u001b[32m━━━━━━━━━━━━━━━━━━━━\u001b[0m\u001b[37m\u001b[0m \u001b[1m0s\u001b[0m 788us/step - accuracy: 0.8181 - loss: 0.4064 - val_accuracy: 0.8037 - val_loss: 0.5914\n",
      "Epoch 260/1000\n",
      "\u001b[1m392/392\u001b[0m \u001b[32m━━━━━━━━━━━━━━━━━━━━\u001b[0m\u001b[37m\u001b[0m \u001b[1m0s\u001b[0m 886us/step - accuracy: 0.8255 - loss: 0.3880 - val_accuracy: 0.8145 - val_loss: 0.5903\n",
      "Epoch 261/1000\n",
      "\u001b[1m392/392\u001b[0m \u001b[32m━━━━━━━━━━━━━━━━━━━━\u001b[0m\u001b[37m\u001b[0m \u001b[1m0s\u001b[0m 765us/step - accuracy: 0.8253 - loss: 0.3934 - val_accuracy: 0.8071 - val_loss: 0.5849\n",
      "Epoch 262/1000\n",
      "\u001b[1m392/392\u001b[0m \u001b[32m━━━━━━━━━━━━━━━━━━━━\u001b[0m\u001b[37m\u001b[0m \u001b[1m0s\u001b[0m 723us/step - accuracy: 0.8191 - loss: 0.4093 - val_accuracy: 0.8151 - val_loss: 0.5975\n",
      "Epoch 263/1000\n",
      "\u001b[1m392/392\u001b[0m \u001b[32m━━━━━━━━━━━━━━━━━━━━\u001b[0m\u001b[37m\u001b[0m \u001b[1m0s\u001b[0m 765us/step - accuracy: 0.8103 - loss: 0.4247 - val_accuracy: 0.7979 - val_loss: 0.5894\n",
      "Epoch 264/1000\n",
      "\u001b[1m392/392\u001b[0m \u001b[32m━━━━━━━━━━━━━━━━━━━━\u001b[0m\u001b[37m\u001b[0m \u001b[1m0s\u001b[0m 729us/step - accuracy: 0.8034 - loss: 0.4427 - val_accuracy: 0.8317 - val_loss: 0.5421\n",
      "Epoch 265/1000\n",
      "\u001b[1m392/392\u001b[0m \u001b[32m━━━━━━━━━━━━━━━━━━━━\u001b[0m\u001b[37m\u001b[0m \u001b[1m0s\u001b[0m 730us/step - accuracy: 0.8179 - loss: 0.4026 - val_accuracy: 0.8220 - val_loss: 0.5350\n",
      "Epoch 266/1000\n",
      "\u001b[1m392/392\u001b[0m \u001b[32m━━━━━━━━━━━━━━━━━━━━\u001b[0m\u001b[37m\u001b[0m \u001b[1m0s\u001b[0m 727us/step - accuracy: 0.8025 - loss: 0.4399 - val_accuracy: 0.8207 - val_loss: 0.5443\n",
      "Epoch 267/1000\n",
      "\u001b[1m392/392\u001b[0m \u001b[32m━━━━━━━━━━━━━━━━━━━━\u001b[0m\u001b[37m\u001b[0m \u001b[1m0s\u001b[0m 772us/step - accuracy: 0.8190 - loss: 0.4087 - val_accuracy: 0.7973 - val_loss: 0.5708\n",
      "Epoch 268/1000\n",
      "\u001b[1m392/392\u001b[0m \u001b[32m━━━━━━━━━━━━━━━━━━━━\u001b[0m\u001b[37m\u001b[0m \u001b[1m0s\u001b[0m 911us/step - accuracy: 0.8160 - loss: 0.4048 - val_accuracy: 0.8102 - val_loss: 0.5614\n",
      "Epoch 269/1000\n",
      "\u001b[1m392/392\u001b[0m \u001b[32m━━━━━━━━━━━━━━━━━━━━\u001b[0m\u001b[37m\u001b[0m \u001b[1m0s\u001b[0m 768us/step - accuracy: 0.8188 - loss: 0.4028 - val_accuracy: 0.7591 - val_loss: 0.6517\n",
      "Epoch 270/1000\n",
      "\u001b[1m392/392\u001b[0m \u001b[32m━━━━━━━━━━━━━━━━━━━━\u001b[0m\u001b[37m\u001b[0m \u001b[1m0s\u001b[0m 716us/step - accuracy: 0.8193 - loss: 0.4111 - val_accuracy: 0.8104 - val_loss: 0.6307\n",
      "Epoch 271/1000\n",
      "\u001b[1m392/392\u001b[0m \u001b[32m━━━━━━━━━━━━━━━━━━━━\u001b[0m\u001b[37m\u001b[0m \u001b[1m0s\u001b[0m 722us/step - accuracy: 0.8234 - loss: 0.3921 - val_accuracy: 0.7948 - val_loss: 0.5724\n",
      "Epoch 272/1000\n",
      "\u001b[1m392/392\u001b[0m \u001b[32m━━━━━━━━━━━━━━━━━━━━\u001b[0m\u001b[37m\u001b[0m \u001b[1m0s\u001b[0m 775us/step - accuracy: 0.8307 - loss: 0.3890 - val_accuracy: 0.7453 - val_loss: 0.6250\n",
      "Epoch 273/1000\n",
      "\u001b[1m392/392\u001b[0m \u001b[32m━━━━━━━━━━━━━━━━━━━━\u001b[0m\u001b[37m\u001b[0m \u001b[1m0s\u001b[0m 728us/step - accuracy: 0.8267 - loss: 0.3887 - val_accuracy: 0.7643 - val_loss: 0.5899\n",
      "Epoch 274/1000\n",
      "\u001b[1m392/392\u001b[0m \u001b[32m━━━━━━━━━━━━━━━━━━━━\u001b[0m\u001b[37m\u001b[0m \u001b[1m0s\u001b[0m 732us/step - accuracy: 0.8111 - loss: 0.4257 - val_accuracy: 0.8048 - val_loss: 0.5714\n",
      "Epoch 275/1000\n",
      "\u001b[1m392/392\u001b[0m \u001b[32m━━━━━━━━━━━━━━━━━━━━\u001b[0m\u001b[37m\u001b[0m \u001b[1m0s\u001b[0m 718us/step - accuracy: 0.8237 - loss: 0.3960 - val_accuracy: 0.7969 - val_loss: 0.6416\n",
      "Epoch 276/1000\n",
      "\u001b[1m392/392\u001b[0m \u001b[32m━━━━━━━━━━━━━━━━━━━━\u001b[0m\u001b[37m\u001b[0m \u001b[1m0s\u001b[0m 963us/step - accuracy: 0.8296 - loss: 0.3858 - val_accuracy: 0.8005 - val_loss: 0.5687\n",
      "Epoch 277/1000\n",
      "\u001b[1m392/392\u001b[0m \u001b[32m━━━━━━━━━━━━━━━━━━━━\u001b[0m\u001b[37m\u001b[0m \u001b[1m0s\u001b[0m 742us/step - accuracy: 0.8292 - loss: 0.3887 - val_accuracy: 0.8144 - val_loss: 0.5539\n",
      "Epoch 278/1000\n",
      "\u001b[1m392/392\u001b[0m \u001b[32m━━━━━━━━━━━━━━━━━━━━\u001b[0m\u001b[37m\u001b[0m \u001b[1m0s\u001b[0m 722us/step - accuracy: 0.8129 - loss: 0.4131 - val_accuracy: 0.7694 - val_loss: 0.6459\n",
      "Epoch 279/1000\n",
      "\u001b[1m392/392\u001b[0m \u001b[32m━━━━━━━━━━━━━━━━━━━━\u001b[0m\u001b[37m\u001b[0m \u001b[1m0s\u001b[0m 726us/step - accuracy: 0.8162 - loss: 0.4127 - val_accuracy: 0.6595 - val_loss: 0.9561\n",
      "Epoch 280/1000\n",
      "\u001b[1m392/392\u001b[0m \u001b[32m━━━━━━━━━━━━━━━━━━━━\u001b[0m\u001b[37m\u001b[0m \u001b[1m0s\u001b[0m 768us/step - accuracy: 0.8205 - loss: 0.3983 - val_accuracy: 0.8151 - val_loss: 0.5539\n",
      "Epoch 281/1000\n",
      "\u001b[1m392/392\u001b[0m \u001b[32m━━━━━━━━━━━━━━━━━━━━\u001b[0m\u001b[37m\u001b[0m \u001b[1m0s\u001b[0m 779us/step - accuracy: 0.8269 - loss: 0.3879 - val_accuracy: 0.8055 - val_loss: 0.5969\n",
      "Epoch 282/1000\n",
      "\u001b[1m392/392\u001b[0m \u001b[32m━━━━━━━━━━━━━━━━━━━━\u001b[0m\u001b[37m\u001b[0m \u001b[1m0s\u001b[0m 788us/step - accuracy: 0.8159 - loss: 0.4206 - val_accuracy: 0.8320 - val_loss: 0.5408\n",
      "Epoch 283/1000\n",
      "\u001b[1m392/392\u001b[0m \u001b[32m━━━━━━━━━━━━━━━━━━━━\u001b[0m\u001b[37m\u001b[0m \u001b[1m0s\u001b[0m 954us/step - accuracy: 0.8249 - loss: 0.3934 - val_accuracy: 0.8214 - val_loss: 0.5689\n",
      "Epoch 284/1000\n",
      "\u001b[1m392/392\u001b[0m \u001b[32m━━━━━━━━━━━━━━━━━━━━\u001b[0m\u001b[37m\u001b[0m \u001b[1m0s\u001b[0m 830us/step - accuracy: 0.8307 - loss: 0.3773 - val_accuracy: 0.8229 - val_loss: 0.5544\n",
      "Epoch 285/1000\n",
      "\u001b[1m392/392\u001b[0m \u001b[32m━━━━━━━━━━━━━━━━━━━━\u001b[0m\u001b[37m\u001b[0m \u001b[1m0s\u001b[0m 718us/step - accuracy: 0.8138 - loss: 0.4197 - val_accuracy: 0.8316 - val_loss: 0.5302\n",
      "Epoch 286/1000\n",
      "\u001b[1m392/392\u001b[0m \u001b[32m━━━━━━━━━━━━━━━━━━━━\u001b[0m\u001b[37m\u001b[0m \u001b[1m0s\u001b[0m 735us/step - accuracy: 0.8251 - loss: 0.3933 - val_accuracy: 0.8186 - val_loss: 0.5824\n",
      "Epoch 287/1000\n",
      "\u001b[1m392/392\u001b[0m \u001b[32m━━━━━━━━━━━━━━━━━━━━\u001b[0m\u001b[37m\u001b[0m \u001b[1m0s\u001b[0m 731us/step - accuracy: 0.8184 - loss: 0.4062 - val_accuracy: 0.8123 - val_loss: 0.5787\n",
      "Epoch 288/1000\n",
      "\u001b[1m392/392\u001b[0m \u001b[32m━━━━━━━━━━━━━━━━━━━━\u001b[0m\u001b[37m\u001b[0m \u001b[1m0s\u001b[0m 782us/step - accuracy: 0.8142 - loss: 0.4122 - val_accuracy: 0.7624 - val_loss: 0.6901\n",
      "Epoch 289/1000\n",
      "\u001b[1m392/392\u001b[0m \u001b[32m━━━━━━━━━━━━━━━━━━━━\u001b[0m\u001b[37m\u001b[0m \u001b[1m0s\u001b[0m 732us/step - accuracy: 0.8111 - loss: 0.4250 - val_accuracy: 0.8185 - val_loss: 0.5661\n",
      "Epoch 290/1000\n",
      "\u001b[1m392/392\u001b[0m \u001b[32m━━━━━━━━━━━━━━━━━━━━\u001b[0m\u001b[37m\u001b[0m \u001b[1m0s\u001b[0m 744us/step - accuracy: 0.8308 - loss: 0.3822 - val_accuracy: 0.8078 - val_loss: 0.5150\n",
      "Epoch 291/1000\n",
      "\u001b[1m392/392\u001b[0m \u001b[32m━━━━━━━━━━━━━━━━━━━━\u001b[0m\u001b[37m\u001b[0m \u001b[1m0s\u001b[0m 906us/step - accuracy: 0.8319 - loss: 0.3835 - val_accuracy: 0.7793 - val_loss: 0.5876\n",
      "Epoch 292/1000\n",
      "\u001b[1m392/392\u001b[0m \u001b[32m━━━━━━━━━━━━━━━━━━━━\u001b[0m\u001b[37m\u001b[0m \u001b[1m0s\u001b[0m 797us/step - accuracy: 0.8274 - loss: 0.3966 - val_accuracy: 0.7819 - val_loss: 0.5895\n",
      "Epoch 293/1000\n",
      "\u001b[1m392/392\u001b[0m \u001b[32m━━━━━━━━━━━━━━━━━━━━\u001b[0m\u001b[37m\u001b[0m \u001b[1m0s\u001b[0m 735us/step - accuracy: 0.8146 - loss: 0.4163 - val_accuracy: 0.7783 - val_loss: 0.6607\n",
      "Epoch 294/1000\n",
      "\u001b[1m392/392\u001b[0m \u001b[32m━━━━━━━━━━━━━━━━━━━━\u001b[0m\u001b[37m\u001b[0m \u001b[1m0s\u001b[0m 732us/step - accuracy: 0.8298 - loss: 0.3873 - val_accuracy: 0.8205 - val_loss: 0.6114\n",
      "Epoch 295/1000\n",
      "\u001b[1m392/392\u001b[0m \u001b[32m━━━━━━━━━━━━━━━━━━━━\u001b[0m\u001b[37m\u001b[0m \u001b[1m0s\u001b[0m 732us/step - accuracy: 0.8248 - loss: 0.3945 - val_accuracy: 0.7714 - val_loss: 0.5963\n",
      "Epoch 296/1000\n",
      "\u001b[1m392/392\u001b[0m \u001b[32m━━━━━━━━━━━━━━━━━━━━\u001b[0m\u001b[37m\u001b[0m \u001b[1m0s\u001b[0m 770us/step - accuracy: 0.8180 - loss: 0.4117 - val_accuracy: 0.6842 - val_loss: 0.7792\n",
      "Epoch 297/1000\n",
      "\u001b[1m392/392\u001b[0m \u001b[32m━━━━━━━━━━━━━━━━━━━━\u001b[0m\u001b[37m\u001b[0m \u001b[1m0s\u001b[0m 724us/step - accuracy: 0.8134 - loss: 0.4213 - val_accuracy: 0.8284 - val_loss: 0.5244\n",
      "Epoch 298/1000\n",
      "\u001b[1m392/392\u001b[0m \u001b[32m━━━━━━━━━━━━━━━━━━━━\u001b[0m\u001b[37m\u001b[0m \u001b[1m0s\u001b[0m 888us/step - accuracy: 0.8289 - loss: 0.3901 - val_accuracy: 0.7433 - val_loss: 0.6615\n",
      "Epoch 299/1000\n",
      "\u001b[1m392/392\u001b[0m \u001b[32m━━━━━━━━━━━━━━━━━━━━\u001b[0m\u001b[37m\u001b[0m \u001b[1m0s\u001b[0m 764us/step - accuracy: 0.8283 - loss: 0.3866 - val_accuracy: 0.7932 - val_loss: 0.5646\n",
      "Epoch 300/1000\n",
      "\u001b[1m392/392\u001b[0m \u001b[32m━━━━━━━━━━━━━━━━━━━━\u001b[0m\u001b[37m\u001b[0m \u001b[1m0s\u001b[0m 774us/step - accuracy: 0.8304 - loss: 0.3712 - val_accuracy: 0.8330 - val_loss: 0.5014\n",
      "Epoch 301/1000\n",
      "\u001b[1m392/392\u001b[0m \u001b[32m━━━━━━━━━━━━━━━━━━━━\u001b[0m\u001b[37m\u001b[0m \u001b[1m0s\u001b[0m 733us/step - accuracy: 0.8322 - loss: 0.3793 - val_accuracy: 0.8160 - val_loss: 0.5690\n",
      "Epoch 302/1000\n",
      "\u001b[1m392/392\u001b[0m \u001b[32m━━━━━━━━━━━━━━━━━━━━\u001b[0m\u001b[37m\u001b[0m \u001b[1m0s\u001b[0m 746us/step - accuracy: 0.8180 - loss: 0.4118 - val_accuracy: 0.8159 - val_loss: 0.5618\n",
      "Epoch 303/1000\n",
      "\u001b[1m392/392\u001b[0m \u001b[32m━━━━━━━━━━━━━━━━━━━━\u001b[0m\u001b[37m\u001b[0m \u001b[1m0s\u001b[0m 725us/step - accuracy: 0.8256 - loss: 0.3888 - val_accuracy: 0.8200 - val_loss: 0.5246\n",
      "Epoch 304/1000\n",
      "\u001b[1m392/392\u001b[0m \u001b[32m━━━━━━━━━━━━━━━━━━━━\u001b[0m\u001b[37m\u001b[0m \u001b[1m0s\u001b[0m 770us/step - accuracy: 0.8225 - loss: 0.4015 - val_accuracy: 0.7952 - val_loss: 0.5662\n",
      "Epoch 305/1000\n",
      "\u001b[1m392/392\u001b[0m \u001b[32m━━━━━━━━━━━━━━━━━━━━\u001b[0m\u001b[37m\u001b[0m \u001b[1m0s\u001b[0m 881us/step - accuracy: 0.8404 - loss: 0.3598 - val_accuracy: 0.7852 - val_loss: 0.6080\n",
      "Epoch 306/1000\n",
      "\u001b[1m392/392\u001b[0m \u001b[32m━━━━━━━━━━━━━━━━━━━━\u001b[0m\u001b[37m\u001b[0m \u001b[1m0s\u001b[0m 763us/step - accuracy: 0.8303 - loss: 0.3823 - val_accuracy: 0.8178 - val_loss: 0.5837\n",
      "Epoch 307/1000\n",
      "\u001b[1m392/392\u001b[0m \u001b[32m━━━━━━━━━━━━━━━━━━━━\u001b[0m\u001b[37m\u001b[0m \u001b[1m0s\u001b[0m 812us/step - accuracy: 0.8409 - loss: 0.3657 - val_accuracy: 0.8298 - val_loss: 0.5662\n",
      "Epoch 308/1000\n",
      "\u001b[1m392/392\u001b[0m \u001b[32m━━━━━━━━━━━━━━━━━━━━\u001b[0m\u001b[37m\u001b[0m \u001b[1m0s\u001b[0m 771us/step - accuracy: 0.8177 - loss: 0.4072 - val_accuracy: 0.8074 - val_loss: 0.5799\n",
      "Epoch 309/1000\n",
      "\u001b[1m392/392\u001b[0m \u001b[32m━━━━━━━━━━━━━━━━━━━━\u001b[0m\u001b[37m\u001b[0m \u001b[1m0s\u001b[0m 747us/step - accuracy: 0.8380 - loss: 0.3696 - val_accuracy: 0.7833 - val_loss: 0.5871\n",
      "Epoch 310/1000\n",
      "\u001b[1m392/392\u001b[0m \u001b[32m━━━━━━━━━━━━━━━━━━━━\u001b[0m\u001b[37m\u001b[0m \u001b[1m0s\u001b[0m 746us/step - accuracy: 0.8087 - loss: 0.4332 - val_accuracy: 0.8159 - val_loss: 0.5574\n",
      "Epoch 311/1000\n",
      "\u001b[1m392/392\u001b[0m \u001b[32m━━━━━━━━━━━━━━━━━━━━\u001b[0m\u001b[37m\u001b[0m \u001b[1m0s\u001b[0m 947us/step - accuracy: 0.8405 - loss: 0.3603 - val_accuracy: 0.7805 - val_loss: 0.6419\n",
      "Epoch 312/1000\n",
      "\u001b[1m392/392\u001b[0m \u001b[32m━━━━━━━━━━━━━━━━━━━━\u001b[0m\u001b[37m\u001b[0m \u001b[1m0s\u001b[0m 732us/step - accuracy: 0.8227 - loss: 0.3956 - val_accuracy: 0.8097 - val_loss: 0.7842\n",
      "Epoch 313/1000\n",
      "\u001b[1m392/392\u001b[0m \u001b[32m━━━━━━━━━━━━━━━━━━━━\u001b[0m\u001b[37m\u001b[0m \u001b[1m0s\u001b[0m 741us/step - accuracy: 0.8291 - loss: 0.3907 - val_accuracy: 0.7578 - val_loss: 0.6414\n",
      "Epoch 314/1000\n",
      "\u001b[1m392/392\u001b[0m \u001b[32m━━━━━━━━━━━━━━━━━━━━\u001b[0m\u001b[37m\u001b[0m \u001b[1m0s\u001b[0m 792us/step - accuracy: 0.8332 - loss: 0.3819 - val_accuracy: 0.8172 - val_loss: 0.5846\n",
      "Epoch 315/1000\n",
      "\u001b[1m392/392\u001b[0m \u001b[32m━━━━━━━━━━━━━━━━━━━━\u001b[0m\u001b[37m\u001b[0m \u001b[1m0s\u001b[0m 716us/step - accuracy: 0.8180 - loss: 0.4112 - val_accuracy: 0.8156 - val_loss: 0.5412\n",
      "Epoch 316/1000\n",
      "\u001b[1m392/392\u001b[0m \u001b[32m━━━━━━━━━━━━━━━━━━━━\u001b[0m\u001b[37m\u001b[0m \u001b[1m0s\u001b[0m 728us/step - accuracy: 0.8284 - loss: 0.3878 - val_accuracy: 0.8220 - val_loss: 0.5268\n",
      "Epoch 317/1000\n",
      "\u001b[1m392/392\u001b[0m \u001b[32m━━━━━━━━━━━━━━━━━━━━\u001b[0m\u001b[37m\u001b[0m \u001b[1m0s\u001b[0m 737us/step - accuracy: 0.8305 - loss: 0.3816 - val_accuracy: 0.8329 - val_loss: 0.5525\n",
      "Epoch 318/1000\n",
      "\u001b[1m392/392\u001b[0m \u001b[32m━━━━━━━━━━━━━━━━━━━━\u001b[0m\u001b[37m\u001b[0m \u001b[1m0s\u001b[0m 931us/step - accuracy: 0.8294 - loss: 0.3855 - val_accuracy: 0.8318 - val_loss: 0.5459\n",
      "Epoch 319/1000\n",
      "\u001b[1m392/392\u001b[0m \u001b[32m━━━━━━━━━━━━━━━━━━━━\u001b[0m\u001b[37m\u001b[0m \u001b[1m0s\u001b[0m 725us/step - accuracy: 0.8323 - loss: 0.3779 - val_accuracy: 0.8338 - val_loss: 0.5709\n",
      "Epoch 320/1000\n",
      "\u001b[1m392/392\u001b[0m \u001b[32m━━━━━━━━━━━━━━━━━━━━\u001b[0m\u001b[37m\u001b[0m \u001b[1m0s\u001b[0m 747us/step - accuracy: 0.8461 - loss: 0.3492 - val_accuracy: 0.8075 - val_loss: 0.5566\n",
      "Epoch 321/1000\n",
      "\u001b[1m392/392\u001b[0m \u001b[32m━━━━━━━━━━━━━━━━━━━━\u001b[0m\u001b[37m\u001b[0m \u001b[1m0s\u001b[0m 756us/step - accuracy: 0.8350 - loss: 0.3704 - val_accuracy: 0.6932 - val_loss: 0.8510\n",
      "Epoch 322/1000\n",
      "\u001b[1m392/392\u001b[0m \u001b[32m━━━━━━━━━━━━━━━━━━━━\u001b[0m\u001b[37m\u001b[0m \u001b[1m0s\u001b[0m 776us/step - accuracy: 0.8168 - loss: 0.4037 - val_accuracy: 0.7568 - val_loss: 0.6249\n",
      "Epoch 323/1000\n",
      "\u001b[1m392/392\u001b[0m \u001b[32m━━━━━━━━━━━━━━━━━━━━\u001b[0m\u001b[37m\u001b[0m \u001b[1m0s\u001b[0m 735us/step - accuracy: 0.8328 - loss: 0.3748 - val_accuracy: 0.7800 - val_loss: 0.5807\n",
      "Epoch 324/1000\n",
      "\u001b[1m392/392\u001b[0m \u001b[32m━━━━━━━━━━━━━━━━━━━━\u001b[0m\u001b[37m\u001b[0m \u001b[1m0s\u001b[0m 720us/step - accuracy: 0.8367 - loss: 0.3673 - val_accuracy: 0.7959 - val_loss: 0.5736\n",
      "Epoch 325/1000\n",
      "\u001b[1m392/392\u001b[0m \u001b[32m━━━━━━━━━━━━━━━━━━━━\u001b[0m\u001b[37m\u001b[0m \u001b[1m0s\u001b[0m 873us/step - accuracy: 0.8261 - loss: 0.3879 - val_accuracy: 0.7966 - val_loss: 0.5516\n",
      "Epoch 326/1000\n",
      "\u001b[1m392/392\u001b[0m \u001b[32m━━━━━━━━━━━━━━━━━━━━\u001b[0m\u001b[37m\u001b[0m \u001b[1m0s\u001b[0m 777us/step - accuracy: 0.8324 - loss: 0.3773 - val_accuracy: 0.6901 - val_loss: 0.7802\n",
      "Epoch 327/1000\n",
      "\u001b[1m392/392\u001b[0m \u001b[32m━━━━━━━━━━━━━━━━━━━━\u001b[0m\u001b[37m\u001b[0m \u001b[1m0s\u001b[0m 733us/step - accuracy: 0.8198 - loss: 0.4009 - val_accuracy: 0.8342 - val_loss: 0.5658\n",
      "Epoch 328/1000\n",
      "\u001b[1m392/392\u001b[0m \u001b[32m━━━━━━━━━━━━━━━━━━━━\u001b[0m\u001b[37m\u001b[0m \u001b[1m0s\u001b[0m 770us/step - accuracy: 0.8433 - loss: 0.3562 - val_accuracy: 0.8234 - val_loss: 0.5056\n",
      "Epoch 329/1000\n",
      "\u001b[1m392/392\u001b[0m \u001b[32m━━━━━━━━━━━━━━━━━━━━\u001b[0m\u001b[37m\u001b[0m \u001b[1m0s\u001b[0m 805us/step - accuracy: 0.8375 - loss: 0.3677 - val_accuracy: 0.7932 - val_loss: 0.6331\n",
      "Epoch 330/1000\n",
      "\u001b[1m392/392\u001b[0m \u001b[32m━━━━━━━━━━━━━━━━━━━━\u001b[0m\u001b[37m\u001b[0m \u001b[1m0s\u001b[0m 728us/step - accuracy: 0.8282 - loss: 0.3863 - val_accuracy: 0.8306 - val_loss: 0.5276\n",
      "Epoch 331/1000\n",
      "\u001b[1m392/392\u001b[0m \u001b[32m━━━━━━━━━━━━━━━━━━━━\u001b[0m\u001b[37m\u001b[0m \u001b[1m0s\u001b[0m 894us/step - accuracy: 0.8337 - loss: 0.3771 - val_accuracy: 0.8263 - val_loss: 0.5662\n",
      "Epoch 332/1000\n",
      "\u001b[1m392/392\u001b[0m \u001b[32m━━━━━━━━━━━━━━━━━━━━\u001b[0m\u001b[37m\u001b[0m \u001b[1m0s\u001b[0m 784us/step - accuracy: 0.8373 - loss: 0.3659 - val_accuracy: 0.7881 - val_loss: 0.6517\n",
      "Epoch 333/1000\n",
      "\u001b[1m392/392\u001b[0m \u001b[32m━━━━━━━━━━━━━━━━━━━━\u001b[0m\u001b[37m\u001b[0m \u001b[1m0s\u001b[0m 733us/step - accuracy: 0.8301 - loss: 0.3758 - val_accuracy: 0.8340 - val_loss: 0.5571\n",
      "Epoch 334/1000\n",
      "\u001b[1m392/392\u001b[0m \u001b[32m━━━━━━━━━━━━━━━━━━━━\u001b[0m\u001b[37m\u001b[0m \u001b[1m0s\u001b[0m 728us/step - accuracy: 0.8296 - loss: 0.3808 - val_accuracy: 0.7301 - val_loss: 0.6654\n",
      "Epoch 335/1000\n",
      "\u001b[1m392/392\u001b[0m \u001b[32m━━━━━━━━━━━━━━━━━━━━\u001b[0m\u001b[37m\u001b[0m \u001b[1m0s\u001b[0m 755us/step - accuracy: 0.8284 - loss: 0.3909 - val_accuracy: 0.8010 - val_loss: 0.5731\n",
      "Epoch 336/1000\n",
      "\u001b[1m392/392\u001b[0m \u001b[32m━━━━━━━━━━━━━━━━━━━━\u001b[0m\u001b[37m\u001b[0m \u001b[1m0s\u001b[0m 812us/step - accuracy: 0.8292 - loss: 0.3745 - val_accuracy: 0.7679 - val_loss: 0.6511\n",
      "Epoch 337/1000\n",
      "\u001b[1m392/392\u001b[0m \u001b[32m━━━━━━━━━━━━━━━━━━━━\u001b[0m\u001b[37m\u001b[0m \u001b[1m0s\u001b[0m 866us/step - accuracy: 0.8114 - loss: 0.4246 - val_accuracy: 0.7708 - val_loss: 0.5884\n",
      "Epoch 338/1000\n",
      "\u001b[1m392/392\u001b[0m \u001b[32m━━━━━━━━━━━━━━━━━━━━\u001b[0m\u001b[37m\u001b[0m \u001b[1m0s\u001b[0m 729us/step - accuracy: 0.8153 - loss: 0.4150 - val_accuracy: 0.8186 - val_loss: 0.5157\n",
      "Epoch 339/1000\n",
      "\u001b[1m392/392\u001b[0m \u001b[32m━━━━━━━━━━━━━━━━━━━━\u001b[0m\u001b[37m\u001b[0m \u001b[1m0s\u001b[0m 733us/step - accuracy: 0.8342 - loss: 0.3725 - val_accuracy: 0.7837 - val_loss: 0.5832\n",
      "Epoch 340/1000\n",
      "\u001b[1m392/392\u001b[0m \u001b[32m━━━━━━━━━━━━━━━━━━━━\u001b[0m\u001b[37m\u001b[0m \u001b[1m0s\u001b[0m 778us/step - accuracy: 0.8176 - loss: 0.4092 - val_accuracy: 0.8207 - val_loss: 0.6261\n",
      "Epoch 341/1000\n",
      "\u001b[1m392/392\u001b[0m \u001b[32m━━━━━━━━━━━━━━━━━━━━\u001b[0m\u001b[37m\u001b[0m \u001b[1m0s\u001b[0m 732us/step - accuracy: 0.8350 - loss: 0.3763 - val_accuracy: 0.7400 - val_loss: 0.7300\n",
      "Epoch 342/1000\n",
      "\u001b[1m392/392\u001b[0m \u001b[32m━━━━━━━━━━━━━━━━━━━━\u001b[0m\u001b[37m\u001b[0m \u001b[1m0s\u001b[0m 722us/step - accuracy: 0.8290 - loss: 0.3835 - val_accuracy: 0.7964 - val_loss: 0.5913\n",
      "Epoch 343/1000\n",
      "\u001b[1m392/392\u001b[0m \u001b[32m━━━━━━━━━━━━━━━━━━━━\u001b[0m\u001b[37m\u001b[0m \u001b[1m0s\u001b[0m 806us/step - accuracy: 0.8391 - loss: 0.3616 - val_accuracy: 0.8313 - val_loss: 0.5716\n",
      "Epoch 344/1000\n",
      "\u001b[1m392/392\u001b[0m \u001b[32m━━━━━━━━━━━━━━━━━━━━\u001b[0m\u001b[37m\u001b[0m \u001b[1m0s\u001b[0m 901us/step - accuracy: 0.8270 - loss: 0.3929 - val_accuracy: 0.7106 - val_loss: 0.7004\n",
      "Epoch 345/1000\n",
      "\u001b[1m392/392\u001b[0m \u001b[32m━━━━━━━━━━━━━━━━━━━━\u001b[0m\u001b[37m\u001b[0m \u001b[1m0s\u001b[0m 744us/step - accuracy: 0.8280 - loss: 0.3870 - val_accuracy: 0.7493 - val_loss: 0.6696\n",
      "Epoch 346/1000\n",
      "\u001b[1m392/392\u001b[0m \u001b[32m━━━━━━━━━━━━━━━━━━━━\u001b[0m\u001b[37m\u001b[0m \u001b[1m0s\u001b[0m 778us/step - accuracy: 0.8350 - loss: 0.3696 - val_accuracy: 0.7758 - val_loss: 0.7883\n",
      "Epoch 347/1000\n",
      "\u001b[1m392/392\u001b[0m \u001b[32m━━━━━━━━━━━━━━━━━━━━\u001b[0m\u001b[37m\u001b[0m \u001b[1m0s\u001b[0m 720us/step - accuracy: 0.8307 - loss: 0.3914 - val_accuracy: 0.6680 - val_loss: 0.8481\n",
      "Epoch 348/1000\n",
      "\u001b[1m392/392\u001b[0m \u001b[32m━━━━━━━━━━━━━━━━━━━━\u001b[0m\u001b[37m\u001b[0m \u001b[1m0s\u001b[0m 726us/step - accuracy: 0.8251 - loss: 0.4018 - val_accuracy: 0.8252 - val_loss: 0.5484\n",
      "Epoch 349/1000\n",
      "\u001b[1m392/392\u001b[0m \u001b[32m━━━━━━━━━━━━━━━━━━━━\u001b[0m\u001b[37m\u001b[0m \u001b[1m0s\u001b[0m 734us/step - accuracy: 0.8403 - loss: 0.3574 - val_accuracy: 0.8253 - val_loss: 0.5606\n",
      "Epoch 350/1000\n",
      "\u001b[1m392/392\u001b[0m \u001b[32m━━━━━━━━━━━━━━━━━━━━\u001b[0m\u001b[37m\u001b[0m \u001b[1m0s\u001b[0m 965us/step - accuracy: 0.8266 - loss: 0.3919 - val_accuracy: 0.8265 - val_loss: 0.5436\n",
      "Epoch 351/1000\n",
      "\u001b[1m392/392\u001b[0m \u001b[32m━━━━━━━━━━━━━━━━━━━━\u001b[0m\u001b[37m\u001b[0m \u001b[1m0s\u001b[0m 767us/step - accuracy: 0.8210 - loss: 0.4018 - val_accuracy: 0.7592 - val_loss: 0.6684\n",
      "Epoch 352/1000\n",
      "\u001b[1m392/392\u001b[0m \u001b[32m━━━━━━━━━━━━━━━━━━━━\u001b[0m\u001b[37m\u001b[0m \u001b[1m0s\u001b[0m 727us/step - accuracy: 0.8303 - loss: 0.3943 - val_accuracy: 0.8281 - val_loss: 0.5420\n",
      "Epoch 353/1000\n",
      "\u001b[1m392/392\u001b[0m \u001b[32m━━━━━━━━━━━━━━━━━━━━\u001b[0m\u001b[37m\u001b[0m \u001b[1m0s\u001b[0m 780us/step - accuracy: 0.8358 - loss: 0.3693 - val_accuracy: 0.8220 - val_loss: 0.5716\n",
      "Epoch 354/1000\n",
      "\u001b[1m392/392\u001b[0m \u001b[32m━━━━━━━━━━━━━━━━━━━━\u001b[0m\u001b[37m\u001b[0m \u001b[1m0s\u001b[0m 727us/step - accuracy: 0.8359 - loss: 0.3730 - val_accuracy: 0.8344 - val_loss: 0.5413\n",
      "Epoch 355/1000\n",
      "\u001b[1m392/392\u001b[0m \u001b[32m━━━━━━━━━━━━━━━━━━━━\u001b[0m\u001b[37m\u001b[0m \u001b[1m0s\u001b[0m 732us/step - accuracy: 0.8386 - loss: 0.3597 - val_accuracy: 0.8314 - val_loss: 0.5103\n",
      "Epoch 356/1000\n",
      "\u001b[1m392/392\u001b[0m \u001b[32m━━━━━━━━━━━━━━━━━━━━\u001b[0m\u001b[37m\u001b[0m \u001b[1m0s\u001b[0m 721us/step - accuracy: 0.8399 - loss: 0.3618 - val_accuracy: 0.8182 - val_loss: 0.5797\n",
      "Epoch 357/1000\n",
      "\u001b[1m392/392\u001b[0m \u001b[32m━━━━━━━━━━━━━━━━━━━━\u001b[0m\u001b[37m\u001b[0m \u001b[1m0s\u001b[0m 928us/step - accuracy: 0.8441 - loss: 0.3480 - val_accuracy: 0.8129 - val_loss: 0.5964\n",
      "Epoch 358/1000\n",
      "\u001b[1m392/392\u001b[0m \u001b[32m━━━━━━━━━━━━━━━━━━━━\u001b[0m\u001b[37m\u001b[0m \u001b[1m0s\u001b[0m 809us/step - accuracy: 0.8234 - loss: 0.3906 - val_accuracy: 0.8170 - val_loss: 0.5772\n",
      "Epoch 359/1000\n",
      "\u001b[1m392/392\u001b[0m \u001b[32m━━━━━━━━━━━━━━━━━━━━\u001b[0m\u001b[37m\u001b[0m \u001b[1m0s\u001b[0m 773us/step - accuracy: 0.8406 - loss: 0.3558 - val_accuracy: 0.7784 - val_loss: 0.5940\n",
      "Epoch 360/1000\n",
      "\u001b[1m392/392\u001b[0m \u001b[32m━━━━━━━━━━━━━━━━━━━━\u001b[0m\u001b[37m\u001b[0m \u001b[1m0s\u001b[0m 771us/step - accuracy: 0.8336 - loss: 0.3695 - val_accuracy: 0.7699 - val_loss: 0.7117\n",
      "Epoch 361/1000\n",
      "\u001b[1m392/392\u001b[0m \u001b[32m━━━━━━━━━━━━━━━━━━━━\u001b[0m\u001b[37m\u001b[0m \u001b[1m0s\u001b[0m 729us/step - accuracy: 0.8294 - loss: 0.3848 - val_accuracy: 0.8271 - val_loss: 0.5744\n",
      "Epoch 362/1000\n",
      "\u001b[1m392/392\u001b[0m \u001b[32m━━━━━━━━━━━━━━━━━━━━\u001b[0m\u001b[37m\u001b[0m \u001b[1m0s\u001b[0m 884us/step - accuracy: 0.8304 - loss: 0.3840 - val_accuracy: 0.7869 - val_loss: 0.6247\n",
      "Epoch 363/1000\n",
      "\u001b[1m392/392\u001b[0m \u001b[32m━━━━━━━━━━━━━━━━━━━━\u001b[0m\u001b[37m\u001b[0m \u001b[1m0s\u001b[0m 770us/step - accuracy: 0.8411 - loss: 0.3575 - val_accuracy: 0.8214 - val_loss: 0.5299\n",
      "Epoch 364/1000\n",
      "\u001b[1m392/392\u001b[0m \u001b[32m━━━━━━━━━━━━━━━━━━━━\u001b[0m\u001b[37m\u001b[0m \u001b[1m0s\u001b[0m 731us/step - accuracy: 0.8372 - loss: 0.3656 - val_accuracy: 0.8005 - val_loss: 0.6361\n",
      "Epoch 365/1000\n",
      "\u001b[1m392/392\u001b[0m \u001b[32m━━━━━━━━━━━━━━━━━━━━\u001b[0m\u001b[37m\u001b[0m \u001b[1m0s\u001b[0m 749us/step - accuracy: 0.8324 - loss: 0.3756 - val_accuracy: 0.8360 - val_loss: 0.5216\n",
      "Epoch 366/1000\n",
      "\u001b[1m392/392\u001b[0m \u001b[32m━━━━━━━━━━━━━━━━━━━━\u001b[0m\u001b[37m\u001b[0m \u001b[1m0s\u001b[0m 792us/step - accuracy: 0.8332 - loss: 0.3836 - val_accuracy: 0.7345 - val_loss: 0.7129\n",
      "Epoch 367/1000\n",
      "\u001b[1m392/392\u001b[0m \u001b[32m━━━━━━━━━━━━━━━━━━━━\u001b[0m\u001b[37m\u001b[0m \u001b[1m0s\u001b[0m 727us/step - accuracy: 0.8364 - loss: 0.3652 - val_accuracy: 0.8275 - val_loss: 0.5407\n",
      "Epoch 368/1000\n",
      "\u001b[1m392/392\u001b[0m \u001b[32m━━━━━━━━━━━━━━━━━━━━\u001b[0m\u001b[37m\u001b[0m \u001b[1m0s\u001b[0m 895us/step - accuracy: 0.8387 - loss: 0.3653 - val_accuracy: 0.8411 - val_loss: 0.4755\n",
      "Epoch 369/1000\n",
      "\u001b[1m392/392\u001b[0m \u001b[32m━━━━━━━━━━━━━━━━━━━━\u001b[0m\u001b[37m\u001b[0m \u001b[1m0s\u001b[0m 781us/step - accuracy: 0.8365 - loss: 0.3659 - val_accuracy: 0.8117 - val_loss: 0.6629\n",
      "Epoch 370/1000\n",
      "\u001b[1m392/392\u001b[0m \u001b[32m━━━━━━━━━━━━━━━━━━━━\u001b[0m\u001b[37m\u001b[0m \u001b[1m0s\u001b[0m 722us/step - accuracy: 0.8300 - loss: 0.3803 - val_accuracy: 0.7845 - val_loss: 0.5990\n",
      "Epoch 371/1000\n",
      "\u001b[1m392/392\u001b[0m \u001b[32m━━━━━━━━━━━━━━━━━━━━\u001b[0m\u001b[37m\u001b[0m \u001b[1m0s\u001b[0m 730us/step - accuracy: 0.8374 - loss: 0.3654 - val_accuracy: 0.6881 - val_loss: 0.7757\n",
      "Epoch 372/1000\n",
      "\u001b[1m392/392\u001b[0m \u001b[32m━━━━━━━━━━━━━━━━━━━━\u001b[0m\u001b[37m\u001b[0m \u001b[1m0s\u001b[0m 771us/step - accuracy: 0.8430 - loss: 0.3571 - val_accuracy: 0.7708 - val_loss: 0.6524\n",
      "Epoch 373/1000\n",
      "\u001b[1m392/392\u001b[0m \u001b[32m━━━━━━━━━━━━━━━━━━━━\u001b[0m\u001b[37m\u001b[0m \u001b[1m0s\u001b[0m 761us/step - accuracy: 0.8448 - loss: 0.3474 - val_accuracy: 0.8207 - val_loss: 0.6076\n",
      "Epoch 374/1000\n",
      "\u001b[1m392/392\u001b[0m \u001b[32m━━━━━━━━━━━━━━━━━━━━\u001b[0m\u001b[37m\u001b[0m \u001b[1m0s\u001b[0m 899us/step - accuracy: 0.8471 - loss: 0.3480 - val_accuracy: 0.7597 - val_loss: 0.6109\n",
      "Epoch 375/1000\n",
      "\u001b[1m392/392\u001b[0m \u001b[32m━━━━━━━━━━━━━━━━━━━━\u001b[0m\u001b[37m\u001b[0m \u001b[1m0s\u001b[0m 780us/step - accuracy: 0.8436 - loss: 0.3531 - val_accuracy: 0.7529 - val_loss: 0.6539\n",
      "Epoch 376/1000\n",
      "\u001b[1m392/392\u001b[0m \u001b[32m━━━━━━━━━━━━━━━━━━━━\u001b[0m\u001b[37m\u001b[0m \u001b[1m0s\u001b[0m 731us/step - accuracy: 0.8325 - loss: 0.3784 - val_accuracy: 0.8211 - val_loss: 0.6038\n",
      "Epoch 377/1000\n",
      "\u001b[1m392/392\u001b[0m \u001b[32m━━━━━━━━━━━━━━━━━━━━\u001b[0m\u001b[37m\u001b[0m \u001b[1m0s\u001b[0m 727us/step - accuracy: 0.8419 - loss: 0.3593 - val_accuracy: 0.8418 - val_loss: 0.5198\n",
      "Epoch 378/1000\n",
      "\u001b[1m392/392\u001b[0m \u001b[32m━━━━━━━━━━━━━━━━━━━━\u001b[0m\u001b[37m\u001b[0m \u001b[1m0s\u001b[0m 773us/step - accuracy: 0.8421 - loss: 0.3528 - val_accuracy: 0.7976 - val_loss: 0.5929\n",
      "Epoch 379/1000\n",
      "\u001b[1m392/392\u001b[0m \u001b[32m━━━━━━━━━━━━━━━━━━━━\u001b[0m\u001b[37m\u001b[0m \u001b[1m0s\u001b[0m 719us/step - accuracy: 0.8348 - loss: 0.3735 - val_accuracy: 0.8006 - val_loss: 0.5734\n",
      "Epoch 380/1000\n",
      "\u001b[1m392/392\u001b[0m \u001b[32m━━━━━━━━━━━━━━━━━━━━\u001b[0m\u001b[37m\u001b[0m \u001b[1m0s\u001b[0m 964us/step - accuracy: 0.8362 - loss: 0.3629 - val_accuracy: 0.8042 - val_loss: 0.5923\n",
      "Epoch 381/1000\n",
      "\u001b[1m392/392\u001b[0m \u001b[32m━━━━━━━━━━━━━━━━━━━━\u001b[0m\u001b[37m\u001b[0m \u001b[1m0s\u001b[0m 796us/step - accuracy: 0.8310 - loss: 0.3817 - val_accuracy: 0.8000 - val_loss: 0.5412\n",
      "Epoch 382/1000\n",
      "\u001b[1m392/392\u001b[0m \u001b[32m━━━━━━━━━━━━━━━━━━━━\u001b[0m\u001b[37m\u001b[0m \u001b[1m0s\u001b[0m 734us/step - accuracy: 0.8480 - loss: 0.3407 - val_accuracy: 0.8349 - val_loss: 0.5481\n",
      "Epoch 383/1000\n",
      "\u001b[1m392/392\u001b[0m \u001b[32m━━━━━━━━━━━━━━━━━━━━\u001b[0m\u001b[37m\u001b[0m \u001b[1m0s\u001b[0m 717us/step - accuracy: 0.8495 - loss: 0.3410 - val_accuracy: 0.8289 - val_loss: 0.5356\n",
      "Epoch 384/1000\n",
      "\u001b[1m392/392\u001b[0m \u001b[32m━━━━━━━━━━━━━━━━━━━━\u001b[0m\u001b[37m\u001b[0m \u001b[1m0s\u001b[0m 779us/step - accuracy: 0.8352 - loss: 0.3747 - val_accuracy: 0.8017 - val_loss: 0.5704\n",
      "Epoch 385/1000\n",
      "\u001b[1m392/392\u001b[0m \u001b[32m━━━━━━━━━━━━━━━━━━━━\u001b[0m\u001b[37m\u001b[0m \u001b[1m0s\u001b[0m 729us/step - accuracy: 0.8415 - loss: 0.3606 - val_accuracy: 0.8214 - val_loss: 0.6049\n",
      "Epoch 386/1000\n",
      "\u001b[1m392/392\u001b[0m \u001b[32m━━━━━━━━━━━━━━━━━━━━\u001b[0m\u001b[37m\u001b[0m \u001b[1m0s\u001b[0m 874us/step - accuracy: 0.8422 - loss: 0.3540 - val_accuracy: 0.7758 - val_loss: 0.6034\n",
      "Epoch 387/1000\n",
      "\u001b[1m392/392\u001b[0m \u001b[32m━━━━━━━━━━━━━━━━━━━━\u001b[0m\u001b[37m\u001b[0m \u001b[1m0s\u001b[0m 776us/step - accuracy: 0.8222 - loss: 0.4061 - val_accuracy: 0.8164 - val_loss: 0.6027\n",
      "Epoch 388/1000\n",
      "\u001b[1m392/392\u001b[0m \u001b[32m━━━━━━━━━━━━━━━━━━━━\u001b[0m\u001b[37m\u001b[0m \u001b[1m0s\u001b[0m 757us/step - accuracy: 0.8418 - loss: 0.3595 - val_accuracy: 0.8149 - val_loss: 0.5556\n",
      "Epoch 389/1000\n",
      "\u001b[1m392/392\u001b[0m \u001b[32m━━━━━━━━━━━━━━━━━━━━\u001b[0m\u001b[37m\u001b[0m \u001b[1m0s\u001b[0m 729us/step - accuracy: 0.8294 - loss: 0.3881 - val_accuracy: 0.8251 - val_loss: 0.6022\n",
      "Epoch 390/1000\n",
      "\u001b[1m392/392\u001b[0m \u001b[32m━━━━━━━━━━━━━━━━━━━━\u001b[0m\u001b[37m\u001b[0m \u001b[1m0s\u001b[0m 723us/step - accuracy: 0.8330 - loss: 0.3837 - val_accuracy: 0.8464 - val_loss: 0.5399\n",
      "Epoch 391/1000\n",
      "\u001b[1m392/392\u001b[0m \u001b[32m━━━━━━━━━━━━━━━━━━━━\u001b[0m\u001b[37m\u001b[0m \u001b[1m0s\u001b[0m 783us/step - accuracy: 0.8423 - loss: 0.3564 - val_accuracy: 0.7608 - val_loss: 0.7019\n",
      "Epoch 392/1000\n",
      "\u001b[1m392/392\u001b[0m \u001b[32m━━━━━━━━━━━━━━━━━━━━\u001b[0m\u001b[37m\u001b[0m \u001b[1m0s\u001b[0m 890us/step - accuracy: 0.8408 - loss: 0.3627 - val_accuracy: 0.8460 - val_loss: 0.4895\n",
      "Epoch 393/1000\n",
      "\u001b[1m392/392\u001b[0m \u001b[32m━━━━━━━━━━━━━━━━━━━━\u001b[0m\u001b[37m\u001b[0m \u001b[1m0s\u001b[0m 780us/step - accuracy: 0.8439 - loss: 0.3524 - val_accuracy: 0.8187 - val_loss: 0.5134\n",
      "Epoch 394/1000\n",
      "\u001b[1m392/392\u001b[0m \u001b[32m━━━━━━━━━━━━━━━━━━━━\u001b[0m\u001b[37m\u001b[0m \u001b[1m0s\u001b[0m 728us/step - accuracy: 0.8458 - loss: 0.3555 - val_accuracy: 0.7190 - val_loss: 0.8386\n",
      "Epoch 395/1000\n",
      "\u001b[1m392/392\u001b[0m \u001b[32m━━━━━━━━━━━━━━━━━━━━\u001b[0m\u001b[37m\u001b[0m \u001b[1m0s\u001b[0m 754us/step - accuracy: 0.8270 - loss: 0.3870 - val_accuracy: 0.7289 - val_loss: 0.7777\n",
      "Epoch 396/1000\n",
      "\u001b[1m392/392\u001b[0m \u001b[32m━━━━━━━━━━━━━━━━━━━━\u001b[0m\u001b[37m\u001b[0m \u001b[1m0s\u001b[0m 789us/step - accuracy: 0.8460 - loss: 0.3565 - val_accuracy: 0.8317 - val_loss: 0.5686\n",
      "Epoch 397/1000\n",
      "\u001b[1m392/392\u001b[0m \u001b[32m━━━━━━━━━━━━━━━━━━━━\u001b[0m\u001b[37m\u001b[0m \u001b[1m0s\u001b[0m 884us/step - accuracy: 0.8390 - loss: 0.3639 - val_accuracy: 0.8388 - val_loss: 0.5425\n",
      "Epoch 398/1000\n",
      "\u001b[1m392/392\u001b[0m \u001b[32m━━━━━━━━━━━━━━━━━━━━\u001b[0m\u001b[37m\u001b[0m \u001b[1m0s\u001b[0m 732us/step - accuracy: 0.8426 - loss: 0.3572 - val_accuracy: 0.8326 - val_loss: 0.4978\n",
      "Epoch 399/1000\n",
      "\u001b[1m392/392\u001b[0m \u001b[32m━━━━━━━━━━━━━━━━━━━━\u001b[0m\u001b[37m\u001b[0m \u001b[1m0s\u001b[0m 806us/step - accuracy: 0.8361 - loss: 0.3718 - val_accuracy: 0.8318 - val_loss: 0.5553\n",
      "Epoch 400/1000\n",
      "\u001b[1m392/392\u001b[0m \u001b[32m━━━━━━━━━━━━━━━━━━━━\u001b[0m\u001b[37m\u001b[0m \u001b[1m0s\u001b[0m 788us/step - accuracy: 0.8448 - loss: 0.3512 - val_accuracy: 0.8522 - val_loss: 0.5166\n",
      "Epoch 401/1000\n",
      "\u001b[1m392/392\u001b[0m \u001b[32m━━━━━━━━━━━━━━━━━━━━\u001b[0m\u001b[37m\u001b[0m \u001b[1m0s\u001b[0m 737us/step - accuracy: 0.8469 - loss: 0.3437 - val_accuracy: 0.8370 - val_loss: 0.5681\n",
      "Epoch 402/1000\n",
      "\u001b[1m392/392\u001b[0m \u001b[32m━━━━━━━━━━━━━━━━━━━━\u001b[0m\u001b[37m\u001b[0m \u001b[1m0s\u001b[0m 959us/step - accuracy: 0.8361 - loss: 0.3700 - val_accuracy: 0.7318 - val_loss: 0.7090\n",
      "Epoch 403/1000\n",
      "\u001b[1m392/392\u001b[0m \u001b[32m━━━━━━━━━━━━━━━━━━━━\u001b[0m\u001b[37m\u001b[0m \u001b[1m0s\u001b[0m 735us/step - accuracy: 0.8376 - loss: 0.3636 - val_accuracy: 0.8281 - val_loss: 0.5437\n",
      "Epoch 404/1000\n",
      "\u001b[1m392/392\u001b[0m \u001b[32m━━━━━━━━━━━━━━━━━━━━\u001b[0m\u001b[37m\u001b[0m \u001b[1m0s\u001b[0m 715us/step - accuracy: 0.8386 - loss: 0.3628 - val_accuracy: 0.8390 - val_loss: 0.5317\n",
      "Epoch 405/1000\n",
      "\u001b[1m392/392\u001b[0m \u001b[32m━━━━━━━━━━━━━━━━━━━━\u001b[0m\u001b[37m\u001b[0m \u001b[1m0s\u001b[0m 782us/step - accuracy: 0.8433 - loss: 0.3522 - val_accuracy: 0.8022 - val_loss: 0.5459\n",
      "Epoch 406/1000\n",
      "\u001b[1m392/392\u001b[0m \u001b[32m━━━━━━━━━━━━━━━━━━━━\u001b[0m\u001b[37m\u001b[0m \u001b[1m0s\u001b[0m 730us/step - accuracy: 0.8397 - loss: 0.3682 - val_accuracy: 0.7680 - val_loss: 0.6272\n",
      "Epoch 407/1000\n",
      "\u001b[1m392/392\u001b[0m \u001b[32m━━━━━━━━━━━━━━━━━━━━\u001b[0m\u001b[37m\u001b[0m \u001b[1m0s\u001b[0m 738us/step - accuracy: 0.8457 - loss: 0.3441 - val_accuracy: 0.8325 - val_loss: 0.5483\n",
      "Epoch 408/1000\n",
      "\u001b[1m392/392\u001b[0m \u001b[32m━━━━━━━━━━━━━━━━━━━━\u001b[0m\u001b[37m\u001b[0m \u001b[1m0s\u001b[0m 980us/step - accuracy: 0.8435 - loss: 0.3548 - val_accuracy: 0.8194 - val_loss: 0.5897\n",
      "Epoch 409/1000\n",
      "\u001b[1m392/392\u001b[0m \u001b[32m━━━━━━━━━━━━━━━━━━━━\u001b[0m\u001b[37m\u001b[0m \u001b[1m0s\u001b[0m 787us/step - accuracy: 0.8450 - loss: 0.3495 - val_accuracy: 0.8459 - val_loss: 0.5828\n",
      "Epoch 410/1000\n",
      "\u001b[1m392/392\u001b[0m \u001b[32m━━━━━━━━━━━━━━━━━━━━\u001b[0m\u001b[37m\u001b[0m \u001b[1m0s\u001b[0m 799us/step - accuracy: 0.8462 - loss: 0.3423 - val_accuracy: 0.8278 - val_loss: 0.5896\n",
      "Epoch 411/1000\n",
      "\u001b[1m392/392\u001b[0m \u001b[32m━━━━━━━━━━━━━━━━━━━━\u001b[0m\u001b[37m\u001b[0m \u001b[1m0s\u001b[0m 733us/step - accuracy: 0.8337 - loss: 0.3754 - val_accuracy: 0.8202 - val_loss: 0.5805\n",
      "Epoch 412/1000\n",
      "\u001b[1m392/392\u001b[0m \u001b[32m━━━━━━━━━━━━━━━━━━━━\u001b[0m\u001b[37m\u001b[0m \u001b[1m0s\u001b[0m 728us/step - accuracy: 0.8404 - loss: 0.3563 - val_accuracy: 0.8257 - val_loss: 0.5908\n",
      "Epoch 413/1000\n",
      "\u001b[1m392/392\u001b[0m \u001b[32m━━━━━━━━━━━━━━━━━━━━\u001b[0m\u001b[37m\u001b[0m \u001b[1m0s\u001b[0m 922us/step - accuracy: 0.8406 - loss: 0.3616 - val_accuracy: 0.7950 - val_loss: 0.6810\n",
      "Epoch 414/1000\n",
      "\u001b[1m392/392\u001b[0m \u001b[32m━━━━━━━━━━━━━━━━━━━━\u001b[0m\u001b[37m\u001b[0m \u001b[1m0s\u001b[0m 731us/step - accuracy: 0.8418 - loss: 0.3626 - val_accuracy: 0.8067 - val_loss: 0.5572\n",
      "Epoch 415/1000\n",
      "\u001b[1m392/392\u001b[0m \u001b[32m━━━━━━━━━━━━━━━━━━━━\u001b[0m\u001b[37m\u001b[0m \u001b[1m0s\u001b[0m 729us/step - accuracy: 0.8446 - loss: 0.3511 - val_accuracy: 0.8277 - val_loss: 0.6953\n",
      "Epoch 416/1000\n",
      "\u001b[1m392/392\u001b[0m \u001b[32m━━━━━━━━━━━━━━━━━━━━\u001b[0m\u001b[37m\u001b[0m \u001b[1m0s\u001b[0m 776us/step - accuracy: 0.8414 - loss: 0.3524 - val_accuracy: 0.8430 - val_loss: 0.5330\n",
      "Epoch 417/1000\n",
      "\u001b[1m392/392\u001b[0m \u001b[32m━━━━━━━━━━━━━━━━━━━━\u001b[0m\u001b[37m\u001b[0m \u001b[1m0s\u001b[0m 774us/step - accuracy: 0.8449 - loss: 0.3550 - val_accuracy: 0.7883 - val_loss: 0.6520\n",
      "Epoch 418/1000\n",
      "\u001b[1m392/392\u001b[0m \u001b[32m━━━━━━━━━━━━━━━━━━━━\u001b[0m\u001b[37m\u001b[0m \u001b[1m0s\u001b[0m 726us/step - accuracy: 0.8339 - loss: 0.3700 - val_accuracy: 0.8477 - val_loss: 0.4825\n",
      "Epoch 419/1000\n",
      "\u001b[1m392/392\u001b[0m \u001b[32m━━━━━━━━━━━━━━━━━━━━\u001b[0m\u001b[37m\u001b[0m \u001b[1m0s\u001b[0m 944us/step - accuracy: 0.8465 - loss: 0.3460 - val_accuracy: 0.8154 - val_loss: 0.6013\n",
      "Epoch 420/1000\n",
      "\u001b[1m392/392\u001b[0m \u001b[32m━━━━━━━━━━━━━━━━━━━━\u001b[0m\u001b[37m\u001b[0m \u001b[1m0s\u001b[0m 796us/step - accuracy: 0.8309 - loss: 0.3759 - val_accuracy: 0.8330 - val_loss: 0.5432\n",
      "Epoch 421/1000\n",
      "\u001b[1m392/392\u001b[0m \u001b[32m━━━━━━━━━━━━━━━━━━━━\u001b[0m\u001b[37m\u001b[0m \u001b[1m0s\u001b[0m 859us/step - accuracy: 0.8473 - loss: 0.3425 - val_accuracy: 0.8344 - val_loss: 0.5764\n",
      "Epoch 422/1000\n",
      "\u001b[1m392/392\u001b[0m \u001b[32m━━━━━━━━━━━━━━━━━━━━\u001b[0m\u001b[37m\u001b[0m \u001b[1m0s\u001b[0m 932us/step - accuracy: 0.8360 - loss: 0.3702 - val_accuracy: 0.8365 - val_loss: 0.5503\n",
      "Epoch 423/1000\n",
      "\u001b[1m392/392\u001b[0m \u001b[32m━━━━━━━━━━━━━━━━━━━━\u001b[0m\u001b[37m\u001b[0m \u001b[1m0s\u001b[0m 1ms/step - accuracy: 0.8415 - loss: 0.3591 - val_accuracy: 0.7742 - val_loss: 0.7068\n",
      "Epoch 424/1000\n",
      "\u001b[1m392/392\u001b[0m \u001b[32m━━━━━━━━━━━━━━━━━━━━\u001b[0m\u001b[37m\u001b[0m \u001b[1m0s\u001b[0m 841us/step - accuracy: 0.8522 - loss: 0.3388 - val_accuracy: 0.8332 - val_loss: 0.6202\n",
      "Epoch 425/1000\n",
      "\u001b[1m392/392\u001b[0m \u001b[32m━━━━━━━━━━━━━━━━━━━━\u001b[0m\u001b[37m\u001b[0m \u001b[1m0s\u001b[0m 912us/step - accuracy: 0.8412 - loss: 0.3616 - val_accuracy: 0.8238 - val_loss: 0.5336\n",
      "Epoch 426/1000\n",
      "\u001b[1m392/392\u001b[0m \u001b[32m━━━━━━━━━━━━━━━━━━━━\u001b[0m\u001b[37m\u001b[0m \u001b[1m0s\u001b[0m 788us/step - accuracy: 0.8403 - loss: 0.3593 - val_accuracy: 0.8199 - val_loss: 0.6542\n",
      "Epoch 427/1000\n",
      "\u001b[1m392/392\u001b[0m \u001b[32m━━━━━━━━━━━━━━━━━━━━\u001b[0m\u001b[37m\u001b[0m \u001b[1m0s\u001b[0m 745us/step - accuracy: 0.8510 - loss: 0.3405 - val_accuracy: 0.8296 - val_loss: 0.5710\n",
      "Epoch 428/1000\n",
      "\u001b[1m392/392\u001b[0m \u001b[32m━━━━━━━━━━━━━━━━━━━━\u001b[0m\u001b[37m\u001b[0m \u001b[1m0s\u001b[0m 958us/step - accuracy: 0.8420 - loss: 0.3580 - val_accuracy: 0.7895 - val_loss: 0.6211\n",
      "Epoch 429/1000\n",
      "\u001b[1m392/392\u001b[0m \u001b[32m━━━━━━━━━━━━━━━━━━━━\u001b[0m\u001b[37m\u001b[0m \u001b[1m0s\u001b[0m 749us/step - accuracy: 0.8456 - loss: 0.3457 - val_accuracy: 0.8394 - val_loss: 0.5012\n",
      "Epoch 430/1000\n",
      "\u001b[1m392/392\u001b[0m \u001b[32m━━━━━━━━━━━━━━━━━━━━\u001b[0m\u001b[37m\u001b[0m \u001b[1m0s\u001b[0m 772us/step - accuracy: 0.8530 - loss: 0.3320 - val_accuracy: 0.8414 - val_loss: 0.5850\n",
      "Epoch 431/1000\n",
      "\u001b[1m392/392\u001b[0m \u001b[32m━━━━━━━━━━━━━━━━━━━━\u001b[0m\u001b[37m\u001b[0m \u001b[1m0s\u001b[0m 812us/step - accuracy: 0.8384 - loss: 0.3616 - val_accuracy: 0.8366 - val_loss: 0.5600\n",
      "Epoch 432/1000\n",
      "\u001b[1m392/392\u001b[0m \u001b[32m━━━━━━━━━━━━━━━━━━━━\u001b[0m\u001b[37m\u001b[0m \u001b[1m0s\u001b[0m 746us/step - accuracy: 0.8377 - loss: 0.3658 - val_accuracy: 0.8390 - val_loss: 0.5829\n",
      "Epoch 433/1000\n",
      "\u001b[1m392/392\u001b[0m \u001b[32m━━━━━━━━━━━━━━━━━━━━\u001b[0m\u001b[37m\u001b[0m \u001b[1m0s\u001b[0m 942us/step - accuracy: 0.8444 - loss: 0.3494 - val_accuracy: 0.7632 - val_loss: 0.6980\n",
      "Epoch 434/1000\n",
      "\u001b[1m392/392\u001b[0m \u001b[32m━━━━━━━━━━━━━━━━━━━━\u001b[0m\u001b[37m\u001b[0m \u001b[1m0s\u001b[0m 752us/step - accuracy: 0.8494 - loss: 0.3419 - val_accuracy: 0.7799 - val_loss: 0.6444\n",
      "Epoch 435/1000\n",
      "\u001b[1m392/392\u001b[0m \u001b[32m━━━━━━━━━━━━━━━━━━━━\u001b[0m\u001b[37m\u001b[0m \u001b[1m0s\u001b[0m 753us/step - accuracy: 0.8428 - loss: 0.3524 - val_accuracy: 0.8335 - val_loss: 0.5173\n",
      "Epoch 436/1000\n",
      "\u001b[1m392/392\u001b[0m \u001b[32m━━━━━━━━━━━━━━━━━━━━\u001b[0m\u001b[37m\u001b[0m \u001b[1m0s\u001b[0m 796us/step - accuracy: 0.8419 - loss: 0.3562 - val_accuracy: 0.8115 - val_loss: 0.6395\n",
      "Epoch 437/1000\n",
      "\u001b[1m392/392\u001b[0m \u001b[32m━━━━━━━━━━━━━━━━━━━━\u001b[0m\u001b[37m\u001b[0m \u001b[1m0s\u001b[0m 763us/step - accuracy: 0.8487 - loss: 0.3415 - val_accuracy: 0.7357 - val_loss: 0.6569\n",
      "Epoch 438/1000\n",
      "\u001b[1m392/392\u001b[0m \u001b[32m━━━━━━━━━━━━━━━━━━━━\u001b[0m\u001b[37m\u001b[0m \u001b[1m0s\u001b[0m 816us/step - accuracy: 0.8460 - loss: 0.3460 - val_accuracy: 0.8238 - val_loss: 0.6399\n",
      "Epoch 439/1000\n",
      "\u001b[1m392/392\u001b[0m \u001b[32m━━━━━━━━━━━━━━━━━━━━\u001b[0m\u001b[37m\u001b[0m \u001b[1m0s\u001b[0m 914us/step - accuracy: 0.8456 - loss: 0.3508 - val_accuracy: 0.7057 - val_loss: 0.7757\n",
      "Epoch 440/1000\n",
      "\u001b[1m392/392\u001b[0m \u001b[32m━━━━━━━━━━━━━━━━━━━━\u001b[0m\u001b[37m\u001b[0m \u001b[1m0s\u001b[0m 796us/step - accuracy: 0.8471 - loss: 0.3494 - val_accuracy: 0.8208 - val_loss: 0.5711\n",
      "Epoch 441/1000\n",
      "\u001b[1m392/392\u001b[0m \u001b[32m━━━━━━━━━━━━━━━━━━━━\u001b[0m\u001b[37m\u001b[0m \u001b[1m0s\u001b[0m 735us/step - accuracy: 0.8537 - loss: 0.3272 - val_accuracy: 0.8442 - val_loss: 0.5364\n",
      "Epoch 442/1000\n",
      "\u001b[1m392/392\u001b[0m \u001b[32m━━━━━━━━━━━━━━━━━━━━\u001b[0m\u001b[37m\u001b[0m \u001b[1m0s\u001b[0m 742us/step - accuracy: 0.8507 - loss: 0.3355 - val_accuracy: 0.8393 - val_loss: 0.5917\n",
      "Epoch 443/1000\n",
      "\u001b[1m392/392\u001b[0m \u001b[32m━━━━━━━━━━━━━━━━━━━━\u001b[0m\u001b[37m\u001b[0m \u001b[1m0s\u001b[0m 788us/step - accuracy: 0.8446 - loss: 0.3552 - val_accuracy: 0.8291 - val_loss: 0.5200\n",
      "Epoch 444/1000\n",
      "\u001b[1m392/392\u001b[0m \u001b[32m━━━━━━━━━━━━━━━━━━━━\u001b[0m\u001b[37m\u001b[0m \u001b[1m0s\u001b[0m 917us/step - accuracy: 0.8489 - loss: 0.3357 - val_accuracy: 0.8065 - val_loss: 0.6200\n",
      "Epoch 445/1000\n",
      "\u001b[1m392/392\u001b[0m \u001b[32m━━━━━━━━━━━━━━━━━━━━\u001b[0m\u001b[37m\u001b[0m \u001b[1m0s\u001b[0m 820us/step - accuracy: 0.8423 - loss: 0.3535 - val_accuracy: 0.8425 - val_loss: 0.5417\n",
      "Epoch 446/1000\n",
      "\u001b[1m392/392\u001b[0m \u001b[32m━━━━━━━━━━━━━━━━━━━━\u001b[0m\u001b[37m\u001b[0m \u001b[1m0s\u001b[0m 748us/step - accuracy: 0.8427 - loss: 0.3529 - val_accuracy: 0.8326 - val_loss: 0.5705\n",
      "Epoch 447/1000\n",
      "\u001b[1m392/392\u001b[0m \u001b[32m━━━━━━━━━━━━━━━━━━━━\u001b[0m\u001b[37m\u001b[0m \u001b[1m0s\u001b[0m 734us/step - accuracy: 0.8446 - loss: 0.3536 - val_accuracy: 0.8227 - val_loss: 0.5458\n",
      "Epoch 448/1000\n",
      "\u001b[1m392/392\u001b[0m \u001b[32m━━━━━━━━━━━━━━━━━━━━\u001b[0m\u001b[37m\u001b[0m \u001b[1m0s\u001b[0m 792us/step - accuracy: 0.8539 - loss: 0.3307 - val_accuracy: 0.8337 - val_loss: 0.6012\n",
      "Epoch 449/1000\n",
      "\u001b[1m392/392\u001b[0m \u001b[32m━━━━━━━━━━━━━━━━━━━━\u001b[0m\u001b[37m\u001b[0m \u001b[1m0s\u001b[0m 922us/step - accuracy: 0.8326 - loss: 0.3750 - val_accuracy: 0.7812 - val_loss: 0.5952\n",
      "Epoch 450/1000\n",
      "\u001b[1m392/392\u001b[0m \u001b[32m━━━━━━━━━━━━━━━━━━━━\u001b[0m\u001b[37m\u001b[0m \u001b[1m0s\u001b[0m 808us/step - accuracy: 0.8409 - loss: 0.3646 - val_accuracy: 0.8168 - val_loss: 0.6556\n",
      "Epoch 451/1000\n",
      "\u001b[1m392/392\u001b[0m \u001b[32m━━━━━━━━━━━━━━━━━━━━\u001b[0m\u001b[37m\u001b[0m \u001b[1m0s\u001b[0m 825us/step - accuracy: 0.8487 - loss: 0.3399 - val_accuracy: 0.7792 - val_loss: 0.6336\n",
      "Epoch 452/1000\n",
      "\u001b[1m392/392\u001b[0m \u001b[32m━━━━━━━━━━━━━━━━━━━━\u001b[0m\u001b[37m\u001b[0m \u001b[1m0s\u001b[0m 901us/step - accuracy: 0.8481 - loss: 0.3433 - val_accuracy: 0.7793 - val_loss: 0.6149\n",
      "Epoch 453/1000\n",
      "\u001b[1m392/392\u001b[0m \u001b[32m━━━━━━━━━━━━━━━━━━━━\u001b[0m\u001b[37m\u001b[0m \u001b[1m0s\u001b[0m 989us/step - accuracy: 0.8212 - loss: 0.4034 - val_accuracy: 0.8446 - val_loss: 0.5634\n",
      "Epoch 454/1000\n",
      "\u001b[1m392/392\u001b[0m \u001b[32m━━━━━━━━━━━━━━━━━━━━\u001b[0m\u001b[37m\u001b[0m \u001b[1m0s\u001b[0m 719us/step - accuracy: 0.8507 - loss: 0.3379 - val_accuracy: 0.8170 - val_loss: 0.6423\n",
      "Epoch 455/1000\n",
      "\u001b[1m392/392\u001b[0m \u001b[32m━━━━━━━━━━━━━━━━━━━━\u001b[0m\u001b[37m\u001b[0m \u001b[1m0s\u001b[0m 864us/step - accuracy: 0.8485 - loss: 0.3418 - val_accuracy: 0.8315 - val_loss: 0.6100\n",
      "Epoch 456/1000\n",
      "\u001b[1m392/392\u001b[0m \u001b[32m━━━━━━━━━━━━━━━━━━━━\u001b[0m\u001b[37m\u001b[0m \u001b[1m0s\u001b[0m 753us/step - accuracy: 0.8408 - loss: 0.3608 - val_accuracy: 0.8353 - val_loss: 0.5206\n",
      "Epoch 457/1000\n",
      "\u001b[1m392/392\u001b[0m \u001b[32m━━━━━━━━━━━━━━━━━━━━\u001b[0m\u001b[37m\u001b[0m \u001b[1m0s\u001b[0m 1ms/step - accuracy: 0.8375 - loss: 0.3731 - val_accuracy: 0.8078 - val_loss: 0.5827\n",
      "Epoch 458/1000\n",
      "\u001b[1m392/392\u001b[0m \u001b[32m━━━━━━━━━━━━━━━━━━━━\u001b[0m\u001b[37m\u001b[0m \u001b[1m0s\u001b[0m 851us/step - accuracy: 0.8435 - loss: 0.3492 - val_accuracy: 0.8255 - val_loss: 0.6120\n",
      "Epoch 459/1000\n",
      "\u001b[1m392/392\u001b[0m \u001b[32m━━━━━━━━━━━━━━━━━━━━\u001b[0m\u001b[37m\u001b[0m \u001b[1m0s\u001b[0m 743us/step - accuracy: 0.8517 - loss: 0.3327 - val_accuracy: 0.8508 - val_loss: 0.5382\n",
      "Epoch 460/1000\n",
      "\u001b[1m392/392\u001b[0m \u001b[32m━━━━━━━━━━━━━━━━━━━━\u001b[0m\u001b[37m\u001b[0m \u001b[1m0s\u001b[0m 717us/step - accuracy: 0.8449 - loss: 0.3454 - val_accuracy: 0.8361 - val_loss: 0.5230\n",
      "Epoch 461/1000\n",
      "\u001b[1m392/392\u001b[0m \u001b[32m━━━━━━━━━━━━━━━━━━━━\u001b[0m\u001b[37m\u001b[0m \u001b[1m0s\u001b[0m 712us/step - accuracy: 0.8271 - loss: 0.3939 - val_accuracy: 0.7291 - val_loss: 0.7368\n",
      "Epoch 462/1000\n",
      "\u001b[1m392/392\u001b[0m \u001b[32m━━━━━━━━━━━━━━━━━━━━\u001b[0m\u001b[37m\u001b[0m \u001b[1m0s\u001b[0m 868us/step - accuracy: 0.8310 - loss: 0.3811 - val_accuracy: 0.8269 - val_loss: 0.5617\n",
      "Epoch 463/1000\n",
      "\u001b[1m392/392\u001b[0m \u001b[32m━━━━━━━━━━━━━━━━━━━━\u001b[0m\u001b[37m\u001b[0m \u001b[1m0s\u001b[0m 711us/step - accuracy: 0.8530 - loss: 0.3337 - val_accuracy: 0.8273 - val_loss: 0.5316\n",
      "Epoch 464/1000\n",
      "\u001b[1m392/392\u001b[0m \u001b[32m━━━━━━━━━━━━━━━━━━━━\u001b[0m\u001b[37m\u001b[0m \u001b[1m0s\u001b[0m 843us/step - accuracy: 0.8400 - loss: 0.3648 - val_accuracy: 0.7850 - val_loss: 0.6517\n",
      "Epoch 465/1000\n",
      "\u001b[1m392/392\u001b[0m \u001b[32m━━━━━━━━━━━━━━━━━━━━\u001b[0m\u001b[37m\u001b[0m \u001b[1m0s\u001b[0m 852us/step - accuracy: 0.8474 - loss: 0.3501 - val_accuracy: 0.7995 - val_loss: 0.7315\n",
      "Epoch 466/1000\n",
      "\u001b[1m392/392\u001b[0m \u001b[32m━━━━━━━━━━━━━━━━━━━━\u001b[0m\u001b[37m\u001b[0m \u001b[1m0s\u001b[0m 1ms/step - accuracy: 0.8578 - loss: 0.3227 - val_accuracy: 0.8298 - val_loss: 0.5663\n",
      "Epoch 467/1000\n",
      "\u001b[1m392/392\u001b[0m \u001b[32m━━━━━━━━━━━━━━━━━━━━\u001b[0m\u001b[37m\u001b[0m \u001b[1m0s\u001b[0m 866us/step - accuracy: 0.8517 - loss: 0.3394 - val_accuracy: 0.8412 - val_loss: 0.5095\n",
      "Epoch 468/1000\n",
      "\u001b[1m392/392\u001b[0m \u001b[32m━━━━━━━━━━━━━━━━━━━━\u001b[0m\u001b[37m\u001b[0m \u001b[1m0s\u001b[0m 953us/step - accuracy: 0.8546 - loss: 0.3290 - val_accuracy: 0.7979 - val_loss: 0.5805\n",
      "Epoch 468: early stopping\n",
      "Restoring model weights from the end of the best epoch: 368.\n"
     ]
    },
    {
     "name": "stderr",
     "output_type": "stream",
     "text": [
      "WARNING:absl:You are saving your model as an HDF5 file via `model.save()` or `keras.saving.save_model(model)`. This file format is considered legacy. We recommend using instead the native Keras format, e.g. `model.save('my_model.keras')` or `keras.saving.save_model(model, 'my_model.keras')`. \n"
     ]
    }
   ],
   "source": [
    "history = model.fit(X_train, \n",
    "                    Y_train, \n",
    "                    batch_size=batch_size,\n",
    "                    validation_data=(X_val, Y_val),\n",
    "                    callbacks=[WandbMetricsLogger(), early_stopping],\n",
    "                    epochs=epochs)\n",
    "\n",
    "if not os.path.exists('../models'):\n",
    "    os.makedirs('../models')\n",
    "\n",
    "model.save('../models/model_keras_tuning.h5')"
   ]
  },
  {
   "cell_type": "code",
   "execution_count": 15,
   "metadata": {},
   "outputs": [
    {
     "data": {
      "text/html": [
       "<style>\n",
       "    table.wandb td:nth-child(1) { padding: 0 10px; text-align: left ; width: auto;} td:nth-child(2) {text-align: left ; width: 100%}\n",
       "    .wandb-row { display: flex; flex-direction: row; flex-wrap: wrap; justify-content: flex-start; width: 100% }\n",
       "    .wandb-col { display: flex; flex-direction: column; flex-basis: 100%; flex: 1; padding: 10px; }\n",
       "    </style>\n",
       "<div class=\"wandb-row\"><div class=\"wandb-col\"><h3>Run history:</h3><br/><table class=\"wandb\"><tr><td>epoch/accuracy</td><td>▁▁▂▃▄▄▅▅▅▅▆▆▆▆▇▇▇▇▇▇▇▇▇█▇███████████████</td></tr><tr><td>epoch/epoch</td><td>▁▁▁▁▂▂▂▂▂▃▃▃▃▃▃▄▄▄▄▄▅▅▅▅▅▅▆▆▆▆▆▇▇▇▇▇▇███</td></tr><tr><td>epoch/loss</td><td>█▂▁▁▁▁▁▁▁▁▁▁▁▁▁▁▁▁▁▁▁▁▁▁▁▁▁▁▁▁▁▁▁▁▁▁▁▁▁▁</td></tr><tr><td>epoch/val_accuracy</td><td>▁▁▁▃▂▃▄▄▅▄▆▆▆▆▅▆▆▆▇▇▇▇█▇▆█▇▇▇█▇▇▇████▇█▇</td></tr><tr><td>epoch/val_loss</td><td>█▂▁▁▁▁▁▁▁▁▁▁▁▁▁▁▁▁▁▁▁▁▁▁▁▁▁▁▁▁▁▁▁▁▁▁▁▁▁▁</td></tr></table><br/></div><div class=\"wandb-col\"><h3>Run summary:</h3><br/><table class=\"wandb\"><tr><td>epoch/accuracy</td><td>0.85043</td></tr><tr><td>epoch/epoch</td><td>467</td></tr><tr><td>epoch/loss</td><td>0.34042</td></tr><tr><td>epoch/val_accuracy</td><td>0.7979</td></tr><tr><td>epoch/val_loss</td><td>0.58047</td></tr></table><br/></div></div>"
      ],
      "text/plain": [
       "<IPython.core.display.HTML object>"
      ]
     },
     "metadata": {},
     "output_type": "display_data"
    },
    {
     "data": {
      "text/html": [
       " View run <strong style=\"color:#cdcd00\">effortless-sun-9</strong> at: <a href='https://wandb.ai/lokrau/ml_assignment_keras/runs/jjvixqw1' target=\"_blank\">https://wandb.ai/lokrau/ml_assignment_keras/runs/jjvixqw1</a><br/> View project at: <a href='https://wandb.ai/lokrau/ml_assignment_keras' target=\"_blank\">https://wandb.ai/lokrau/ml_assignment_keras</a><br/>Synced 6 W&B file(s), 0 media file(s), 0 artifact file(s) and 0 other file(s)"
      ],
      "text/plain": [
       "<IPython.core.display.HTML object>"
      ]
     },
     "metadata": {},
     "output_type": "display_data"
    },
    {
     "data": {
      "text/html": [
       "Find logs at: <code>./wandb/run-20240608_235826-jjvixqw1/logs</code>"
      ],
      "text/plain": [
       "<IPython.core.display.HTML object>"
      ]
     },
     "metadata": {},
     "output_type": "display_data"
    }
   ],
   "source": [
    "wandb.finish()"
   ]
  },
  {
   "cell_type": "markdown",
   "metadata": {},
   "source": [
    "Der Trainingsprozess wird in Bezug auf Accuracy und Loss visualisiert."
   ]
  },
  {
   "cell_type": "code",
   "execution_count": 16,
   "metadata": {},
   "outputs": [
    {
     "data": {
      "image/png": "[encoded data removed]",
      "text/plain": [
       "<Figure size 1000x800 with 1 Axes>"
      ]
     },
     "metadata": {},
     "output_type": "display_data"
    }
   ],
   "source": [
    "# Print the model training history for accuracy\n",
    "accuracy = history.history['accuracy']\n",
    "val_accuracy = history.history['val_accuracy']\n",
    "epochs = range(1, len(accuracy) + 1)\n",
    "\n",
    "plt.figure(figsize=(10,8))\n",
    "plt.plot(epochs, accuracy)\n",
    "plt.plot(epochs, val_accuracy)\n",
    "plt.title('Model Accuracy', fontsize=15, pad=15)\n",
    "plt.ylabel('Accuracy', fontsize=12, labelpad=10)\n",
    "plt.xlabel('Epoche', fontsize=12, labelpad=10)\n",
    "plt.legend(['Training', 'Validation'], loc='lower right')\n",
    "plt.show()"
   ]
  },
  {
   "cell_type": "code",
   "execution_count": 17,
   "metadata": {},
   "outputs": [
    {
     "data": {
      "image/png": "[encoded data removed]",
      "text/plain": [
       "<Figure size 1000x800 with 1 Axes>"
      ]
     },
     "metadata": {},
     "output_type": "display_data"
    }
   ],
   "source": [
    "# print the model training history for loss\n",
    "loss = history.history['loss']\n",
    "val_loss = history.history['val_loss']\n",
    "epochs = range(1, len(loss) + 1)\n",
    "\n",
    "plt.figure(figsize=(10,8))\n",
    "plt.plot(epochs, loss)\n",
    "plt.plot(epochs, val_loss)\n",
    "plt.title('Model Loss', fontsize=15, pad=15)\n",
    "plt.ylabel('Loss', fontsize=12, labelpad=10)\n",
    "plt.xlabel('Epoche', fontsize=12, labelpad=10)\n",
    "plt.legend(['Training', 'Validation'], loc='upper right')\n",
    "plt.show()"
   ]
  },
  {
   "cell_type": "markdown",
   "metadata": {},
   "source": [
    "Das Modell wird für die drei zur verfügung stehenden Datensätze evaluiert. Die ergebnisse weichen nicht zu stark voneinenader ab."
   ]
  },
  {
   "cell_type": "code",
   "execution_count": 18,
   "metadata": {},
   "outputs": [
    {
     "name": "stdout",
     "output_type": "stream",
     "text": [
      "\u001b[1m171/171\u001b[0m \u001b[32m━━━━━━━━━━━━━━━━━━━━\u001b[0m\u001b[37m\u001b[0m \u001b[1m0s\u001b[0m 345us/step - accuracy: 0.8352 - loss: 0.3795\n"
     ]
    },
    {
     "data": {
      "text/plain": [
       "[0.3783876895904541, 0.8370817303657532]"
      ]
     },
     "execution_count": 18,
     "metadata": {},
     "output_type": "execute_result"
    }
   ],
   "source": [
    "model.evaluate(X_test, Y_test)"
   ]
  },
  {
   "cell_type": "code",
   "execution_count": 19,
   "metadata": {},
   "outputs": [
    {
     "name": "stdout",
     "output_type": "stream",
     "text": [
      "\u001b[1m336/336\u001b[0m \u001b[32m━━━━━━━━━━━━━━━━━━━━\u001b[0m\u001b[37m\u001b[0m \u001b[1m0s\u001b[0m 299us/step - accuracy: 0.8471 - loss: 0.3967\n"
     ]
    },
    {
     "data": {
      "text/plain": [
       "[0.47545745968818665, 0.8411458134651184]"
      ]
     },
     "execution_count": 19,
     "metadata": {},
     "output_type": "execute_result"
    }
   ],
   "source": [
    "model.evaluate(X_val, Y_val)"
   ]
  },
  {
   "cell_type": "code",
   "execution_count": 20,
   "metadata": {},
   "outputs": [
    {
     "name": "stdout",
     "output_type": "stream",
     "text": [
      "\u001b[1m1568/1568\u001b[0m \u001b[32m━━━━━━━━━━━━━━━━━━━━\u001b[0m\u001b[37m\u001b[0m \u001b[1m0s\u001b[0m 312us/step - accuracy: 0.8508 - loss: 0.3427\n"
     ]
    },
    {
     "data": {
      "text/plain": [
       "[0.3133997917175293, 0.8645766973495483]"
      ]
     },
     "execution_count": 20,
     "metadata": {},
     "output_type": "execute_result"
    }
   ],
   "source": [
    "model.evaluate(X_train, Y_train)"
   ]
  },
  {
   "cell_type": "markdown",
   "metadata": {},
   "source": [
    "Es wird eine Confusion Matrix für den Testdatensatz erstellt."
   ]
  },
  {
   "cell_type": "code",
   "execution_count": 21,
   "metadata": {},
   "outputs": [
    {
     "name": "stdout",
     "output_type": "stream",
     "text": [
      "\u001b[1m171/171\u001b[0m \u001b[32m━━━━━━━━━━━━━━━━━━━━\u001b[0m\u001b[37m\u001b[0m \u001b[1m0s\u001b[0m 458us/step\n"
     ]
    },
    {
     "data": {
      "image/png": "[encoded data removed]",
      "text/plain": [
       "<Figure size 1000x800 with 2 Axes>"
      ]
     },
     "metadata": {},
     "output_type": "display_data"
    }
   ],
   "source": [
    "# make a confusion matrix for the test data\n",
    "y_pred = model.predict(X_test)\n",
    "y_pred = (y_pred > 0.5)\n",
    "\n",
    "cm = confusion_matrix(Y_test, y_pred)\n",
    "\n",
    "# Set the style of the heatmap\n",
    "sns.set_theme(style=\"whitegrid\")\n",
    "\n",
    "# Create the heatmap\n",
    "plt.figure(figsize=(10, 8))\n",
    "sns.heatmap(cm, annot=True, fmt='d', square=True, cmap='Blues', cbar_kws={'shrink': 0.75}, linewidths=1, linecolor='grey')\n",
    "\n",
    "# Add labels\n",
    "plt.xlabel('Predicted', fontsize=12, labelpad=10)\n",
    "plt.ylabel('True', fontsize=12, labelpad=10)\n",
    "plt.title('Confusion Matrix', fontsize=15, pad=15)\n",
    "\n",
    "# Improve the layout\n",
    "plt.tight_layout()\n",
    "\n",
    "# Display the plot\n",
    "plt.show()"
   ]
  }
 ],
 "metadata": {
  "kernelspec": {
   "display_name": "Python 3",
   "language": "python",
   "name": "python3"
  },
  "language_info": {
   "codemirror_mode": {
    "name": "ipython",
    "version": 3
   },
   "file_extension": ".py",
   "mimetype": "text/x-python",
   "name": "python",
   "nbconvert_exporter": "python",
   "pygments_lexer": "ipython3",
   "version": "3.11.9"
  }
 },
 "nbformat": 4,
 "nbformat_minor": 2
}
