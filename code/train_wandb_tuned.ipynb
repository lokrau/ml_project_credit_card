{
 "cells": [
  {
   "cell_type": "markdown",
   "metadata": {},
   "source": [
    "# Training: Neuronales Netzwerk mit dem Tuner von Weights & Biases"
   ]
  },
  {
   "cell_type": "markdown",
   "metadata": {},
   "source": [
    "In diesem Notebook wird ein neuronales Netzwerk mit den im Notebook `wandb_tuning.ipynb`optimierten Hyperparametern trainiert. Dabei wurde dieser Prozess auf zwei seperate Notebooks aufgeteilt, weilch ich das Problem hatte, dass das Training nach dem Tuning nicht mehr zuverlässig  durchgelaufen ist und die Ergebnisse auf die letzte Sweep im Wandb Dashboard geschrieben wurden, obwohl das Tuning bereits beendet war. Dieses Verhalten kann im Notebook `train_wandb_tuning.ipynb` nachvollzogen werden."
   ]
  },
  {
   "cell_type": "markdown",
   "metadata": {},
   "source": [
    "Zunächst müssen die benötigten Bibliotheken importiert werden."
   ]
  },
  {
   "cell_type": "code",
   "execution_count": 1,
   "metadata": {},
   "outputs": [],
   "source": [
    "import pandas as pd\n",
    "import numpy as np\n",
    "import ast\n",
    "import matplotlib.pyplot as plt\n",
    "import os\n",
    "import keras_tuner as kt\n",
    "import wandb\n",
    "import tqdm\n",
    "import tensorflow as tf\n",
    "import keras\n",
    "import seaborn as sns\n",
    "\n",
    "from tensorflow.keras import layers, Model, optimizers, losses, callbacks\n",
    "from tensorflow import GradientTape\n",
    "from keras.optimizers import Adam\n",
    "from sklearn.model_selection import train_test_split, GridSearchCV\n",
    "from keras.callbacks import EarlyStopping\n",
    "from scikeras.wrappers import KerasClassifier\n",
    "from wandb.integration.keras import WandbMetricsLogger\n",
    "from sklearn.metrics import confusion_matrix"
   ]
  },
  {
   "cell_type": "markdown",
   "metadata": {},
   "source": [
    "## Zugrif auf gewollte Sweep"
   ]
  },
  {
   "cell_type": "markdown",
   "metadata": {},
   "source": [
    "Zunächst müssen hier manuell die Sweep-ID und die Projekt-ID des gewünschten Sweeps eingetragen werden."
   ]
  },
  {
   "cell_type": "code",
   "execution_count": 2,
   "metadata": {},
   "outputs": [],
   "source": [
    "sweep_id = \"lj0f8np5\"\n",
    "project_name = \"lokrau\""
   ]
  },
  {
   "cell_type": "markdown",
   "metadata": {},
   "source": [
    "Nun kann damit auf die Wandb-API zugegriffen werden, um die besten Hyperparameter zu erhalten."
   ]
  },
  {
   "cell_type": "code",
   "execution_count": 3,
   "metadata": {},
   "outputs": [],
   "source": [
    "api = wandb.Api()\n",
    "sweep_id = project_name + '/credit_card/sweeps/' + sweep_id\n",
    "\n",
    "sweep = api.sweep(sweep_id)\n",
    "runs = sweep.runs"
   ]
  },
  {
   "cell_type": "markdown",
   "metadata": {},
   "source": [
    "Diese werden in eine Liste gespeichert."
   ]
  },
  {
   "cell_type": "code",
   "execution_count": 4,
   "metadata": {},
   "outputs": [],
   "source": [
    "results = []\n",
    "for run in runs:\n",
    "    run_data = {\n",
    "        'batch_size': run.config.get('batch_size'),\n",
    "        'val_accuracy': run.summary.get('val_acc'),\n",
    "        'val_loss': run.summary.get('val_loss'),\n",
    "        'accuracy': run.summary.get('acc'),\n",
    "        'loss': run.summary.get('loss'),\n",
    "    }\n",
    "    results.append(run_data)"
   ]
  },
  {
   "cell_type": "code",
   "execution_count": 5,
   "metadata": {},
   "outputs": [
    {
     "data": {
      "text/html": [
       "<div>\n",
       "<style scoped>\n",
       "    .dataframe tbody tr th:only-of-type {\n",
       "        vertical-align: middle;\n",
       "    }\n",
       "\n",
       "    .dataframe tbody tr th {\n",
       "        vertical-align: top;\n",
       "    }\n",
       "\n",
       "    .dataframe thead th {\n",
       "        text-align: right;\n",
       "    }\n",
       "</style>\n",
       "<table border=\"1\" class=\"dataframe\">\n",
       "  <thead>\n",
       "    <tr style=\"text-align: right;\">\n",
       "      <th></th>\n",
       "      <th>batch_size</th>\n",
       "      <th>val_accuracy</th>\n",
       "      <th>val_loss</th>\n",
       "      <th>accuracy</th>\n",
       "      <th>loss</th>\n",
       "    </tr>\n",
       "  </thead>\n",
       "  <tbody>\n",
       "    <tr>\n",
       "      <th>0</th>\n",
       "      <td>512</td>\n",
       "      <td>0.497396</td>\n",
       "      <td>52.849962</td>\n",
       "      <td>0.447206</td>\n",
       "      <td>33.588444</td>\n",
       "    </tr>\n",
       "    <tr>\n",
       "      <th>1</th>\n",
       "      <td>256</td>\n",
       "      <td>0.510510</td>\n",
       "      <td>3.600855</td>\n",
       "      <td>0.461535</td>\n",
       "      <td>13.944678</td>\n",
       "    </tr>\n",
       "    <tr>\n",
       "      <th>2</th>\n",
       "      <td>128</td>\n",
       "      <td>0.523717</td>\n",
       "      <td>1.654581</td>\n",
       "      <td>0.532605</td>\n",
       "      <td>1.178922</td>\n",
       "    </tr>\n",
       "    <tr>\n",
       "      <th>3</th>\n",
       "      <td>64</td>\n",
       "      <td>0.551246</td>\n",
       "      <td>1.345409</td>\n",
       "      <td>0.533721</td>\n",
       "      <td>3.202749</td>\n",
       "    </tr>\n",
       "    <tr>\n",
       "      <th>4</th>\n",
       "      <td>32</td>\n",
       "      <td>0.505301</td>\n",
       "      <td>0.853156</td>\n",
       "      <td>0.522999</td>\n",
       "      <td>0.753955</td>\n",
       "    </tr>\n",
       "  </tbody>\n",
       "</table>\n",
       "</div>"
      ],
      "text/plain": [
       "   batch_size  val_accuracy   val_loss  accuracy       loss\n",
       "0         512      0.497396  52.849962  0.447206  33.588444\n",
       "1         256      0.510510   3.600855  0.461535  13.944678\n",
       "2         128      0.523717   1.654581  0.532605   1.178922\n",
       "3          64      0.551246   1.345409  0.533721   3.202749\n",
       "4          32      0.505301   0.853156  0.522999   0.753955"
      ]
     },
     "execution_count": 5,
     "metadata": {},
     "output_type": "execute_result"
    }
   ],
   "source": [
    "results_df = pd.DataFrame(results)\n",
    "results_df"
   ]
  },
  {
   "cell_type": "markdown",
   "metadata": {},
   "source": [
    "Nun kann die Batchsize, welche den geringsten Validation Loss erzielt hat, ausgewählt werden."
   ]
  },
  {
   "cell_type": "code",
   "execution_count": 6,
   "metadata": {},
   "outputs": [],
   "source": [
    "best_run = results_df.loc[results_df['val_loss'].idxmin()]\n",
    "best_batch_size = best_run['batch_size']\n",
    "best_val_loss = best_run['val_loss']"
   ]
  },
  {
   "cell_type": "code",
   "execution_count": 7,
   "metadata": {},
   "outputs": [
    {
     "name": "stdout",
     "output_type": "stream",
     "text": [
      "Best batch size: 32.0 with validation loss: 0.8531560952819529\n"
     ]
    }
   ],
   "source": [
    "print(f'Best batch size: {best_batch_size} with validation loss: {best_val_loss}')"
   ]
  },
  {
   "cell_type": "markdown",
   "metadata": {},
   "source": [
    "## Training"
   ]
  },
  {
   "cell_type": "markdown",
   "metadata": {},
   "source": [
    "Nun müssen die Datensätze für das Training eingelesen werden."
   ]
  },
  {
   "cell_type": "code",
   "execution_count": 8,
   "metadata": {},
   "outputs": [],
   "source": [
    "train = pd.read_csv('../data/preprocessed/train_data.csv')\n",
    "test = pd.read_csv('../data/preprocessed/test_data.csv')\n",
    "val = pd.read_csv('../data/preprocessed/val_data.csv')"
   ]
  },
  {
   "cell_type": "code",
   "execution_count": 9,
   "metadata": {},
   "outputs": [
    {
     "data": {
      "text/plain": [
       "((50176, 48), (5469, 48), (10752, 48))"
      ]
     },
     "execution_count": 9,
     "metadata": {},
     "output_type": "execute_result"
    }
   ],
   "source": [
    "train.shape, test.shape, val.shape"
   ]
  },
  {
   "cell_type": "code",
   "execution_count": 10,
   "metadata": {},
   "outputs": [],
   "source": [
    "X_train = train.drop(\"Is high risk\", axis=1)\n",
    "Y_train = train[\"Is high risk\"]\n",
    "\n",
    "X_test = test.drop(\"Is high risk\", axis=1)\n",
    "Y_test = test[\"Is high risk\"]\n",
    "\n",
    "X_val = val.drop(\"Is high risk\", axis=1)\n",
    "Y_val = val[\"Is high risk\"]"
   ]
  },
  {
   "cell_type": "markdown",
   "metadata": {},
   "source": [
    "Nun wird das Modell so wie im Notebook `wandb_tuning.ipynb` definiert, um dieses anschließend genau so zu trainieren."
   ]
  },
  {
   "cell_type": "code",
   "execution_count": 11,
   "metadata": {},
   "outputs": [],
   "source": [
    "def Model():\n",
    "    x = layers.Input(shape=(X_train.shape[1],))\n",
    "\n",
    "    h = layers.Dense(64, activation='relu')(x)\n",
    "    h = layers.Dense(64, activation='relu')(h)\n",
    "    h = layers.Dense(64, activation='relu')(h)\n",
    "    h = layers.Dense(64, activation='relu')(h)\n",
    "\n",
    "    y = layers.Dense(1, activation='sigmoid')(h)\n",
    "\n",
    "    model = keras.Model(inputs=x, outputs=y)\n",
    "\n",
    "    return model"
   ]
  },
  {
   "cell_type": "code",
   "execution_count": 12,
   "metadata": {},
   "outputs": [
    {
     "data": {
      "text/html": [
       "<pre style=\"white-space:pre;overflow-x:auto;line-height:normal;font-family:Menlo,'DejaVu Sans Mono',consolas,'Courier New',monospace\"><span style=\"font-weight: bold\">Model: \"functional_1\"</span>\n",
       "</pre>\n"
      ],
      "text/plain": [
       "\u001b[1mModel: \"functional_1\"\u001b[0m\n"
      ]
     },
     "metadata": {},
     "output_type": "display_data"
    },
    {
     "data": {
      "text/html": [
       "<pre style=\"white-space:pre;overflow-x:auto;line-height:normal;font-family:Menlo,'DejaVu Sans Mono',consolas,'Courier New',monospace\">┏━━━━━━━━━━━━━━━━━━━━━━━━━━━━━━━━━┳━━━━━━━━━━━━━━━━━━━━━━━━┳━━━━━━━━━━━━━━━┓\n",
       "┃<span style=\"font-weight: bold\"> Layer (type)                    </span>┃<span style=\"font-weight: bold\"> Output Shape           </span>┃<span style=\"font-weight: bold\">       Param # </span>┃\n",
       "┡━━━━━━━━━━━━━━━━━━━━━━━━━━━━━━━━━╇━━━━━━━━━━━━━━━━━━━━━━━━╇━━━━━━━━━━━━━━━┩\n",
       "│ input_layer (<span style=\"color: #0087ff; text-decoration-color: #0087ff\">InputLayer</span>)        │ (<span style=\"color: #00d7ff; text-decoration-color: #00d7ff\">None</span>, <span style=\"color: #00af00; text-decoration-color: #00af00\">47</span>)             │             <span style=\"color: #00af00; text-decoration-color: #00af00\">0</span> │\n",
       "├─────────────────────────────────┼────────────────────────┼───────────────┤\n",
       "│ dense (<span style=\"color: #0087ff; text-decoration-color: #0087ff\">Dense</span>)                   │ (<span style=\"color: #00d7ff; text-decoration-color: #00d7ff\">None</span>, <span style=\"color: #00af00; text-decoration-color: #00af00\">64</span>)             │         <span style=\"color: #00af00; text-decoration-color: #00af00\">3,072</span> │\n",
       "├─────────────────────────────────┼────────────────────────┼───────────────┤\n",
       "│ dense_1 (<span style=\"color: #0087ff; text-decoration-color: #0087ff\">Dense</span>)                 │ (<span style=\"color: #00d7ff; text-decoration-color: #00d7ff\">None</span>, <span style=\"color: #00af00; text-decoration-color: #00af00\">64</span>)             │         <span style=\"color: #00af00; text-decoration-color: #00af00\">4,160</span> │\n",
       "├─────────────────────────────────┼────────────────────────┼───────────────┤\n",
       "│ dense_2 (<span style=\"color: #0087ff; text-decoration-color: #0087ff\">Dense</span>)                 │ (<span style=\"color: #00d7ff; text-decoration-color: #00d7ff\">None</span>, <span style=\"color: #00af00; text-decoration-color: #00af00\">64</span>)             │         <span style=\"color: #00af00; text-decoration-color: #00af00\">4,160</span> │\n",
       "├─────────────────────────────────┼────────────────────────┼───────────────┤\n",
       "│ dense_3 (<span style=\"color: #0087ff; text-decoration-color: #0087ff\">Dense</span>)                 │ (<span style=\"color: #00d7ff; text-decoration-color: #00d7ff\">None</span>, <span style=\"color: #00af00; text-decoration-color: #00af00\">64</span>)             │         <span style=\"color: #00af00; text-decoration-color: #00af00\">4,160</span> │\n",
       "├─────────────────────────────────┼────────────────────────┼───────────────┤\n",
       "│ dense_4 (<span style=\"color: #0087ff; text-decoration-color: #0087ff\">Dense</span>)                 │ (<span style=\"color: #00d7ff; text-decoration-color: #00d7ff\">None</span>, <span style=\"color: #00af00; text-decoration-color: #00af00\">1</span>)              │            <span style=\"color: #00af00; text-decoration-color: #00af00\">65</span> │\n",
       "└─────────────────────────────────┴────────────────────────┴───────────────┘\n",
       "</pre>\n"
      ],
      "text/plain": [
       "┏━━━━━━━━━━━━━━━━━━━━━━━━━━━━━━━━━┳━━━━━━━━━━━━━━━━━━━━━━━━┳━━━━━━━━━━━━━━━┓\n",
       "┃\u001b[1m \u001b[0m\u001b[1mLayer (type)                   \u001b[0m\u001b[1m \u001b[0m┃\u001b[1m \u001b[0m\u001b[1mOutput Shape          \u001b[0m\u001b[1m \u001b[0m┃\u001b[1m \u001b[0m\u001b[1m      Param #\u001b[0m\u001b[1m \u001b[0m┃\n",
       "┡━━━━━━━━━━━━━━━━━━━━━━━━━━━━━━━━━╇━━━━━━━━━━━━━━━━━━━━━━━━╇━━━━━━━━━━━━━━━┩\n",
       "│ input_layer (\u001b[38;5;33mInputLayer\u001b[0m)        │ (\u001b[38;5;45mNone\u001b[0m, \u001b[38;5;34m47\u001b[0m)             │             \u001b[38;5;34m0\u001b[0m │\n",
       "├─────────────────────────────────┼────────────────────────┼───────────────┤\n",
       "│ dense (\u001b[38;5;33mDense\u001b[0m)                   │ (\u001b[38;5;45mNone\u001b[0m, \u001b[38;5;34m64\u001b[0m)             │         \u001b[38;5;34m3,072\u001b[0m │\n",
       "├─────────────────────────────────┼────────────────────────┼───────────────┤\n",
       "│ dense_1 (\u001b[38;5;33mDense\u001b[0m)                 │ (\u001b[38;5;45mNone\u001b[0m, \u001b[38;5;34m64\u001b[0m)             │         \u001b[38;5;34m4,160\u001b[0m │\n",
       "├─────────────────────────────────┼────────────────────────┼───────────────┤\n",
       "│ dense_2 (\u001b[38;5;33mDense\u001b[0m)                 │ (\u001b[38;5;45mNone\u001b[0m, \u001b[38;5;34m64\u001b[0m)             │         \u001b[38;5;34m4,160\u001b[0m │\n",
       "├─────────────────────────────────┼────────────────────────┼───────────────┤\n",
       "│ dense_3 (\u001b[38;5;33mDense\u001b[0m)                 │ (\u001b[38;5;45mNone\u001b[0m, \u001b[38;5;34m64\u001b[0m)             │         \u001b[38;5;34m4,160\u001b[0m │\n",
       "├─────────────────────────────────┼────────────────────────┼───────────────┤\n",
       "│ dense_4 (\u001b[38;5;33mDense\u001b[0m)                 │ (\u001b[38;5;45mNone\u001b[0m, \u001b[38;5;34m1\u001b[0m)              │            \u001b[38;5;34m65\u001b[0m │\n",
       "└─────────────────────────────────┴────────────────────────┴───────────────┘\n"
      ]
     },
     "metadata": {},
     "output_type": "display_data"
    },
    {
     "data": {
      "text/html": [
       "<pre style=\"white-space:pre;overflow-x:auto;line-height:normal;font-family:Menlo,'DejaVu Sans Mono',consolas,'Courier New',monospace\"><span style=\"font-weight: bold\"> Total params: </span><span style=\"color: #00af00; text-decoration-color: #00af00\">15,617</span> (61.00 KB)\n",
       "</pre>\n"
      ],
      "text/plain": [
       "\u001b[1m Total params: \u001b[0m\u001b[38;5;34m15,617\u001b[0m (61.00 KB)\n"
      ]
     },
     "metadata": {},
     "output_type": "display_data"
    },
    {
     "data": {
      "text/html": [
       "<pre style=\"white-space:pre;overflow-x:auto;line-height:normal;font-family:Menlo,'DejaVu Sans Mono',consolas,'Courier New',monospace\"><span style=\"font-weight: bold\"> Trainable params: </span><span style=\"color: #00af00; text-decoration-color: #00af00\">15,617</span> (61.00 KB)\n",
       "</pre>\n"
      ],
      "text/plain": [
       "\u001b[1m Trainable params: \u001b[0m\u001b[38;5;34m15,617\u001b[0m (61.00 KB)\n"
      ]
     },
     "metadata": {},
     "output_type": "display_data"
    },
    {
     "data": {
      "text/html": [
       "<pre style=\"white-space:pre;overflow-x:auto;line-height:normal;font-family:Menlo,'DejaVu Sans Mono',consolas,'Courier New',monospace\"><span style=\"font-weight: bold\"> Non-trainable params: </span><span style=\"color: #00af00; text-decoration-color: #00af00\">0</span> (0.00 B)\n",
       "</pre>\n"
      ],
      "text/plain": [
       "\u001b[1m Non-trainable params: \u001b[0m\u001b[38;5;34m0\u001b[0m (0.00 B)\n"
      ]
     },
     "metadata": {},
     "output_type": "display_data"
    }
   ],
   "source": [
    "model = Model()\n",
    "model.summary()"
   ]
  },
  {
   "cell_type": "markdown",
   "metadata": {},
   "source": [
    "Dabei wird mithilfe des Validierungsdatensatzes ein Early Stopping implementiert, um das Training zu stoppen, wenn der Validierungsfehler nicht mehr sinkt."
   ]
  },
  {
   "cell_type": "code",
   "execution_count": 13,
   "metadata": {},
   "outputs": [],
   "source": [
    "early_stopping = EarlyStopping(\n",
    "    monitor='val_loss',  # Monitor validation loss\n",
    "    min_delta=0.001,     # Minimum change to qualify as an improvement\n",
    "    patience=100,         # How many epochs to wait after last time val loss improved\n",
    "    verbose=1,\n",
    "    mode='min',          # The training will stop when the quantity monitored has stopped decreasing\n",
    "    restore_best_weights=True  # Restores model weights from the epoch with the best value of the monitored quantity.\n",
    ")"
   ]
  },
  {
   "cell_type": "markdown",
   "metadata": {},
   "source": [
    "Als Optimizer wird der Adam-Optimizer verwendet und als Loss-Funktion die Binary Crossentropy."
   ]
  },
  {
   "cell_type": "code",
   "execution_count": 14,
   "metadata": {},
   "outputs": [],
   "source": [
    "optimizer = optimizers.Adam(learning_rate=0.001, \n",
    "                            beta_1=0.9, \n",
    "                            beta_2=0.999, \n",
    "                            amsgrad=True)\n",
    "\n",
    "model.compile(optimizer=optimizer, \n",
    "              loss='binary_crossentropy',\n",
    "              metrics=['accuracy'])"
   ]
  },
  {
   "cell_type": "markdown",
   "metadata": {},
   "source": [
    "Nun können die Batchsize aus dem Hyperparameter-Tuning verwendet werden um das Modell zu trainieren. Außerdem werden die Epochen auf 1000 gesetzt."
   ]
  },
  {
   "cell_type": "code",
   "execution_count": 15,
   "metadata": {},
   "outputs": [],
   "source": [
    "batch_size = int(best_batch_size)\n",
    "epochs = 1000"
   ]
  },
  {
   "cell_type": "markdown",
   "metadata": {},
   "source": [
    "Nun kann ein neuer Wandb-Run gestartet werden, um die Ergebnisse des Trainings zu speichern. Dabei werden alle Parameter festgelegt wie mit dem Run gespeichert werden sollen."
   ]
  },
  {
   "cell_type": "code",
   "execution_count": 16,
   "metadata": {},
   "outputs": [],
   "source": [
    "# wandb.login()"
   ]
  },
  {
   "cell_type": "code",
   "execution_count": 17,
   "metadata": {},
   "outputs": [
    {
     "name": "stderr",
     "output_type": "stream",
     "text": [
      "Failed to detect the name of this notebook, you can set it manually with the WANDB_NOTEBOOK_NAME environment variable to enable code saving.\n",
      "\u001b[34m\u001b[1mwandb\u001b[0m: Currently logged in as: \u001b[33mlokrau2002\u001b[0m (\u001b[33mlokrau\u001b[0m). Use \u001b[1m`wandb login --relogin`\u001b[0m to force relogin\n"
     ]
    },
    {
     "data": {
      "text/html": [
       "Tracking run with wandb version 0.17.1"
      ],
      "text/plain": [
       "<IPython.core.display.HTML object>"
      ]
     },
     "metadata": {},
     "output_type": "display_data"
    },
    {
     "data": {
      "text/html": [
       "Run data is saved locally in <code>/Users/lorenzkrause/Uni/Semester 6/ML_Project_Credot_Card_new/ml_project_credit_card/code/wandb/run-20240609_113514-r652uny5</code>"
      ],
      "text/plain": [
       "<IPython.core.display.HTML object>"
      ]
     },
     "metadata": {},
     "output_type": "display_data"
    },
    {
     "data": {
      "text/html": [
       "Syncing run <strong><a href='https://wandb.ai/lokrau/ml_assignment_wandb/runs/r652uny5' target=\"_blank\">visionary-lake-2</a></strong> to <a href='https://wandb.ai/lokrau/ml_assignment_wandb' target=\"_blank\">Weights & Biases</a> (<a href='https://wandb.me/run' target=\"_blank\">docs</a>)<br/>"
      ],
      "text/plain": [
       "<IPython.core.display.HTML object>"
      ]
     },
     "metadata": {},
     "output_type": "display_data"
    },
    {
     "data": {
      "text/html": [
       " View project at <a href='https://wandb.ai/lokrau/ml_assignment_wandb' target=\"_blank\">https://wandb.ai/lokrau/ml_assignment_wandb</a>"
      ],
      "text/plain": [
       "<IPython.core.display.HTML object>"
      ]
     },
     "metadata": {},
     "output_type": "display_data"
    },
    {
     "data": {
      "text/html": [
       " View run at <a href='https://wandb.ai/lokrau/ml_assignment_wandb/runs/r652uny5' target=\"_blank\">https://wandb.ai/lokrau/ml_assignment_wandb/runs/r652uny5</a>"
      ],
      "text/plain": [
       "<IPython.core.display.HTML object>"
      ]
     },
     "metadata": {},
     "output_type": "display_data"
    }
   ],
   "source": [
    "run = wandb.init(project='ml_assignment_wandb',\n",
    "                 reinit = True,\n",
    "                 config={\n",
    "                     \"learning_rate\": 0.001, \n",
    "                     \"epochs\": epochs,\n",
    "                     \"batch_size\": batch_size,\n",
    "                     \"loss_function\": \"BinaryCrossentropy\",\n",
    "                     \"architecture\": \"Dense(64, relu) -> Dense(64, relu) -> Dense(64, relu) -> Dense(64, relu) -> Dense(1, sigmoid)\",\n",
    "                     \"dataset\": \"Credit Card\",\n",
    "                     \"optimizer\": \"Adam\"})"
   ]
  },
  {
   "cell_type": "markdown",
   "metadata": {},
   "source": [
    "Nun kann das Modell basierend auf den Trainings- und Validierungsdaten trainiert werden."
   ]
  },
  {
   "cell_type": "code",
   "execution_count": 18,
   "metadata": {},
   "outputs": [
    {
     "name": "stdout",
     "output_type": "stream",
     "text": [
      "Epoch 1/1000\n",
      "\u001b[1m1537/1568\u001b[0m \u001b[32m━━━━━━━━━━━━━━━━━━━\u001b[0m\u001b[37m━\u001b[0m \u001b[1m0s\u001b[0m 819us/step - accuracy: 0.5069 - loss: 229.4531"
     ]
    },
    {
     "name": "stderr",
     "output_type": "stream",
     "text": [
      "\u001b[34m\u001b[1mwandb\u001b[0m: \u001b[32m\u001b[41mERROR\u001b[0m Unable to log learning rate.\n"
     ]
    },
    {
     "name": "stdout",
     "output_type": "stream",
     "text": [
      "\u001b[1m1568/1568\u001b[0m \u001b[32m━━━━━━━━━━━━━━━━━━━━\u001b[0m\u001b[37m\u001b[0m \u001b[1m2s\u001b[0m 955us/step - accuracy: 0.5069 - loss: 226.5117 - val_accuracy: 0.5081 - val_loss: 13.2188\n",
      "Epoch 2/1000\n",
      "\u001b[1m1568/1568\u001b[0m \u001b[32m━━━━━━━━━━━━━━━━━━━━\u001b[0m\u001b[37m\u001b[0m \u001b[1m1s\u001b[0m 755us/step - accuracy: 0.5220 - loss: 7.0306 - val_accuracy: 0.5020 - val_loss: 2.3146\n",
      "Epoch 3/1000\n",
      "\u001b[1m1568/1568\u001b[0m \u001b[32m━━━━━━━━━━━━━━━━━━━━\u001b[0m\u001b[37m\u001b[0m \u001b[1m1s\u001b[0m 742us/step - accuracy: 0.5250 - loss: 2.1883 - val_accuracy: 0.5165 - val_loss: 1.6513\n",
      "Epoch 4/1000\n",
      "\u001b[1m1568/1568\u001b[0m \u001b[32m━━━━━━━━━━━━━━━━━━━━\u001b[0m\u001b[37m\u001b[0m \u001b[1m1s\u001b[0m 747us/step - accuracy: 0.5324 - loss: 1.0530 - val_accuracy: 0.4964 - val_loss: 1.4302\n",
      "Epoch 5/1000\n",
      "\u001b[1m1568/1568\u001b[0m \u001b[32m━━━━━━━━━━━━━━━━━━━━\u001b[0m\u001b[37m\u001b[0m \u001b[1m1s\u001b[0m 751us/step - accuracy: 0.5353 - loss: 1.0306 - val_accuracy: 0.4938 - val_loss: 0.9432\n",
      "Epoch 6/1000\n",
      "\u001b[1m1568/1568\u001b[0m \u001b[32m━━━━━━━━━━━━━━━━━━━━\u001b[0m\u001b[37m\u001b[0m \u001b[1m1s\u001b[0m 773us/step - accuracy: 0.5374 - loss: 0.8843 - val_accuracy: 0.5287 - val_loss: 0.8294\n",
      "Epoch 7/1000\n",
      "\u001b[1m1568/1568\u001b[0m \u001b[32m━━━━━━━━━━━━━━━━━━━━\u001b[0m\u001b[37m\u001b[0m \u001b[1m1s\u001b[0m 765us/step - accuracy: 0.5452 - loss: 0.8977 - val_accuracy: 0.5348 - val_loss: 0.8909\n",
      "Epoch 8/1000\n",
      "\u001b[1m1568/1568\u001b[0m \u001b[32m━━━━━━━━━━━━━━━━━━━━\u001b[0m\u001b[37m\u001b[0m \u001b[1m1s\u001b[0m 731us/step - accuracy: 0.5387 - loss: 0.7898 - val_accuracy: 0.5363 - val_loss: 0.8166\n",
      "Epoch 9/1000\n",
      "\u001b[1m1568/1568\u001b[0m \u001b[32m━━━━━━━━━━━━━━━━━━━━\u001b[0m\u001b[37m\u001b[0m \u001b[1m1s\u001b[0m 754us/step - accuracy: 0.5396 - loss: 0.7649 - val_accuracy: 0.5007 - val_loss: 1.0453\n",
      "Epoch 10/1000\n",
      "\u001b[1m1568/1568\u001b[0m \u001b[32m━━━━━━━━━━━━━━━━━━━━\u001b[0m\u001b[37m\u001b[0m \u001b[1m1s\u001b[0m 728us/step - accuracy: 0.5441 - loss: 0.7534 - val_accuracy: 0.5255 - val_loss: 0.7751\n",
      "Epoch 11/1000\n",
      "\u001b[1m1568/1568\u001b[0m \u001b[32m━━━━━━━━━━━━━━━━━━━━\u001b[0m\u001b[37m\u001b[0m \u001b[1m1s\u001b[0m 809us/step - accuracy: 0.5473 - loss: 0.7434 - val_accuracy: 0.5170 - val_loss: 0.7744\n",
      "Epoch 12/1000\n",
      "\u001b[1m1568/1568\u001b[0m \u001b[32m━━━━━━━━━━━━━━━━━━━━\u001b[0m\u001b[37m\u001b[0m \u001b[1m1s\u001b[0m 749us/step - accuracy: 0.5378 - loss: 1.1353 - val_accuracy: 0.5238 - val_loss: 0.9003\n",
      "Epoch 13/1000\n",
      "\u001b[1m1568/1568\u001b[0m \u001b[32m━━━━━━━━━━━━━━━━━━━━\u001b[0m\u001b[37m\u001b[0m \u001b[1m1s\u001b[0m 797us/step - accuracy: 0.5410 - loss: 0.8528 - val_accuracy: 0.5005 - val_loss: 1.0622\n",
      "Epoch 14/1000\n",
      "\u001b[1m1568/1568\u001b[0m \u001b[32m━━━━━━━━━━━━━━━━━━━━\u001b[0m\u001b[37m\u001b[0m \u001b[1m1s\u001b[0m 817us/step - accuracy: 0.5494 - loss: 0.7432 - val_accuracy: 0.5176 - val_loss: 0.7604\n",
      "Epoch 15/1000\n",
      "\u001b[1m1568/1568\u001b[0m \u001b[32m━━━━━━━━━━━━━━━━━━━━\u001b[0m\u001b[37m\u001b[0m \u001b[1m1s\u001b[0m 753us/step - accuracy: 0.5580 - loss: 0.7235 - val_accuracy: 0.5381 - val_loss: 0.8052\n",
      "Epoch 16/1000\n",
      "\u001b[1m1568/1568\u001b[0m \u001b[32m━━━━━━━━━━━━━━━━━━━━\u001b[0m\u001b[37m\u001b[0m \u001b[1m1s\u001b[0m 744us/step - accuracy: 0.5622 - loss: 0.7166 - val_accuracy: 0.4989 - val_loss: 0.8088\n",
      "Epoch 17/1000\n",
      "\u001b[1m1568/1568\u001b[0m \u001b[32m━━━━━━━━━━━━━━━━━━━━\u001b[0m\u001b[37m\u001b[0m \u001b[1m1s\u001b[0m 759us/step - accuracy: 0.5617 - loss: 0.7122 - val_accuracy: 0.5113 - val_loss: 0.8101\n",
      "Epoch 18/1000\n",
      "\u001b[1m1568/1568\u001b[0m \u001b[32m━━━━━━━━━━━━━━━━━━━━\u001b[0m\u001b[37m\u001b[0m \u001b[1m1s\u001b[0m 784us/step - accuracy: 0.5584 - loss: 0.7303 - val_accuracy: 0.5733 - val_loss: 0.8446\n",
      "Epoch 19/1000\n",
      "\u001b[1m1568/1568\u001b[0m \u001b[32m━━━━━━━━━━━━━━━━━━━━\u001b[0m\u001b[37m\u001b[0m \u001b[1m1s\u001b[0m 762us/step - accuracy: 0.5653 - loss: 1.7903 - val_accuracy: 0.5604 - val_loss: 0.7133\n",
      "Epoch 20/1000\n",
      "\u001b[1m1568/1568\u001b[0m \u001b[32m━━━━━━━━━━━━━━━━━━━━\u001b[0m\u001b[37m\u001b[0m \u001b[1m1s\u001b[0m 751us/step - accuracy: 0.5644 - loss: 0.6953 - val_accuracy: 0.5159 - val_loss: 0.7861\n",
      "Epoch 21/1000\n",
      "\u001b[1m1568/1568\u001b[0m \u001b[32m━━━━━━━━━━━━━━━━━━━━\u001b[0m\u001b[37m\u001b[0m \u001b[1m1s\u001b[0m 850us/step - accuracy: 0.5768 - loss: 0.6753 - val_accuracy: 0.5668 - val_loss: 0.7176\n",
      "Epoch 22/1000\n",
      "\u001b[1m1568/1568\u001b[0m \u001b[32m━━━━━━━━━━━━━━━━━━━━\u001b[0m\u001b[37m\u001b[0m \u001b[1m1s\u001b[0m 906us/step - accuracy: 0.5835 - loss: 0.6720 - val_accuracy: 0.5272 - val_loss: 0.7748\n",
      "Epoch 23/1000\n",
      "\u001b[1m1568/1568\u001b[0m \u001b[32m━━━━━━━━━━━━━━━━━━━━\u001b[0m\u001b[37m\u001b[0m \u001b[1m1s\u001b[0m 751us/step - accuracy: 0.5884 - loss: 0.6700 - val_accuracy: 0.5658 - val_loss: 0.7741\n",
      "Epoch 24/1000\n",
      "\u001b[1m1568/1568\u001b[0m \u001b[32m━━━━━━━━━━━━━━━━━━━━\u001b[0m\u001b[37m\u001b[0m \u001b[1m1s\u001b[0m 703us/step - accuracy: 0.5886 - loss: 0.6758 - val_accuracy: 0.5731 - val_loss: 0.7413\n",
      "Epoch 25/1000\n",
      "\u001b[1m1568/1568\u001b[0m \u001b[32m━━━━━━━━━━━━━━━━━━━━\u001b[0m\u001b[37m\u001b[0m \u001b[1m1s\u001b[0m 713us/step - accuracy: 0.5880 - loss: 0.6788 - val_accuracy: 0.5403 - val_loss: 0.7862\n",
      "Epoch 26/1000\n",
      "\u001b[1m1568/1568\u001b[0m \u001b[32m━━━━━━━━━━━━━━━━━━━━\u001b[0m\u001b[37m\u001b[0m \u001b[1m1s\u001b[0m 699us/step - accuracy: 0.5914 - loss: 0.6665 - val_accuracy: 0.5919 - val_loss: 0.7359\n",
      "Epoch 27/1000\n",
      "\u001b[1m1568/1568\u001b[0m \u001b[32m━━━━━━━━━━━━━━━━━━━━\u001b[0m\u001b[37m\u001b[0m \u001b[1m1s\u001b[0m 717us/step - accuracy: 0.6029 - loss: 0.6552 - val_accuracy: 0.5928 - val_loss: 0.7171\n",
      "Epoch 28/1000\n",
      "\u001b[1m1568/1568\u001b[0m \u001b[32m━━━━━━━━━━━━━━━━━━━━\u001b[0m\u001b[37m\u001b[0m \u001b[1m1s\u001b[0m 734us/step - accuracy: 0.6068 - loss: 0.6545 - val_accuracy: 0.5678 - val_loss: 0.7254\n",
      "Epoch 29/1000\n",
      "\u001b[1m1568/1568\u001b[0m \u001b[32m━━━━━━━━━━━━━━━━━━━━\u001b[0m\u001b[37m\u001b[0m \u001b[1m1s\u001b[0m 714us/step - accuracy: 0.6050 - loss: 0.6577 - val_accuracy: 0.5430 - val_loss: 0.8088\n",
      "Epoch 30/1000\n",
      "\u001b[1m1568/1568\u001b[0m \u001b[32m━━━━━━━━━━━━━━━━━━━━\u001b[0m\u001b[37m\u001b[0m \u001b[1m1s\u001b[0m 710us/step - accuracy: 0.6033 - loss: 0.6642 - val_accuracy: 0.6067 - val_loss: 0.7168\n",
      "Epoch 31/1000\n",
      "\u001b[1m1568/1568\u001b[0m \u001b[32m━━━━━━━━━━━━━━━━━━━━\u001b[0m\u001b[37m\u001b[0m \u001b[1m1s\u001b[0m 709us/step - accuracy: 0.6183 - loss: 0.6506 - val_accuracy: 0.6125 - val_loss: 0.7226\n",
      "Epoch 32/1000\n",
      "\u001b[1m1568/1568\u001b[0m \u001b[32m━━━━━━━━━━━━━━━━━━━━\u001b[0m\u001b[37m\u001b[0m \u001b[1m1s\u001b[0m 710us/step - accuracy: 0.6162 - loss: 0.6471 - val_accuracy: 0.5958 - val_loss: 0.7474\n",
      "Epoch 33/1000\n",
      "\u001b[1m1568/1568\u001b[0m \u001b[32m━━━━━━━━━━━━━━━━━━━━\u001b[0m\u001b[37m\u001b[0m \u001b[1m1s\u001b[0m 711us/step - accuracy: 0.6103 - loss: 0.6530 - val_accuracy: 0.5534 - val_loss: 0.7889\n",
      "Epoch 34/1000\n",
      "\u001b[1m1568/1568\u001b[0m \u001b[32m━━━━━━━━━━━━━━━━━━━━\u001b[0m\u001b[37m\u001b[0m \u001b[1m1s\u001b[0m 717us/step - accuracy: 0.6222 - loss: 0.6462 - val_accuracy: 0.5921 - val_loss: 0.7536\n",
      "Epoch 35/1000\n",
      "\u001b[1m1568/1568\u001b[0m \u001b[32m━━━━━━━━━━━━━━━━━━━━\u001b[0m\u001b[37m\u001b[0m \u001b[1m1s\u001b[0m 768us/step - accuracy: 0.6255 - loss: 0.6425 - val_accuracy: 0.6216 - val_loss: 0.7659\n",
      "Epoch 36/1000\n",
      "\u001b[1m1568/1568\u001b[0m \u001b[32m━━━━━━━━━━━━━━━━━━━━\u001b[0m\u001b[37m\u001b[0m \u001b[1m1s\u001b[0m 699us/step - accuracy: 0.6292 - loss: 0.6397 - val_accuracy: 0.5756 - val_loss: 0.7557\n",
      "Epoch 37/1000\n",
      "\u001b[1m1568/1568\u001b[0m \u001b[32m━━━━━━━━━━━━━━━━━━━━\u001b[0m\u001b[37m\u001b[0m \u001b[1m1s\u001b[0m 746us/step - accuracy: 0.6225 - loss: 0.6475 - val_accuracy: 0.6294 - val_loss: 0.6970\n",
      "Epoch 38/1000\n",
      "\u001b[1m1568/1568\u001b[0m \u001b[32m━━━━━━━━━━━━━━━━━━━━\u001b[0m\u001b[37m\u001b[0m \u001b[1m1s\u001b[0m 742us/step - accuracy: 0.6339 - loss: 0.6342 - val_accuracy: 0.6219 - val_loss: 0.7335\n",
      "Epoch 39/1000\n",
      "\u001b[1m1568/1568\u001b[0m \u001b[32m━━━━━━━━━━━━━━━━━━━━\u001b[0m\u001b[37m\u001b[0m \u001b[1m1s\u001b[0m 729us/step - accuracy: 0.6355 - loss: 0.6344 - val_accuracy: 0.5947 - val_loss: 0.7159\n",
      "Epoch 40/1000\n",
      "\u001b[1m1568/1568\u001b[0m \u001b[32m━━━━━━━━━━━━━━━━━━━━\u001b[0m\u001b[37m\u001b[0m \u001b[1m1s\u001b[0m 725us/step - accuracy: 0.6357 - loss: 0.6286 - val_accuracy: 0.5286 - val_loss: 0.7739\n",
      "Epoch 41/1000\n",
      "\u001b[1m1568/1568\u001b[0m \u001b[32m━━━━━━━━━━━━━━━━━━━━\u001b[0m\u001b[37m\u001b[0m \u001b[1m1s\u001b[0m 773us/step - accuracy: 0.6278 - loss: 0.6500 - val_accuracy: 0.6291 - val_loss: 0.7077\n",
      "Epoch 42/1000\n",
      "\u001b[1m1568/1568\u001b[0m \u001b[32m━━━━━━━━━━━━━━━━━━━━\u001b[0m\u001b[37m\u001b[0m \u001b[1m1s\u001b[0m 723us/step - accuracy: 0.6423 - loss: 0.6303 - val_accuracy: 0.5877 - val_loss: 0.7487\n",
      "Epoch 43/1000\n",
      "\u001b[1m1568/1568\u001b[0m \u001b[32m━━━━━━━━━━━━━━━━━━━━\u001b[0m\u001b[37m\u001b[0m \u001b[1m1s\u001b[0m 717us/step - accuracy: 0.6360 - loss: 0.6317 - val_accuracy: 0.6403 - val_loss: 0.6961\n",
      "Epoch 44/1000\n",
      "\u001b[1m1568/1568\u001b[0m \u001b[32m━━━━━━━━━━━━━━━━━━━━\u001b[0m\u001b[37m\u001b[0m \u001b[1m1s\u001b[0m 717us/step - accuracy: 0.6346 - loss: 0.6303 - val_accuracy: 0.5637 - val_loss: 0.7717\n",
      "Epoch 45/1000\n",
      "\u001b[1m1568/1568\u001b[0m \u001b[32m━━━━━━━━━━━━━━━━━━━━\u001b[0m\u001b[37m\u001b[0m \u001b[1m1s\u001b[0m 720us/step - accuracy: 0.6419 - loss: 0.6240 - val_accuracy: 0.6402 - val_loss: 0.7045\n",
      "Epoch 46/1000\n",
      "\u001b[1m1568/1568\u001b[0m \u001b[32m━━━━━━━━━━━━━━━━━━━━\u001b[0m\u001b[37m\u001b[0m \u001b[1m1s\u001b[0m 728us/step - accuracy: 0.6505 - loss: 0.6206 - val_accuracy: 0.5748 - val_loss: 0.8001\n",
      "Epoch 47/1000\n",
      "\u001b[1m1568/1568\u001b[0m \u001b[32m━━━━━━━━━━━━━━━━━━━━\u001b[0m\u001b[37m\u001b[0m \u001b[1m1s\u001b[0m 744us/step - accuracy: 0.6421 - loss: 0.6233 - val_accuracy: 0.6160 - val_loss: 0.7098\n",
      "Epoch 48/1000\n",
      "\u001b[1m1568/1568\u001b[0m \u001b[32m━━━━━━━━━━━━━━━━━━━━\u001b[0m\u001b[37m\u001b[0m \u001b[1m1s\u001b[0m 694us/step - accuracy: 0.6541 - loss: 0.6146 - val_accuracy: 0.6589 - val_loss: 0.6895\n",
      "Epoch 49/1000\n",
      "\u001b[1m1568/1568\u001b[0m \u001b[32m━━━━━━━━━━━━━━━━━━━━\u001b[0m\u001b[37m\u001b[0m \u001b[1m1s\u001b[0m 713us/step - accuracy: 0.6515 - loss: 0.6165 - val_accuracy: 0.5545 - val_loss: 0.7698\n",
      "Epoch 50/1000\n",
      "\u001b[1m1568/1568\u001b[0m \u001b[32m━━━━━━━━━━━━━━━━━━━━\u001b[0m\u001b[37m\u001b[0m \u001b[1m1s\u001b[0m 696us/step - accuracy: 0.6403 - loss: 0.6317 - val_accuracy: 0.5956 - val_loss: 0.7644\n",
      "Epoch 51/1000\n",
      "\u001b[1m1568/1568\u001b[0m \u001b[32m━━━━━━━━━━━━━━━━━━━━\u001b[0m\u001b[37m\u001b[0m \u001b[1m1s\u001b[0m 712us/step - accuracy: 0.6524 - loss: 0.6183 - val_accuracy: 0.6028 - val_loss: 0.7236\n",
      "Epoch 52/1000\n",
      "\u001b[1m1568/1568\u001b[0m \u001b[32m━━━━━━━━━━━━━━━━━━━━\u001b[0m\u001b[37m\u001b[0m \u001b[1m1s\u001b[0m 696us/step - accuracy: 0.6534 - loss: 0.6133 - val_accuracy: 0.6520 - val_loss: 0.6908\n",
      "Epoch 53/1000\n",
      "\u001b[1m1568/1568\u001b[0m \u001b[32m━━━━━━━━━━━━━━━━━━━━\u001b[0m\u001b[37m\u001b[0m \u001b[1m1s\u001b[0m 752us/step - accuracy: 0.6514 - loss: 0.6241 - val_accuracy: 0.5897 - val_loss: 0.7755\n",
      "Epoch 54/1000\n",
      "\u001b[1m1568/1568\u001b[0m \u001b[32m━━━━━━━━━━━━━━━━━━━━\u001b[0m\u001b[37m\u001b[0m \u001b[1m1s\u001b[0m 699us/step - accuracy: 0.6543 - loss: 0.6137 - val_accuracy: 0.6685 - val_loss: 0.6762\n",
      "Epoch 55/1000\n",
      "\u001b[1m1568/1568\u001b[0m \u001b[32m━━━━━━━━━━━━━━━━━━━━\u001b[0m\u001b[37m\u001b[0m \u001b[1m1s\u001b[0m 713us/step - accuracy: 0.6655 - loss: 0.6062 - val_accuracy: 0.6548 - val_loss: 0.6710\n",
      "Epoch 56/1000\n",
      "\u001b[1m1568/1568\u001b[0m \u001b[32m━━━━━━━━━━━━━━━━━━━━\u001b[0m\u001b[37m\u001b[0m \u001b[1m1s\u001b[0m 721us/step - accuracy: 0.6641 - loss: 0.6069 - val_accuracy: 0.6570 - val_loss: 0.6874\n",
      "Epoch 57/1000\n",
      "\u001b[1m1568/1568\u001b[0m \u001b[32m━━━━━━━━━━━━━━━━━━━━\u001b[0m\u001b[37m\u001b[0m \u001b[1m1s\u001b[0m 714us/step - accuracy: 0.6583 - loss: 0.6146 - val_accuracy: 0.6781 - val_loss: 0.6926\n",
      "Epoch 58/1000\n",
      "\u001b[1m1568/1568\u001b[0m \u001b[32m━━━━━━━━━━━━━━━━━━━━\u001b[0m\u001b[37m\u001b[0m \u001b[1m1s\u001b[0m 707us/step - accuracy: 0.6575 - loss: 0.6160 - val_accuracy: 0.6600 - val_loss: 0.6830\n",
      "Epoch 59/1000\n",
      "\u001b[1m1568/1568\u001b[0m \u001b[32m━━━━━━━━━━━━━━━━━━━━\u001b[0m\u001b[37m\u001b[0m \u001b[1m1s\u001b[0m 738us/step - accuracy: 0.6639 - loss: 0.6072 - val_accuracy: 0.6155 - val_loss: 0.7985\n",
      "Epoch 60/1000\n",
      "\u001b[1m1568/1568\u001b[0m \u001b[32m━━━━━━━━━━━━━━━━━━━━\u001b[0m\u001b[37m\u001b[0m \u001b[1m1s\u001b[0m 705us/step - accuracy: 0.6673 - loss: 0.5996 - val_accuracy: 0.6706 - val_loss: 0.6725\n",
      "Epoch 61/1000\n",
      "\u001b[1m1568/1568\u001b[0m \u001b[32m━━━━━━━━━━━━━━━━━━━━\u001b[0m\u001b[37m\u001b[0m \u001b[1m1s\u001b[0m 712us/step - accuracy: 0.6673 - loss: 0.6053 - val_accuracy: 0.6289 - val_loss: 0.7064\n",
      "Epoch 62/1000\n",
      "\u001b[1m1568/1568\u001b[0m \u001b[32m━━━━━━━━━━━━━━━━━━━━\u001b[0m\u001b[37m\u001b[0m \u001b[1m1s\u001b[0m 696us/step - accuracy: 0.6678 - loss: 0.5973 - val_accuracy: 0.5873 - val_loss: 0.8001\n",
      "Epoch 63/1000\n",
      "\u001b[1m1568/1568\u001b[0m \u001b[32m━━━━━━━━━━━━━━━━━━━━\u001b[0m\u001b[37m\u001b[0m \u001b[1m1s\u001b[0m 712us/step - accuracy: 0.6575 - loss: 0.6225 - val_accuracy: 0.6702 - val_loss: 0.6807\n",
      "Epoch 64/1000\n",
      "\u001b[1m1568/1568\u001b[0m \u001b[32m━━━━━━━━━━━━━━━━━━━━\u001b[0m\u001b[37m\u001b[0m \u001b[1m1s\u001b[0m 743us/step - accuracy: 0.6615 - loss: 0.6098 - val_accuracy: 0.5586 - val_loss: 0.9050\n",
      "Epoch 65/1000\n",
      "\u001b[1m1568/1568\u001b[0m \u001b[32m━━━━━━━━━━━━━━━━━━━━\u001b[0m\u001b[37m\u001b[0m \u001b[1m1s\u001b[0m 704us/step - accuracy: 0.6761 - loss: 0.5904 - val_accuracy: 0.7119 - val_loss: 0.6456\n",
      "Epoch 66/1000\n",
      "\u001b[1m1568/1568\u001b[0m \u001b[32m━━━━━━━━━━━━━━━━━━━━\u001b[0m\u001b[37m\u001b[0m \u001b[1m1s\u001b[0m 706us/step - accuracy: 0.6774 - loss: 0.5862 - val_accuracy: 0.6693 - val_loss: 0.6693\n",
      "Epoch 67/1000\n",
      "\u001b[1m1568/1568\u001b[0m \u001b[32m━━━━━━━━━━━━━━━━━━━━\u001b[0m\u001b[37m\u001b[0m \u001b[1m1s\u001b[0m 696us/step - accuracy: 0.6722 - loss: 0.5997 - val_accuracy: 0.6704 - val_loss: 0.6861\n",
      "Epoch 68/1000\n",
      "\u001b[1m1568/1568\u001b[0m \u001b[32m━━━━━━━━━━━━━━━━━━━━\u001b[0m\u001b[37m\u001b[0m \u001b[1m1s\u001b[0m 711us/step - accuracy: 0.6878 - loss: 0.5751 - val_accuracy: 0.6858 - val_loss: 0.6738\n",
      "Epoch 69/1000\n",
      "\u001b[1m1568/1568\u001b[0m \u001b[32m━━━━━━━━━━━━━━━━━━━━\u001b[0m\u001b[37m\u001b[0m \u001b[1m1s\u001b[0m 731us/step - accuracy: 0.6831 - loss: 0.5807 - val_accuracy: 0.7039 - val_loss: 0.6564\n",
      "Epoch 70/1000\n",
      "\u001b[1m1568/1568\u001b[0m \u001b[32m━━━━━━━━━━━━━━━━━━━━\u001b[0m\u001b[37m\u001b[0m \u001b[1m1s\u001b[0m 711us/step - accuracy: 0.6781 - loss: 0.5885 - val_accuracy: 0.6241 - val_loss: 0.7423\n",
      "Epoch 71/1000\n",
      "\u001b[1m1568/1568\u001b[0m \u001b[32m━━━━━━━━━━━━━━━━━━━━\u001b[0m\u001b[37m\u001b[0m \u001b[1m1s\u001b[0m 695us/step - accuracy: 0.6819 - loss: 0.5834 - val_accuracy: 0.6342 - val_loss: 0.7629\n",
      "Epoch 72/1000\n",
      "\u001b[1m1568/1568\u001b[0m \u001b[32m━━━━━━━━━━━━━━━━━━━━\u001b[0m\u001b[37m\u001b[0m \u001b[1m1s\u001b[0m 715us/step - accuracy: 0.6810 - loss: 0.5847 - val_accuracy: 0.5971 - val_loss: 0.7591\n",
      "Epoch 73/1000\n",
      "\u001b[1m1568/1568\u001b[0m \u001b[32m━━━━━━━━━━━━━━━━━━━━\u001b[0m\u001b[37m\u001b[0m \u001b[1m1s\u001b[0m 704us/step - accuracy: 0.6812 - loss: 0.5860 - val_accuracy: 0.6881 - val_loss: 0.6528\n",
      "Epoch 74/1000\n",
      "\u001b[1m1568/1568\u001b[0m \u001b[32m━━━━━━━━━━━━━━━━━━━━\u001b[0m\u001b[37m\u001b[0m \u001b[1m1s\u001b[0m 704us/step - accuracy: 0.6863 - loss: 0.5874 - val_accuracy: 0.6957 - val_loss: 0.6529\n",
      "Epoch 75/1000\n",
      "\u001b[1m1568/1568\u001b[0m \u001b[32m━━━━━━━━━━━━━━━━━━━━\u001b[0m\u001b[37m\u001b[0m \u001b[1m1s\u001b[0m 743us/step - accuracy: 0.6893 - loss: 0.5690 - val_accuracy: 0.6986 - val_loss: 0.6333\n",
      "Epoch 76/1000\n",
      "\u001b[1m1568/1568\u001b[0m \u001b[32m━━━━━━━━━━━━━━━━━━━━\u001b[0m\u001b[37m\u001b[0m \u001b[1m1s\u001b[0m 703us/step - accuracy: 0.6919 - loss: 0.5745 - val_accuracy: 0.6384 - val_loss: 0.7130\n",
      "Epoch 77/1000\n",
      "\u001b[1m1568/1568\u001b[0m \u001b[32m━━━━━━━━━━━━━━━━━━━━\u001b[0m\u001b[37m\u001b[0m \u001b[1m1s\u001b[0m 708us/step - accuracy: 0.6925 - loss: 0.5691 - val_accuracy: 0.7253 - val_loss: 0.5978\n",
      "Epoch 78/1000\n",
      "\u001b[1m1568/1568\u001b[0m \u001b[32m━━━━━━━━━━━━━━━━━━━━\u001b[0m\u001b[37m\u001b[0m \u001b[1m1s\u001b[0m 705us/step - accuracy: 0.6956 - loss: 0.5616 - val_accuracy: 0.6932 - val_loss: 0.6736\n",
      "Epoch 79/1000\n",
      "\u001b[1m1568/1568\u001b[0m \u001b[32m━━━━━━━━━━━━━━━━━━━━\u001b[0m\u001b[37m\u001b[0m \u001b[1m1s\u001b[0m 743us/step - accuracy: 0.6859 - loss: 0.5768 - val_accuracy: 0.7264 - val_loss: 0.6302\n",
      "Epoch 80/1000\n",
      "\u001b[1m1568/1568\u001b[0m \u001b[32m━━━━━━━━━━━━━━━━━━━━\u001b[0m\u001b[37m\u001b[0m \u001b[1m1s\u001b[0m 703us/step - accuracy: 0.6961 - loss: 0.5617 - val_accuracy: 0.6887 - val_loss: 0.6342\n",
      "Epoch 81/1000\n",
      "\u001b[1m1568/1568\u001b[0m \u001b[32m━━━━━━━━━━━━━━━━━━━━\u001b[0m\u001b[37m\u001b[0m \u001b[1m1s\u001b[0m 708us/step - accuracy: 0.6932 - loss: 0.5706 - val_accuracy: 0.7316 - val_loss: 0.6171\n",
      "Epoch 82/1000\n",
      "\u001b[1m1568/1568\u001b[0m \u001b[32m━━━━━━━━━━━━━━━━━━━━\u001b[0m\u001b[37m\u001b[0m \u001b[1m1s\u001b[0m 710us/step - accuracy: 0.6997 - loss: 0.5565 - val_accuracy: 0.7099 - val_loss: 0.6325\n",
      "Epoch 83/1000\n",
      "\u001b[1m1568/1568\u001b[0m \u001b[32m━━━━━━━━━━━━━━━━━━━━\u001b[0m\u001b[37m\u001b[0m \u001b[1m1s\u001b[0m 694us/step - accuracy: 0.6932 - loss: 0.5739 - val_accuracy: 0.7596 - val_loss: 0.6068\n",
      "Epoch 84/1000\n",
      "\u001b[1m1568/1568\u001b[0m \u001b[32m━━━━━━━━━━━━━━━━━━━━\u001b[0m\u001b[37m\u001b[0m \u001b[1m1s\u001b[0m 747us/step - accuracy: 0.7003 - loss: 0.5584 - val_accuracy: 0.7364 - val_loss: 0.5889\n",
      "Epoch 85/1000\n",
      "\u001b[1m1568/1568\u001b[0m \u001b[32m━━━━━━━━━━━━━━━━━━━━\u001b[0m\u001b[37m\u001b[0m \u001b[1m1s\u001b[0m 696us/step - accuracy: 0.6920 - loss: 0.5654 - val_accuracy: 0.6156 - val_loss: 0.7222\n",
      "Epoch 86/1000\n",
      "\u001b[1m1568/1568\u001b[0m \u001b[32m━━━━━━━━━━━━━━━━━━━━\u001b[0m\u001b[37m\u001b[0m \u001b[1m1s\u001b[0m 713us/step - accuracy: 0.6969 - loss: 0.5711 - val_accuracy: 0.7578 - val_loss: 0.5801\n",
      "Epoch 87/1000\n",
      "\u001b[1m1568/1568\u001b[0m \u001b[32m━━━━━━━━━━━━━━━━━━━━\u001b[0m\u001b[37m\u001b[0m \u001b[1m1s\u001b[0m 697us/step - accuracy: 0.6998 - loss: 0.5629 - val_accuracy: 0.6948 - val_loss: 0.6583\n",
      "Epoch 88/1000\n",
      "\u001b[1m1568/1568\u001b[0m \u001b[32m━━━━━━━━━━━━━━━━━━━━\u001b[0m\u001b[37m\u001b[0m \u001b[1m1s\u001b[0m 714us/step - accuracy: 0.7117 - loss: 0.5407 - val_accuracy: 0.6458 - val_loss: 0.7043\n",
      "Epoch 89/1000\n",
      "\u001b[1m1568/1568\u001b[0m \u001b[32m━━━━━━━━━━━━━━━━━━━━\u001b[0m\u001b[37m\u001b[0m \u001b[1m1s\u001b[0m 736us/step - accuracy: 0.7064 - loss: 0.5517 - val_accuracy: 0.6285 - val_loss: 0.7162\n",
      "Epoch 90/1000\n",
      "\u001b[1m1568/1568\u001b[0m \u001b[32m━━━━━━━━━━━━━━━━━━━━\u001b[0m\u001b[37m\u001b[0m \u001b[1m1s\u001b[0m 704us/step - accuracy: 0.7094 - loss: 0.5474 - val_accuracy: 0.7777 - val_loss: 0.5153\n",
      "Epoch 91/1000\n",
      "\u001b[1m1568/1568\u001b[0m \u001b[32m━━━━━━━━━━━━━━━━━━━━\u001b[0m\u001b[37m\u001b[0m \u001b[1m1s\u001b[0m 709us/step - accuracy: 0.7141 - loss: 0.5362 - val_accuracy: 0.7373 - val_loss: 0.6006\n",
      "Epoch 92/1000\n",
      "\u001b[1m1568/1568\u001b[0m \u001b[32m━━━━━━━━━━━━━━━━━━━━\u001b[0m\u001b[37m\u001b[0m \u001b[1m1s\u001b[0m 711us/step - accuracy: 0.7035 - loss: 0.5609 - val_accuracy: 0.7670 - val_loss: 0.5347\n",
      "Epoch 93/1000\n",
      "\u001b[1m1568/1568\u001b[0m \u001b[32m━━━━━━━━━━━━━━━━━━━━\u001b[0m\u001b[37m\u001b[0m \u001b[1m1s\u001b[0m 770us/step - accuracy: 0.7132 - loss: 0.5395 - val_accuracy: 0.7431 - val_loss: 0.5578\n",
      "Epoch 94/1000\n",
      "\u001b[1m1568/1568\u001b[0m \u001b[32m━━━━━━━━━━━━━━━━━━━━\u001b[0m\u001b[37m\u001b[0m \u001b[1m1s\u001b[0m 731us/step - accuracy: 0.7122 - loss: 0.5381 - val_accuracy: 0.7214 - val_loss: 0.5886\n",
      "Epoch 95/1000\n",
      "\u001b[1m1568/1568\u001b[0m \u001b[32m━━━━━━━━━━━━━━━━━━━━\u001b[0m\u001b[37m\u001b[0m \u001b[1m1s\u001b[0m 749us/step - accuracy: 0.7082 - loss: 0.5467 - val_accuracy: 0.7320 - val_loss: 0.6085\n",
      "Epoch 96/1000\n",
      "\u001b[1m1568/1568\u001b[0m \u001b[32m━━━━━━━━━━━━━━━━━━━━\u001b[0m\u001b[37m\u001b[0m \u001b[1m1s\u001b[0m 758us/step - accuracy: 0.7125 - loss: 0.5368 - val_accuracy: 0.7192 - val_loss: 0.5920\n",
      "Epoch 97/1000\n",
      "\u001b[1m1568/1568\u001b[0m \u001b[32m━━━━━━━━━━━━━━━━━━━━\u001b[0m\u001b[37m\u001b[0m \u001b[1m1s\u001b[0m 808us/step - accuracy: 0.7227 - loss: 0.5276 - val_accuracy: 0.7435 - val_loss: 0.5862\n",
      "Epoch 98/1000\n",
      "\u001b[1m1568/1568\u001b[0m \u001b[32m━━━━━━━━━━━━━━━━━━━━\u001b[0m\u001b[37m\u001b[0m \u001b[1m1s\u001b[0m 767us/step - accuracy: 0.7240 - loss: 0.5193 - val_accuracy: 0.7480 - val_loss: 0.6130\n",
      "Epoch 99/1000\n",
      "\u001b[1m1568/1568\u001b[0m \u001b[32m━━━━━━━━━━━━━━━━━━━━\u001b[0m\u001b[37m\u001b[0m \u001b[1m1s\u001b[0m 752us/step - accuracy: 0.7111 - loss: 0.5422 - val_accuracy: 0.7356 - val_loss: 0.5550\n",
      "Epoch 100/1000\n",
      "\u001b[1m1568/1568\u001b[0m \u001b[32m━━━━━━━━━━━━━━━━━━━━\u001b[0m\u001b[37m\u001b[0m \u001b[1m1s\u001b[0m 774us/step - accuracy: 0.7268 - loss: 0.5158 - val_accuracy: 0.6307 - val_loss: 0.7058\n",
      "Epoch 101/1000\n",
      "\u001b[1m1568/1568\u001b[0m \u001b[32m━━━━━━━━━━━━━━━━━━━━\u001b[0m\u001b[37m\u001b[0m \u001b[1m1s\u001b[0m 741us/step - accuracy: 0.7187 - loss: 0.5325 - val_accuracy: 0.7919 - val_loss: 0.5189\n",
      "Epoch 102/1000\n",
      "\u001b[1m1568/1568\u001b[0m \u001b[32m━━━━━━━━━━━━━━━━━━━━\u001b[0m\u001b[37m\u001b[0m \u001b[1m1s\u001b[0m 743us/step - accuracy: 0.7334 - loss: 0.5116 - val_accuracy: 0.7737 - val_loss: 0.5304\n",
      "Epoch 103/1000\n",
      "\u001b[1m1568/1568\u001b[0m \u001b[32m━━━━━━━━━━━━━━━━━━━━\u001b[0m\u001b[37m\u001b[0m \u001b[1m1s\u001b[0m 746us/step - accuracy: 0.7298 - loss: 0.5182 - val_accuracy: 0.7690 - val_loss: 0.5590\n",
      "Epoch 104/1000\n",
      "\u001b[1m1568/1568\u001b[0m \u001b[32m━━━━━━━━━━━━━━━━━━━━\u001b[0m\u001b[37m\u001b[0m \u001b[1m1s\u001b[0m 734us/step - accuracy: 0.7282 - loss: 0.5196 - val_accuracy: 0.7290 - val_loss: 0.5846\n",
      "Epoch 105/1000\n",
      "\u001b[1m1568/1568\u001b[0m \u001b[32m━━━━━━━━━━━━━━━━━━━━\u001b[0m\u001b[37m\u001b[0m \u001b[1m1s\u001b[0m 784us/step - accuracy: 0.7320 - loss: 0.5187 - val_accuracy: 0.8039 - val_loss: 0.4915\n",
      "Epoch 106/1000\n",
      "\u001b[1m1568/1568\u001b[0m \u001b[32m━━━━━━━━━━━━━━━━━━━━\u001b[0m\u001b[37m\u001b[0m \u001b[1m1s\u001b[0m 858us/step - accuracy: 0.7305 - loss: 0.5167 - val_accuracy: 0.7897 - val_loss: 0.5729\n",
      "Epoch 107/1000\n",
      "\u001b[1m1568/1568\u001b[0m \u001b[32m━━━━━━━━━━━━━━━━━━━━\u001b[0m\u001b[37m\u001b[0m \u001b[1m1s\u001b[0m 833us/step - accuracy: 0.7310 - loss: 0.5129 - val_accuracy: 0.7719 - val_loss: 0.5482\n",
      "Epoch 108/1000\n",
      "\u001b[1m1568/1568\u001b[0m \u001b[32m━━━━━━━━━━━━━━━━━━━━\u001b[0m\u001b[37m\u001b[0m \u001b[1m1s\u001b[0m 745us/step - accuracy: 0.7151 - loss: 0.5588 - val_accuracy: 0.6838 - val_loss: 0.6218\n",
      "Epoch 109/1000\n",
      "\u001b[1m1568/1568\u001b[0m \u001b[32m━━━━━━━━━━━━━━━━━━━━\u001b[0m\u001b[37m\u001b[0m \u001b[1m1s\u001b[0m 731us/step - accuracy: 0.7269 - loss: 0.5209 - val_accuracy: 0.7314 - val_loss: 0.5892\n",
      "Epoch 110/1000\n",
      "\u001b[1m1568/1568\u001b[0m \u001b[32m━━━━━━━━━━━━━━━━━━━━\u001b[0m\u001b[37m\u001b[0m \u001b[1m1s\u001b[0m 774us/step - accuracy: 0.7342 - loss: 0.5121 - val_accuracy: 0.7954 - val_loss: 0.5236\n",
      "Epoch 111/1000\n",
      "\u001b[1m1568/1568\u001b[0m \u001b[32m━━━━━━━━━━━━━━━━━━━━\u001b[0m\u001b[37m\u001b[0m \u001b[1m1s\u001b[0m 727us/step - accuracy: 0.7333 - loss: 0.5178 - val_accuracy: 0.7391 - val_loss: 0.5452\n",
      "Epoch 112/1000\n",
      "\u001b[1m1568/1568\u001b[0m \u001b[32m━━━━━━━━━━━━━━━━━━━━\u001b[0m\u001b[37m\u001b[0m \u001b[1m1s\u001b[0m 728us/step - accuracy: 0.7390 - loss: 0.5046 - val_accuracy: 0.7733 - val_loss: 0.5587\n",
      "Epoch 113/1000\n",
      "\u001b[1m1568/1568\u001b[0m \u001b[32m━━━━━━━━━━━━━━━━━━━━\u001b[0m\u001b[37m\u001b[0m \u001b[1m1s\u001b[0m 737us/step - accuracy: 0.7320 - loss: 0.5119 - val_accuracy: 0.7505 - val_loss: 0.5619\n",
      "Epoch 114/1000\n",
      "\u001b[1m1568/1568\u001b[0m \u001b[32m━━━━━━━━━━━━━━━━━━━━\u001b[0m\u001b[37m\u001b[0m \u001b[1m1s\u001b[0m 773us/step - accuracy: 0.7306 - loss: 0.5157 - val_accuracy: 0.7517 - val_loss: 0.5182\n",
      "Epoch 115/1000\n",
      "\u001b[1m1568/1568\u001b[0m \u001b[32m━━━━━━━━━━━━━━━━━━━━\u001b[0m\u001b[37m\u001b[0m \u001b[1m1s\u001b[0m 732us/step - accuracy: 0.7194 - loss: 0.5332 - val_accuracy: 0.7671 - val_loss: 0.5558\n",
      "Epoch 116/1000\n",
      "\u001b[1m1568/1568\u001b[0m \u001b[32m━━━━━━━━━━━━━━━━━━━━\u001b[0m\u001b[37m\u001b[0m \u001b[1m1s\u001b[0m 768us/step - accuracy: 0.7284 - loss: 0.5225 - val_accuracy: 0.5660 - val_loss: 0.9075\n",
      "Epoch 117/1000\n",
      "\u001b[1m1568/1568\u001b[0m \u001b[32m━━━━━━━━━━━━━━━━━━━━\u001b[0m\u001b[37m\u001b[0m \u001b[1m1s\u001b[0m 699us/step - accuracy: 0.7313 - loss: 0.5064 - val_accuracy: 0.7995 - val_loss: 0.5282\n",
      "Epoch 118/1000\n",
      "\u001b[1m1568/1568\u001b[0m \u001b[32m━━━━━━━━━━━━━━━━━━━━\u001b[0m\u001b[37m\u001b[0m \u001b[1m1s\u001b[0m 718us/step - accuracy: 0.7335 - loss: 0.5155 - val_accuracy: 0.5506 - val_loss: 0.9671\n",
      "Epoch 119/1000\n",
      "\u001b[1m1568/1568\u001b[0m \u001b[32m━━━━━━━━━━━━━━━━━━━━\u001b[0m\u001b[37m\u001b[0m \u001b[1m1s\u001b[0m 701us/step - accuracy: 0.7259 - loss: 0.5201 - val_accuracy: 0.8079 - val_loss: 0.5033\n",
      "Epoch 120/1000\n",
      "\u001b[1m1568/1568\u001b[0m \u001b[32m━━━━━━━━━━━━━━━━━━━━\u001b[0m\u001b[37m\u001b[0m \u001b[1m1s\u001b[0m 766us/step - accuracy: 0.7389 - loss: 0.5092 - val_accuracy: 0.7871 - val_loss: 0.5239\n",
      "Epoch 121/1000\n",
      "\u001b[1m1568/1568\u001b[0m \u001b[32m━━━━━━━━━━━━━━━━━━━━\u001b[0m\u001b[37m\u001b[0m \u001b[1m1s\u001b[0m 749us/step - accuracy: 0.7401 - loss: 0.5002 - val_accuracy: 0.7760 - val_loss: 0.5261\n",
      "Epoch 122/1000\n",
      "\u001b[1m1568/1568\u001b[0m \u001b[32m━━━━━━━━━━━━━━━━━━━━\u001b[0m\u001b[37m\u001b[0m \u001b[1m1s\u001b[0m 736us/step - accuracy: 0.7288 - loss: 0.5188 - val_accuracy: 0.7640 - val_loss: 0.5337\n",
      "Epoch 123/1000\n",
      "\u001b[1m1568/1568\u001b[0m \u001b[32m━━━━━━━━━━━━━━━━━━━━\u001b[0m\u001b[37m\u001b[0m \u001b[1m1s\u001b[0m 765us/step - accuracy: 0.7408 - loss: 0.5017 - val_accuracy: 0.7542 - val_loss: 0.5425\n",
      "Epoch 124/1000\n",
      "\u001b[1m1568/1568\u001b[0m \u001b[32m━━━━━━━━━━━━━━━━━━━━\u001b[0m\u001b[37m\u001b[0m \u001b[1m1s\u001b[0m 727us/step - accuracy: 0.7384 - loss: 0.5024 - val_accuracy: 0.7208 - val_loss: 0.5341\n",
      "Epoch 125/1000\n",
      "\u001b[1m1568/1568\u001b[0m \u001b[32m━━━━━━━━━━━━━━━━━━━━\u001b[0m\u001b[37m\u001b[0m \u001b[1m1s\u001b[0m 771us/step - accuracy: 0.7436 - loss: 0.4903 - val_accuracy: 0.7471 - val_loss: 0.5819\n",
      "Epoch 126/1000\n",
      "\u001b[1m1568/1568\u001b[0m \u001b[32m━━━━━━━━━━━━━━━━━━━━\u001b[0m\u001b[37m\u001b[0m \u001b[1m1s\u001b[0m 730us/step - accuracy: 0.7452 - loss: 0.4915 - val_accuracy: 0.7724 - val_loss: 0.5341\n",
      "Epoch 127/1000\n",
      "\u001b[1m1568/1568\u001b[0m \u001b[32m━━━━━━━━━━━━━━━━━━━━\u001b[0m\u001b[37m\u001b[0m \u001b[1m1s\u001b[0m 735us/step - accuracy: 0.7437 - loss: 0.4932 - val_accuracy: 0.8089 - val_loss: 0.4865\n",
      "Epoch 128/1000\n",
      "\u001b[1m1568/1568\u001b[0m \u001b[32m━━━━━━━━━━━━━━━━━━━━\u001b[0m\u001b[37m\u001b[0m \u001b[1m1s\u001b[0m 714us/step - accuracy: 0.7441 - loss: 0.4896 - val_accuracy: 0.7724 - val_loss: 0.5597\n",
      "Epoch 129/1000\n",
      "\u001b[1m1568/1568\u001b[0m \u001b[32m━━━━━━━━━━━━━━━━━━━━\u001b[0m\u001b[37m\u001b[0m \u001b[1m1s\u001b[0m 719us/step - accuracy: 0.7427 - loss: 0.4935 - val_accuracy: 0.8118 - val_loss: 0.4842\n",
      "Epoch 130/1000\n",
      "\u001b[1m1568/1568\u001b[0m \u001b[32m━━━━━━━━━━━━━━━━━━━━\u001b[0m\u001b[37m\u001b[0m \u001b[1m1s\u001b[0m 777us/step - accuracy: 0.7480 - loss: 0.4822 - val_accuracy: 0.7679 - val_loss: 0.5215\n",
      "Epoch 131/1000\n",
      "\u001b[1m1568/1568\u001b[0m \u001b[32m━━━━━━━━━━━━━━━━━━━━\u001b[0m\u001b[37m\u001b[0m \u001b[1m1s\u001b[0m 707us/step - accuracy: 0.7505 - loss: 0.4828 - val_accuracy: 0.7727 - val_loss: 0.5574\n",
      "Epoch 132/1000\n",
      "\u001b[1m1568/1568\u001b[0m \u001b[32m━━━━━━━━━━━━━━━━━━━━\u001b[0m\u001b[37m\u001b[0m \u001b[1m1s\u001b[0m 788us/step - accuracy: 0.7483 - loss: 0.4853 - val_accuracy: 0.7780 - val_loss: 0.5183\n",
      "Epoch 133/1000\n",
      "\u001b[1m1568/1568\u001b[0m \u001b[32m━━━━━━━━━━━━━━━━━━━━\u001b[0m\u001b[37m\u001b[0m \u001b[1m1s\u001b[0m 729us/step - accuracy: 0.7477 - loss: 0.4834 - val_accuracy: 0.6605 - val_loss: 0.6375\n",
      "Epoch 134/1000\n",
      "\u001b[1m1568/1568\u001b[0m \u001b[32m━━━━━━━━━━━━━━━━━━━━\u001b[0m\u001b[37m\u001b[0m \u001b[1m1s\u001b[0m 743us/step - accuracy: 0.7501 - loss: 0.4851 - val_accuracy: 0.8010 - val_loss: 0.4848\n",
      "Epoch 135/1000\n",
      "\u001b[1m1568/1568\u001b[0m \u001b[32m━━━━━━━━━━━━━━━━━━━━\u001b[0m\u001b[37m\u001b[0m \u001b[1m1s\u001b[0m 733us/step - accuracy: 0.7479 - loss: 0.4880 - val_accuracy: 0.7822 - val_loss: 0.4893\n",
      "Epoch 136/1000\n",
      "\u001b[1m1568/1568\u001b[0m \u001b[32m━━━━━━━━━━━━━━━━━━━━\u001b[0m\u001b[37m\u001b[0m \u001b[1m1s\u001b[0m 711us/step - accuracy: 0.7513 - loss: 0.4795 - val_accuracy: 0.8039 - val_loss: 0.4983\n",
      "Epoch 137/1000\n",
      "\u001b[1m1568/1568\u001b[0m \u001b[32m━━━━━━━━━━━━━━━━━━━━\u001b[0m\u001b[37m\u001b[0m \u001b[1m1s\u001b[0m 762us/step - accuracy: 0.7528 - loss: 0.4786 - val_accuracy: 0.7670 - val_loss: 0.5001\n",
      "Epoch 138/1000\n",
      "\u001b[1m1568/1568\u001b[0m \u001b[32m━━━━━━━━━━━━━━━━━━━━\u001b[0m\u001b[37m\u001b[0m \u001b[1m1s\u001b[0m 738us/step - accuracy: 0.7458 - loss: 0.4884 - val_accuracy: 0.7856 - val_loss: 0.4523\n",
      "Epoch 139/1000\n",
      "\u001b[1m1568/1568\u001b[0m \u001b[32m━━━━━━━━━━━━━━━━━━━━\u001b[0m\u001b[37m\u001b[0m \u001b[1m1s\u001b[0m 711us/step - accuracy: 0.7525 - loss: 0.4854 - val_accuracy: 0.7929 - val_loss: 0.4978\n",
      "Epoch 140/1000\n",
      "\u001b[1m1568/1568\u001b[0m \u001b[32m━━━━━━━━━━━━━━━━━━━━\u001b[0m\u001b[37m\u001b[0m \u001b[1m1s\u001b[0m 764us/step - accuracy: 0.7579 - loss: 0.4676 - val_accuracy: 0.7385 - val_loss: 0.5351\n",
      "Epoch 141/1000\n",
      "\u001b[1m1568/1568\u001b[0m \u001b[32m━━━━━━━━━━━━━━━━━━━━\u001b[0m\u001b[37m\u001b[0m \u001b[1m1s\u001b[0m 835us/step - accuracy: 0.7502 - loss: 0.4768 - val_accuracy: 0.7381 - val_loss: 0.5690\n",
      "Epoch 142/1000\n",
      "\u001b[1m1568/1568\u001b[0m \u001b[32m━━━━━━━━━━━━━━━━━━━━\u001b[0m\u001b[37m\u001b[0m \u001b[1m1s\u001b[0m 886us/step - accuracy: 0.7609 - loss: 0.4664 - val_accuracy: 0.6944 - val_loss: 0.6121\n",
      "Epoch 143/1000\n",
      "\u001b[1m1568/1568\u001b[0m \u001b[32m━━━━━━━━━━━━━━━━━━━━\u001b[0m\u001b[37m\u001b[0m \u001b[1m1s\u001b[0m 767us/step - accuracy: 0.7459 - loss: 0.4899 - val_accuracy: 0.7575 - val_loss: 0.5085\n",
      "Epoch 144/1000\n",
      "\u001b[1m1568/1568\u001b[0m \u001b[32m━━━━━━━━━━━━━━━━━━━━\u001b[0m\u001b[37m\u001b[0m \u001b[1m1s\u001b[0m 812us/step - accuracy: 0.7518 - loss: 0.4811 - val_accuracy: 0.8052 - val_loss: 0.4746\n",
      "Epoch 145/1000\n",
      "\u001b[1m1568/1568\u001b[0m \u001b[32m━━━━━━━━━━━━━━━━━━━━\u001b[0m\u001b[37m\u001b[0m \u001b[1m1s\u001b[0m 901us/step - accuracy: 0.7515 - loss: 0.4811 - val_accuracy: 0.7922 - val_loss: 0.4555\n",
      "Epoch 146/1000\n",
      "\u001b[1m1568/1568\u001b[0m \u001b[32m━━━━━━━━━━━━━━━━━━━━\u001b[0m\u001b[37m\u001b[0m \u001b[1m1s\u001b[0m 818us/step - accuracy: 0.7529 - loss: 0.4804 - val_accuracy: 0.6802 - val_loss: 0.6220\n",
      "Epoch 147/1000\n",
      "\u001b[1m1568/1568\u001b[0m \u001b[32m━━━━━━━━━━━━━━━━━━━━\u001b[0m\u001b[37m\u001b[0m \u001b[1m1s\u001b[0m 872us/step - accuracy: 0.7585 - loss: 0.4700 - val_accuracy: 0.8052 - val_loss: 0.4637\n",
      "Epoch 148/1000\n",
      "\u001b[1m1568/1568\u001b[0m \u001b[32m━━━━━━━━━━━━━━━━━━━━\u001b[0m\u001b[37m\u001b[0m \u001b[1m1s\u001b[0m 822us/step - accuracy: 0.7585 - loss: 0.4746 - val_accuracy: 0.6341 - val_loss: 0.6715\n",
      "Epoch 149/1000\n",
      "\u001b[1m1568/1568\u001b[0m \u001b[32m━━━━━━━━━━━━━━━━━━━━\u001b[0m\u001b[37m\u001b[0m \u001b[1m1s\u001b[0m 783us/step - accuracy: 0.7533 - loss: 0.4750 - val_accuracy: 0.7860 - val_loss: 0.5717\n",
      "Epoch 150/1000\n",
      "\u001b[1m1568/1568\u001b[0m \u001b[32m━━━━━━━━━━━━━━━━━━━━\u001b[0m\u001b[37m\u001b[0m \u001b[1m1s\u001b[0m 732us/step - accuracy: 0.7616 - loss: 0.4612 - val_accuracy: 0.7456 - val_loss: 0.5167\n",
      "Epoch 151/1000\n",
      "\u001b[1m1568/1568\u001b[0m \u001b[32m━━━━━━━━━━━━━━━━━━━━\u001b[0m\u001b[37m\u001b[0m \u001b[1m1s\u001b[0m 763us/step - accuracy: 0.7422 - loss: 0.4970 - val_accuracy: 0.7683 - val_loss: 0.4892\n",
      "Epoch 152/1000\n",
      "\u001b[1m1568/1568\u001b[0m \u001b[32m━━━━━━━━━━━━━━━━━━━━\u001b[0m\u001b[37m\u001b[0m \u001b[1m1s\u001b[0m 722us/step - accuracy: 0.7616 - loss: 0.4623 - val_accuracy: 0.8207 - val_loss: 0.4270\n",
      "Epoch 153/1000\n",
      "\u001b[1m1568/1568\u001b[0m \u001b[32m━━━━━━━━━━━━━━━━━━━━\u001b[0m\u001b[37m\u001b[0m \u001b[1m1s\u001b[0m 777us/step - accuracy: 0.7637 - loss: 0.4573 - val_accuracy: 0.8149 - val_loss: 0.4308\n",
      "Epoch 154/1000\n",
      "\u001b[1m1568/1568\u001b[0m \u001b[32m━━━━━━━━━━━━━━━━━━━━\u001b[0m\u001b[37m\u001b[0m \u001b[1m1s\u001b[0m 722us/step - accuracy: 0.7626 - loss: 0.4631 - val_accuracy: 0.8002 - val_loss: 0.5283\n",
      "Epoch 155/1000\n",
      "\u001b[1m1568/1568\u001b[0m \u001b[32m━━━━━━━━━━━━━━━━━━━━\u001b[0m\u001b[37m\u001b[0m \u001b[1m1s\u001b[0m 733us/step - accuracy: 0.7619 - loss: 0.4610 - val_accuracy: 0.8112 - val_loss: 0.4739\n",
      "Epoch 156/1000\n",
      "\u001b[1m1568/1568\u001b[0m \u001b[32m━━━━━━━━━━━━━━━━━━━━\u001b[0m\u001b[37m\u001b[0m \u001b[1m1s\u001b[0m 787us/step - accuracy: 0.7675 - loss: 0.4500 - val_accuracy: 0.7424 - val_loss: 0.5156\n",
      "Epoch 157/1000\n",
      "\u001b[1m1568/1568\u001b[0m \u001b[32m━━━━━━━━━━━━━━━━━━━━\u001b[0m\u001b[37m\u001b[0m \u001b[1m1s\u001b[0m 780us/step - accuracy: 0.7579 - loss: 0.4723 - val_accuracy: 0.7848 - val_loss: 0.4763\n",
      "Epoch 158/1000\n",
      "\u001b[1m1568/1568\u001b[0m \u001b[32m━━━━━━━━━━━━━━━━━━━━\u001b[0m\u001b[37m\u001b[0m \u001b[1m1s\u001b[0m 743us/step - accuracy: 0.7622 - loss: 0.4600 - val_accuracy: 0.7855 - val_loss: 0.5075\n",
      "Epoch 159/1000\n",
      "\u001b[1m1568/1568\u001b[0m \u001b[32m━━━━━━━━━━━━━━━━━━━━\u001b[0m\u001b[37m\u001b[0m \u001b[1m1s\u001b[0m 782us/step - accuracy: 0.7600 - loss: 0.4741 - val_accuracy: 0.8221 - val_loss: 0.4509\n",
      "Epoch 160/1000\n",
      "\u001b[1m1568/1568\u001b[0m \u001b[32m━━━━━━━━━━━━━━━━━━━━\u001b[0m\u001b[37m\u001b[0m \u001b[1m1s\u001b[0m 731us/step - accuracy: 0.7602 - loss: 0.4624 - val_accuracy: 0.7929 - val_loss: 0.4883\n",
      "Epoch 161/1000\n",
      "\u001b[1m1568/1568\u001b[0m \u001b[32m━━━━━━━━━━━━━━━━━━━━\u001b[0m\u001b[37m\u001b[0m \u001b[1m1s\u001b[0m 756us/step - accuracy: 0.7648 - loss: 0.4533 - val_accuracy: 0.7553 - val_loss: 0.4911\n",
      "Epoch 162/1000\n",
      "\u001b[1m1568/1568\u001b[0m \u001b[32m━━━━━━━━━━━━━━━━━━━━\u001b[0m\u001b[37m\u001b[0m \u001b[1m1s\u001b[0m 721us/step - accuracy: 0.7636 - loss: 0.4651 - val_accuracy: 0.8088 - val_loss: 0.4202\n",
      "Epoch 163/1000\n",
      "\u001b[1m1568/1568\u001b[0m \u001b[32m━━━━━━━━━━━━━━━━━━━━\u001b[0m\u001b[37m\u001b[0m \u001b[1m1s\u001b[0m 750us/step - accuracy: 0.7700 - loss: 0.4481 - val_accuracy: 0.8053 - val_loss: 0.4407\n",
      "Epoch 164/1000\n",
      "\u001b[1m1568/1568\u001b[0m \u001b[32m━━━━━━━━━━━━━━━━━━━━\u001b[0m\u001b[37m\u001b[0m \u001b[1m1s\u001b[0m 740us/step - accuracy: 0.7666 - loss: 0.4583 - val_accuracy: 0.8273 - val_loss: 0.4612\n",
      "Epoch 165/1000\n",
      "\u001b[1m1568/1568\u001b[0m \u001b[32m━━━━━━━━━━━━━━━━━━━━\u001b[0m\u001b[37m\u001b[0m \u001b[1m1s\u001b[0m 694us/step - accuracy: 0.7653 - loss: 0.4539 - val_accuracy: 0.7644 - val_loss: 0.5690\n",
      "Epoch 166/1000\n",
      "\u001b[1m1568/1568\u001b[0m \u001b[32m━━━━━━━━━━━━━━━━━━━━\u001b[0m\u001b[37m\u001b[0m \u001b[1m1s\u001b[0m 752us/step - accuracy: 0.7575 - loss: 0.4677 - val_accuracy: 0.7762 - val_loss: 0.5197\n",
      "Epoch 167/1000\n",
      "\u001b[1m1568/1568\u001b[0m \u001b[32m━━━━━━━━━━━━━━━━━━━━\u001b[0m\u001b[37m\u001b[0m \u001b[1m1s\u001b[0m 692us/step - accuracy: 0.7713 - loss: 0.4497 - val_accuracy: 0.8185 - val_loss: 0.4607\n",
      "Epoch 168/1000\n",
      "\u001b[1m1568/1568\u001b[0m \u001b[32m━━━━━━━━━━━━━━━━━━━━\u001b[0m\u001b[37m\u001b[0m \u001b[1m1s\u001b[0m 694us/step - accuracy: 0.7697 - loss: 0.4542 - val_accuracy: 0.8231 - val_loss: 0.4256\n",
      "Epoch 169/1000\n",
      "\u001b[1m1568/1568\u001b[0m \u001b[32m━━━━━━━━━━━━━━━━━━━━\u001b[0m\u001b[37m\u001b[0m \u001b[1m1s\u001b[0m 861us/step - accuracy: 0.7629 - loss: 0.4605 - val_accuracy: 0.7856 - val_loss: 0.4554\n",
      "Epoch 170/1000\n",
      "\u001b[1m1568/1568\u001b[0m \u001b[32m━━━━━━━━━━━━━━━━━━━━\u001b[0m\u001b[37m\u001b[0m \u001b[1m1s\u001b[0m 872us/step - accuracy: 0.7654 - loss: 0.4545 - val_accuracy: 0.7808 - val_loss: 0.4908\n",
      "Epoch 171/1000\n",
      "\u001b[1m1568/1568\u001b[0m \u001b[32m━━━━━━━━━━━━━━━━━━━━\u001b[0m\u001b[37m\u001b[0m \u001b[1m1s\u001b[0m 767us/step - accuracy: 0.7707 - loss: 0.4478 - val_accuracy: 0.8059 - val_loss: 0.4379\n",
      "Epoch 172/1000\n",
      "\u001b[1m1568/1568\u001b[0m \u001b[32m━━━━━━━━━━━━━━━━━━━━\u001b[0m\u001b[37m\u001b[0m \u001b[1m1s\u001b[0m 787us/step - accuracy: 0.7653 - loss: 0.4542 - val_accuracy: 0.7046 - val_loss: 0.5757\n",
      "Epoch 173/1000\n",
      "\u001b[1m1568/1568\u001b[0m \u001b[32m━━━━━━━━━━━━━━━━━━━━\u001b[0m\u001b[37m\u001b[0m \u001b[1m1s\u001b[0m 849us/step - accuracy: 0.7549 - loss: 0.4767 - val_accuracy: 0.8141 - val_loss: 0.4392\n",
      "Epoch 174/1000\n",
      "\u001b[1m1568/1568\u001b[0m \u001b[32m━━━━━━━━━━━━━━━━━━━━\u001b[0m\u001b[37m\u001b[0m \u001b[1m1s\u001b[0m 791us/step - accuracy: 0.7677 - loss: 0.4529 - val_accuracy: 0.8252 - val_loss: 0.4366\n",
      "Epoch 175/1000\n",
      "\u001b[1m1568/1568\u001b[0m \u001b[32m━━━━━━━━━━━━━━━━━━━━\u001b[0m\u001b[37m\u001b[0m \u001b[1m1s\u001b[0m 836us/step - accuracy: 0.7685 - loss: 0.4510 - val_accuracy: 0.7620 - val_loss: 0.5146\n",
      "Epoch 176/1000\n",
      "\u001b[1m1568/1568\u001b[0m \u001b[32m━━━━━━━━━━━━━━━━━━━━\u001b[0m\u001b[37m\u001b[0m \u001b[1m1s\u001b[0m 787us/step - accuracy: 0.7621 - loss: 0.4594 - val_accuracy: 0.8261 - val_loss: 0.4225\n",
      "Epoch 177/1000\n",
      "\u001b[1m1568/1568\u001b[0m \u001b[32m━━━━━━━━━━━━━━━━━━━━\u001b[0m\u001b[37m\u001b[0m \u001b[1m1s\u001b[0m 770us/step - accuracy: 0.7660 - loss: 0.4550 - val_accuracy: 0.8249 - val_loss: 0.4284\n",
      "Epoch 178/1000\n",
      "\u001b[1m1568/1568\u001b[0m \u001b[32m━━━━━━━━━━━━━━━━━━━━\u001b[0m\u001b[37m\u001b[0m \u001b[1m1s\u001b[0m 763us/step - accuracy: 0.7585 - loss: 0.4655 - val_accuracy: 0.8015 - val_loss: 0.4875\n",
      "Epoch 179/1000\n",
      "\u001b[1m1568/1568\u001b[0m \u001b[32m━━━━━━━━━━━━━━━━━━━━\u001b[0m\u001b[37m\u001b[0m \u001b[1m1s\u001b[0m 833us/step - accuracy: 0.7652 - loss: 0.4521 - val_accuracy: 0.7826 - val_loss: 0.4789\n",
      "Epoch 180/1000\n",
      "\u001b[1m1568/1568\u001b[0m \u001b[32m━━━━━━━━━━━━━━━━━━━━\u001b[0m\u001b[37m\u001b[0m \u001b[1m1s\u001b[0m 804us/step - accuracy: 0.7673 - loss: 0.4567 - val_accuracy: 0.8229 - val_loss: 0.4374\n",
      "Epoch 181/1000\n",
      "\u001b[1m1568/1568\u001b[0m \u001b[32m━━━━━━━━━━━━━━━━━━━━\u001b[0m\u001b[37m\u001b[0m \u001b[1m1s\u001b[0m 836us/step - accuracy: 0.7721 - loss: 0.4407 - val_accuracy: 0.8162 - val_loss: 0.4333\n",
      "Epoch 182/1000\n",
      "\u001b[1m1568/1568\u001b[0m \u001b[32m━━━━━━━━━━━━━━━━━━━━\u001b[0m\u001b[37m\u001b[0m \u001b[1m1s\u001b[0m 721us/step - accuracy: 0.7684 - loss: 0.4496 - val_accuracy: 0.7205 - val_loss: 0.5528\n",
      "Epoch 183/1000\n",
      "\u001b[1m1568/1568\u001b[0m \u001b[32m━━━━━━━━━━━━━━━━━━━━\u001b[0m\u001b[37m\u001b[0m \u001b[1m1s\u001b[0m 838us/step - accuracy: 0.7800 - loss: 0.4316 - val_accuracy: 0.7968 - val_loss: 0.5183\n",
      "Epoch 184/1000\n",
      "\u001b[1m1568/1568\u001b[0m \u001b[32m━━━━━━━━━━━━━━━━━━━━\u001b[0m\u001b[37m\u001b[0m \u001b[1m1s\u001b[0m 805us/step - accuracy: 0.7678 - loss: 0.4504 - val_accuracy: 0.8072 - val_loss: 0.4594\n",
      "Epoch 185/1000\n",
      "\u001b[1m1568/1568\u001b[0m \u001b[32m━━━━━━━━━━━━━━━━━━━━\u001b[0m\u001b[37m\u001b[0m \u001b[1m1s\u001b[0m 795us/step - accuracy: 0.7766 - loss: 0.4425 - val_accuracy: 0.8114 - val_loss: 0.5011\n",
      "Epoch 186/1000\n",
      "\u001b[1m1568/1568\u001b[0m \u001b[32m━━━━━━━━━━━━━━━━━━━━\u001b[0m\u001b[37m\u001b[0m \u001b[1m1s\u001b[0m 754us/step - accuracy: 0.7738 - loss: 0.4412 - val_accuracy: 0.8053 - val_loss: 0.4313\n",
      "Epoch 187/1000\n",
      "\u001b[1m1568/1568\u001b[0m \u001b[32m━━━━━━━━━━━━━━━━━━━━\u001b[0m\u001b[37m\u001b[0m \u001b[1m1s\u001b[0m 732us/step - accuracy: 0.7684 - loss: 0.4490 - val_accuracy: 0.8160 - val_loss: 0.4290\n",
      "Epoch 188/1000\n",
      "\u001b[1m1568/1568\u001b[0m \u001b[32m━━━━━━━━━━━━━━━━━━━━\u001b[0m\u001b[37m\u001b[0m \u001b[1m1s\u001b[0m 702us/step - accuracy: 0.7782 - loss: 0.4303 - val_accuracy: 0.8224 - val_loss: 0.4398\n",
      "Epoch 189/1000\n",
      "\u001b[1m1568/1568\u001b[0m \u001b[32m━━━━━━━━━━━━━━━━━━━━\u001b[0m\u001b[37m\u001b[0m \u001b[1m1s\u001b[0m 749us/step - accuracy: 0.7741 - loss: 0.4359 - val_accuracy: 0.7889 - val_loss: 0.5104\n",
      "Epoch 190/1000\n",
      "\u001b[1m1568/1568\u001b[0m \u001b[32m━━━━━━━━━━━━━━━━━━━━\u001b[0m\u001b[37m\u001b[0m \u001b[1m1s\u001b[0m 732us/step - accuracy: 0.7710 - loss: 0.4515 - val_accuracy: 0.7660 - val_loss: 0.4886\n",
      "Epoch 191/1000\n",
      "\u001b[1m1568/1568\u001b[0m \u001b[32m━━━━━━━━━━━━━━━━━━━━\u001b[0m\u001b[37m\u001b[0m \u001b[1m1s\u001b[0m 778us/step - accuracy: 0.7788 - loss: 0.4348 - val_accuracy: 0.8241 - val_loss: 0.4126\n",
      "Epoch 192/1000\n",
      "\u001b[1m1568/1568\u001b[0m \u001b[32m━━━━━━━━━━━━━━━━━━━━\u001b[0m\u001b[37m\u001b[0m \u001b[1m1s\u001b[0m 715us/step - accuracy: 0.7676 - loss: 0.4527 - val_accuracy: 0.7123 - val_loss: 0.5458\n",
      "Epoch 193/1000\n",
      "\u001b[1m1568/1568\u001b[0m \u001b[32m━━━━━━━━━━━━━━━━━━━━\u001b[0m\u001b[37m\u001b[0m \u001b[1m1s\u001b[0m 767us/step - accuracy: 0.7583 - loss: 0.4735 - val_accuracy: 0.7852 - val_loss: 0.4316\n",
      "Epoch 194/1000\n",
      "\u001b[1m1568/1568\u001b[0m \u001b[32m━━━━━━━━━━━━━━━━━━━━\u001b[0m\u001b[37m\u001b[0m \u001b[1m1s\u001b[0m 732us/step - accuracy: 0.7696 - loss: 0.4475 - val_accuracy: 0.8261 - val_loss: 0.4359\n",
      "Epoch 195/1000\n",
      "\u001b[1m1568/1568\u001b[0m \u001b[32m━━━━━━━━━━━━━━━━━━━━\u001b[0m\u001b[37m\u001b[0m \u001b[1m1s\u001b[0m 752us/step - accuracy: 0.7681 - loss: 0.4484 - val_accuracy: 0.7271 - val_loss: 0.5470\n",
      "Epoch 196/1000\n",
      "\u001b[1m1568/1568\u001b[0m \u001b[32m━━━━━━━━━━━━━━━━━━━━\u001b[0m\u001b[37m\u001b[0m \u001b[1m1s\u001b[0m 715us/step - accuracy: 0.7758 - loss: 0.4413 - val_accuracy: 0.8174 - val_loss: 0.4642\n",
      "Epoch 197/1000\n",
      "\u001b[1m1568/1568\u001b[0m \u001b[32m━━━━━━━━━━━━━━━━━━━━\u001b[0m\u001b[37m\u001b[0m \u001b[1m1s\u001b[0m 780us/step - accuracy: 0.7688 - loss: 0.4455 - val_accuracy: 0.8264 - val_loss: 0.4351\n",
      "Epoch 198/1000\n",
      "\u001b[1m1568/1568\u001b[0m \u001b[32m━━━━━━━━━━━━━━━━━━━━\u001b[0m\u001b[37m\u001b[0m \u001b[1m1s\u001b[0m 721us/step - accuracy: 0.7794 - loss: 0.4267 - val_accuracy: 0.5796 - val_loss: 0.9082\n",
      "Epoch 199/1000\n",
      "\u001b[1m1568/1568\u001b[0m \u001b[32m━━━━━━━━━━━━━━━━━━━━\u001b[0m\u001b[37m\u001b[0m \u001b[1m1s\u001b[0m 769us/step - accuracy: 0.7665 - loss: 0.4470 - val_accuracy: 0.8075 - val_loss: 0.4235\n",
      "Epoch 200/1000\n",
      "\u001b[1m1568/1568\u001b[0m \u001b[32m━━━━━━━━━━━━━━━━━━━━\u001b[0m\u001b[37m\u001b[0m \u001b[1m1s\u001b[0m 725us/step - accuracy: 0.7771 - loss: 0.4301 - val_accuracy: 0.7875 - val_loss: 0.5019\n",
      "Epoch 201/1000\n",
      "\u001b[1m1568/1568\u001b[0m \u001b[32m━━━━━━━━━━━━━━━━━━━━\u001b[0m\u001b[37m\u001b[0m \u001b[1m1s\u001b[0m 757us/step - accuracy: 0.7785 - loss: 0.4286 - val_accuracy: 0.7771 - val_loss: 0.5187\n",
      "Epoch 202/1000\n",
      "\u001b[1m1568/1568\u001b[0m \u001b[32m━━━━━━━━━━━━━━━━━━━━\u001b[0m\u001b[37m\u001b[0m \u001b[1m1s\u001b[0m 722us/step - accuracy: 0.7782 - loss: 0.4353 - val_accuracy: 0.8233 - val_loss: 0.4509\n",
      "Epoch 203/1000\n",
      "\u001b[1m1568/1568\u001b[0m \u001b[32m━━━━━━━━━━━━━━━━━━━━\u001b[0m\u001b[37m\u001b[0m \u001b[1m1s\u001b[0m 773us/step - accuracy: 0.7729 - loss: 0.4438 - val_accuracy: 0.7984 - val_loss: 0.4513\n",
      "Epoch 204/1000\n",
      "\u001b[1m1568/1568\u001b[0m \u001b[32m━━━━━━━━━━━━━━━━━━━━\u001b[0m\u001b[37m\u001b[0m \u001b[1m1s\u001b[0m 723us/step - accuracy: 0.7732 - loss: 0.4423 - val_accuracy: 0.8042 - val_loss: 0.4722\n",
      "Epoch 205/1000\n",
      "\u001b[1m1568/1568\u001b[0m \u001b[32m━━━━━━━━━━━━━━━━━━━━\u001b[0m\u001b[37m\u001b[0m \u001b[1m1s\u001b[0m 728us/step - accuracy: 0.7794 - loss: 0.4291 - val_accuracy: 0.7536 - val_loss: 0.5085\n",
      "Epoch 206/1000\n",
      "\u001b[1m1568/1568\u001b[0m \u001b[32m━━━━━━━━━━━━━━━━━━━━\u001b[0m\u001b[37m\u001b[0m \u001b[1m1s\u001b[0m 702us/step - accuracy: 0.7756 - loss: 0.4403 - val_accuracy: 0.7538 - val_loss: 0.5469\n",
      "Epoch 207/1000\n",
      "\u001b[1m1568/1568\u001b[0m \u001b[32m━━━━━━━━━━━━━━━━━━━━\u001b[0m\u001b[37m\u001b[0m \u001b[1m1s\u001b[0m 704us/step - accuracy: 0.7774 - loss: 0.4319 - val_accuracy: 0.7098 - val_loss: 0.5664\n",
      "Epoch 208/1000\n",
      "\u001b[1m1568/1568\u001b[0m \u001b[32m━━━━━━━━━━━━━━━━━━━━\u001b[0m\u001b[37m\u001b[0m \u001b[1m1s\u001b[0m 734us/step - accuracy: 0.7804 - loss: 0.4277 - val_accuracy: 0.8380 - val_loss: 0.4310\n",
      "Epoch 209/1000\n",
      "\u001b[1m1568/1568\u001b[0m \u001b[32m━━━━━━━━━━━━━━━━━━━━\u001b[0m\u001b[37m\u001b[0m \u001b[1m1s\u001b[0m 705us/step - accuracy: 0.7697 - loss: 0.4524 - val_accuracy: 0.7852 - val_loss: 0.4540\n",
      "Epoch 210/1000\n",
      "\u001b[1m1568/1568\u001b[0m \u001b[32m━━━━━━━━━━━━━━━━━━━━\u001b[0m\u001b[37m\u001b[0m \u001b[1m1s\u001b[0m 763us/step - accuracy: 0.7758 - loss: 0.4332 - val_accuracy: 0.6825 - val_loss: 0.6543\n",
      "Epoch 211/1000\n",
      "\u001b[1m1568/1568\u001b[0m \u001b[32m━━━━━━━━━━━━━━━━━━━━\u001b[0m\u001b[37m\u001b[0m \u001b[1m1s\u001b[0m 733us/step - accuracy: 0.7665 - loss: 0.4560 - val_accuracy: 0.7894 - val_loss: 0.4659\n",
      "Epoch 212/1000\n",
      "\u001b[1m1568/1568\u001b[0m \u001b[32m━━━━━━━━━━━━━━━━━━━━\u001b[0m\u001b[37m\u001b[0m \u001b[1m1s\u001b[0m 757us/step - accuracy: 0.7759 - loss: 0.4350 - val_accuracy: 0.8328 - val_loss: 0.4093\n",
      "Epoch 213/1000\n",
      "\u001b[1m1568/1568\u001b[0m \u001b[32m━━━━━━━━━━━━━━━━━━━━\u001b[0m\u001b[37m\u001b[0m \u001b[1m1s\u001b[0m 741us/step - accuracy: 0.7844 - loss: 0.4190 - val_accuracy: 0.6687 - val_loss: 0.6633\n",
      "Epoch 214/1000\n",
      "\u001b[1m1568/1568\u001b[0m \u001b[32m━━━━━━━━━━━━━━━━━━━━\u001b[0m\u001b[37m\u001b[0m \u001b[1m1s\u001b[0m 740us/step - accuracy: 0.7802 - loss: 0.4286 - val_accuracy: 0.8345 - val_loss: 0.4261\n",
      "Epoch 215/1000\n",
      "\u001b[1m1568/1568\u001b[0m \u001b[32m━━━━━━━━━━━━━━━━━━━━\u001b[0m\u001b[37m\u001b[0m \u001b[1m1s\u001b[0m 711us/step - accuracy: 0.7899 - loss: 0.4153 - val_accuracy: 0.8282 - val_loss: 0.4223\n",
      "Epoch 216/1000\n",
      "\u001b[1m1568/1568\u001b[0m \u001b[32m━━━━━━━━━━━━━━━━━━━━\u001b[0m\u001b[37m\u001b[0m \u001b[1m1s\u001b[0m 759us/step - accuracy: 0.7786 - loss: 0.4271 - val_accuracy: 0.7796 - val_loss: 0.5171\n",
      "Epoch 217/1000\n",
      "\u001b[1m1568/1568\u001b[0m \u001b[32m━━━━━━━━━━━━━━━━━━━━\u001b[0m\u001b[37m\u001b[0m \u001b[1m1s\u001b[0m 729us/step - accuracy: 0.7806 - loss: 0.4303 - val_accuracy: 0.8351 - val_loss: 0.4080\n",
      "Epoch 218/1000\n",
      "\u001b[1m1568/1568\u001b[0m \u001b[32m━━━━━━━━━━━━━━━━━━━━\u001b[0m\u001b[37m\u001b[0m \u001b[1m1s\u001b[0m 795us/step - accuracy: 0.7751 - loss: 0.4364 - val_accuracy: 0.8350 - val_loss: 0.4528\n",
      "Epoch 219/1000\n",
      "\u001b[1m1568/1568\u001b[0m \u001b[32m━━━━━━━━━━━━━━━━━━━━\u001b[0m\u001b[37m\u001b[0m \u001b[1m1s\u001b[0m 772us/step - accuracy: 0.7714 - loss: 0.4435 - val_accuracy: 0.8201 - val_loss: 0.4492\n",
      "Epoch 220/1000\n",
      "\u001b[1m1568/1568\u001b[0m \u001b[32m━━━━━━━━━━━━━━━━━━━━\u001b[0m\u001b[37m\u001b[0m \u001b[1m1s\u001b[0m 726us/step - accuracy: 0.7689 - loss: 0.4413 - val_accuracy: 0.7334 - val_loss: 0.5343\n",
      "Epoch 221/1000\n",
      "\u001b[1m1568/1568\u001b[0m \u001b[32m━━━━━━━━━━━━━━━━━━━━\u001b[0m\u001b[37m\u001b[0m \u001b[1m1s\u001b[0m 755us/step - accuracy: 0.7771 - loss: 0.4351 - val_accuracy: 0.8291 - val_loss: 0.4368\n",
      "Epoch 222/1000\n",
      "\u001b[1m1568/1568\u001b[0m \u001b[32m━━━━━━━━━━━━━━━━━━━━\u001b[0m\u001b[37m\u001b[0m \u001b[1m1s\u001b[0m 704us/step - accuracy: 0.7776 - loss: 0.4324 - val_accuracy: 0.7653 - val_loss: 0.5051\n",
      "Epoch 223/1000\n",
      "\u001b[1m1568/1568\u001b[0m \u001b[32m━━━━━━━━━━━━━━━━━━━━\u001b[0m\u001b[37m\u001b[0m \u001b[1m1s\u001b[0m 781us/step - accuracy: 0.7788 - loss: 0.4334 - val_accuracy: 0.8335 - val_loss: 0.4588\n",
      "Epoch 224/1000\n",
      "\u001b[1m1568/1568\u001b[0m \u001b[32m━━━━━━━━━━━━━━━━━━━━\u001b[0m\u001b[37m\u001b[0m \u001b[1m1s\u001b[0m 732us/step - accuracy: 0.7809 - loss: 0.4225 - val_accuracy: 0.8359 - val_loss: 0.4254\n",
      "Epoch 225/1000\n",
      "\u001b[1m1568/1568\u001b[0m \u001b[32m━━━━━━━━━━━━━━━━━━━━\u001b[0m\u001b[37m\u001b[0m \u001b[1m1s\u001b[0m 776us/step - accuracy: 0.7821 - loss: 0.4255 - val_accuracy: 0.8219 - val_loss: 0.4266\n",
      "Epoch 226/1000\n",
      "\u001b[1m1568/1568\u001b[0m \u001b[32m━━━━━━━━━━━━━━━━━━━━\u001b[0m\u001b[37m\u001b[0m \u001b[1m1s\u001b[0m 781us/step - accuracy: 0.7800 - loss: 0.4260 - val_accuracy: 0.8387 - val_loss: 0.4280\n",
      "Epoch 227/1000\n",
      "\u001b[1m1568/1568\u001b[0m \u001b[32m━━━━━━━━━━━━━━━━━━━━\u001b[0m\u001b[37m\u001b[0m \u001b[1m1s\u001b[0m 740us/step - accuracy: 0.7865 - loss: 0.4142 - val_accuracy: 0.8346 - val_loss: 0.4237\n",
      "Epoch 228/1000\n",
      "\u001b[1m1568/1568\u001b[0m \u001b[32m━━━━━━━━━━━━━━━━━━━━\u001b[0m\u001b[37m\u001b[0m \u001b[1m1s\u001b[0m 768us/step - accuracy: 0.7802 - loss: 0.4279 - val_accuracy: 0.8295 - val_loss: 0.4143\n",
      "Epoch 229/1000\n",
      "\u001b[1m1568/1568\u001b[0m \u001b[32m━━━━━━━━━━━━━━━━━━━━\u001b[0m\u001b[37m\u001b[0m \u001b[1m1s\u001b[0m 718us/step - accuracy: 0.7792 - loss: 0.4288 - val_accuracy: 0.8118 - val_loss: 0.4296\n",
      "Epoch 230/1000\n",
      "\u001b[1m1568/1568\u001b[0m \u001b[32m━━━━━━━━━━━━━━━━━━━━\u001b[0m\u001b[37m\u001b[0m \u001b[1m1s\u001b[0m 744us/step - accuracy: 0.7706 - loss: 0.4459 - val_accuracy: 0.8272 - val_loss: 0.4045\n",
      "Epoch 231/1000\n",
      "\u001b[1m1568/1568\u001b[0m \u001b[32m━━━━━━━━━━━━━━━━━━━━\u001b[0m\u001b[37m\u001b[0m \u001b[1m1s\u001b[0m 720us/step - accuracy: 0.7850 - loss: 0.4147 - val_accuracy: 0.8206 - val_loss: 0.4135\n",
      "Epoch 232/1000\n",
      "\u001b[1m1568/1568\u001b[0m \u001b[32m━━━━━━━━━━━━━━━━━━━━\u001b[0m\u001b[37m\u001b[0m \u001b[1m1s\u001b[0m 747us/step - accuracy: 0.7830 - loss: 0.4262 - val_accuracy: 0.8184 - val_loss: 0.4314\n",
      "Epoch 233/1000\n",
      "\u001b[1m1568/1568\u001b[0m \u001b[32m━━━━━━━━━━━━━━━━━━━━\u001b[0m\u001b[37m\u001b[0m \u001b[1m1s\u001b[0m 735us/step - accuracy: 0.7912 - loss: 0.4050 - val_accuracy: 0.8200 - val_loss: 0.3965\n",
      "Epoch 234/1000\n",
      "\u001b[1m1568/1568\u001b[0m \u001b[32m━━━━━━━━━━━━━━━━━━━━\u001b[0m\u001b[37m\u001b[0m \u001b[1m1s\u001b[0m 761us/step - accuracy: 0.7853 - loss: 0.4187 - val_accuracy: 0.8368 - val_loss: 0.4007\n",
      "Epoch 235/1000\n",
      "\u001b[1m1568/1568\u001b[0m \u001b[32m━━━━━━━━━━━━━━━━━━━━\u001b[0m\u001b[37m\u001b[0m \u001b[1m1s\u001b[0m 723us/step - accuracy: 0.7770 - loss: 0.4320 - val_accuracy: 0.7130 - val_loss: 0.6069\n",
      "Epoch 236/1000\n",
      "\u001b[1m1568/1568\u001b[0m \u001b[32m━━━━━━━━━━━━━━━━━━━━\u001b[0m\u001b[37m\u001b[0m \u001b[1m1s\u001b[0m 733us/step - accuracy: 0.7731 - loss: 0.4538 - val_accuracy: 0.7921 - val_loss: 0.4840\n",
      "Epoch 237/1000\n",
      "\u001b[1m1568/1568\u001b[0m \u001b[32m━━━━━━━━━━━━━━━━━━━━\u001b[0m\u001b[37m\u001b[0m \u001b[1m1s\u001b[0m 717us/step - accuracy: 0.7815 - loss: 0.4229 - val_accuracy: 0.8210 - val_loss: 0.4313\n",
      "Epoch 238/1000\n",
      "\u001b[1m1568/1568\u001b[0m \u001b[32m━━━━━━━━━━━━━━━━━━━━\u001b[0m\u001b[37m\u001b[0m \u001b[1m1s\u001b[0m 776us/step - accuracy: 0.7792 - loss: 0.4231 - val_accuracy: 0.7364 - val_loss: 0.5639\n",
      "Epoch 239/1000\n",
      "\u001b[1m1568/1568\u001b[0m \u001b[32m━━━━━━━━━━━━━━━━━━━━\u001b[0m\u001b[37m\u001b[0m \u001b[1m1s\u001b[0m 823us/step - accuracy: 0.7858 - loss: 0.4151 - val_accuracy: 0.7130 - val_loss: 0.5610\n",
      "Epoch 240/1000\n",
      "\u001b[1m1568/1568\u001b[0m \u001b[32m━━━━━━━━━━━━━━━━━━━━\u001b[0m\u001b[37m\u001b[0m \u001b[1m1s\u001b[0m 760us/step - accuracy: 0.7826 - loss: 0.4196 - val_accuracy: 0.8432 - val_loss: 0.3752\n",
      "Epoch 241/1000\n",
      "\u001b[1m1568/1568\u001b[0m \u001b[32m━━━━━━━━━━━━━━━━━━━━\u001b[0m\u001b[37m\u001b[0m \u001b[1m1s\u001b[0m 810us/step - accuracy: 0.7867 - loss: 0.4162 - val_accuracy: 0.8339 - val_loss: 0.4362\n",
      "Epoch 242/1000\n",
      "\u001b[1m1568/1568\u001b[0m \u001b[32m━━━━━━━━━━━━━━━━━━━━\u001b[0m\u001b[37m\u001b[0m \u001b[1m1s\u001b[0m 748us/step - accuracy: 0.7907 - loss: 0.4116 - val_accuracy: 0.7187 - val_loss: 0.5564\n",
      "Epoch 243/1000\n",
      "\u001b[1m1568/1568\u001b[0m \u001b[32m━━━━━━━━━━━━━━━━━━━━\u001b[0m\u001b[37m\u001b[0m \u001b[1m1s\u001b[0m 800us/step - accuracy: 0.7879 - loss: 0.4102 - val_accuracy: 0.8313 - val_loss: 0.4243\n",
      "Epoch 244/1000\n",
      "\u001b[1m1568/1568\u001b[0m \u001b[32m━━━━━━━━━━━━━━━━━━━━\u001b[0m\u001b[37m\u001b[0m \u001b[1m1s\u001b[0m 790us/step - accuracy: 0.7878 - loss: 0.4147 - val_accuracy: 0.8408 - val_loss: 0.4210\n",
      "Epoch 245/1000\n",
      "\u001b[1m1568/1568\u001b[0m \u001b[32m━━━━━━━━━━━━━━━━━━━━\u001b[0m\u001b[37m\u001b[0m \u001b[1m1s\u001b[0m 749us/step - accuracy: 0.7822 - loss: 0.4187 - val_accuracy: 0.7894 - val_loss: 0.4437\n",
      "Epoch 246/1000\n",
      "\u001b[1m1568/1568\u001b[0m \u001b[32m━━━━━━━━━━━━━━━━━━━━\u001b[0m\u001b[37m\u001b[0m \u001b[1m1s\u001b[0m 768us/step - accuracy: 0.7798 - loss: 0.4299 - val_accuracy: 0.7608 - val_loss: 0.4822\n",
      "Epoch 247/1000\n",
      "\u001b[1m1568/1568\u001b[0m \u001b[32m━━━━━━━━━━━━━━━━━━━━\u001b[0m\u001b[37m\u001b[0m \u001b[1m1s\u001b[0m 724us/step - accuracy: 0.7939 - loss: 0.4058 - val_accuracy: 0.8411 - val_loss: 0.4157\n",
      "Epoch 248/1000\n",
      "\u001b[1m1568/1568\u001b[0m \u001b[32m━━━━━━━━━━━━━━━━━━━━\u001b[0m\u001b[37m\u001b[0m \u001b[1m1s\u001b[0m 760us/step - accuracy: 0.7865 - loss: 0.4181 - val_accuracy: 0.8330 - val_loss: 0.4095\n",
      "Epoch 249/1000\n",
      "\u001b[1m1568/1568\u001b[0m \u001b[32m━━━━━━━━━━━━━━━━━━━━\u001b[0m\u001b[37m\u001b[0m \u001b[1m1s\u001b[0m 740us/step - accuracy: 0.7869 - loss: 0.4129 - val_accuracy: 0.7905 - val_loss: 0.4568\n",
      "Epoch 250/1000\n",
      "\u001b[1m1568/1568\u001b[0m \u001b[32m━━━━━━━━━━━━━━━━━━━━\u001b[0m\u001b[37m\u001b[0m \u001b[1m1s\u001b[0m 761us/step - accuracy: 0.7842 - loss: 0.4146 - val_accuracy: 0.8385 - val_loss: 0.4183\n",
      "Epoch 251/1000\n",
      "\u001b[1m1568/1568\u001b[0m \u001b[32m━━━━━━━━━━━━━━━━━━━━\u001b[0m\u001b[37m\u001b[0m \u001b[1m1s\u001b[0m 737us/step - accuracy: 0.7822 - loss: 0.4205 - val_accuracy: 0.8197 - val_loss: 0.4047\n",
      "Epoch 252/1000\n",
      "\u001b[1m1568/1568\u001b[0m \u001b[32m━━━━━━━━━━━━━━━━━━━━\u001b[0m\u001b[37m\u001b[0m \u001b[1m1s\u001b[0m 776us/step - accuracy: 0.7789 - loss: 0.4258 - val_accuracy: 0.8297 - val_loss: 0.4748\n",
      "Epoch 253/1000\n",
      "\u001b[1m1568/1568\u001b[0m \u001b[32m━━━━━━━━━━━━━━━━━━━━\u001b[0m\u001b[37m\u001b[0m \u001b[1m1s\u001b[0m 746us/step - accuracy: 0.7627 - loss: 0.4809 - val_accuracy: 0.6795 - val_loss: 0.6755\n",
      "Epoch 254/1000\n",
      "\u001b[1m1568/1568\u001b[0m \u001b[32m━━━━━━━━━━━━━━━━━━━━\u001b[0m\u001b[37m\u001b[0m \u001b[1m1s\u001b[0m 768us/step - accuracy: 0.7888 - loss: 0.4122 - val_accuracy: 0.8091 - val_loss: 0.4286\n",
      "Epoch 255/1000\n",
      "\u001b[1m1568/1568\u001b[0m \u001b[32m━━━━━━━━━━━━━━━━━━━━\u001b[0m\u001b[37m\u001b[0m \u001b[1m1s\u001b[0m 747us/step - accuracy: 0.7852 - loss: 0.4161 - val_accuracy: 0.8428 - val_loss: 0.4088\n",
      "Epoch 256/1000\n",
      "\u001b[1m1568/1568\u001b[0m \u001b[32m━━━━━━━━━━━━━━━━━━━━\u001b[0m\u001b[37m\u001b[0m \u001b[1m1s\u001b[0m 839us/step - accuracy: 0.7866 - loss: 0.4134 - val_accuracy: 0.7744 - val_loss: 0.5035\n",
      "Epoch 257/1000\n",
      "\u001b[1m1568/1568\u001b[0m \u001b[32m━━━━━━━━━━━━━━━━━━━━\u001b[0m\u001b[37m\u001b[0m \u001b[1m1s\u001b[0m 738us/step - accuracy: 0.7901 - loss: 0.4092 - val_accuracy: 0.8322 - val_loss: 0.4263\n",
      "Epoch 258/1000\n",
      "\u001b[1m1568/1568\u001b[0m \u001b[32m━━━━━━━━━━━━━━━━━━━━\u001b[0m\u001b[37m\u001b[0m \u001b[1m1s\u001b[0m 795us/step - accuracy: 0.7896 - loss: 0.4060 - val_accuracy: 0.7998 - val_loss: 0.4724\n",
      "Epoch 259/1000\n",
      "\u001b[1m1568/1568\u001b[0m \u001b[32m━━━━━━━━━━━━━━━━━━━━\u001b[0m\u001b[37m\u001b[0m \u001b[1m1s\u001b[0m 794us/step - accuracy: 0.7904 - loss: 0.4115 - val_accuracy: 0.8147 - val_loss: 0.4521\n",
      "Epoch 260/1000\n",
      "\u001b[1m1568/1568\u001b[0m \u001b[32m━━━━━━━━━━━━━━━━━━━━\u001b[0m\u001b[37m\u001b[0m \u001b[1m1s\u001b[0m 794us/step - accuracy: 0.7852 - loss: 0.4161 - val_accuracy: 0.7521 - val_loss: 0.5022\n",
      "Epoch 261/1000\n",
      "\u001b[1m1568/1568\u001b[0m \u001b[32m━━━━━━━━━━━━━━━━━━━━\u001b[0m\u001b[37m\u001b[0m \u001b[1m1s\u001b[0m 742us/step - accuracy: 0.7876 - loss: 0.4125 - val_accuracy: 0.8132 - val_loss: 0.4140\n",
      "Epoch 262/1000\n",
      "\u001b[1m1568/1568\u001b[0m \u001b[32m━━━━━━━━━━━━━━━━━━━━\u001b[0m\u001b[37m\u001b[0m \u001b[1m1s\u001b[0m 801us/step - accuracy: 0.7779 - loss: 0.4292 - val_accuracy: 0.8275 - val_loss: 0.4055\n",
      "Epoch 263/1000\n",
      "\u001b[1m1568/1568\u001b[0m \u001b[32m━━━━━━━━━━━━━━━━━━━━\u001b[0m\u001b[37m\u001b[0m \u001b[1m1s\u001b[0m 798us/step - accuracy: 0.7863 - loss: 0.4179 - val_accuracy: 0.8068 - val_loss: 0.4376\n",
      "Epoch 264/1000\n",
      "\u001b[1m1568/1568\u001b[0m \u001b[32m━━━━━━━━━━━━━━━━━━━━\u001b[0m\u001b[37m\u001b[0m \u001b[1m1s\u001b[0m 762us/step - accuracy: 0.7872 - loss: 0.4150 - val_accuracy: 0.7856 - val_loss: 0.4597\n",
      "Epoch 265/1000\n",
      "\u001b[1m1568/1568\u001b[0m \u001b[32m━━━━━━━━━━━━━━━━━━━━\u001b[0m\u001b[37m\u001b[0m \u001b[1m1s\u001b[0m 776us/step - accuracy: 0.7870 - loss: 0.4085 - val_accuracy: 0.8216 - val_loss: 0.4380\n",
      "Epoch 266/1000\n",
      "\u001b[1m1568/1568\u001b[0m \u001b[32m━━━━━━━━━━━━━━━━━━━━\u001b[0m\u001b[37m\u001b[0m \u001b[1m1s\u001b[0m 800us/step - accuracy: 0.7923 - loss: 0.4045 - val_accuracy: 0.8302 - val_loss: 0.4157\n",
      "Epoch 267/1000\n",
      "\u001b[1m1568/1568\u001b[0m \u001b[32m━━━━━━━━━━━━━━━━━━━━\u001b[0m\u001b[37m\u001b[0m \u001b[1m1s\u001b[0m 727us/step - accuracy: 0.7864 - loss: 0.4110 - val_accuracy: 0.8144 - val_loss: 0.4460\n",
      "Epoch 268/1000\n",
      "\u001b[1m1568/1568\u001b[0m \u001b[32m━━━━━━━━━━━━━━━━━━━━\u001b[0m\u001b[37m\u001b[0m \u001b[1m1s\u001b[0m 791us/step - accuracy: 0.7879 - loss: 0.4122 - val_accuracy: 0.7663 - val_loss: 0.4946\n",
      "Epoch 269/1000\n",
      "\u001b[1m1568/1568\u001b[0m \u001b[32m━━━━━━━━━━━━━━━━━━━━\u001b[0m\u001b[37m\u001b[0m \u001b[1m1s\u001b[0m 739us/step - accuracy: 0.7921 - loss: 0.4052 - val_accuracy: 0.8325 - val_loss: 0.4363\n",
      "Epoch 270/1000\n",
      "\u001b[1m1568/1568\u001b[0m \u001b[32m━━━━━━━━━━━━━━━━━━━━\u001b[0m\u001b[37m\u001b[0m \u001b[1m1s\u001b[0m 771us/step - accuracy: 0.7845 - loss: 0.4165 - val_accuracy: 0.8358 - val_loss: 0.4343\n",
      "Epoch 271/1000\n",
      "\u001b[1m1568/1568\u001b[0m \u001b[32m━━━━━━━━━━━━━━━━━━━━\u001b[0m\u001b[37m\u001b[0m \u001b[1m1s\u001b[0m 777us/step - accuracy: 0.7906 - loss: 0.4039 - val_accuracy: 0.8201 - val_loss: 0.4213\n",
      "Epoch 272/1000\n",
      "\u001b[1m1568/1568\u001b[0m \u001b[32m━━━━━━━━━━━━━━━━━━━━\u001b[0m\u001b[37m\u001b[0m \u001b[1m1s\u001b[0m 759us/step - accuracy: 0.7905 - loss: 0.3990 - val_accuracy: 0.8020 - val_loss: 0.4465\n",
      "Epoch 273/1000\n",
      "\u001b[1m1568/1568\u001b[0m \u001b[32m━━━━━━━━━━━━━━━━━━━━\u001b[0m\u001b[37m\u001b[0m \u001b[1m1s\u001b[0m 788us/step - accuracy: 0.7838 - loss: 0.4183 - val_accuracy: 0.8426 - val_loss: 0.4009\n",
      "Epoch 274/1000\n",
      "\u001b[1m1568/1568\u001b[0m \u001b[32m━━━━━━━━━━━━━━━━━━━━\u001b[0m\u001b[37m\u001b[0m \u001b[1m1s\u001b[0m 794us/step - accuracy: 0.7868 - loss: 0.4153 - val_accuracy: 0.8030 - val_loss: 0.4418\n",
      "Epoch 275/1000\n",
      "\u001b[1m1568/1568\u001b[0m \u001b[32m━━━━━━━━━━━━━━━━━━━━\u001b[0m\u001b[37m\u001b[0m \u001b[1m1s\u001b[0m 740us/step - accuracy: 0.7893 - loss: 0.4127 - val_accuracy: 0.8265 - val_loss: 0.4223\n",
      "Epoch 276/1000\n",
      "\u001b[1m1568/1568\u001b[0m \u001b[32m━━━━━━━━━━━━━━━━━━━━\u001b[0m\u001b[37m\u001b[0m \u001b[1m1s\u001b[0m 795us/step - accuracy: 0.7887 - loss: 0.4108 - val_accuracy: 0.8383 - val_loss: 0.4197\n",
      "Epoch 277/1000\n",
      "\u001b[1m1568/1568\u001b[0m \u001b[32m━━━━━━━━━━━━━━━━━━━━\u001b[0m\u001b[37m\u001b[0m \u001b[1m1s\u001b[0m 745us/step - accuracy: 0.7950 - loss: 0.3976 - val_accuracy: 0.6548 - val_loss: 0.7617\n",
      "Epoch 278/1000\n",
      "\u001b[1m1568/1568\u001b[0m \u001b[32m━━━━━━━━━━━━━━━━━━━━\u001b[0m\u001b[37m\u001b[0m \u001b[1m1s\u001b[0m 793us/step - accuracy: 0.7811 - loss: 0.4228 - val_accuracy: 0.8357 - val_loss: 0.3974\n",
      "Epoch 279/1000\n",
      "\u001b[1m1568/1568\u001b[0m \u001b[32m━━━━━━━━━━━━━━━━━━━━\u001b[0m\u001b[37m\u001b[0m \u001b[1m1s\u001b[0m 802us/step - accuracy: 0.7861 - loss: 0.4174 - val_accuracy: 0.8363 - val_loss: 0.4370\n",
      "Epoch 280/1000\n",
      "\u001b[1m1568/1568\u001b[0m \u001b[32m━━━━━━━━━━━━━━━━━━━━\u001b[0m\u001b[37m\u001b[0m \u001b[1m1s\u001b[0m 739us/step - accuracy: 0.7905 - loss: 0.4096 - val_accuracy: 0.8364 - val_loss: 0.4053\n",
      "Epoch 281/1000\n",
      "\u001b[1m1568/1568\u001b[0m \u001b[32m━━━━━━━━━━━━━━━━━━━━\u001b[0m\u001b[37m\u001b[0m \u001b[1m1s\u001b[0m 779us/step - accuracy: 0.7822 - loss: 0.4229 - val_accuracy: 0.7706 - val_loss: 0.4852\n",
      "Epoch 282/1000\n",
      "\u001b[1m1568/1568\u001b[0m \u001b[32m━━━━━━━━━━━━━━━━━━━━\u001b[0m\u001b[37m\u001b[0m \u001b[1m1s\u001b[0m 738us/step - accuracy: 0.7922 - loss: 0.3980 - val_accuracy: 0.8300 - val_loss: 0.3948\n",
      "Epoch 283/1000\n",
      "\u001b[1m1568/1568\u001b[0m \u001b[32m━━━━━━━━━━━━━━━━━━━━\u001b[0m\u001b[37m\u001b[0m \u001b[1m1s\u001b[0m 766us/step - accuracy: 0.7936 - loss: 0.4013 - val_accuracy: 0.7413 - val_loss: 0.5411\n",
      "Epoch 284/1000\n",
      "\u001b[1m1568/1568\u001b[0m \u001b[32m━━━━━━━━━━━━━━━━━━━━\u001b[0m\u001b[37m\u001b[0m \u001b[1m1s\u001b[0m 737us/step - accuracy: 0.7997 - loss: 0.3954 - val_accuracy: 0.8403 - val_loss: 0.4180\n",
      "Epoch 285/1000\n",
      "\u001b[1m1568/1568\u001b[0m \u001b[32m━━━━━━━━━━━━━━━━━━━━\u001b[0m\u001b[37m\u001b[0m \u001b[1m1s\u001b[0m 829us/step - accuracy: 0.7898 - loss: 0.4106 - val_accuracy: 0.8179 - val_loss: 0.4425\n",
      "Epoch 286/1000\n",
      "\u001b[1m1568/1568\u001b[0m \u001b[32m━━━━━━━━━━━━━━━━━━━━\u001b[0m\u001b[37m\u001b[0m \u001b[1m1s\u001b[0m 739us/step - accuracy: 0.7959 - loss: 0.3972 - val_accuracy: 0.8274 - val_loss: 0.4292\n",
      "Epoch 287/1000\n",
      "\u001b[1m1568/1568\u001b[0m \u001b[32m━━━━━━━━━━━━━━━━━━━━\u001b[0m\u001b[37m\u001b[0m \u001b[1m1s\u001b[0m 829us/step - accuracy: 0.7842 - loss: 0.4171 - val_accuracy: 0.8288 - val_loss: 0.4382\n",
      "Epoch 288/1000\n",
      "\u001b[1m1568/1568\u001b[0m \u001b[32m━━━━━━━━━━━━━━━━━━━━\u001b[0m\u001b[37m\u001b[0m \u001b[1m1s\u001b[0m 754us/step - accuracy: 0.7900 - loss: 0.4067 - val_accuracy: 0.8368 - val_loss: 0.4464\n",
      "Epoch 289/1000\n",
      "\u001b[1m1568/1568\u001b[0m \u001b[32m━━━━━━━━━━━━━━━━━━━━\u001b[0m\u001b[37m\u001b[0m \u001b[1m1s\u001b[0m 782us/step - accuracy: 0.7914 - loss: 0.4084 - val_accuracy: 0.8377 - val_loss: 0.4153\n",
      "Epoch 290/1000\n",
      "\u001b[1m1568/1568\u001b[0m \u001b[32m━━━━━━━━━━━━━━━━━━━━\u001b[0m\u001b[37m\u001b[0m \u001b[1m1s\u001b[0m 849us/step - accuracy: 0.7902 - loss: 0.4069 - val_accuracy: 0.8377 - val_loss: 0.4390\n",
      "Epoch 291/1000\n",
      "\u001b[1m1568/1568\u001b[0m \u001b[32m━━━━━━━━━━━━━━━━━━━━\u001b[0m\u001b[37m\u001b[0m \u001b[1m1s\u001b[0m 798us/step - accuracy: 0.7918 - loss: 0.4001 - val_accuracy: 0.8444 - val_loss: 0.4107\n",
      "Epoch 292/1000\n",
      "\u001b[1m1568/1568\u001b[0m \u001b[32m━━━━━━━━━━━━━━━━━━━━\u001b[0m\u001b[37m\u001b[0m \u001b[1m1s\u001b[0m 736us/step - accuracy: 0.7971 - loss: 0.3958 - val_accuracy: 0.8460 - val_loss: 0.3909\n",
      "Epoch 293/1000\n",
      "\u001b[1m1568/1568\u001b[0m \u001b[32m━━━━━━━━━━━━━━━━━━━━\u001b[0m\u001b[37m\u001b[0m \u001b[1m1s\u001b[0m 774us/step - accuracy: 0.7868 - loss: 0.4105 - val_accuracy: 0.8293 - val_loss: 0.4238\n",
      "Epoch 294/1000\n",
      "\u001b[1m1568/1568\u001b[0m \u001b[32m━━━━━━━━━━━━━━━━━━━━\u001b[0m\u001b[37m\u001b[0m \u001b[1m1s\u001b[0m 744us/step - accuracy: 0.7812 - loss: 0.4249 - val_accuracy: 0.8392 - val_loss: 0.4038\n",
      "Epoch 295/1000\n",
      "\u001b[1m1568/1568\u001b[0m \u001b[32m━━━━━━━━━━━━━━━━━━━━\u001b[0m\u001b[37m\u001b[0m \u001b[1m1s\u001b[0m 765us/step - accuracy: 0.7909 - loss: 0.4042 - val_accuracy: 0.7799 - val_loss: 0.4999\n",
      "Epoch 296/1000\n",
      "\u001b[1m1568/1568\u001b[0m \u001b[32m━━━━━━━━━━━━━━━━━━━━\u001b[0m\u001b[37m\u001b[0m \u001b[1m1s\u001b[0m 767us/step - accuracy: 0.7872 - loss: 0.4196 - val_accuracy: 0.8346 - val_loss: 0.3975\n",
      "Epoch 297/1000\n",
      "\u001b[1m1568/1568\u001b[0m \u001b[32m━━━━━━━━━━━━━━━━━━━━\u001b[0m\u001b[37m\u001b[0m \u001b[1m1s\u001b[0m 749us/step - accuracy: 0.7926 - loss: 0.4031 - val_accuracy: 0.8439 - val_loss: 0.4019\n",
      "Epoch 298/1000\n",
      "\u001b[1m1568/1568\u001b[0m \u001b[32m━━━━━━━━━━━━━━━━━━━━\u001b[0m\u001b[37m\u001b[0m \u001b[1m1s\u001b[0m 807us/step - accuracy: 0.7931 - loss: 0.4003 - val_accuracy: 0.8399 - val_loss: 0.4105\n",
      "Epoch 299/1000\n",
      "\u001b[1m1568/1568\u001b[0m \u001b[32m━━━━━━━━━━━━━━━━━━━━\u001b[0m\u001b[37m\u001b[0m \u001b[1m1s\u001b[0m 821us/step - accuracy: 0.7991 - loss: 0.3902 - val_accuracy: 0.8334 - val_loss: 0.4030\n",
      "Epoch 300/1000\n",
      "\u001b[1m1568/1568\u001b[0m \u001b[32m━━━━━━━━━━━━━━━━━━━━\u001b[0m\u001b[37m\u001b[0m \u001b[1m1s\u001b[0m 745us/step - accuracy: 0.7959 - loss: 0.3926 - val_accuracy: 0.8451 - val_loss: 0.4049\n",
      "Epoch 301/1000\n",
      "\u001b[1m1568/1568\u001b[0m \u001b[32m━━━━━━━━━━━━━━━━━━━━\u001b[0m\u001b[37m\u001b[0m \u001b[1m1s\u001b[0m 794us/step - accuracy: 0.7879 - loss: 0.4120 - val_accuracy: 0.8399 - val_loss: 0.4063\n",
      "Epoch 302/1000\n",
      "\u001b[1m1568/1568\u001b[0m \u001b[32m━━━━━━━━━━━━━━━━━━━━\u001b[0m\u001b[37m\u001b[0m \u001b[1m1s\u001b[0m 851us/step - accuracy: 0.7990 - loss: 0.3879 - val_accuracy: 0.7996 - val_loss: 0.4453\n",
      "Epoch 303/1000\n",
      "\u001b[1m1568/1568\u001b[0m \u001b[32m━━━━━━━━━━━━━━━━━━━━\u001b[0m\u001b[37m\u001b[0m \u001b[1m1s\u001b[0m 777us/step - accuracy: 0.7904 - loss: 0.4087 - val_accuracy: 0.7605 - val_loss: 0.5121\n",
      "Epoch 304/1000\n",
      "\u001b[1m1568/1568\u001b[0m \u001b[32m━━━━━━━━━━━━━━━━━━━━\u001b[0m\u001b[37m\u001b[0m \u001b[1m1s\u001b[0m 816us/step - accuracy: 0.7999 - loss: 0.3897 - val_accuracy: 0.7331 - val_loss: 0.5267\n",
      "Epoch 305/1000\n",
      "\u001b[1m1568/1568\u001b[0m \u001b[32m━━━━━━━━━━━━━━━━━━━━\u001b[0m\u001b[37m\u001b[0m \u001b[1m1s\u001b[0m 828us/step - accuracy: 0.7897 - loss: 0.4072 - val_accuracy: 0.8035 - val_loss: 0.4462\n",
      "Epoch 306/1000\n",
      "\u001b[1m1568/1568\u001b[0m \u001b[32m━━━━━━━━━━━━━━━━━━━━\u001b[0m\u001b[37m\u001b[0m \u001b[1m1s\u001b[0m 760us/step - accuracy: 0.7974 - loss: 0.3921 - val_accuracy: 0.8455 - val_loss: 0.3980\n",
      "Epoch 307/1000\n",
      "\u001b[1m1568/1568\u001b[0m \u001b[32m━━━━━━━━━━━━━━━━━━━━\u001b[0m\u001b[37m\u001b[0m \u001b[1m1s\u001b[0m 765us/step - accuracy: 0.7892 - loss: 0.4120 - val_accuracy: 0.7379 - val_loss: 0.5512\n",
      "Epoch 308/1000\n",
      "\u001b[1m1568/1568\u001b[0m \u001b[32m━━━━━━━━━━━━━━━━━━━━\u001b[0m\u001b[37m\u001b[0m \u001b[1m1s\u001b[0m 708us/step - accuracy: 0.7895 - loss: 0.4047 - val_accuracy: 0.8333 - val_loss: 0.4316\n",
      "Epoch 309/1000\n",
      "\u001b[1m1568/1568\u001b[0m \u001b[32m━━━━━━━━━━━━━━━━━━━━\u001b[0m\u001b[37m\u001b[0m \u001b[1m1s\u001b[0m 730us/step - accuracy: 0.7915 - loss: 0.4028 - val_accuracy: 0.8340 - val_loss: 0.4467\n",
      "Epoch 310/1000\n",
      "\u001b[1m1568/1568\u001b[0m \u001b[32m━━━━━━━━━━━━━━━━━━━━\u001b[0m\u001b[37m\u001b[0m \u001b[1m1s\u001b[0m 711us/step - accuracy: 0.7959 - loss: 0.4002 - val_accuracy: 0.7550 - val_loss: 0.5677\n",
      "Epoch 311/1000\n",
      "\u001b[1m1568/1568\u001b[0m \u001b[32m━━━━━━━━━━━━━━━━━━━━\u001b[0m\u001b[37m\u001b[0m \u001b[1m1s\u001b[0m 794us/step - accuracy: 0.7900 - loss: 0.4088 - val_accuracy: 0.7866 - val_loss: 0.4717\n",
      "Epoch 312/1000\n",
      "\u001b[1m1568/1568\u001b[0m \u001b[32m━━━━━━━━━━━━━━━━━━━━\u001b[0m\u001b[37m\u001b[0m \u001b[1m1s\u001b[0m 778us/step - accuracy: 0.7922 - loss: 0.4017 - val_accuracy: 0.8323 - val_loss: 0.4737\n",
      "Epoch 313/1000\n",
      "\u001b[1m1568/1568\u001b[0m \u001b[32m━━━━━━━━━━━━━━━━━━━━\u001b[0m\u001b[37m\u001b[0m \u001b[1m1s\u001b[0m 775us/step - accuracy: 0.7921 - loss: 0.4038 - val_accuracy: 0.7694 - val_loss: 0.5052\n",
      "Epoch 314/1000\n",
      "\u001b[1m1568/1568\u001b[0m \u001b[32m━━━━━━━━━━━━━━━━━━━━\u001b[0m\u001b[37m\u001b[0m \u001b[1m1s\u001b[0m 776us/step - accuracy: 0.7976 - loss: 0.3930 - val_accuracy: 0.8361 - val_loss: 0.4574\n",
      "Epoch 315/1000\n",
      "\u001b[1m1568/1568\u001b[0m \u001b[32m━━━━━━━━━━━━━━━━━━━━\u001b[0m\u001b[37m\u001b[0m \u001b[1m1s\u001b[0m 775us/step - accuracy: 0.7949 - loss: 0.3992 - val_accuracy: 0.8410 - val_loss: 0.4294\n",
      "Epoch 316/1000\n",
      "\u001b[1m1568/1568\u001b[0m \u001b[32m━━━━━━━━━━━━━━━━━━━━\u001b[0m\u001b[37m\u001b[0m \u001b[1m1s\u001b[0m 734us/step - accuracy: 0.7962 - loss: 0.3943 - val_accuracy: 0.8077 - val_loss: 0.4748\n",
      "Epoch 317/1000\n",
      "\u001b[1m1568/1568\u001b[0m \u001b[32m━━━━━━━━━━━━━━━━━━━━\u001b[0m\u001b[37m\u001b[0m \u001b[1m1s\u001b[0m 756us/step - accuracy: 0.7920 - loss: 0.4060 - val_accuracy: 0.8446 - val_loss: 0.4348\n",
      "Epoch 318/1000\n",
      "\u001b[1m1568/1568\u001b[0m \u001b[32m━━━━━━━━━━━━━━━━━━━━\u001b[0m\u001b[37m\u001b[0m \u001b[1m1s\u001b[0m 711us/step - accuracy: 0.7988 - loss: 0.3875 - val_accuracy: 0.8267 - val_loss: 0.4355\n",
      "Epoch 319/1000\n",
      "\u001b[1m1568/1568\u001b[0m \u001b[32m━━━━━━━━━━━━━━━━━━━━\u001b[0m\u001b[37m\u001b[0m \u001b[1m1s\u001b[0m 741us/step - accuracy: 0.7975 - loss: 0.3956 - val_accuracy: 0.8380 - val_loss: 0.4280\n",
      "Epoch 320/1000\n",
      "\u001b[1m1568/1568\u001b[0m \u001b[32m━━━━━━━━━━━━━━━━━━━━\u001b[0m\u001b[37m\u001b[0m \u001b[1m1s\u001b[0m 710us/step - accuracy: 0.7899 - loss: 0.4024 - val_accuracy: 0.8280 - val_loss: 0.4275\n",
      "Epoch 321/1000\n",
      "\u001b[1m1568/1568\u001b[0m \u001b[32m━━━━━━━━━━━━━━━━━━━━\u001b[0m\u001b[37m\u001b[0m \u001b[1m1s\u001b[0m 745us/step - accuracy: 0.7909 - loss: 0.4082 - val_accuracy: 0.7717 - val_loss: 0.4800\n",
      "Epoch 322/1000\n",
      "\u001b[1m1568/1568\u001b[0m \u001b[32m━━━━━━━━━━━━━━━━━━━━\u001b[0m\u001b[37m\u001b[0m \u001b[1m1s\u001b[0m 712us/step - accuracy: 0.7948 - loss: 0.3973 - val_accuracy: 0.8409 - val_loss: 0.4296\n",
      "Epoch 323/1000\n",
      "\u001b[1m1568/1568\u001b[0m \u001b[32m━━━━━━━━━━━━━━━━━━━━\u001b[0m\u001b[37m\u001b[0m \u001b[1m1s\u001b[0m 745us/step - accuracy: 0.7996 - loss: 0.3873 - val_accuracy: 0.8374 - val_loss: 0.4379\n",
      "Epoch 324/1000\n",
      "\u001b[1m1568/1568\u001b[0m \u001b[32m━━━━━━━━━━━━━━━━━━━━\u001b[0m\u001b[37m\u001b[0m \u001b[1m1s\u001b[0m 703us/step - accuracy: 0.7960 - loss: 0.3971 - val_accuracy: 0.8443 - val_loss: 0.4182\n",
      "Epoch 325/1000\n",
      "\u001b[1m1568/1568\u001b[0m \u001b[32m━━━━━━━━━━━━━━━━━━━━\u001b[0m\u001b[37m\u001b[0m \u001b[1m1s\u001b[0m 735us/step - accuracy: 0.7994 - loss: 0.3883 - val_accuracy: 0.8396 - val_loss: 0.4190\n",
      "Epoch 326/1000\n",
      "\u001b[1m1568/1568\u001b[0m \u001b[32m━━━━━━━━━━━━━━━━━━━━\u001b[0m\u001b[37m\u001b[0m \u001b[1m1s\u001b[0m 701us/step - accuracy: 0.7989 - loss: 0.3935 - val_accuracy: 0.8411 - val_loss: 0.4351\n",
      "Epoch 327/1000\n",
      "\u001b[1m1568/1568\u001b[0m \u001b[32m━━━━━━━━━━━━━━━━━━━━\u001b[0m\u001b[37m\u001b[0m \u001b[1m1s\u001b[0m 736us/step - accuracy: 0.7965 - loss: 0.3938 - val_accuracy: 0.7972 - val_loss: 0.4793\n",
      "Epoch 328/1000\n",
      "\u001b[1m1568/1568\u001b[0m \u001b[32m━━━━━━━━━━━━━━━━━━━━\u001b[0m\u001b[37m\u001b[0m \u001b[1m1s\u001b[0m 698us/step - accuracy: 0.7965 - loss: 0.3892 - val_accuracy: 0.7634 - val_loss: 0.5037\n",
      "Epoch 329/1000\n",
      "\u001b[1m1568/1568\u001b[0m \u001b[32m━━━━━━━━━━━━━━━━━━━━\u001b[0m\u001b[37m\u001b[0m \u001b[1m1s\u001b[0m 733us/step - accuracy: 0.7914 - loss: 0.4037 - val_accuracy: 0.8089 - val_loss: 0.4470\n",
      "Epoch 330/1000\n",
      "\u001b[1m1568/1568\u001b[0m \u001b[32m━━━━━━━━━━━━━━━━━━━━\u001b[0m\u001b[37m\u001b[0m \u001b[1m1s\u001b[0m 696us/step - accuracy: 0.7833 - loss: 0.4232 - val_accuracy: 0.8400 - val_loss: 0.4061\n",
      "Epoch 331/1000\n",
      "\u001b[1m1568/1568\u001b[0m \u001b[32m━━━━━━━━━━━━━━━━━━━━\u001b[0m\u001b[37m\u001b[0m \u001b[1m1s\u001b[0m 702us/step - accuracy: 0.7947 - loss: 0.3980 - val_accuracy: 0.8350 - val_loss: 0.4562\n",
      "Epoch 332/1000\n",
      "\u001b[1m1568/1568\u001b[0m \u001b[32m━━━━━━━━━━━━━━━━━━━━\u001b[0m\u001b[37m\u001b[0m \u001b[1m1s\u001b[0m 742us/step - accuracy: 0.8053 - loss: 0.3823 - val_accuracy: 0.8089 - val_loss: 0.4474\n",
      "Epoch 333/1000\n",
      "\u001b[1m1568/1568\u001b[0m \u001b[32m━━━━━━━━━━━━━━━━━━━━\u001b[0m\u001b[37m\u001b[0m \u001b[1m1s\u001b[0m 705us/step - accuracy: 0.8015 - loss: 0.3856 - val_accuracy: 0.7812 - val_loss: 0.4819\n",
      "Epoch 334/1000\n",
      "\u001b[1m1568/1568\u001b[0m \u001b[32m━━━━━━━━━━━━━━━━━━━━\u001b[0m\u001b[37m\u001b[0m \u001b[1m1s\u001b[0m 738us/step - accuracy: 0.7923 - loss: 0.4090 - val_accuracy: 0.8294 - val_loss: 0.4103\n",
      "Epoch 335/1000\n",
      "\u001b[1m1568/1568\u001b[0m \u001b[32m━━━━━━━━━━━━━━━━━━━━\u001b[0m\u001b[37m\u001b[0m \u001b[1m1s\u001b[0m 700us/step - accuracy: 0.8060 - loss: 0.3774 - val_accuracy: 0.7754 - val_loss: 0.5174\n",
      "Epoch 336/1000\n",
      "\u001b[1m1568/1568\u001b[0m \u001b[32m━━━━━━━━━━━━━━━━━━━━\u001b[0m\u001b[37m\u001b[0m \u001b[1m1s\u001b[0m 737us/step - accuracy: 0.7909 - loss: 0.4049 - val_accuracy: 0.8255 - val_loss: 0.4337\n",
      "Epoch 337/1000\n",
      "\u001b[1m1568/1568\u001b[0m \u001b[32m━━━━━━━━━━━━━━━━━━━━\u001b[0m\u001b[37m\u001b[0m \u001b[1m1s\u001b[0m 706us/step - accuracy: 0.7956 - loss: 0.3969 - val_accuracy: 0.8460 - val_loss: 0.4055\n",
      "Epoch 338/1000\n",
      "\u001b[1m1568/1568\u001b[0m \u001b[32m━━━━━━━━━━━━━━━━━━━━\u001b[0m\u001b[37m\u001b[0m \u001b[1m1s\u001b[0m 736us/step - accuracy: 0.7985 - loss: 0.3919 - val_accuracy: 0.8407 - val_loss: 0.4317\n",
      "Epoch 339/1000\n",
      "\u001b[1m1568/1568\u001b[0m \u001b[32m━━━━━━━━━━━━━━━━━━━━\u001b[0m\u001b[37m\u001b[0m \u001b[1m1s\u001b[0m 705us/step - accuracy: 0.7969 - loss: 0.3982 - val_accuracy: 0.8507 - val_loss: 0.3705\n",
      "Epoch 340/1000\n",
      "\u001b[1m1568/1568\u001b[0m \u001b[32m━━━━━━━━━━━━━━━━━━━━\u001b[0m\u001b[37m\u001b[0m \u001b[1m1s\u001b[0m 733us/step - accuracy: 0.7992 - loss: 0.3915 - val_accuracy: 0.8344 - val_loss: 0.3845\n",
      "Epoch 341/1000\n",
      "\u001b[1m1568/1568\u001b[0m \u001b[32m━━━━━━━━━━━━━━━━━━━━\u001b[0m\u001b[37m\u001b[0m \u001b[1m1s\u001b[0m 703us/step - accuracy: 0.7979 - loss: 0.3927 - val_accuracy: 0.8361 - val_loss: 0.3768\n",
      "Epoch 342/1000\n",
      "\u001b[1m1568/1568\u001b[0m \u001b[32m━━━━━━━━━━━━━━━━━━━━\u001b[0m\u001b[37m\u001b[0m \u001b[1m1s\u001b[0m 734us/step - accuracy: 0.7957 - loss: 0.3955 - val_accuracy: 0.8494 - val_loss: 0.4013\n",
      "Epoch 343/1000\n",
      "\u001b[1m1568/1568\u001b[0m \u001b[32m━━━━━━━━━━━━━━━━━━━━\u001b[0m\u001b[37m\u001b[0m \u001b[1m1s\u001b[0m 702us/step - accuracy: 0.7995 - loss: 0.3893 - val_accuracy: 0.8195 - val_loss: 0.4483\n",
      "Epoch 344/1000\n",
      "\u001b[1m1568/1568\u001b[0m \u001b[32m━━━━━━━━━━━━━━━━━━━━\u001b[0m\u001b[37m\u001b[0m \u001b[1m1s\u001b[0m 733us/step - accuracy: 0.7992 - loss: 0.3910 - val_accuracy: 0.8281 - val_loss: 0.4076\n",
      "Epoch 345/1000\n",
      "\u001b[1m1568/1568\u001b[0m \u001b[32m━━━━━━━━━━━━━━━━━━━━\u001b[0m\u001b[37m\u001b[0m \u001b[1m1s\u001b[0m 708us/step - accuracy: 0.8007 - loss: 0.3890 - val_accuracy: 0.7723 - val_loss: 0.4775\n",
      "Epoch 346/1000\n",
      "\u001b[1m1568/1568\u001b[0m \u001b[32m━━━━━━━━━━━━━━━━━━━━\u001b[0m\u001b[37m\u001b[0m \u001b[1m1s\u001b[0m 737us/step - accuracy: 0.7970 - loss: 0.3939 - val_accuracy: 0.8440 - val_loss: 0.3941\n",
      "Epoch 347/1000\n",
      "\u001b[1m1568/1568\u001b[0m \u001b[32m━━━━━━━━━━━━━━━━━━━━\u001b[0m\u001b[37m\u001b[0m \u001b[1m1s\u001b[0m 746us/step - accuracy: 0.8014 - loss: 0.3863 - val_accuracy: 0.8209 - val_loss: 0.4469\n",
      "Epoch 348/1000\n",
      "\u001b[1m1568/1568\u001b[0m \u001b[32m━━━━━━━━━━━━━━━━━━━━\u001b[0m\u001b[37m\u001b[0m \u001b[1m1s\u001b[0m 698us/step - accuracy: 0.7960 - loss: 0.4077 - val_accuracy: 0.8153 - val_loss: 0.4187\n",
      "Epoch 349/1000\n",
      "\u001b[1m1568/1568\u001b[0m \u001b[32m━━━━━━━━━━━━━━━━━━━━\u001b[0m\u001b[37m\u001b[0m \u001b[1m1s\u001b[0m 742us/step - accuracy: 0.7983 - loss: 0.3965 - val_accuracy: 0.8251 - val_loss: 0.4715\n",
      "Epoch 350/1000\n",
      "\u001b[1m1568/1568\u001b[0m \u001b[32m━━━━━━━━━━━━━━━━━━━━\u001b[0m\u001b[37m\u001b[0m \u001b[1m1s\u001b[0m 695us/step - accuracy: 0.7984 - loss: 0.3917 - val_accuracy: 0.8358 - val_loss: 0.4186\n",
      "Epoch 351/1000\n",
      "\u001b[1m1568/1568\u001b[0m \u001b[32m━━━━━━━━━━━━━━━━━━━━\u001b[0m\u001b[37m\u001b[0m \u001b[1m1s\u001b[0m 742us/step - accuracy: 0.8029 - loss: 0.3848 - val_accuracy: 0.8132 - val_loss: 0.4604\n",
      "Epoch 352/1000\n",
      "\u001b[1m1568/1568\u001b[0m \u001b[32m━━━━━━━━━━━━━━━━━━━━\u001b[0m\u001b[37m\u001b[0m \u001b[1m1s\u001b[0m 695us/step - accuracy: 0.8043 - loss: 0.3825 - val_accuracy: 0.6929 - val_loss: 0.6165\n",
      "Epoch 353/1000\n",
      "\u001b[1m1568/1568\u001b[0m \u001b[32m━━━━━━━━━━━━━━━━━━━━\u001b[0m\u001b[37m\u001b[0m \u001b[1m1s\u001b[0m 745us/step - accuracy: 0.8009 - loss: 0.3880 - val_accuracy: 0.7957 - val_loss: 0.5099\n",
      "Epoch 354/1000\n",
      "\u001b[1m1568/1568\u001b[0m \u001b[32m━━━━━━━━━━━━━━━━━━━━\u001b[0m\u001b[37m\u001b[0m \u001b[1m1s\u001b[0m 696us/step - accuracy: 0.7991 - loss: 0.3966 - val_accuracy: 0.8485 - val_loss: 0.3872\n",
      "Epoch 355/1000\n",
      "\u001b[1m1568/1568\u001b[0m \u001b[32m━━━━━━━━━━━━━━━━━━━━\u001b[0m\u001b[37m\u001b[0m \u001b[1m1s\u001b[0m 743us/step - accuracy: 0.8022 - loss: 0.3834 - val_accuracy: 0.8245 - val_loss: 0.4481\n",
      "Epoch 356/1000\n",
      "\u001b[1m1568/1568\u001b[0m \u001b[32m━━━━━━━━━━━━━━━━━━━━\u001b[0m\u001b[37m\u001b[0m \u001b[1m1s\u001b[0m 696us/step - accuracy: 0.7962 - loss: 0.4007 - val_accuracy: 0.8172 - val_loss: 0.4192\n",
      "Epoch 357/1000\n",
      "\u001b[1m1568/1568\u001b[0m \u001b[32m━━━━━━━━━━━━━━━━━━━━\u001b[0m\u001b[37m\u001b[0m \u001b[1m1s\u001b[0m 742us/step - accuracy: 0.8016 - loss: 0.3878 - val_accuracy: 0.8372 - val_loss: 0.4423\n",
      "Epoch 358/1000\n",
      "\u001b[1m1568/1568\u001b[0m \u001b[32m━━━━━━━━━━━━━━━━━━━━\u001b[0m\u001b[37m\u001b[0m \u001b[1m1s\u001b[0m 701us/step - accuracy: 0.7992 - loss: 0.3894 - val_accuracy: 0.8381 - val_loss: 0.3757\n",
      "Epoch 359/1000\n",
      "\u001b[1m1568/1568\u001b[0m \u001b[32m━━━━━━━━━━━━━━━━━━━━\u001b[0m\u001b[37m\u001b[0m \u001b[1m1s\u001b[0m 748us/step - accuracy: 0.7983 - loss: 0.3904 - val_accuracy: 0.8218 - val_loss: 0.4261\n",
      "Epoch 360/1000\n",
      "\u001b[1m1568/1568\u001b[0m \u001b[32m━━━━━━━━━━━━━━━━━━━━\u001b[0m\u001b[37m\u001b[0m \u001b[1m1s\u001b[0m 707us/step - accuracy: 0.8029 - loss: 0.3839 - val_accuracy: 0.7973 - val_loss: 0.4378\n",
      "Epoch 361/1000\n",
      "\u001b[1m1568/1568\u001b[0m \u001b[32m━━━━━━━━━━━━━━━━━━━━\u001b[0m\u001b[37m\u001b[0m \u001b[1m1s\u001b[0m 737us/step - accuracy: 0.8022 - loss: 0.3883 - val_accuracy: 0.7647 - val_loss: 0.4839\n",
      "Epoch 362/1000\n",
      "\u001b[1m1568/1568\u001b[0m \u001b[32m━━━━━━━━━━━━━━━━━━━━\u001b[0m\u001b[37m\u001b[0m \u001b[1m1s\u001b[0m 696us/step - accuracy: 0.8017 - loss: 0.3849 - val_accuracy: 0.8294 - val_loss: 0.4388\n",
      "Epoch 363/1000\n",
      "\u001b[1m1568/1568\u001b[0m \u001b[32m━━━━━━━━━━━━━━━━━━━━\u001b[0m\u001b[37m\u001b[0m \u001b[1m1s\u001b[0m 739us/step - accuracy: 0.7944 - loss: 0.3987 - val_accuracy: 0.8414 - val_loss: 0.4121\n",
      "Epoch 364/1000\n",
      "\u001b[1m1568/1568\u001b[0m \u001b[32m━━━━━━━━━━━━━━━━━━━━\u001b[0m\u001b[37m\u001b[0m \u001b[1m1s\u001b[0m 699us/step - accuracy: 0.8018 - loss: 0.3878 - val_accuracy: 0.8415 - val_loss: 0.3971\n",
      "Epoch 365/1000\n",
      "\u001b[1m1568/1568\u001b[0m \u001b[32m━━━━━━━━━━━━━━━━━━━━\u001b[0m\u001b[37m\u001b[0m \u001b[1m1s\u001b[0m 739us/step - accuracy: 0.8030 - loss: 0.3873 - val_accuracy: 0.8436 - val_loss: 0.3861\n",
      "Epoch 366/1000\n",
      "\u001b[1m1568/1568\u001b[0m \u001b[32m━━━━━━━━━━━━━━━━━━━━\u001b[0m\u001b[37m\u001b[0m \u001b[1m1s\u001b[0m 735us/step - accuracy: 0.8029 - loss: 0.3856 - val_accuracy: 0.8156 - val_loss: 0.4430\n",
      "Epoch 367/1000\n",
      "\u001b[1m1568/1568\u001b[0m \u001b[32m━━━━━━━━━━━━━━━━━━━━\u001b[0m\u001b[37m\u001b[0m \u001b[1m1s\u001b[0m 707us/step - accuracy: 0.7994 - loss: 0.3912 - val_accuracy: 0.8408 - val_loss: 0.4044\n",
      "Epoch 368/1000\n",
      "\u001b[1m1568/1568\u001b[0m \u001b[32m━━━━━━━━━━━━━━━━━━━━\u001b[0m\u001b[37m\u001b[0m \u001b[1m1s\u001b[0m 733us/step - accuracy: 0.8002 - loss: 0.3919 - val_accuracy: 0.8181 - val_loss: 0.4204\n",
      "Epoch 369/1000\n",
      "\u001b[1m1568/1568\u001b[0m \u001b[32m━━━━━━━━━━━━━━━━━━━━\u001b[0m\u001b[37m\u001b[0m \u001b[1m1s\u001b[0m 704us/step - accuracy: 0.7885 - loss: 0.4097 - val_accuracy: 0.6866 - val_loss: 0.6223\n",
      "Epoch 370/1000\n",
      "\u001b[1m1568/1568\u001b[0m \u001b[32m━━━━━━━━━━━━━━━━━━━━\u001b[0m\u001b[37m\u001b[0m \u001b[1m1s\u001b[0m 733us/step - accuracy: 0.7967 - loss: 0.3918 - val_accuracy: 0.8525 - val_loss: 0.3613\n",
      "Epoch 371/1000\n",
      "\u001b[1m1568/1568\u001b[0m \u001b[32m━━━━━━━━━━━━━━━━━━━━\u001b[0m\u001b[37m\u001b[0m \u001b[1m1s\u001b[0m 706us/step - accuracy: 0.7970 - loss: 0.3957 - val_accuracy: 0.6614 - val_loss: 0.7415\n",
      "Epoch 372/1000\n",
      "\u001b[1m1568/1568\u001b[0m \u001b[32m━━━━━━━━━━━━━━━━━━━━\u001b[0m\u001b[37m\u001b[0m \u001b[1m1s\u001b[0m 733us/step - accuracy: 0.7970 - loss: 0.4004 - val_accuracy: 0.7822 - val_loss: 0.4548\n",
      "Epoch 373/1000\n",
      "\u001b[1m1568/1568\u001b[0m \u001b[32m━━━━━━━━━━━━━━━━━━━━\u001b[0m\u001b[37m\u001b[0m \u001b[1m1s\u001b[0m 705us/step - accuracy: 0.8027 - loss: 0.3818 - val_accuracy: 0.8440 - val_loss: 0.3893\n",
      "Epoch 374/1000\n",
      "\u001b[1m1568/1568\u001b[0m \u001b[32m━━━━━━━━━━━━━━━━━━━━\u001b[0m\u001b[37m\u001b[0m \u001b[1m1s\u001b[0m 733us/step - accuracy: 0.8118 - loss: 0.3703 - val_accuracy: 0.8447 - val_loss: 0.3922\n",
      "Epoch 375/1000\n",
      "\u001b[1m1568/1568\u001b[0m \u001b[32m━━━━━━━━━━━━━━━━━━━━\u001b[0m\u001b[37m\u001b[0m \u001b[1m1s\u001b[0m 701us/step - accuracy: 0.7968 - loss: 0.3971 - val_accuracy: 0.8465 - val_loss: 0.3942\n",
      "Epoch 376/1000\n",
      "\u001b[1m1568/1568\u001b[0m \u001b[32m━━━━━━━━━━━━━━━━━━━━\u001b[0m\u001b[37m\u001b[0m \u001b[1m1s\u001b[0m 733us/step - accuracy: 0.7937 - loss: 0.4032 - val_accuracy: 0.8444 - val_loss: 0.4018\n",
      "Epoch 377/1000\n",
      "\u001b[1m1568/1568\u001b[0m \u001b[32m━━━━━━━━━━━━━━━━━━━━\u001b[0m\u001b[37m\u001b[0m \u001b[1m1s\u001b[0m 737us/step - accuracy: 0.7970 - loss: 0.3924 - val_accuracy: 0.8451 - val_loss: 0.4127\n",
      "Epoch 378/1000\n",
      "\u001b[1m1568/1568\u001b[0m \u001b[32m━━━━━━━━━━━━━━━━━━━━\u001b[0m\u001b[37m\u001b[0m \u001b[1m1s\u001b[0m 696us/step - accuracy: 0.8090 - loss: 0.3749 - val_accuracy: 0.8229 - val_loss: 0.4724\n",
      "Epoch 379/1000\n",
      "\u001b[1m1568/1568\u001b[0m \u001b[32m━━━━━━━━━━━━━━━━━━━━\u001b[0m\u001b[37m\u001b[0m \u001b[1m1s\u001b[0m 739us/step - accuracy: 0.8005 - loss: 0.3905 - val_accuracy: 0.7540 - val_loss: 0.5342\n",
      "Epoch 380/1000\n",
      "\u001b[1m1568/1568\u001b[0m \u001b[32m━━━━━━━━━━━━━━━━━━━━\u001b[0m\u001b[37m\u001b[0m \u001b[1m1s\u001b[0m 701us/step - accuracy: 0.8022 - loss: 0.3866 - val_accuracy: 0.8403 - val_loss: 0.4007\n",
      "Epoch 381/1000\n",
      "\u001b[1m1568/1568\u001b[0m \u001b[32m━━━━━━━━━━━━━━━━━━━━\u001b[0m\u001b[37m\u001b[0m \u001b[1m1s\u001b[0m 735us/step - accuracy: 0.8023 - loss: 0.3810 - val_accuracy: 0.8485 - val_loss: 0.3993\n",
      "Epoch 382/1000\n",
      "\u001b[1m1568/1568\u001b[0m \u001b[32m━━━━━━━━━━━━━━━━━━━━\u001b[0m\u001b[37m\u001b[0m \u001b[1m1s\u001b[0m 699us/step - accuracy: 0.8086 - loss: 0.3733 - val_accuracy: 0.8299 - val_loss: 0.4339\n",
      "Epoch 383/1000\n",
      "\u001b[1m1568/1568\u001b[0m \u001b[32m━━━━━━━━━━━━━━━━━━━━\u001b[0m\u001b[37m\u001b[0m \u001b[1m1s\u001b[0m 739us/step - accuracy: 0.8049 - loss: 0.3832 - val_accuracy: 0.8256 - val_loss: 0.4222\n",
      "Epoch 384/1000\n",
      "\u001b[1m1568/1568\u001b[0m \u001b[32m━━━━━━━━━━━━━━━━━━━━\u001b[0m\u001b[37m\u001b[0m \u001b[1m1s\u001b[0m 698us/step - accuracy: 0.8003 - loss: 0.3878 - val_accuracy: 0.7980 - val_loss: 0.4343\n",
      "Epoch 385/1000\n",
      "\u001b[1m1568/1568\u001b[0m \u001b[32m━━━━━━━━━━━━━━━━━━━━\u001b[0m\u001b[37m\u001b[0m \u001b[1m1s\u001b[0m 736us/step - accuracy: 0.8044 - loss: 0.3807 - val_accuracy: 0.8449 - val_loss: 0.3901\n",
      "Epoch 386/1000\n",
      "\u001b[1m1568/1568\u001b[0m \u001b[32m━━━━━━━━━━━━━━━━━━━━\u001b[0m\u001b[37m\u001b[0m \u001b[1m1s\u001b[0m 698us/step - accuracy: 0.7978 - loss: 0.4009 - val_accuracy: 0.7799 - val_loss: 0.4627\n",
      "Epoch 387/1000\n",
      "\u001b[1m1568/1568\u001b[0m \u001b[32m━━━━━━━━━━━━━━━━━━━━\u001b[0m\u001b[37m\u001b[0m \u001b[1m1s\u001b[0m 733us/step - accuracy: 0.7960 - loss: 0.3982 - val_accuracy: 0.8314 - val_loss: 0.4014\n",
      "Epoch 388/1000\n",
      "\u001b[1m1568/1568\u001b[0m \u001b[32m━━━━━━━━━━━━━━━━━━━━\u001b[0m\u001b[37m\u001b[0m \u001b[1m1s\u001b[0m 699us/step - accuracy: 0.8029 - loss: 0.3828 - val_accuracy: 0.8199 - val_loss: 0.3980\n",
      "Epoch 389/1000\n",
      "\u001b[1m1568/1568\u001b[0m \u001b[32m━━━━━━━━━━━━━━━━━━━━\u001b[0m\u001b[37m\u001b[0m \u001b[1m1s\u001b[0m 736us/step - accuracy: 0.8044 - loss: 0.3799 - val_accuracy: 0.8341 - val_loss: 0.4227\n",
      "Epoch 390/1000\n",
      "\u001b[1m1568/1568\u001b[0m \u001b[32m━━━━━━━━━━━━━━━━━━━━\u001b[0m\u001b[37m\u001b[0m \u001b[1m1s\u001b[0m 697us/step - accuracy: 0.8049 - loss: 0.3796 - val_accuracy: 0.8047 - val_loss: 0.4827\n",
      "Epoch 391/1000\n",
      "\u001b[1m1568/1568\u001b[0m \u001b[32m━━━━━━━━━━━━━━━━━━━━\u001b[0m\u001b[37m\u001b[0m \u001b[1m1s\u001b[0m 732us/step - accuracy: 0.8042 - loss: 0.3835 - val_accuracy: 0.8118 - val_loss: 0.4448\n",
      "Epoch 392/1000\n",
      "\u001b[1m1568/1568\u001b[0m \u001b[32m━━━━━━━━━━━━━━━━━━━━\u001b[0m\u001b[37m\u001b[0m \u001b[1m1s\u001b[0m 740us/step - accuracy: 0.8033 - loss: 0.3859 - val_accuracy: 0.8201 - val_loss: 0.4430\n",
      "Epoch 393/1000\n",
      "\u001b[1m1568/1568\u001b[0m \u001b[32m━━━━━━━━━━━━━━━━━━━━\u001b[0m\u001b[37m\u001b[0m \u001b[1m1s\u001b[0m 695us/step - accuracy: 0.8061 - loss: 0.3816 - val_accuracy: 0.8442 - val_loss: 0.3956\n",
      "Epoch 394/1000\n",
      "\u001b[1m1568/1568\u001b[0m \u001b[32m━━━━━━━━━━━━━━━━━━━━\u001b[0m\u001b[37m\u001b[0m \u001b[1m1s\u001b[0m 744us/step - accuracy: 0.8051 - loss: 0.3772 - val_accuracy: 0.8272 - val_loss: 0.4375\n",
      "Epoch 395/1000\n",
      "\u001b[1m1568/1568\u001b[0m \u001b[32m━━━━━━━━━━━━━━━━━━━━\u001b[0m\u001b[37m\u001b[0m \u001b[1m1s\u001b[0m 733us/step - accuracy: 0.7999 - loss: 0.3871 - val_accuracy: 0.8384 - val_loss: 0.3996\n",
      "Epoch 396/1000\n",
      "\u001b[1m1568/1568\u001b[0m \u001b[32m━━━━━━━━━━━━━━━━━━━━\u001b[0m\u001b[37m\u001b[0m \u001b[1m1s\u001b[0m 712us/step - accuracy: 0.8064 - loss: 0.3752 - val_accuracy: 0.8392 - val_loss: 0.4272\n",
      "Epoch 397/1000\n",
      "\u001b[1m1568/1568\u001b[0m \u001b[32m━━━━━━━━━━━━━━━━━━━━\u001b[0m\u001b[37m\u001b[0m \u001b[1m1s\u001b[0m 744us/step - accuracy: 0.8011 - loss: 0.3862 - val_accuracy: 0.8146 - val_loss: 0.4576\n",
      "Epoch 398/1000\n",
      "\u001b[1m1568/1568\u001b[0m \u001b[32m━━━━━━━━━━━━━━━━━━━━\u001b[0m\u001b[37m\u001b[0m \u001b[1m1s\u001b[0m 742us/step - accuracy: 0.7995 - loss: 0.3861 - val_accuracy: 0.8391 - val_loss: 0.3915\n",
      "Epoch 399/1000\n",
      "\u001b[1m1568/1568\u001b[0m \u001b[32m━━━━━━━━━━━━━━━━━━━━\u001b[0m\u001b[37m\u001b[0m \u001b[1m1s\u001b[0m 734us/step - accuracy: 0.8032 - loss: 0.3859 - val_accuracy: 0.8408 - val_loss: 0.3863\n",
      "Epoch 400/1000\n",
      "\u001b[1m1568/1568\u001b[0m \u001b[32m━━━━━━━━━━━━━━━━━━━━\u001b[0m\u001b[37m\u001b[0m \u001b[1m1s\u001b[0m 701us/step - accuracy: 0.8060 - loss: 0.3776 - val_accuracy: 0.8050 - val_loss: 0.4241\n",
      "Epoch 401/1000\n",
      "\u001b[1m1568/1568\u001b[0m \u001b[32m━━━━━━━━━━━━━━━━━━━━\u001b[0m\u001b[37m\u001b[0m \u001b[1m1s\u001b[0m 731us/step - accuracy: 0.8089 - loss: 0.3688 - val_accuracy: 0.8198 - val_loss: 0.4364\n",
      "Epoch 402/1000\n",
      "\u001b[1m1568/1568\u001b[0m \u001b[32m━━━━━━━━━━━━━━━━━━━━\u001b[0m\u001b[37m\u001b[0m \u001b[1m1s\u001b[0m 738us/step - accuracy: 0.8010 - loss: 0.3864 - val_accuracy: 0.8338 - val_loss: 0.4083\n",
      "Epoch 403/1000\n",
      "\u001b[1m1568/1568\u001b[0m \u001b[32m━━━━━━━━━━━━━━━━━━━━\u001b[0m\u001b[37m\u001b[0m \u001b[1m1s\u001b[0m 696us/step - accuracy: 0.8016 - loss: 0.3830 - val_accuracy: 0.7519 - val_loss: 0.6237\n",
      "Epoch 404/1000\n",
      "\u001b[1m1568/1568\u001b[0m \u001b[32m━━━━━━━━━━━━━━━━━━━━\u001b[0m\u001b[37m\u001b[0m \u001b[1m1s\u001b[0m 738us/step - accuracy: 0.8022 - loss: 0.3943 - val_accuracy: 0.8227 - val_loss: 0.4121\n",
      "Epoch 405/1000\n",
      "\u001b[1m1568/1568\u001b[0m \u001b[32m━━━━━━━━━━━━━━━━━━━━\u001b[0m\u001b[37m\u001b[0m \u001b[1m1s\u001b[0m 732us/step - accuracy: 0.8026 - loss: 0.3891 - val_accuracy: 0.8344 - val_loss: 0.4010\n",
      "Epoch 406/1000\n",
      "\u001b[1m1568/1568\u001b[0m \u001b[32m━━━━━━━━━━━━━━━━━━━━\u001b[0m\u001b[37m\u001b[0m \u001b[1m1s\u001b[0m 703us/step - accuracy: 0.8052 - loss: 0.3787 - val_accuracy: 0.8202 - val_loss: 0.4743\n",
      "Epoch 407/1000\n",
      "\u001b[1m1568/1568\u001b[0m \u001b[32m━━━━━━━━━━━━━━━━━━━━\u001b[0m\u001b[37m\u001b[0m \u001b[1m1s\u001b[0m 735us/step - accuracy: 0.7956 - loss: 0.4003 - val_accuracy: 0.8487 - val_loss: 0.3778\n",
      "Epoch 408/1000\n",
      "\u001b[1m1568/1568\u001b[0m \u001b[32m━━━━━━━━━━━━━━━━━━━━\u001b[0m\u001b[37m\u001b[0m \u001b[1m1s\u001b[0m 742us/step - accuracy: 0.8046 - loss: 0.3807 - val_accuracy: 0.8429 - val_loss: 0.4048\n",
      "Epoch 409/1000\n",
      "\u001b[1m1568/1568\u001b[0m \u001b[32m━━━━━━━━━━━━━━━━━━━━\u001b[0m\u001b[37m\u001b[0m \u001b[1m1s\u001b[0m 694us/step - accuracy: 0.8048 - loss: 0.3799 - val_accuracy: 0.8247 - val_loss: 0.4210\n",
      "Epoch 410/1000\n",
      "\u001b[1m1568/1568\u001b[0m \u001b[32m━━━━━━━━━━━━━━━━━━━━\u001b[0m\u001b[37m\u001b[0m \u001b[1m1s\u001b[0m 738us/step - accuracy: 0.8102 - loss: 0.3683 - val_accuracy: 0.8416 - val_loss: 0.3881\n",
      "Epoch 411/1000\n",
      "\u001b[1m1568/1568\u001b[0m \u001b[32m━━━━━━━━━━━━━━━━━━━━\u001b[0m\u001b[37m\u001b[0m \u001b[1m1s\u001b[0m 736us/step - accuracy: 0.8078 - loss: 0.3754 - val_accuracy: 0.8011 - val_loss: 0.4423\n",
      "Epoch 412/1000\n",
      "\u001b[1m1568/1568\u001b[0m \u001b[32m━━━━━━━━━━━━━━━━━━━━\u001b[0m\u001b[37m\u001b[0m \u001b[1m1s\u001b[0m 740us/step - accuracy: 0.8064 - loss: 0.3811 - val_accuracy: 0.8430 - val_loss: 0.4263\n",
      "Epoch 413/1000\n",
      "\u001b[1m1568/1568\u001b[0m \u001b[32m━━━━━━━━━━━━━━━━━━━━\u001b[0m\u001b[37m\u001b[0m \u001b[1m1s\u001b[0m 696us/step - accuracy: 0.8055 - loss: 0.3771 - val_accuracy: 0.8093 - val_loss: 0.4275\n",
      "Epoch 414/1000\n",
      "\u001b[1m1568/1568\u001b[0m \u001b[32m━━━━━━━━━━━━━━━━━━━━\u001b[0m\u001b[37m\u001b[0m \u001b[1m1s\u001b[0m 742us/step - accuracy: 0.8069 - loss: 0.3752 - val_accuracy: 0.8496 - val_loss: 0.3991\n",
      "Epoch 415/1000\n",
      "\u001b[1m1568/1568\u001b[0m \u001b[32m━━━━━━━━━━━━━━━━━━━━\u001b[0m\u001b[37m\u001b[0m \u001b[1m1s\u001b[0m 734us/step - accuracy: 0.8019 - loss: 0.3835 - val_accuracy: 0.8400 - val_loss: 0.4039\n",
      "Epoch 416/1000\n",
      "\u001b[1m1568/1568\u001b[0m \u001b[32m━━━━━━━━━━━━━━━━━━━━\u001b[0m\u001b[37m\u001b[0m \u001b[1m1s\u001b[0m 739us/step - accuracy: 0.8073 - loss: 0.3758 - val_accuracy: 0.8390 - val_loss: 0.4070\n",
      "Epoch 417/1000\n",
      "\u001b[1m1568/1568\u001b[0m \u001b[32m━━━━━━━━━━━━━━━━━━━━\u001b[0m\u001b[37m\u001b[0m \u001b[1m1s\u001b[0m 697us/step - accuracy: 0.8048 - loss: 0.3799 - val_accuracy: 0.7616 - val_loss: 0.5121\n",
      "Epoch 418/1000\n",
      "\u001b[1m1568/1568\u001b[0m \u001b[32m━━━━━━━━━━━━━━━━━━━━\u001b[0m\u001b[37m\u001b[0m \u001b[1m1s\u001b[0m 741us/step - accuracy: 0.8010 - loss: 0.3930 - val_accuracy: 0.8123 - val_loss: 0.4262\n",
      "Epoch 419/1000\n",
      "\u001b[1m1568/1568\u001b[0m \u001b[32m━━━━━━━━━━━━━━━━━━━━\u001b[0m\u001b[37m\u001b[0m \u001b[1m1s\u001b[0m 733us/step - accuracy: 0.8010 - loss: 0.3859 - val_accuracy: 0.7368 - val_loss: 0.6381\n",
      "Epoch 420/1000\n",
      "\u001b[1m1568/1568\u001b[0m \u001b[32m━━━━━━━━━━━━━━━━━━━━\u001b[0m\u001b[37m\u001b[0m \u001b[1m1s\u001b[0m 703us/step - accuracy: 0.8048 - loss: 0.3819 - val_accuracy: 0.8428 - val_loss: 0.4112\n",
      "Epoch 421/1000\n",
      "\u001b[1m1568/1568\u001b[0m \u001b[32m━━━━━━━━━━━━━━━━━━━━\u001b[0m\u001b[37m\u001b[0m \u001b[1m1s\u001b[0m 731us/step - accuracy: 0.8017 - loss: 0.3864 - val_accuracy: 0.8118 - val_loss: 0.4388\n",
      "Epoch 422/1000\n",
      "\u001b[1m1568/1568\u001b[0m \u001b[32m━━━━━━━━━━━━━━━━━━━━\u001b[0m\u001b[37m\u001b[0m \u001b[1m1s\u001b[0m 739us/step - accuracy: 0.8076 - loss: 0.3732 - val_accuracy: 0.8519 - val_loss: 0.3924\n",
      "Epoch 423/1000\n",
      "\u001b[1m1568/1568\u001b[0m \u001b[32m━━━━━━━━━━━━━━━━━━━━\u001b[0m\u001b[37m\u001b[0m \u001b[1m1s\u001b[0m 737us/step - accuracy: 0.8029 - loss: 0.3826 - val_accuracy: 0.8331 - val_loss: 0.4116\n",
      "Epoch 424/1000\n",
      "\u001b[1m1568/1568\u001b[0m \u001b[32m━━━━━━━━━━━━━━━━━━━━\u001b[0m\u001b[37m\u001b[0m \u001b[1m1s\u001b[0m 697us/step - accuracy: 0.8041 - loss: 0.3797 - val_accuracy: 0.8430 - val_loss: 0.3842\n",
      "Epoch 425/1000\n",
      "\u001b[1m1568/1568\u001b[0m \u001b[32m━━━━━━━━━━━━━━━━━━━━\u001b[0m\u001b[37m\u001b[0m \u001b[1m1s\u001b[0m 734us/step - accuracy: 0.8028 - loss: 0.3827 - val_accuracy: 0.8188 - val_loss: 0.4383\n",
      "Epoch 426/1000\n",
      "\u001b[1m1568/1568\u001b[0m \u001b[32m━━━━━━━━━━━━━━━━━━━━\u001b[0m\u001b[37m\u001b[0m \u001b[1m1s\u001b[0m 736us/step - accuracy: 0.8049 - loss: 0.3830 - val_accuracy: 0.8342 - val_loss: 0.4464\n",
      "Epoch 427/1000\n",
      "\u001b[1m1568/1568\u001b[0m \u001b[32m━━━━━━━━━━━━━━━━━━━━\u001b[0m\u001b[37m\u001b[0m \u001b[1m1s\u001b[0m 738us/step - accuracy: 0.7999 - loss: 0.3875 - val_accuracy: 0.8367 - val_loss: 0.4330\n",
      "Epoch 428/1000\n",
      "\u001b[1m1568/1568\u001b[0m \u001b[32m━━━━━━━━━━━━━━━━━━━━\u001b[0m\u001b[37m\u001b[0m \u001b[1m1s\u001b[0m 699us/step - accuracy: 0.8088 - loss: 0.3745 - val_accuracy: 0.8171 - val_loss: 0.4444\n",
      "Epoch 429/1000\n",
      "\u001b[1m1568/1568\u001b[0m \u001b[32m━━━━━━━━━━━━━━━━━━━━\u001b[0m\u001b[37m\u001b[0m \u001b[1m1s\u001b[0m 734us/step - accuracy: 0.8085 - loss: 0.3702 - val_accuracy: 0.8270 - val_loss: 0.4910\n",
      "Epoch 430/1000\n",
      "\u001b[1m1568/1568\u001b[0m \u001b[32m━━━━━━━━━━━━━━━━━━━━\u001b[0m\u001b[37m\u001b[0m \u001b[1m1s\u001b[0m 736us/step - accuracy: 0.8028 - loss: 0.3841 - val_accuracy: 0.7782 - val_loss: 0.4909\n",
      "Epoch 431/1000\n",
      "\u001b[1m1568/1568\u001b[0m \u001b[32m━━━━━━━━━━━━━━━━━━━━\u001b[0m\u001b[37m\u001b[0m \u001b[1m1s\u001b[0m 699us/step - accuracy: 0.7997 - loss: 0.3912 - val_accuracy: 0.7928 - val_loss: 0.5613\n",
      "Epoch 432/1000\n",
      "\u001b[1m1568/1568\u001b[0m \u001b[32m━━━━━━━━━━━━━━━━━━━━\u001b[0m\u001b[37m\u001b[0m \u001b[1m1s\u001b[0m 735us/step - accuracy: 0.8046 - loss: 0.3807 - val_accuracy: 0.8352 - val_loss: 0.3988\n",
      "Epoch 433/1000\n",
      "\u001b[1m1568/1568\u001b[0m \u001b[32m━━━━━━━━━━━━━━━━━━━━\u001b[0m\u001b[37m\u001b[0m \u001b[1m1s\u001b[0m 737us/step - accuracy: 0.8039 - loss: 0.3800 - val_accuracy: 0.8254 - val_loss: 0.4594\n",
      "Epoch 434/1000\n",
      "\u001b[1m1568/1568\u001b[0m \u001b[32m━━━━━━━━━━━━━━━━━━━━\u001b[0m\u001b[37m\u001b[0m \u001b[1m1s\u001b[0m 734us/step - accuracy: 0.8093 - loss: 0.3733 - val_accuracy: 0.8105 - val_loss: 0.4573\n",
      "Epoch 435/1000\n",
      "\u001b[1m1568/1568\u001b[0m \u001b[32m━━━━━━━━━━━━━━━━━━━━\u001b[0m\u001b[37m\u001b[0m \u001b[1m1s\u001b[0m 705us/step - accuracy: 0.8095 - loss: 0.3712 - val_accuracy: 0.8056 - val_loss: 0.4339\n",
      "Epoch 436/1000\n",
      "\u001b[1m1568/1568\u001b[0m \u001b[32m━━━━━━━━━━━━━━━━━━━━\u001b[0m\u001b[37m\u001b[0m \u001b[1m1s\u001b[0m 732us/step - accuracy: 0.7998 - loss: 0.3924 - val_accuracy: 0.8396 - val_loss: 0.4142\n",
      "Epoch 437/1000\n",
      "\u001b[1m1568/1568\u001b[0m \u001b[32m━━━━━━━━━━━━━━━━━━━━\u001b[0m\u001b[37m\u001b[0m \u001b[1m1s\u001b[0m 743us/step - accuracy: 0.8044 - loss: 0.3809 - val_accuracy: 0.8183 - val_loss: 0.4110\n",
      "Epoch 438/1000\n",
      "\u001b[1m1568/1568\u001b[0m \u001b[32m━━━━━━━━━━━━━━━━━━━━\u001b[0m\u001b[37m\u001b[0m \u001b[1m1s\u001b[0m 694us/step - accuracy: 0.8041 - loss: 0.3758 - val_accuracy: 0.8435 - val_loss: 0.3864\n",
      "Epoch 439/1000\n",
      "\u001b[1m1568/1568\u001b[0m \u001b[32m━━━━━━━━━━━━━━━━━━━━\u001b[0m\u001b[37m\u001b[0m \u001b[1m1s\u001b[0m 738us/step - accuracy: 0.8067 - loss: 0.3828 - val_accuracy: 0.8284 - val_loss: 0.4065\n",
      "Epoch 440/1000\n",
      "\u001b[1m1568/1568\u001b[0m \u001b[32m━━━━━━━━━━━━━━━━━━━━\u001b[0m\u001b[37m\u001b[0m \u001b[1m1s\u001b[0m 731us/step - accuracy: 0.8052 - loss: 0.3763 - val_accuracy: 0.8400 - val_loss: 0.4018\n",
      "Epoch 441/1000\n",
      "\u001b[1m1568/1568\u001b[0m \u001b[32m━━━━━━━━━━━━━━━━━━━━\u001b[0m\u001b[37m\u001b[0m \u001b[1m1s\u001b[0m 738us/step - accuracy: 0.8099 - loss: 0.3721 - val_accuracy: 0.8082 - val_loss: 0.4395\n",
      "Epoch 442/1000\n",
      "\u001b[1m1568/1568\u001b[0m \u001b[32m━━━━━━━━━━━━━━━━━━━━\u001b[0m\u001b[37m\u001b[0m \u001b[1m1s\u001b[0m 733us/step - accuracy: 0.8036 - loss: 0.3831 - val_accuracy: 0.8453 - val_loss: 0.4109\n",
      "Epoch 443/1000\n",
      "\u001b[1m1568/1568\u001b[0m \u001b[32m━━━━━━━━━━━━━━━━━━━━\u001b[0m\u001b[37m\u001b[0m \u001b[1m1s\u001b[0m 704us/step - accuracy: 0.8030 - loss: 0.3798 - val_accuracy: 0.8414 - val_loss: 0.3921\n",
      "Epoch 444/1000\n",
      "\u001b[1m1568/1568\u001b[0m \u001b[32m━━━━━━━━━━━━━━━━━━━━\u001b[0m\u001b[37m\u001b[0m \u001b[1m1s\u001b[0m 732us/step - accuracy: 0.8069 - loss: 0.3768 - val_accuracy: 0.8111 - val_loss: 0.4767\n",
      "Epoch 445/1000\n",
      "\u001b[1m1568/1568\u001b[0m \u001b[32m━━━━━━━━━━━━━━━━━━━━\u001b[0m\u001b[37m\u001b[0m \u001b[1m1s\u001b[0m 738us/step - accuracy: 0.8024 - loss: 0.3786 - val_accuracy: 0.8402 - val_loss: 0.4037\n",
      "Epoch 446/1000\n",
      "\u001b[1m1568/1568\u001b[0m \u001b[32m━━━━━━━━━━━━━━━━━━━━\u001b[0m\u001b[37m\u001b[0m \u001b[1m1s\u001b[0m 696us/step - accuracy: 0.8040 - loss: 0.3794 - val_accuracy: 0.8385 - val_loss: 0.4005\n",
      "Epoch 447/1000\n",
      "\u001b[1m1568/1568\u001b[0m \u001b[32m━━━━━━━━━━━━━━━━━━━━\u001b[0m\u001b[37m\u001b[0m \u001b[1m1s\u001b[0m 745us/step - accuracy: 0.8054 - loss: 0.3791 - val_accuracy: 0.8089 - val_loss: 0.4734\n",
      "Epoch 448/1000\n",
      "\u001b[1m1568/1568\u001b[0m \u001b[32m━━━━━━━━━━━━━━━━━━━━\u001b[0m\u001b[37m\u001b[0m \u001b[1m1s\u001b[0m 732us/step - accuracy: 0.8056 - loss: 0.3756 - val_accuracy: 0.8294 - val_loss: 0.4194\n",
      "Epoch 449/1000\n",
      "\u001b[1m1568/1568\u001b[0m \u001b[32m━━━━━━━━━━━━━━━━━━━━\u001b[0m\u001b[37m\u001b[0m \u001b[1m1s\u001b[0m 704us/step - accuracy: 0.8069 - loss: 0.3805 - val_accuracy: 0.8192 - val_loss: 0.4972\n",
      "Epoch 450/1000\n",
      "\u001b[1m1568/1568\u001b[0m \u001b[32m━━━━━━━━━━━━━━━━━━━━\u001b[0m\u001b[37m\u001b[0m \u001b[1m1s\u001b[0m 733us/step - accuracy: 0.8093 - loss: 0.3715 - val_accuracy: 0.8340 - val_loss: 0.4131\n",
      "Epoch 451/1000\n",
      "\u001b[1m1568/1568\u001b[0m \u001b[32m━━━━━━━━━━━━━━━━━━━━\u001b[0m\u001b[37m\u001b[0m \u001b[1m1s\u001b[0m 739us/step - accuracy: 0.8049 - loss: 0.3817 - val_accuracy: 0.8217 - val_loss: 0.4217\n",
      "Epoch 452/1000\n",
      "\u001b[1m1568/1568\u001b[0m \u001b[32m━━━━━━━━━━━━━━━━━━━━\u001b[0m\u001b[37m\u001b[0m \u001b[1m1s\u001b[0m 693us/step - accuracy: 0.8083 - loss: 0.3722 - val_accuracy: 0.8511 - val_loss: 0.3823\n",
      "Epoch 453/1000\n",
      "\u001b[1m1568/1568\u001b[0m \u001b[32m━━━━━━━━━━━━━━━━━━━━\u001b[0m\u001b[37m\u001b[0m \u001b[1m1s\u001b[0m 740us/step - accuracy: 0.8060 - loss: 0.3778 - val_accuracy: 0.8234 - val_loss: 0.4881\n",
      "Epoch 454/1000\n",
      "\u001b[1m1568/1568\u001b[0m \u001b[32m━━━━━━━━━━━━━━━━━━━━\u001b[0m\u001b[37m\u001b[0m \u001b[1m1s\u001b[0m 734us/step - accuracy: 0.8029 - loss: 0.3800 - val_accuracy: 0.8391 - val_loss: 0.4219\n",
      "Epoch 455/1000\n",
      "\u001b[1m1568/1568\u001b[0m \u001b[32m━━━━━━━━━━━━━━━━━━━━\u001b[0m\u001b[37m\u001b[0m \u001b[1m1s\u001b[0m 705us/step - accuracy: 0.8050 - loss: 0.3803 - val_accuracy: 0.8386 - val_loss: 0.4413\n",
      "Epoch 456/1000\n",
      "\u001b[1m1568/1568\u001b[0m \u001b[32m━━━━━━━━━━━━━━━━━━━━\u001b[0m\u001b[37m\u001b[0m \u001b[1m1s\u001b[0m 734us/step - accuracy: 0.8093 - loss: 0.3680 - val_accuracy: 0.8455 - val_loss: 0.3888\n",
      "Epoch 457/1000\n",
      "\u001b[1m1568/1568\u001b[0m \u001b[32m━━━━━━━━━━━━━━━━━━━━\u001b[0m\u001b[37m\u001b[0m \u001b[1m1s\u001b[0m 756us/step - accuracy: 0.8022 - loss: 0.3823 - val_accuracy: 0.8447 - val_loss: 0.4123\n",
      "Epoch 458/1000\n",
      "\u001b[1m1568/1568\u001b[0m \u001b[32m━━━━━━━━━━━━━━━━━━━━\u001b[0m\u001b[37m\u001b[0m \u001b[1m1s\u001b[0m 694us/step - accuracy: 0.8030 - loss: 0.3833 - val_accuracy: 0.8268 - val_loss: 0.4269\n",
      "Epoch 459/1000\n",
      "\u001b[1m1568/1568\u001b[0m \u001b[32m━━━━━━━━━━━━━━━━━━━━\u001b[0m\u001b[37m\u001b[0m \u001b[1m1s\u001b[0m 738us/step - accuracy: 0.8067 - loss: 0.3740 - val_accuracy: 0.8469 - val_loss: 0.3878\n",
      "Epoch 460/1000\n",
      "\u001b[1m1568/1568\u001b[0m \u001b[32m━━━━━━━━━━━━━━━━━━━━\u001b[0m\u001b[37m\u001b[0m \u001b[1m1s\u001b[0m 745us/step - accuracy: 0.8081 - loss: 0.3716 - val_accuracy: 0.8413 - val_loss: 0.3864\n",
      "Epoch 461/1000\n",
      "\u001b[1m1568/1568\u001b[0m \u001b[32m━━━━━━━━━━━━━━━━━━━━\u001b[0m\u001b[37m\u001b[0m \u001b[1m1s\u001b[0m 890us/step - accuracy: 0.8087 - loss: 0.3712 - val_accuracy: 0.7602 - val_loss: 0.5213\n",
      "Epoch 462/1000\n",
      "\u001b[1m1568/1568\u001b[0m \u001b[32m━━━━━━━━━━━━━━━━━━━━\u001b[0m\u001b[37m\u001b[0m \u001b[1m1s\u001b[0m 812us/step - accuracy: 0.8040 - loss: 0.3807 - val_accuracy: 0.8115 - val_loss: 0.4293\n",
      "Epoch 463/1000\n",
      "\u001b[1m1568/1568\u001b[0m \u001b[32m━━━━━━━━━━━━━━━━━━━━\u001b[0m\u001b[37m\u001b[0m \u001b[1m1s\u001b[0m 797us/step - accuracy: 0.8084 - loss: 0.3724 - val_accuracy: 0.7502 - val_loss: 0.5825\n",
      "Epoch 464/1000\n",
      "\u001b[1m1568/1568\u001b[0m \u001b[32m━━━━━━━━━━━━━━━━━━━━\u001b[0m\u001b[37m\u001b[0m \u001b[1m1s\u001b[0m 801us/step - accuracy: 0.8102 - loss: 0.3743 - val_accuracy: 0.8342 - val_loss: 0.4476\n",
      "Epoch 465/1000\n",
      "\u001b[1m1568/1568\u001b[0m \u001b[32m━━━━━━━━━━━━━━━━━━━━\u001b[0m\u001b[37m\u001b[0m \u001b[1m1s\u001b[0m 824us/step - accuracy: 0.8051 - loss: 0.3754 - val_accuracy: 0.8464 - val_loss: 0.3806\n",
      "Epoch 466/1000\n",
      "\u001b[1m1568/1568\u001b[0m \u001b[32m━━━━━━━━━━━━━━━━━━━━\u001b[0m\u001b[37m\u001b[0m \u001b[1m1s\u001b[0m 862us/step - accuracy: 0.8121 - loss: 0.3695 - val_accuracy: 0.7478 - val_loss: 0.5227\n",
      "Epoch 467/1000\n",
      "\u001b[1m1568/1568\u001b[0m \u001b[32m━━━━━━━━━━━━━━━━━━━━\u001b[0m\u001b[37m\u001b[0m \u001b[1m1s\u001b[0m 827us/step - accuracy: 0.8099 - loss: 0.3723 - val_accuracy: 0.8446 - val_loss: 0.3903\n",
      "Epoch 468/1000\n",
      "\u001b[1m1568/1568\u001b[0m \u001b[32m━━━━━━━━━━━━━━━━━━━━\u001b[0m\u001b[37m\u001b[0m \u001b[1m1s\u001b[0m 722us/step - accuracy: 0.8129 - loss: 0.3640 - val_accuracy: 0.8438 - val_loss: 0.3825\n",
      "Epoch 469/1000\n",
      "\u001b[1m1568/1568\u001b[0m \u001b[32m━━━━━━━━━━━━━━━━━━━━\u001b[0m\u001b[37m\u001b[0m \u001b[1m1s\u001b[0m 905us/step - accuracy: 0.8103 - loss: 0.3730 - val_accuracy: 0.7811 - val_loss: 0.4976\n",
      "Epoch 470/1000\n",
      "\u001b[1m1568/1568\u001b[0m \u001b[32m━━━━━━━━━━━━━━━━━━━━\u001b[0m\u001b[37m\u001b[0m \u001b[1m1s\u001b[0m 754us/step - accuracy: 0.8038 - loss: 0.3831 - val_accuracy: 0.8453 - val_loss: 0.3768\n",
      "Epoch 470: early stopping\n",
      "Restoring model weights from the end of the best epoch: 370.\n"
     ]
    },
    {
     "name": "stderr",
     "output_type": "stream",
     "text": [
      "WARNING:absl:You are saving your model as an HDF5 file via `model.save()` or `keras.saving.save_model(model)`. This file format is considered legacy. We recommend using instead the native Keras format, e.g. `model.save('my_model.keras')` or `keras.saving.save_model(model, 'my_model.keras')`. \n"
     ]
    }
   ],
   "source": [
    "history = model.fit(X_train, \n",
    "                    Y_train, \n",
    "                    batch_size=batch_size,\n",
    "                    validation_data=(X_val, Y_val),\n",
    "                    callbacks=[early_stopping, WandbMetricsLogger()],\n",
    "                    epochs=epochs)\n",
    "\n",
    "if not os.path.exists('../models'):\n",
    "    os.makedirs('../models')\n",
    "\n",
    "model.save('../models/model_wandb_tuning.h5')"
   ]
  },
  {
   "cell_type": "code",
   "execution_count": 19,
   "metadata": {},
   "outputs": [
    {
     "data": {
      "text/html": [
       "<style>\n",
       "    table.wandb td:nth-child(1) { padding: 0 10px; text-align: left ; width: auto;} td:nth-child(2) {text-align: left ; width: 100%}\n",
       "    .wandb-row { display: flex; flex-direction: row; flex-wrap: wrap; justify-content: flex-start; width: 100% }\n",
       "    .wandb-col { display: flex; flex-direction: column; flex-basis: 100%; flex: 1; padding: 10px; }\n",
       "    </style>\n",
       "<div class=\"wandb-row\"><div class=\"wandb-col\"><h3>Run history:</h3><br/><table class=\"wandb\"><tr><td>epoch/accuracy</td><td>▁▁▃▄▄▄▅▅▆▆▆▆▆▇▇▇▇▇▇▇▇▇▇█████████████████</td></tr><tr><td>epoch/epoch</td><td>▁▁▁▁▂▂▂▂▂▃▃▃▃▃▃▄▄▄▄▄▅▅▅▅▅▅▆▆▆▆▆▇▇▇▇▇▇███</td></tr><tr><td>epoch/loss</td><td>▇█▄▄▃▃▃▃▃▃▂▂▂▂▂▂▂▂▂▂▁▂▁▁▁▁▁▁▁▁▁▁▁▁▁▁▁▁▁▁</td></tr><tr><td>epoch/val_accuracy</td><td>▁▂▃▃▄▄▃▆▅▅▇▇▇▆██▅▇▇███▇██████▇▇▇▇████▇██</td></tr><tr><td>epoch/val_loss</td><td>█▄▃▄▃▃▄▂▂▃▂▂▂▂▁▁▂▂▂▁▁▂▂▁▁▁▂▁▁▁▁▂▁▁▁▁▁▂▁▁</td></tr></table><br/></div><div class=\"wandb-col\"><h3>Run summary:</h3><br/><table class=\"wandb\"><tr><td>epoch/accuracy</td><td>0.80385</td></tr><tr><td>epoch/epoch</td><td>469</td></tr><tr><td>epoch/loss</td><td>0.38172</td></tr><tr><td>epoch/val_accuracy</td><td>0.84533</td></tr><tr><td>epoch/val_loss</td><td>0.37678</td></tr></table><br/></div></div>"
      ],
      "text/plain": [
       "<IPython.core.display.HTML object>"
      ]
     },
     "metadata": {},
     "output_type": "display_data"
    },
    {
     "data": {
      "text/html": [
       " View run <strong style=\"color:#cdcd00\">visionary-lake-2</strong> at: <a href='https://wandb.ai/lokrau/ml_assignment_wandb/runs/r652uny5' target=\"_blank\">https://wandb.ai/lokrau/ml_assignment_wandb/runs/r652uny5</a><br/> View project at: <a href='https://wandb.ai/lokrau/ml_assignment_wandb' target=\"_blank\">https://wandb.ai/lokrau/ml_assignment_wandb</a><br/>Synced 6 W&B file(s), 0 media file(s), 0 artifact file(s) and 0 other file(s)"
      ],
      "text/plain": [
       "<IPython.core.display.HTML object>"
      ]
     },
     "metadata": {},
     "output_type": "display_data"
    },
    {
     "data": {
      "text/html": [
       "Find logs at: <code>./wandb/run-20240609_113514-r652uny5/logs</code>"
      ],
      "text/plain": [
       "<IPython.core.display.HTML object>"
      ]
     },
     "metadata": {},
     "output_type": "display_data"
    }
   ],
   "source": [
    "wandb.finish()"
   ]
  },
  {
   "cell_type": "markdown",
   "metadata": {},
   "source": [
    "Nun wird der Trainingsverlauf des Modells für Accuracy und Loss visualisiert."
   ]
  },
  {
   "cell_type": "code",
   "execution_count": 20,
   "metadata": {},
   "outputs": [
    {
     "data": {
      "image/png": "[encoded data removed]",
      "text/plain": [
       "<Figure size 1000x800 with 1 Axes>"
      ]
     },
     "metadata": {},
     "output_type": "display_data"
    }
   ],
   "source": [
    "# Print the model training history for accuracy\n",
    "accuracy = history.history['accuracy']\n",
    "val_accuracy = history.history['val_accuracy']\n",
    "epochs = range(1, len(accuracy) + 1)\n",
    "\n",
    "plt.figure(figsize=(10,8))\n",
    "plt.plot(epochs, accuracy)\n",
    "plt.plot(epochs, val_accuracy)\n",
    "plt.title('Model Accuracy', fontsize=15, pad=15)\n",
    "plt.ylabel('Accuracy', fontsize=12, labelpad=10)\n",
    "plt.xlabel('Epoche', fontsize=12, labelpad=10)\n",
    "plt.legend(['Training', 'Validation'], loc='lower right')\n",
    "plt.show()"
   ]
  },
  {
   "cell_type": "code",
   "execution_count": 21,
   "metadata": {},
   "outputs": [
    {
     "data": {
      "image/png": "[encoded data removed]",
      "text/plain": [
       "<Figure size 1000x800 with 1 Axes>"
      ]
     },
     "metadata": {},
     "output_type": "display_data"
    }
   ],
   "source": [
    "# print the model training history for loss\n",
    "loss = history.history['loss']\n",
    "val_loss = history.history['val_loss']\n",
    "epochs = range(1, len(loss) + 1)\n",
    "\n",
    "plt.figure(figsize=(10,8))\n",
    "plt.plot(epochs, loss)\n",
    "plt.plot(epochs, val_loss)\n",
    "plt.title('Model Loss', fontsize=15, pad=15)\n",
    "plt.ylabel('Loss', fontsize=12, labelpad=10)\n",
    "plt.xlabel('Epoche', fontsize=12, labelpad=10)\n",
    "plt.legend(['Training', 'Validation'], loc='upper right')\n",
    "plt.show()"
   ]
  },
  {
   "cell_type": "markdown",
   "metadata": {},
   "source": [
    "Anschließend wird das Modell auf die drei zur verfügung stehenden Datensätze evaluiert und es ist zu erkennen, dass die Ergebnisse auf die drei Datensätze sehr ähnlich sind."
   ]
  },
  {
   "cell_type": "code",
   "execution_count": 22,
   "metadata": {},
   "outputs": [
    {
     "name": "stdout",
     "output_type": "stream",
     "text": [
      "\u001b[1m171/171\u001b[0m \u001b[32m━━━━━━━━━━━━━━━━━━━━\u001b[0m\u001b[37m\u001b[0m \u001b[1m0s\u001b[0m 392us/step - accuracy: 0.7729 - loss: 0.3529\n"
     ]
    },
    {
     "data": {
      "text/plain": [
       "[0.3554687201976776, 0.7710733413696289]"
      ]
     },
     "execution_count": 22,
     "metadata": {},
     "output_type": "execute_result"
    }
   ],
   "source": [
    "model.evaluate(X_test, Y_test)"
   ]
  },
  {
   "cell_type": "code",
   "execution_count": 23,
   "metadata": {},
   "outputs": [
    {
     "name": "stdout",
     "output_type": "stream",
     "text": [
      "\u001b[1m336/336\u001b[0m \u001b[32m━━━━━━━━━━━━━━━━━━━━\u001b[0m\u001b[37m\u001b[0m \u001b[1m0s\u001b[0m 343us/step - accuracy: 0.8047 - loss: 0.3441\n"
     ]
    },
    {
     "data": {
      "text/plain": [
       "[0.36128315329551697, 0.8524925708770752]"
      ]
     },
     "execution_count": 23,
     "metadata": {},
     "output_type": "execute_result"
    }
   ],
   "source": [
    "model.evaluate(X_val, Y_val)"
   ]
  },
  {
   "cell_type": "code",
   "execution_count": 24,
   "metadata": {},
   "outputs": [
    {
     "name": "stdout",
     "output_type": "stream",
     "text": [
      "\u001b[1m1568/1568\u001b[0m \u001b[32m━━━━━━━━━━━━━━━━━━━━\u001b[0m\u001b[37m\u001b[0m \u001b[1m1s\u001b[0m 355us/step - accuracy: 0.7885 - loss: 0.3370\n"
     ]
    },
    {
     "data": {
      "text/plain": [
       "[0.34364238381385803, 0.8194555044174194]"
      ]
     },
     "execution_count": 24,
     "metadata": {},
     "output_type": "execute_result"
    }
   ],
   "source": [
    "model.evaluate(X_train, Y_train)"
   ]
  },
  {
   "cell_type": "markdown",
   "metadata": {},
   "source": [
    "Abschließend wird noch eine Confusion Matrix für die Testdaten erstellt, um die Ergebnisse des Modells zu visualisieren."
   ]
  },
  {
   "cell_type": "code",
   "execution_count": 25,
   "metadata": {},
   "outputs": [
    {
     "name": "stdout",
     "output_type": "stream",
     "text": [
      "\u001b[1m171/171\u001b[0m \u001b[32m━━━━━━━━━━━━━━━━━━━━\u001b[0m\u001b[37m\u001b[0m \u001b[1m0s\u001b[0m 563us/step\n"
     ]
    },
    {
     "data": {
      "image/png": "[encoded data removed]",
      "text/plain": [
       "<Figure size 1000x800 with 2 Axes>"
      ]
     },
     "metadata": {},
     "output_type": "display_data"
    }
   ],
   "source": [
    "# make a confusion matrix for the test data\n",
    "y_pred = model.predict(X_test)\n",
    "y_pred = (y_pred > 0.5)\n",
    "\n",
    "cm = confusion_matrix(Y_test, y_pred)\n",
    "\n",
    "# Set the style of the heatmap\n",
    "sns.set_theme(style=\"whitegrid\")\n",
    "\n",
    "# Create the heatmap\n",
    "plt.figure(figsize=(10, 8))\n",
    "sns.heatmap(cm, annot=True, fmt='d', square=True, cmap='Blues', cbar_kws={'shrink': 0.75}, linewidths=1, linecolor='grey')\n",
    "\n",
    "# Add labels\n",
    "plt.xlabel('Predicted', fontsize=12, labelpad=10)\n",
    "plt.ylabel('True', fontsize=12, labelpad=10)\n",
    "plt.title('Confusion Matrix', fontsize=15, pad=15)\n",
    "\n",
    "# Improve the layout\n",
    "plt.tight_layout()\n",
    "\n",
    "# Display the plot\n",
    "plt.show()\n"
   ]
  }
 ],
 "metadata": {
  "kernelspec": {
   "display_name": "Python 3",
   "language": "python",
   "name": "python3"
  },
  "language_info": {
   "codemirror_mode": {
    "name": "ipython",
    "version": 3
   },
   "file_extension": ".py",
   "mimetype": "text/x-python",
   "name": "python",
   "nbconvert_exporter": "python",
   "pygments_lexer": "ipython3",
   "version": "3.11.9"
  }
 },
 "nbformat": 4,
 "nbformat_minor": 2
}
